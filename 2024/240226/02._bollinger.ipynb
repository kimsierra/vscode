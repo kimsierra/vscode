{
 "cells": [
  {
   "cell_type": "markdown",
   "metadata": {},
   "source": [
    "## 볼린저 밴드 투자 전략\n",
    "1. 이동 평균선 생성 : 데이터의 20개의 평균 값\n",
    "2. 상단 밴드 생성 : 이동 평균선 + (2*20개의 데이터의 표준편차)\n",
    "3. 하단 밴드 생성 : 이동 평균선 - (2*20개의 데이터의 표준편차)\n",
    "4. 가격이 하단 밴드보다 낮은 경우 매수\n",
    "5. 가격이 상단 밴드보다 낮은 경우 매도"
   ]
  },
  {
   "cell_type": "code",
   "execution_count": 7,
   "metadata": {},
   "outputs": [
    {
     "name": "stdout",
     "output_type": "stream",
     "text": [
      "Defaulting to user installation because normal site-packages is not writeableNote: you may need to restart the kernel to use updated packages.\n",
      "\n",
      "Collecting matplotlib\n",
      "  Downloading matplotlib-3.8.3-cp312-cp312-win_amd64.whl.metadata (5.9 kB)\n",
      "Collecting contourpy>=1.0.1 (from matplotlib)\n",
      "  Downloading contourpy-1.2.0-cp312-cp312-win_amd64.whl.metadata (5.8 kB)\n",
      "Collecting cycler>=0.10 (from matplotlib)\n",
      "  Downloading cycler-0.12.1-py3-none-any.whl.metadata (3.8 kB)\n",
      "Collecting fonttools>=4.22.0 (from matplotlib)\n",
      "  Downloading fonttools-4.49.0-cp312-cp312-win_amd64.whl.metadata (162 kB)\n",
      "     ---------------------------------------- 0.0/162.3 kB ? eta -:--:--\n",
      "     ------- ------------------------------- 30.7/162.3 kB 1.4 MB/s eta 0:00:01\n",
      "     ----------------------------------- -- 153.6/162.3 kB 3.1 MB/s eta 0:00:01\n",
      "     -------------------------------------- 162.3/162.3 kB 2.5 MB/s eta 0:00:00\n",
      "Collecting kiwisolver>=1.3.1 (from matplotlib)\n",
      "  Downloading kiwisolver-1.4.5-cp312-cp312-win_amd64.whl.metadata (6.5 kB)\n",
      "Requirement already satisfied: numpy<2,>=1.21 in c:\\users\\samsung\\appdata\\local\\packages\\pythonsoftwarefoundation.python.3.12_qbz5n2kfra8p0\\localcache\\local-packages\\python312\\site-packages (from matplotlib) (1.26.4)\n",
      "Requirement already satisfied: packaging>=20.0 in c:\\users\\samsung\\appdata\\local\\packages\\pythonsoftwarefoundation.python.3.12_qbz5n2kfra8p0\\localcache\\local-packages\\python312\\site-packages (from matplotlib) (23.2)\n",
      "Collecting pillow>=8 (from matplotlib)\n",
      "  Downloading pillow-10.2.0-cp312-cp312-win_amd64.whl.metadata (9.9 kB)\n",
      "Collecting pyparsing>=2.3.1 (from matplotlib)\n",
      "  Downloading pyparsing-3.1.1-py3-none-any.whl.metadata (5.1 kB)\n",
      "Requirement already satisfied: python-dateutil>=2.7 in c:\\users\\samsung\\appdata\\local\\packages\\pythonsoftwarefoundation.python.3.12_qbz5n2kfra8p0\\localcache\\local-packages\\python312\\site-packages (from matplotlib) (2.8.2)\n",
      "Requirement already satisfied: six>=1.5 in c:\\users\\samsung\\appdata\\local\\packages\\pythonsoftwarefoundation.python.3.12_qbz5n2kfra8p0\\localcache\\local-packages\\python312\\site-packages (from python-dateutil>=2.7->matplotlib) (1.16.0)\n",
      "Downloading matplotlib-3.8.3-cp312-cp312-win_amd64.whl (7.6 MB)\n",
      "   ---------------------------------------- 0.0/7.6 MB ? eta -:--:--\n",
      "   - -------------------------------------- 0.2/7.6 MB 6.3 MB/s eta 0:00:02\n",
      "   -- ------------------------------------- 0.5/7.6 MB 4.8 MB/s eta 0:00:02\n",
      "   --- ------------------------------------ 0.7/7.6 MB 4.9 MB/s eta 0:00:02\n",
      "   ----- ---------------------------------- 1.0/7.6 MB 5.3 MB/s eta 0:00:02\n",
      "   ------ --------------------------------- 1.3/7.6 MB 5.6 MB/s eta 0:00:02\n",
      "   -------- ------------------------------- 1.6/7.6 MB 5.9 MB/s eta 0:00:02\n",
      "   --------- ------------------------------ 1.9/7.6 MB 5.7 MB/s eta 0:00:02\n",
      "   ----------- ---------------------------- 2.1/7.6 MB 5.9 MB/s eta 0:00:01\n",
      "   ------------ --------------------------- 2.4/7.6 MB 5.9 MB/s eta 0:00:01\n",
      "   -------------- ------------------------- 2.7/7.6 MB 5.9 MB/s eta 0:00:01\n",
      "   --------------- ------------------------ 3.0/7.6 MB 6.0 MB/s eta 0:00:01\n",
      "   ----------------- ---------------------- 3.4/7.6 MB 6.1 MB/s eta 0:00:01\n",
      "   ------------------- -------------------- 3.6/7.6 MB 6.1 MB/s eta 0:00:01\n",
      "   -------------------- ------------------- 3.9/7.6 MB 6.1 MB/s eta 0:00:01\n",
      "   --------------------- ------------------ 4.2/7.6 MB 6.1 MB/s eta 0:00:01\n",
      "   ----------------------- ---------------- 4.4/7.6 MB 6.0 MB/s eta 0:00:01\n",
      "   ------------------------ --------------- 4.7/7.6 MB 6.0 MB/s eta 0:00:01\n",
      "   ------------------------- -------------- 4.9/7.6 MB 5.9 MB/s eta 0:00:01\n",
      "   -------------------------- ------------- 5.1/7.6 MB 5.8 MB/s eta 0:00:01\n",
      "   ---------------------------- ----------- 5.4/7.6 MB 5.9 MB/s eta 0:00:01\n",
      "   ----------------------------- ---------- 5.7/7.6 MB 5.9 MB/s eta 0:00:01\n",
      "   ------------------------------ --------- 5.9/7.6 MB 5.8 MB/s eta 0:00:01\n",
      "   ------------------------------- -------- 6.1/7.6 MB 5.7 MB/s eta 0:00:01\n",
      "   --------------------------------- ------ 6.4/7.6 MB 5.8 MB/s eta 0:00:01\n",
      "   ----------------------------------- ---- 6.7/7.6 MB 5.8 MB/s eta 0:00:01\n",
      "   ------------------------------------ --- 7.0/7.6 MB 5.8 MB/s eta 0:00:01\n",
      "   -------------------------------------- - 7.3/7.6 MB 5.8 MB/s eta 0:00:01\n",
      "   ---------------------------------------  7.6/7.6 MB 5.9 MB/s eta 0:00:01\n",
      "   ---------------------------------------- 7.6/7.6 MB 5.7 MB/s eta 0:00:00\n",
      "Downloading contourpy-1.2.0-cp312-cp312-win_amd64.whl (187 kB)\n",
      "   ---------------------------------------- 0.0/187.7 kB ? eta -:--:--\n",
      "   ---------------------------------------- 187.7/187.7 kB 5.5 MB/s eta 0:00:00\n",
      "Downloading cycler-0.12.1-py3-none-any.whl (8.3 kB)\n",
      "Downloading fonttools-4.49.0-cp312-cp312-win_amd64.whl (2.2 MB)\n",
      "   ---------------------------------------- 0.0/2.2 MB ? eta -:--:--\n",
      "   -- ------------------------------------- 0.2/2.2 MB 4.6 MB/s eta 0:00:01\n",
      "   --------- ------------------------------ 0.5/2.2 MB 6.4 MB/s eta 0:00:01\n",
      "   ------------- -------------------------- 0.7/2.2 MB 5.8 MB/s eta 0:00:01\n",
      "   ------------------- -------------------- 1.0/2.2 MB 6.0 MB/s eta 0:00:01\n",
      "   ----------------------- ---------------- 1.3/2.2 MB 5.7 MB/s eta 0:00:01\n",
      "   ---------------------------- ----------- 1.5/2.2 MB 5.8 MB/s eta 0:00:01\n",
      "   ----------------------------------- ---- 1.9/2.2 MB 6.1 MB/s eta 0:00:01\n",
      "   ---------------------------------------  2.2/2.2 MB 6.3 MB/s eta 0:00:01\n",
      "   ---------------------------------------- 2.2/2.2 MB 6.0 MB/s eta 0:00:00\n",
      "Downloading kiwisolver-1.4.5-cp312-cp312-win_amd64.whl (56 kB)\n",
      "   ---------------------------------------- 0.0/56.0 kB ? eta -:--:--\n",
      "   ---------------------------------------- 56.0/56.0 kB 2.9 MB/s eta 0:00:00\n",
      "Downloading pillow-10.2.0-cp312-cp312-win_amd64.whl (2.6 MB)\n",
      "   ---------------------------------------- 0.0/2.6 MB ? eta -:--:--\n",
      "   ---- ----------------------------------- 0.3/2.6 MB 6.3 MB/s eta 0:00:01\n",
      "   --------- ------------------------------ 0.6/2.6 MB 6.2 MB/s eta 0:00:01\n",
      "   ------------ --------------------------- 0.8/2.6 MB 5.7 MB/s eta 0:00:01\n",
      "   ---------------- ----------------------- 1.1/2.6 MB 5.6 MB/s eta 0:00:01\n",
      "   -------------------- ------------------- 1.4/2.6 MB 5.7 MB/s eta 0:00:01\n",
      "   ------------------------ --------------- 1.6/2.6 MB 5.6 MB/s eta 0:00:01\n",
      "   ---------------------------- ----------- 1.9/2.6 MB 5.6 MB/s eta 0:00:01\n",
      "   ------------------------------- -------- 2.1/2.6 MB 5.5 MB/s eta 0:00:01\n",
      "   ----------------------------------- ---- 2.3/2.6 MB 5.5 MB/s eta 0:00:01\n",
      "   ---------------------------------------  2.6/2.6 MB 5.8 MB/s eta 0:00:01\n",
      "   ---------------------------------------- 2.6/2.6 MB 5.6 MB/s eta 0:00:00\n",
      "Downloading pyparsing-3.1.1-py3-none-any.whl (103 kB)\n",
      "   ---------------------------------------- 0.0/103.1 kB ? eta -:--:--\n",
      "   ---------------------------------------- 103.1/103.1 kB 6.2 MB/s eta 0:00:00\n",
      "Installing collected packages: pyparsing, pillow, kiwisolver, fonttools, cycler, contourpy, matplotlib\n",
      "Successfully installed contourpy-1.2.0 cycler-0.12.1 fonttools-4.49.0 kiwisolver-1.4.5 matplotlib-3.8.3 pillow-10.2.0 pyparsing-3.1.1\n"
     ]
    }
   ],
   "source": [
    "pip install matplotlib"
   ]
  },
  {
   "cell_type": "code",
   "execution_count": 8,
   "metadata": {},
   "outputs": [],
   "source": [
    "import pandas as pd\n",
    "import numpy as np\n",
    "import matplotlib.pyplot as plt\n",
    "from datetime import datetime"
   ]
  },
  {
   "cell_type": "code",
   "execution_count": 9,
   "metadata": {},
   "outputs": [
    {
     "data": {
      "text/html": [
       "<div>\n",
       "<style scoped>\n",
       "    .dataframe tbody tr th:only-of-type {\n",
       "        vertical-align: middle;\n",
       "    }\n",
       "\n",
       "    .dataframe tbody tr th {\n",
       "        vertical-align: top;\n",
       "    }\n",
       "\n",
       "    .dataframe thead th {\n",
       "        text-align: right;\n",
       "    }\n",
       "</style>\n",
       "<table border=\"1\" class=\"dataframe\">\n",
       "  <thead>\n",
       "    <tr style=\"text-align: right;\">\n",
       "      <th></th>\n",
       "      <th>Open</th>\n",
       "      <th>High</th>\n",
       "      <th>Low</th>\n",
       "      <th>Close</th>\n",
       "      <th>Adj Close</th>\n",
       "      <th>Volume</th>\n",
       "    </tr>\n",
       "    <tr>\n",
       "      <th>Date</th>\n",
       "      <th></th>\n",
       "      <th></th>\n",
       "      <th></th>\n",
       "      <th></th>\n",
       "      <th></th>\n",
       "      <th></th>\n",
       "    </tr>\n",
       "  </thead>\n",
       "  <tbody>\n",
       "    <tr>\n",
       "      <th>1980-12-12</th>\n",
       "      <td>0.513393</td>\n",
       "      <td>0.515625</td>\n",
       "      <td>0.513393</td>\n",
       "      <td>0.513393</td>\n",
       "      <td>0.410525</td>\n",
       "      <td>117258400.0</td>\n",
       "    </tr>\n",
       "    <tr>\n",
       "      <th>1980-12-15</th>\n",
       "      <td>0.488839</td>\n",
       "      <td>0.488839</td>\n",
       "      <td>0.486607</td>\n",
       "      <td>0.486607</td>\n",
       "      <td>0.389106</td>\n",
       "      <td>43971200.0</td>\n",
       "    </tr>\n",
       "  </tbody>\n",
       "</table>\n",
       "</div>"
      ],
      "text/plain": [
       "                Open      High       Low     Close  Adj Close       Volume\n",
       "Date                                                                      \n",
       "1980-12-12  0.513393  0.515625  0.513393  0.513393   0.410525  117258400.0\n",
       "1980-12-15  0.488839  0.488839  0.486607  0.486607   0.389106   43971200.0"
      ]
     },
     "execution_count": 9,
     "metadata": {},
     "output_type": "execute_result"
    }
   ],
   "source": [
    "df = pd.read_csv('C:/Users/SAMSUNG/Documents/R/csv/AAPL.csv', index_col='Date')\n",
    "df.head(2)"
   ]
  },
  {
   "cell_type": "code",
   "execution_count": 12,
   "metadata": {},
   "outputs": [],
   "source": [
    "# 결측치, 무한대 데이터를 제거\n",
    "flag = df.isin([np.nan, np.inf, -np.inf]).any(axis=1)"
   ]
  },
  {
   "cell_type": "code",
   "execution_count": 13,
   "metadata": {},
   "outputs": [],
   "source": [
    "df = df.loc[~flag,['Adj Close']]"
   ]
  },
  {
   "cell_type": "code",
   "execution_count": 14,
   "metadata": {},
   "outputs": [
    {
     "data": {
      "text/plain": [
       "0.4432777"
      ]
     },
     "execution_count": 14,
     "metadata": {},
     "output_type": "execute_result"
    }
   ],
   "source": [
    "## 이동 평균선 생성\n",
    "## 데이터들을 20개 모아서 평균\n",
    "df.iloc[0:20,0].mean()"
   ]
  },
  {
   "cell_type": "code",
   "execution_count": 15,
   "metadata": {},
   "outputs": [],
   "source": [
    "## 이동평균선 컬럼 생성 값들을 결측치로 대입\n",
    "df['center'] = np.nan"
   ]
  },
  {
   "cell_type": "code",
   "execution_count": 16,
   "metadata": {},
   "outputs": [
    {
     "data": {
      "text/html": [
       "<div>\n",
       "<style scoped>\n",
       "    .dataframe tbody tr th:only-of-type {\n",
       "        vertical-align: middle;\n",
       "    }\n",
       "\n",
       "    .dataframe tbody tr th {\n",
       "        vertical-align: top;\n",
       "    }\n",
       "\n",
       "    .dataframe thead th {\n",
       "        text-align: right;\n",
       "    }\n",
       "</style>\n",
       "<table border=\"1\" class=\"dataframe\">\n",
       "  <thead>\n",
       "    <tr style=\"text-align: right;\">\n",
       "      <th></th>\n",
       "      <th>Adj Close</th>\n",
       "      <th>center</th>\n",
       "    </tr>\n",
       "    <tr>\n",
       "      <th>Date</th>\n",
       "      <th></th>\n",
       "      <th></th>\n",
       "    </tr>\n",
       "  </thead>\n",
       "  <tbody>\n",
       "    <tr>\n",
       "      <th>1980-12-12</th>\n",
       "      <td>0.410525</td>\n",
       "      <td>NaN</td>\n",
       "    </tr>\n",
       "    <tr>\n",
       "      <th>1980-12-15</th>\n",
       "      <td>0.389106</td>\n",
       "      <td>NaN</td>\n",
       "    </tr>\n",
       "    <tr>\n",
       "      <th>1980-12-16</th>\n",
       "      <td>0.360548</td>\n",
       "      <td>NaN</td>\n",
       "    </tr>\n",
       "  </tbody>\n",
       "</table>\n",
       "</div>"
      ],
      "text/plain": [
       "            Adj Close  center\n",
       "Date                         \n",
       "1980-12-12   0.410525     NaN\n",
       "1980-12-15   0.389106     NaN\n",
       "1980-12-16   0.360548     NaN"
      ]
     },
     "execution_count": 16,
     "metadata": {},
     "output_type": "execute_result"
    }
   ],
   "source": [
    "df.head(3)"
   ]
  },
  {
   "cell_type": "code",
   "execution_count": 36,
   "metadata": {},
   "outputs": [],
   "source": [
    "for i in range(20,len(df)+1):\n",
    "    mean_data = df.iloc[i-20:i, 0].mean()\n",
    "    df.iloc[i-1,1] = mean_data"
   ]
  },
  {
   "cell_type": "code",
   "execution_count": 37,
   "metadata": {},
   "outputs": [
    {
     "data": {
      "text/html": [
       "<div>\n",
       "<style scoped>\n",
       "    .dataframe tbody tr th:only-of-type {\n",
       "        vertical-align: middle;\n",
       "    }\n",
       "\n",
       "    .dataframe tbody tr th {\n",
       "        vertical-align: top;\n",
       "    }\n",
       "\n",
       "    .dataframe thead th {\n",
       "        text-align: right;\n",
       "    }\n",
       "</style>\n",
       "<table border=\"1\" class=\"dataframe\">\n",
       "  <thead>\n",
       "    <tr style=\"text-align: right;\">\n",
       "      <th></th>\n",
       "      <th>Adj Close</th>\n",
       "      <th>center</th>\n",
       "      <th>center2</th>\n",
       "      <th>ub</th>\n",
       "      <th>lb</th>\n",
       "    </tr>\n",
       "    <tr>\n",
       "      <th>Date</th>\n",
       "      <th></th>\n",
       "      <th></th>\n",
       "      <th></th>\n",
       "      <th></th>\n",
       "      <th></th>\n",
       "    </tr>\n",
       "  </thead>\n",
       "  <tbody>\n",
       "    <tr>\n",
       "      <th>1981-01-09</th>\n",
       "      <td>0.455147</td>\n",
       "      <td>NaN</td>\n",
       "      <td>NaN</td>\n",
       "      <td>NaN</td>\n",
       "      <td>NaN</td>\n",
       "    </tr>\n",
       "    <tr>\n",
       "      <th>1981-01-12</th>\n",
       "      <td>0.451577</td>\n",
       "      <td>0.443278</td>\n",
       "      <td>0.443278</td>\n",
       "      <td>0.536950</td>\n",
       "      <td>0.349605</td>\n",
       "    </tr>\n",
       "    <tr>\n",
       "      <th>1981-01-13</th>\n",
       "      <td>0.435513</td>\n",
       "      <td>0.444527</td>\n",
       "      <td>0.444527</td>\n",
       "      <td>0.537019</td>\n",
       "      <td>0.352035</td>\n",
       "    </tr>\n",
       "    <tr>\n",
       "      <th>1981-01-14</th>\n",
       "      <td>0.437298</td>\n",
       "      <td>0.446937</td>\n",
       "      <td>0.446937</td>\n",
       "      <td>0.535789</td>\n",
       "      <td>0.358084</td>\n",
       "    </tr>\n",
       "    <tr>\n",
       "      <th>1981-01-15</th>\n",
       "      <td>0.446223</td>\n",
       "      <td>0.451220</td>\n",
       "      <td>0.451220</td>\n",
       "      <td>0.530255</td>\n",
       "      <td>0.372186</td>\n",
       "    </tr>\n",
       "  </tbody>\n",
       "</table>\n",
       "</div>"
      ],
      "text/plain": [
       "            Adj Close    center   center2        ub        lb\n",
       "Date                                                         \n",
       "1981-01-09   0.455147       NaN       NaN       NaN       NaN\n",
       "1981-01-12   0.451577  0.443278  0.443278  0.536950  0.349605\n",
       "1981-01-13   0.435513  0.444527  0.444527  0.537019  0.352035\n",
       "1981-01-14   0.437298  0.446937  0.446937  0.535789  0.358084\n",
       "1981-01-15   0.446223  0.451220  0.451220  0.530255  0.372186"
      ]
     },
     "execution_count": 37,
     "metadata": {},
     "output_type": "execute_result"
    }
   ],
   "source": [
    "df.iloc[18:23,]"
   ]
  },
  {
   "cell_type": "code",
   "execution_count": 38,
   "metadata": {},
   "outputs": [],
   "source": [
    "## rolling(n): n만큼 데이터의 개수를 그룹화한다.\n",
    "df['center2'] = df[\"Adj Close\"].rolling(20).mean()"
   ]
  },
  {
   "cell_type": "code",
   "execution_count": 39,
   "metadata": {},
   "outputs": [
    {
     "data": {
      "text/html": [
       "<div>\n",
       "<style scoped>\n",
       "    .dataframe tbody tr th:only-of-type {\n",
       "        vertical-align: middle;\n",
       "    }\n",
       "\n",
       "    .dataframe tbody tr th {\n",
       "        vertical-align: top;\n",
       "    }\n",
       "\n",
       "    .dataframe thead th {\n",
       "        text-align: right;\n",
       "    }\n",
       "</style>\n",
       "<table border=\"1\" class=\"dataframe\">\n",
       "  <thead>\n",
       "    <tr style=\"text-align: right;\">\n",
       "      <th></th>\n",
       "      <th>Adj Close</th>\n",
       "      <th>center</th>\n",
       "      <th>center2</th>\n",
       "      <th>ub</th>\n",
       "      <th>lb</th>\n",
       "    </tr>\n",
       "    <tr>\n",
       "      <th>Date</th>\n",
       "      <th></th>\n",
       "      <th></th>\n",
       "      <th></th>\n",
       "      <th></th>\n",
       "      <th></th>\n",
       "    </tr>\n",
       "  </thead>\n",
       "  <tbody>\n",
       "    <tr>\n",
       "      <th>1981-01-09</th>\n",
       "      <td>0.455147</td>\n",
       "      <td>NaN</td>\n",
       "      <td>NaN</td>\n",
       "      <td>NaN</td>\n",
       "      <td>NaN</td>\n",
       "    </tr>\n",
       "    <tr>\n",
       "      <th>1981-01-12</th>\n",
       "      <td>0.451577</td>\n",
       "      <td>0.443278</td>\n",
       "      <td>0.443278</td>\n",
       "      <td>0.536950</td>\n",
       "      <td>0.349605</td>\n",
       "    </tr>\n",
       "    <tr>\n",
       "      <th>1981-01-13</th>\n",
       "      <td>0.435513</td>\n",
       "      <td>0.444527</td>\n",
       "      <td>0.444527</td>\n",
       "      <td>0.537019</td>\n",
       "      <td>0.352035</td>\n",
       "    </tr>\n",
       "    <tr>\n",
       "      <th>1981-01-14</th>\n",
       "      <td>0.437298</td>\n",
       "      <td>0.446937</td>\n",
       "      <td>0.446937</td>\n",
       "      <td>0.535789</td>\n",
       "      <td>0.358084</td>\n",
       "    </tr>\n",
       "    <tr>\n",
       "      <th>1981-01-15</th>\n",
       "      <td>0.446223</td>\n",
       "      <td>0.451220</td>\n",
       "      <td>0.451220</td>\n",
       "      <td>0.530255</td>\n",
       "      <td>0.372186</td>\n",
       "    </tr>\n",
       "    <tr>\n",
       "      <th>1981-01-16</th>\n",
       "      <td>0.442653</td>\n",
       "      <td>0.454879</td>\n",
       "      <td>0.454879</td>\n",
       "      <td>0.524151</td>\n",
       "      <td>0.385608</td>\n",
       "    </tr>\n",
       "  </tbody>\n",
       "</table>\n",
       "</div>"
      ],
      "text/plain": [
       "            Adj Close    center   center2        ub        lb\n",
       "Date                                                         \n",
       "1981-01-09   0.455147       NaN       NaN       NaN       NaN\n",
       "1981-01-12   0.451577  0.443278  0.443278  0.536950  0.349605\n",
       "1981-01-13   0.435513  0.444527  0.444527  0.537019  0.352035\n",
       "1981-01-14   0.437298  0.446937  0.446937  0.535789  0.358084\n",
       "1981-01-15   0.446223  0.451220  0.451220  0.530255  0.372186\n",
       "1981-01-16   0.442653  0.454879  0.454879  0.524151  0.385608"
      ]
     },
     "execution_count": 39,
     "metadata": {},
     "output_type": "execute_result"
    }
   ],
   "source": [
    "df.iloc[18:24]"
   ]
  },
  {
   "cell_type": "code",
   "execution_count": 40,
   "metadata": {},
   "outputs": [],
   "source": [
    "# 상단 밴드, 하단 밴드 생성\n",
    "# 상단 밴드 = 이동평균선 + (2*20개 데이터의 표준편차)\n",
    "df['ub'] = df['center'] + (2*df['Adj Close'].rolling(20).std())\n",
    "\n",
    "# 하단 밴드 = 이동평균선 - (2*20개 데이터의 표준편차)\n",
    "df['lb'] = df['center'] - (2*df['Adj Close'].rolling(20).std())"
   ]
  },
  {
   "cell_type": "code",
   "execution_count": 41,
   "metadata": {},
   "outputs": [
    {
     "data": {
      "text/html": [
       "<div>\n",
       "<style scoped>\n",
       "    .dataframe tbody tr th:only-of-type {\n",
       "        vertical-align: middle;\n",
       "    }\n",
       "\n",
       "    .dataframe tbody tr th {\n",
       "        vertical-align: top;\n",
       "    }\n",
       "\n",
       "    .dataframe thead th {\n",
       "        text-align: right;\n",
       "    }\n",
       "</style>\n",
       "<table border=\"1\" class=\"dataframe\">\n",
       "  <thead>\n",
       "    <tr style=\"text-align: right;\">\n",
       "      <th></th>\n",
       "      <th>Adj Close</th>\n",
       "      <th>center</th>\n",
       "      <th>center2</th>\n",
       "      <th>ub</th>\n",
       "      <th>lb</th>\n",
       "    </tr>\n",
       "    <tr>\n",
       "      <th>Date</th>\n",
       "      <th></th>\n",
       "      <th></th>\n",
       "      <th></th>\n",
       "      <th></th>\n",
       "      <th></th>\n",
       "    </tr>\n",
       "  </thead>\n",
       "  <tbody>\n",
       "    <tr>\n",
       "      <th>1981-01-09</th>\n",
       "      <td>0.455147</td>\n",
       "      <td>NaN</td>\n",
       "      <td>NaN</td>\n",
       "      <td>NaN</td>\n",
       "      <td>NaN</td>\n",
       "    </tr>\n",
       "    <tr>\n",
       "      <th>1981-01-12</th>\n",
       "      <td>0.451577</td>\n",
       "      <td>0.443278</td>\n",
       "      <td>0.443278</td>\n",
       "      <td>0.536950</td>\n",
       "      <td>0.349605</td>\n",
       "    </tr>\n",
       "    <tr>\n",
       "      <th>1981-01-13</th>\n",
       "      <td>0.435513</td>\n",
       "      <td>0.444527</td>\n",
       "      <td>0.444527</td>\n",
       "      <td>0.537019</td>\n",
       "      <td>0.352035</td>\n",
       "    </tr>\n",
       "    <tr>\n",
       "      <th>1981-01-14</th>\n",
       "      <td>0.437298</td>\n",
       "      <td>0.446937</td>\n",
       "      <td>0.446937</td>\n",
       "      <td>0.535789</td>\n",
       "      <td>0.358084</td>\n",
       "    </tr>\n",
       "    <tr>\n",
       "      <th>1981-01-15</th>\n",
       "      <td>0.446223</td>\n",
       "      <td>0.451220</td>\n",
       "      <td>0.451220</td>\n",
       "      <td>0.530255</td>\n",
       "      <td>0.372186</td>\n",
       "    </tr>\n",
       "  </tbody>\n",
       "</table>\n",
       "</div>"
      ],
      "text/plain": [
       "            Adj Close    center   center2        ub        lb\n",
       "Date                                                         \n",
       "1981-01-09   0.455147       NaN       NaN       NaN       NaN\n",
       "1981-01-12   0.451577  0.443278  0.443278  0.536950  0.349605\n",
       "1981-01-13   0.435513  0.444527  0.444527  0.537019  0.352035\n",
       "1981-01-14   0.437298  0.446937  0.446937  0.535789  0.358084\n",
       "1981-01-15   0.446223  0.451220  0.451220  0.530255  0.372186"
      ]
     },
     "execution_count": 41,
     "metadata": {},
     "output_type": "execute_result"
    }
   ],
   "source": [
    "df.iloc[18:23,]"
   ]
  },
  {
   "cell_type": "code",
   "execution_count": 42,
   "metadata": {},
   "outputs": [],
   "source": [
    "# index를 시계열로 변경\n",
    "df.index = pd.to_datetime(df.index, format='%Y-%m-%d')"
   ]
  },
  {
   "cell_type": "code",
   "execution_count": 43,
   "metadata": {},
   "outputs": [
    {
     "data": {
      "image/png": "[encoded data removed]",
      "text/plain": [
       "<Figure size 1400x800 with 1 Axes>"
      ]
     },
     "metadata": {},
     "output_type": "display_data"
    }
   ],
   "source": [
    "x = df.tail(100).index\n",
    "price_y = df.tail(100)['Adj Close']\n",
    "ub_y = df.tail(100)['ub']\n",
    "lb_y = df.tail(100)['lb']\n",
    "\n",
    "\n",
    "plt.figure(figsize=(14,8))\n",
    "plt.plot(x,price_y)\n",
    "plt.plot(x,ub_y)\n",
    "plt.plot(x,lb_y)\n",
    "plt.show()\n"
   ]
  },
  {
   "cell_type": "code",
   "execution_count": 44,
   "metadata": {},
   "outputs": [
    {
     "data": {
      "text/plain": [
       "<Axes: xlabel='Date'>"
      ]
     },
     "execution_count": 44,
     "metadata": {},
     "output_type": "execute_result"
    },
    {
     "data": {
      "image/png": "[encoded data removed]",
      "text/plain": [
       "<Figure size 640x480 with 1 Axes>"
      ]
     },
     "metadata": {},
     "output_type": "display_data"
    }
   ],
   "source": [
    "df[['Adj Close','ub','lb']].plot()"
   ]
  },
  {
   "cell_type": "code",
   "execution_count": 45,
   "metadata": {},
   "outputs": [],
   "source": [
    "# 투자 기간 선택\n",
    "start = '2010-01-01'\n",
    "end = datetime.now()"
   ]
  },
  {
   "cell_type": "code",
   "execution_count": 46,
   "metadata": {},
   "outputs": [],
   "source": [
    "# start는 시계열로 변경\n",
    "start = datetime.strptime(start, '%Y-%m-%d')"
   ]
  },
  {
   "cell_type": "code",
   "execution_count": 48,
   "metadata": {},
   "outputs": [],
   "source": [
    "test_df = df.loc[start:,]"
   ]
  },
  {
   "cell_type": "code",
   "execution_count": 49,
   "metadata": {},
   "outputs": [
    {
     "name": "stderr",
     "output_type": "stream",
     "text": [
      "C:\\Users\\SAMSUNG\\AppData\\Local\\Temp\\ipykernel_12488\\2389447932.py:2: SettingWithCopyWarning: \n",
      "A value is trying to be set on a copy of a slice from a DataFrame.\n",
      "Try using .loc[row_indexer,col_indexer] = value instead\n",
      "\n",
      "See the caveats in the documentation: https://pandas.pydata.org/pandas-docs/stable/user_guide/indexing.html#returning-a-view-versus-a-copy\n",
      "  test_df['trade'] = \"\"\n"
     ]
    }
   ],
   "source": [
    "# 구매 상태를 확인하는 컬럼을 생성\n",
    "test_df['trade'] = \"\""
   ]
  },
  {
   "cell_type": "markdown",
   "metadata": {},
   "source": [
    "### 보유 내역 추가\n",
    " - 조건식\n",
    "   - 상단밴드보다 수정 주가가 높은 경우\n",
    "     - 현재 보유 상태라면  -> 매도 (trade = \"\")\n",
    "     - 보유 상태가 아니라면 -> 유지 (trade = \"\")\n",
    "   - 상단밴드보다 낮고 하단밴드보다 높은 경우\n",
    "     - 현재 보유 상태라면 -> 유지 (trade = \"buy\")\n",
    "     - 보유 상태가 아니라면 -> 유지 (trade = \"\")\n",
    "   - 하단밴드보다 낮거나 같은 경우\n",
    "     - 현재 보유 상태라면 -> 유지 (trade = \"buy\")\n",
    "     - 보유상태가 아니라면 -> 매수 (trade = \"buy\")"
   ]
  },
  {
   "cell_type": "code",
   "execution_count": 51,
   "metadata": {},
   "outputs": [],
   "source": [
    "for i in test_df.index:\n",
    "    # i 가 의미하는 것? test_df 의 index 값\n",
    "    # print(i)\n",
    "    # 수정주가가 상단밴드보다 높은 경우\n",
    "    if test_df.loc[i,'Adj Close'] >= test_df.loc[i, 'ub']:\n",
    "        # 현재 보유중이라면 -> trade를 \"\"로 변경\n",
    "        # 전날의 trade가 buy라면\n",
    "        if test_df.shift(1).loc[i, 'trade'] == 'buy':\n",
    "            test_df.loc[i, 'trade'] = \"\"\n",
    "        else:\n",
    "            test_df.loc[i,'trade'] = \"\"\n",
    "    # 하단밴드보다 수정주가가 낮거나 같은 경우\n",
    "    elif test_df.loc[i, 'Adj Close'] <= test_df.loc[i, 'lb']:\n",
    "        # 현재 보유중이라면 -> trade를 buy로 변경\n",
    "        if test_df.shift().loc[i, 'trade'] == \"buy\":\n",
    "            test_df.loc[i, 'trade'] = \"buy\"\n",
    "        # 현재 보유중이 아니라면 -> 매수\n",
    "        else:\n",
    "            test_df.loc[i, 'trade'] = \"buy\"\n",
    "    # 수정주가가 밴드 사이에 있을 때\n",
    "    else:\n",
    "        # 현재 보유상태라면 -> 유지 trade = buy\n",
    "        if test_df.shift().loc[i, 'trade'] == 'buy':\n",
    "            test_df.loc[i, 'trade'] = \"buy\"\n",
    "        # 보유상태가 아니라면 -> 유지 \n",
    "        else:\n",
    "            test_df.loc[i, 'trade'] = \"\""
   ]
  },
  {
   "cell_type": "code",
   "execution_count": 52,
   "metadata": {},
   "outputs": [
    {
     "data": {
      "text/plain": [
       "trade\n",
       "       1439\n",
       "buy     945\n",
       "Name: count, dtype: int64"
      ]
     },
     "execution_count": 52,
     "metadata": {},
     "output_type": "execute_result"
    }
   ],
   "source": [
    "test_df['trade'].value_counts()"
   ]
  },
  {
   "cell_type": "code",
   "execution_count": null,
   "metadata": {},
   "outputs": [],
   "source": [
    "test_df"
   ]
  },
  {
   "cell_type": "markdown",
   "metadata": {},
   "source": [
    "### 수익률 계산\n",
    " - 구매한 날의 수정주가\n",
    "   - 전날의 trade가 비어있고 오늘의 trade가 buy인 날의 수정 주가를 본다.\n",
    " - 판매한 날의 수정주가\n",
    "   - 전날의 trade가 buy이고 오늘의 trade가 비었는 날의 수정 주가\n",
    " - 수익률\n",
    "   - 판매한 날의 수정주가 / 구매한 날의 수정주가"
   ]
  },
  {
   "cell_type": "code",
   "execution_count": 54,
   "metadata": {},
   "outputs": [
    {
     "name": "stderr",
     "output_type": "stream",
     "text": [
      "C:\\Users\\SAMSUNG\\AppData\\Local\\Temp\\ipykernel_12488\\3653223396.py:2: SettingWithCopyWarning: \n",
      "A value is trying to be set on a copy of a slice from a DataFrame.\n",
      "Try using .loc[row_indexer,col_indexer] = value instead\n",
      "\n",
      "See the caveats in the documentation: https://pandas.pydata.org/pandas-docs/stable/user_guide/indexing.html#returning-a-view-versus-a-copy\n",
      "  test_df['rtn'] = 1\n",
      "C:\\Users\\SAMSUNG\\AppData\\Local\\Temp\\ipykernel_12488\\3653223396.py:15: FutureWarning: Setting an item of incompatible dtype is deprecated and will raise an error in a future version of pandas. Value '1.0568396777445188' has dtype incompatible with int64, please explicitly cast to a compatible dtype first.\n",
      "  test_df.loc[i, 'rtn'] = rtn\n"
     ]
    },
    {
     "name": "stdout",
     "output_type": "stream",
     "text": [
      "매수일 : 2010-01-22 00:00:00, 매수가 : 24.747818\n",
      "매도일 : 2010-03-01 00:00:00, 매도가 : 26.154476, 수익률 : 1.0568396777445188\n",
      "매수일 : 2010-08-24 00:00:00, 매수가 : 30.026524\n",
      "매도일 : 2010-09-08 00:00:00, 매도가 : 32.90366, 수익률 : 1.0958198158401553\n",
      "매수일 : 2011-03-16 00:00:00, 매수가 : 41.299767\n",
      "매도일 : 2011-07-01 00:00:00, 매도가 : 42.957966, 수익률 : 1.040150323366231\n",
      "매수일 : 2011-11-14 00:00:00, 매수가 : 47.463268\n",
      "매도일 : 2011-12-27 00:00:00, 매도가 : 50.876015, 수익률 : 1.0719029081604747\n",
      "매수일 : 2012-04-16 00:00:00, 매수가 : 72.601524\n",
      "매도일 : 2012-06-18 00:00:00, 매도가 : 73.308609, 수익률 : 1.0097392583659814\n",
      "매수일 : 2012-10-08 00:00:00, 매수가 : 80.207954\n",
      "매도일 : 2013-07-29 00:00:00, 매도가 : 57.243137, 수익률 : 0.7136840443530077\n",
      "매수일 : 2013-09-11 00:00:00, 매수가 : 60.184383\n",
      "매도일 : 2013-10-18 00:00:00, 매도가 : 65.48336, 수익률 : 1.0880457144505413\n",
      "매수일 : 2014-01-03 00:00:00, 매수가 : 70.019096\n",
      "매도일 : 2014-03-25 00:00:00, 매도가 : 70.960335, 수익률 : 1.0134426042861222\n",
      "매수일 : 2014-10-15 00:00:00, 매수가 : 89.842468\n",
      "매도일 : 2014-10-23 00:00:00, 매도가 : 96.557182, 수익률 : 1.0747387527243797\n",
      "매수일 : 2014-12-12 00:00:00, 매수가 : 101.508751\n",
      "매도일 : 2015-01-28 00:00:00, 매도가 : 106.670677, 수익률 : 1.0508520294964518\n",
      "매수일 : 2015-03-11 00:00:00, 매수가 : 113.52774\n",
      "매도일 : 2015-04-23 00:00:00, 매도가 : 120.4282, 수익률 : 1.0607821489267735\n",
      "매수일 : 2015-06-29 00:00:00, 매수가 : 116.137619\n",
      "매도일 : 2015-07-20 00:00:00, 매도가 : 123.169502, 수익률 : 1.0605478488412958\n",
      "매수일 : 2015-08-04 00:00:00, 매수가 : 106.914131\n",
      "매도일 : 2015-10-22 00:00:00, 매도가 : 108.203766, 수익률 : 1.0120623437513607\n",
      "매수일 : 2015-12-14 00:00:00, 매수가 : 105.825577\n",
      "매도일 : 2016-03-01 00:00:00, 매도가 : 95.095795, 수익률 : 0.8986088022936081\n",
      "매수일 : 2016-04-27 00:00:00, 매수가 : 92.532272\n",
      "매도일 : 2016-05-24 00:00:00, 매도가 : 93.171783, 수익률 : 1.0069112212007503\n",
      "매수일 : 2016-06-20 00:00:00, 매수가 : 90.507019\n",
      "매도일 : 2016-07-18 00:00:00, 매도가 : 95.008583, 수익률 : 1.0497371811571874\n",
      "매수일 : 2016-09-09 00:00:00, 매수가 : 98.680893\n",
      "매도일 : 2016-09-14 00:00:00, 매도가 : 106.948166, 수익률 : 1.0837778494768993\n",
      "매수일 : 2016-11-01 00:00:00, 매수가 : 106.680237\n",
      "매도일 : 2016-12-13 00:00:00, 매도가 : 110.786522, 수익률 : 1.0384915249110291\n",
      "매수일 : 2017-06-09 00:00:00, 매수가 : 144.5\n",
      "매도일 : 2017-07-13 00:00:00, 매도가 : 143.32637, 수익률 : 0.9918779930795848\n",
      "매수일 : 2017-09-20 00:00:00, 매수가 : 151.971283\n",
      "매도일 : 2017-10-16 00:00:00, 매도가 : 155.681183, 수익률 : 1.0244118489149032\n",
      "매수일 : 2018-01-29 00:00:00, 매수가 : 164.136932\n",
      "매도일 : 2018-05-04 00:00:00, 매도가 : 180.378143, 수익률 : 1.0989491566712115\n",
      "매수일 : 2018-06-25 00:00:00, 매수가 : 179.438583\n",
      "매도일 : 2018-08-01 00:00:00, 매도가 : 198.47876, 수익률 : 1.106109715545402\n",
      "매수일 : 2018-11-02 00:00:00, 매수가 : 205.085831\n",
      "매도일 : 2019-01-30 00:00:00, 매도가 : 163.913071, 수익률 : 0.799241323502256\n",
      "매수일 : 2019-05-13 00:00:00, 매수가 : 185.720001\n"
     ]
    }
   ],
   "source": [
    "# 수익률 파생변수 생성\n",
    "test_df['rtn'] = 1\n",
    "\n",
    "for i in test_df.index:\n",
    "    # 구매가 생성\n",
    "    if (test_df.shift().loc[i, 'trade']==\"\")& (test_df.loc[i, 'trade']==\"buy\"):\n",
    "        buy = test_df.loc[i, 'Adj Close']\n",
    "        print(f\"매수일 : {i}, 매수가 : {buy}\")\n",
    "    # 판매가 생성\n",
    "    elif (test_df.shift().loc[i,'trade']==\"buy\")&(test_df.loc[i,'trade']==\"\"):\n",
    "        sell = test_df.loc[i, 'Adj Close']\n",
    "        # 수익률 계산\n",
    "        rtn = sell / buy\n",
    "        # 계산된 수익률을 test_df에 rtn컬럼에 대입\n",
    "        test_df.loc[i, 'rtn'] = rtn\n",
    "        print(f\"매도일 : {i}, 매도가 : {sell}, 수익률 : {rtn}\")"
   ]
  },
  {
   "cell_type": "code",
   "execution_count": 58,
   "metadata": {},
   "outputs": [
    {
     "data": {
      "text/plain": [
       "1.3923287814461949"
      ]
     },
     "execution_count": 58,
     "metadata": {},
     "output_type": "execute_result"
    }
   ],
   "source": [
    "acc_rtn = 1\n",
    "\n",
    "for i in test_df.index:\n",
    "    rtn = test_df.loc[i,'rtn']\n",
    "    acc_rtn *= rtn\n",
    "acc_rtn"
   ]
  },
  {
   "cell_type": "code",
   "execution_count": 59,
   "metadata": {},
   "outputs": [
    {
     "name": "stderr",
     "output_type": "stream",
     "text": [
      "C:\\Users\\SAMSUNG\\AppData\\Local\\Temp\\ipykernel_12488\\2922275961.py:1: SettingWithCopyWarning: \n",
      "A value is trying to be set on a copy of a slice from a DataFrame.\n",
      "Try using .loc[row_indexer,col_indexer] = value instead\n",
      "\n",
      "See the caveats in the documentation: https://pandas.pydata.org/pandas-docs/stable/user_guide/indexing.html#returning-a-view-versus-a-copy\n",
      "  test_df['acc_rtn'] = test_df['rtn'].cumprod()\n"
     ]
    }
   ],
   "source": [
    "test_df['acc_rtn'] = test_df['rtn'].cumprod()"
   ]
  },
  {
   "cell_type": "code",
   "execution_count": 60,
   "metadata": {},
   "outputs": [
    {
     "data": {
      "text/plain": [
       "1.3923287814461949"
      ]
     },
     "execution_count": 60,
     "metadata": {},
     "output_type": "execute_result"
    }
   ],
   "source": [
    "test_df.iloc[-1,]['acc_rtn']"
   ]
  },
  {
   "cell_type": "markdown",
   "metadata": {},
   "source": [
    "### 볼린저 밴드의 함수화\n",
    "1. 밴드를 생성하는 함수\n",
    "  - 매개 변수 5개 (데이터프레임, 기준되는 컬럼명, 시작시간, 종료시간, 데이터의 개수)\n",
    "  - 기준이 되는 컬럼은 기본값을 Adj Close\n",
    "  - 시작시간은 기본값 2010-01-01\n",
    "  - 종료시간은 기본값 \"\"\n",
    "  - 데이터의 개수 기본값은 20\n",
    "  - 인덱스가 date인지 확인하여 아니라면 date를 인덱스로 변경\n",
    "  - 인덱스를 시계열 데이터로 변경\n",
    "  - 시작시간, 종료시간을 시계열 데이터로 변경\n",
    "  - 격측치, 무한대 값을 제외\n",
    "  - 기준이 되는 컬럼을 제외하고 모두 삭제\n",
    "  - 이동 평균선, 상단밴드, 하단밴드 생성\n",
    "  - 시작시간, 종료시간으로 데이터 필터\n",
    "  - 위의 과정에서 나온 데이터프레임을 리턴\n"
   ]
  },
  {
   "cell_type": "code",
   "execution_count": 71,
   "metadata": {},
   "outputs": [],
   "source": [
    "def create_band(\n",
    "        _df, _col = 'Adj Close', \n",
    "        _start = \"2010-01-01\",\n",
    "        _end = datetime.now(),\n",
    "        _cnt = 20):\n",
    "    df = _df.copy()\n",
    "    # 인텍스가 Date인가?\n",
    "    if 'Date' in df.columns:\n",
    "        df.set_index('Date', inplace=True)\n",
    "\n",
    "    # index를 시계열 데이터로 변경\n",
    "    df.index = pd.to_datetime(df.index, format = \"%Y-%m-%d\")\n",
    "\n",
    "    # 시작시간과 종료시간을 시계열로 변경\n",
    "    try:\n",
    "        start = datetime.strptime(_start, \"%Y-%m-%d\")\n",
    "        if type(_end) == \"str\":\n",
    "            _end = datetime.strptime(_end, '%Y-%m-%d')\n",
    "        else:\n",
    "            end = _end\n",
    "    except:\n",
    "        return \"인자값의 타입이 잘못되었습니다.(예 : YYYY-mm-dd)\"\n",
    "    \n",
    "    # 결측치와 무한대 값을 제외\n",
    "    flag = df.isin([np.nan, np.inf, -np.inf]).any(axis=1)\n",
    "    df = df.loc[~flag,]\n",
    "\n",
    "    # 기준이 되는 컬럼을 제외하고 모두 삭제\n",
    "    result = df[[_col]]\n",
    "\n",
    "    # 이동평균선, 상단밴드, 하단밴드 생성\n",
    "    result['center'] = result[_col].rolling(_cnt).mean()\n",
    "    result['ub'] = result['center'] + (2 *result[_col].rolling(_cnt).std())\n",
    "    result['lb'] = result['center'] - (2 *result[_col].rolling(_cnt).std())\n",
    "\n",
    "    # 시작시간과 종료시간으로 필터링\n",
    "    result = result.loc[start:end,]\n",
    "\n",
    "    return result"
   ]
  },
  {
   "cell_type": "code",
   "execution_count": 72,
   "metadata": {},
   "outputs": [],
   "source": [
    "df = pd.read_csv('C:/Users/SAMSUNG/Documents/R/csv/AMZN.csv')"
   ]
  },
  {
   "cell_type": "code",
   "execution_count": null,
   "metadata": {},
   "outputs": [],
   "source": [
    "band_df = create_band(df)"
   ]
  },
  {
   "cell_type": "code",
   "execution_count": 74,
   "metadata": {},
   "outputs": [
    {
     "data": {
      "text/html": [
       "<div>\n",
       "<style scoped>\n",
       "    .dataframe tbody tr th:only-of-type {\n",
       "        vertical-align: middle;\n",
       "    }\n",
       "\n",
       "    .dataframe tbody tr th {\n",
       "        vertical-align: top;\n",
       "    }\n",
       "\n",
       "    .dataframe thead th {\n",
       "        text-align: right;\n",
       "    }\n",
       "</style>\n",
       "<table border=\"1\" class=\"dataframe\">\n",
       "  <thead>\n",
       "    <tr style=\"text-align: right;\">\n",
       "      <th></th>\n",
       "      <th>Adj Close</th>\n",
       "      <th>center</th>\n",
       "      <th>ub</th>\n",
       "      <th>lb</th>\n",
       "    </tr>\n",
       "    <tr>\n",
       "      <th>Date</th>\n",
       "      <th></th>\n",
       "      <th></th>\n",
       "      <th></th>\n",
       "      <th></th>\n",
       "    </tr>\n",
       "  </thead>\n",
       "  <tbody>\n",
       "    <tr>\n",
       "      <th>2010-01-04</th>\n",
       "      <td>133.899994</td>\n",
       "      <td>133.984001</td>\n",
       "      <td>141.460445</td>\n",
       "      <td>126.507556</td>\n",
       "    </tr>\n",
       "    <tr>\n",
       "      <th>2010-01-05</th>\n",
       "      <td>134.690002</td>\n",
       "      <td>133.839500</td>\n",
       "      <td>141.132776</td>\n",
       "      <td>126.546225</td>\n",
       "    </tr>\n",
       "    <tr>\n",
       "      <th>2010-01-06</th>\n",
       "      <td>132.250000</td>\n",
       "      <td>133.741500</td>\n",
       "      <td>141.066419</td>\n",
       "      <td>126.416581</td>\n",
       "    </tr>\n",
       "    <tr>\n",
       "      <th>2010-01-07</th>\n",
       "      <td>130.000000</td>\n",
       "      <td>133.536000</td>\n",
       "      <td>141.045671</td>\n",
       "      <td>126.026329</td>\n",
       "    </tr>\n",
       "    <tr>\n",
       "      <th>2010-01-08</th>\n",
       "      <td>133.520004</td>\n",
       "      <td>133.646500</td>\n",
       "      <td>141.082939</td>\n",
       "      <td>126.210062</td>\n",
       "    </tr>\n",
       "  </tbody>\n",
       "</table>\n",
       "</div>"
      ],
      "text/plain": [
       "             Adj Close      center          ub          lb\n",
       "Date                                                      \n",
       "2010-01-04  133.899994  133.984001  141.460445  126.507556\n",
       "2010-01-05  134.690002  133.839500  141.132776  126.546225\n",
       "2010-01-06  132.250000  133.741500  141.066419  126.416581\n",
       "2010-01-07  130.000000  133.536000  141.045671  126.026329\n",
       "2010-01-08  133.520004  133.646500  141.082939  126.210062"
      ]
     },
     "execution_count": 74,
     "metadata": {},
     "output_type": "execute_result"
    }
   ],
   "source": [
    "band_df.head()"
   ]
  },
  {
   "cell_type": "markdown",
   "metadata": {},
   "source": [
    " - 트레이드 컬럼을 생성하는 함수\n",
    "   - 매개변수 1개 -> 1번 함수에서 생성된 데이터프레임 인자 값으로 받아온다.\n",
    "   - trade 컬럼을 생성하여 값들에 \"\" 대입\n",
    "   - 밴드들을 이용하여 보유 상태를 대입\n",
    "   - 결과값을 리턴"
   ]
  },
  {
   "cell_type": "code",
   "execution_count": 75,
   "metadata": {},
   "outputs": [],
   "source": [
    "def create_trade(_df):\n",
    "    # 기준이 되는 컬럼의 이름을 변수에 저장\n",
    "    col = _df.columns[0]\n",
    "\n",
    "    df = _df.copy()\n",
    "\n",
    "    # 거래 내역이라는 컬럼을 생성\n",
    "    df['trade'] = \"\"\n",
    "\n",
    "    # 거래 내역 추가\n",
    "    for i in df.index:\n",
    "        # 상단밴드보다 기준이 되는 컬럼의 값이 높거나 같은 경우\n",
    "        if df.loc[i,col] >= df.loc[i, 'ub']:\n",
    "            df.loc[i, 'trade']= \"\"\n",
    "        # 하단밴드보다 col의 값이 작거나 같은 경우\n",
    "        elif df.loc[i, col] <= df.loc[i, 'lb']:\n",
    "            df.loc[i, 'trade'] = \"buy\"\n",
    "        #밴드 사이에 col의 값이 존재한다면\n",
    "        else:\n",
    "            df.loc[i,'trade'] = df.shift().loc[i, 'trade']\n",
    "    return df"
   ]
  },
  {
   "cell_type": "code",
   "execution_count": 76,
   "metadata": {},
   "outputs": [],
   "source": [
    "trade_df = create_trade(band_df)"
   ]
  },
  {
   "cell_type": "code",
   "execution_count": 77,
   "metadata": {},
   "outputs": [
    {
     "data": {
      "text/plain": [
       "trade\n",
       "       1483\n",
       "buy     863\n",
       "Name: count, dtype: int64"
      ]
     },
     "execution_count": 77,
     "metadata": {},
     "output_type": "execute_result"
    }
   ],
   "source": [
    "trade_df['trade'].value_counts()"
   ]
  },
  {
   "cell_type": "markdown",
   "metadata": {},
   "source": [
    " - 수익률 계산하는 함수\n",
    "   - 매개변수 1개 -> 2번 함수에서 나온 결과를 인자값으로 받아온다.\n",
    "   - 수일률('rtn')컬럼을 생성하여 데이터는 1 대입\n",
    "   - 구매한 날의 데이터와 판매한 날의 데이터를 기준으로 수일률을 계산하여 rtn에 대입\n",
    "   - 누적수익률('acc_rtn') 컬럼을 생성하여 수익률의 누적곱을 대입\n",
    "   - 결과는 데이터프레임과 총 누적수익률을 리턴\n"
   ]
  },
  {
   "cell_type": "code",
   "execution_count": 80,
   "metadata": {},
   "outputs": [],
   "source": [
    "def create_rtn(_df):\n",
    "    # 기준이 되는 컬럼을 변수에 저장\n",
    "    col = _df.columns[0]\n",
    "    # 복사본 생성\n",
    "    df = _df.copy()\n",
    "    # 수익률 파생변수 생성\n",
    "    df['rtn'] = 1\n",
    "\n",
    "    # 수익률 계산하는 반복문\n",
    "    for i in df.index:\n",
    "        # 구매한 날\n",
    "        if (df.shift().loc[i, 'trade']=='')&(df.loc[i, 'trade']=='buy'):\n",
    "            buy = df.loc[i, col]\n",
    "            print(f\"매수일 : {i}, 매수가 : {buy}\")\n",
    "        # 판매한 날\n",
    "        elif (df.shift().loc[i,'trade']=='buy')&(df.loc[i,'trade']== \"\"):\n",
    "            sell = df.loc[i,col]\n",
    "            rtn = sell / buy\n",
    "            print(f\"매도일 : {i}, 매도가 : {sell}, 수익률 : {rtn}\")\n",
    "            df.loc[i,'rtn'] = rtn\n",
    "    # 누적 수익률 계산\n",
    "    df['acc_rtn'] = df['rtn'].cumprod()\n",
    "    acc_rtn = df.iloc[-1,]['acc_rtn']\n",
    "    return df, acc_rtn"
   ]
  },
  {
   "cell_type": "code",
   "execution_count": 81,
   "metadata": {},
   "outputs": [
    {
     "name": "stdout",
     "output_type": "stream",
     "text": [
      "매수일 : 2010-05-04 00:00:00, 매수가 : 129.830002\n",
      "매도일 : 2010-08-04 00:00:00, 매도가 : 127.580002, 수익률 : 0.9826696451872502\n",
      "매수일 : 2010-11-16 00:00:00, 매수가 : 157.779999\n",
      "매도일 : 2010-11-24 00:00:00, 매도가 : 177.25, 수익률 : 1.1233996775472155\n",
      "매수일 : 2011-01-21 00:00:00, 매수가 : 177.419998\n",
      "매도일 : 2011-03-30 00:00:00, 매도가 : 179.419998, 수익률 : 1.0112726864082142\n",
      "매수일 : 2011-06-06 00:00:00, 매수가 : 185.690002\n",
      "매도일 : 2011-06-27 00:00:00, 매도가 : 201.25, 수익률 : 1.0837955615941024\n",
      "매수일 : 2011-08-04 00:00:00, 매수가 : 201.479996\n",
      "매도일 : 2011-10-14 00:00:00, 매도가 : 246.710007, 수익률 : 1.2244888420585436\n",
      "매수일 : 2011-10-26 00:00:00, 매수가 : 198.399994\n",
      "매도일 : 2012-01-18 00:00:00, 매도가 : 189.440002, 수익률 : 0.9548387486342363\n"
     ]
    },
    {
     "name": "stderr",
     "output_type": "stream",
     "text": [
      "C:\\Users\\SAMSUNG\\AppData\\Local\\Temp\\ipykernel_12488\\2986667000.py:20: FutureWarning: Setting an item of incompatible dtype is deprecated and will raise an error in a future version of pandas. Value '0.9826696451872502' has dtype incompatible with int64, please explicitly cast to a compatible dtype first.\n",
      "  df.loc[i,'rtn'] = rtn\n"
     ]
    },
    {
     "name": "stdout",
     "output_type": "stream",
     "text": [
      "매수일 : 2012-10-10 00:00:00, 매수가 : 244.990005\n",
      "매도일 : 2012-11-29 00:00:00, 매도가 : 251.270004, 수익률 : 1.0256336947297096\n",
      "매수일 : 2013-04-29 00:00:00, 매수가 : 249.740005\n",
      "매도일 : 2013-06-07 00:00:00, 매도가 : 276.869995, 수익률 : 1.1086329360808655\n",
      "매수일 : 2013-08-14 00:00:00, 매수가 : 291.339996\n",
      "매도일 : 2013-09-18 00:00:00, 매도가 : 312.029999, 수익률 : 1.0710166928127507\n",
      "매수일 : 2014-01-24 00:00:00, 매수가 : 387.600006\n",
      "매도일 : 2014-03-05 00:00:00, 매도가 : 372.369995, 수익률 : 0.9607068865731648\n",
      "매수일 : 2014-03-24 00:00:00, 매수가 : 351.850006\n",
      "매도일 : 2014-06-05 00:00:00, 매도가 : 323.570007, 수익률 : 0.9196248443434728\n",
      "매수일 : 2014-09-15 00:00:00, 매수가 : 323.890015\n",
      "매도일 : 2014-11-14 00:00:00, 매도가 : 327.820007, 수익률 : 1.0121337238506718\n",
      "매수일 : 2015-01-15 00:00:00, 매수가 : 286.950012\n",
      "매도일 : 2015-01-30 00:00:00, 매도가 : 354.529999, 수익률 : 1.2355113579852366\n",
      "매수일 : 2015-03-10 00:00:00, 매수가 : 369.51001\n",
      "매도일 : 2015-04-08 00:00:00, 매도가 : 381.200012, 수익률 : 1.031636496126316\n",
      "매수일 : 2015-08-20 00:00:00, 매수가 : 515.780029\n",
      "매도일 : 2015-10-23 00:00:00, 매도가 : 599.030029, 수익률 : 1.1614060167498266\n",
      "매수일 : 2015-12-11 00:00:00, 매수가 : 640.150024\n",
      "매도일 : 2015-12-29 00:00:00, 매도가 : 693.969971, 수익률 : 1.0840739592005388\n",
      "매수일 : 2016-01-04 00:00:00, 매수가 : 636.98999\n",
      "매도일 : 2016-03-29 00:00:00, 매도가 : 593.859985, 수익률 : 0.9322909218714724\n",
      "매수일 : 2016-06-24 00:00:00, 매수가 : 698.960022\n",
      "매도일 : 2016-07-06 00:00:00, 매도가 : 737.609985, 수익률 : 1.055296385749513\n",
      "매수일 : 2016-10-28 00:00:00, 매수가 : 776.320007\n",
      "매도일 : 2017-01-06 00:00:00, 매도가 : 795.98999, 수익률 : 1.0253374675683193\n",
      "매수일 : 2017-08-10 00:00:00, 매수가 : 956.919983\n",
      "매도일 : 2017-09-13 00:00:00, 매도가 : 999.599976, 수익률 : 1.0446014230638132\n",
      "매수일 : 2017-09-25 00:00:00, 매수가 : 939.789978\n",
      "매도일 : 2017-10-27 00:00:00, 매도가 : 1100.949951, 수익률 : 1.1714850943005055\n",
      "매수일 : 2018-03-28 00:00:00, 매수가 : 1431.420044\n",
      "매도일 : 2018-06-01 00:00:00, 매도가 : 1641.540039, 수익률 : 1.1467912901462767\n",
      "매수일 : 2018-10-08 00:00:00, 매수가 : 1864.420044\n",
      "매도일 : 2019-03-01 00:00:00, 매도가 : 1671.72998, 수익률 : 0.896648791874928\n",
      "매수일 : 2019-05-13 00:00:00, 매수가 : 1822.680054\n"
     ]
    },
    {
     "data": {
      "text/plain": [
       "(              Adj Close       center           ub           lb trade  rtn  \\\n",
       " Date                                                                        \n",
       " 2010-01-04   133.899994   133.984001   141.460445   126.507556  None  1.0   \n",
       " 2010-01-05   134.690002   133.839500   141.132776   126.546225  None  1.0   \n",
       " 2010-01-06   132.250000   133.741500   141.066419   126.416581  None  1.0   \n",
       " 2010-01-07   130.000000   133.536000   141.045671   126.026329  None  1.0   \n",
       " 2010-01-08   133.520004   133.646500   141.082939   126.210062  None  1.0   \n",
       " ...                 ...          ...          ...          ...   ...  ...   \n",
       " 2019-06-18  1901.369995  1821.456500  1935.384678  1707.528322   buy  1.0   \n",
       " 2019-06-19  1908.790039  1824.020001  1943.535145  1704.504858   buy  1.0   \n",
       " 2019-06-20  1918.189941  1826.945495  1952.830613  1701.060378   buy  1.0   \n",
       " 2019-06-21  1911.300049  1831.736499  1962.964470  1700.508528   buy  1.0   \n",
       " 2019-06-24  1907.953857  1835.970190  1971.444249  1700.496132   buy  1.0   \n",
       " \n",
       "              acc_rtn  \n",
       " Date                  \n",
       " 2010-01-04  1.000000  \n",
       " 2010-01-05  1.000000  \n",
       " 2010-01-06  1.000000  \n",
       " 2010-01-07  1.000000  \n",
       " 2010-01-08  1.000000  \n",
       " ...              ...  \n",
       " 2019-06-18  3.138061  \n",
       " 2019-06-19  3.138061  \n",
       " 2019-06-20  3.138061  \n",
       " 2019-06-21  3.138061  \n",
       " 2019-06-24  3.138061  \n",
       " \n",
       " [2384 rows x 7 columns],\n",
       " 3.138061358619031)"
      ]
     },
     "execution_count": 81,
     "metadata": {},
     "output_type": "execute_result"
    }
   ],
   "source": [
    "create_rtn(trade_df)"
   ]
  },
  {
   "cell_type": "code",
   "execution_count": null,
   "metadata": {},
   "outputs": [],
   "source": []
  }
 ],
 "metadata": {
  "kernelspec": {
   "display_name": "Python 3",
   "language": "python",
   "name": "python3"
  },
  "language_info": {
   "codemirror_mode": {
    "name": "ipython",
    "version": 3
   },
   "file_extension": ".py",
   "mimetype": "text/x-python",
   "name": "python",
   "nbconvert_exporter": "python",
   "pygments_lexer": "ipython3",
   "version": "3.12.2"
  }
 },
 "nbformat": 4,
 "nbformat_minor": 2
}
