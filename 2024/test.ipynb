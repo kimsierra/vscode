{
 "cells": [
  {
   "cell_type": "code",
   "execution_count": 100,
   "metadata": {},
   "outputs": [
    {
     "name": "stdout",
     "output_type": "stream",
     "text": [
      "Defaulting to user installation because normal site-packages is not writeable\n",
      "Collecting seaborn\n",
      "  Downloading seaborn-0.13.2-py3-none-any.whl.metadata (5.4 kB)\n",
      "Requirement already satisfied: numpy!=1.24.0,>=1.20 in c:\\users\\samsung\\appdata\\local\\packages\\pythonsoftwarefoundation.python.3.12_qbz5n2kfra8p0\\localcache\\local-packages\\python312\\site-packages (from seaborn) (1.26.4)\n",
      "Requirement already satisfied: pandas>=1.2 in c:\\users\\samsung\\appdata\\local\\packages\\pythonsoftwarefoundation.python.3.12_qbz5n2kfra8p0\\localcache\\local-packages\\python312\\site-packages (from seaborn) (2.2.0)\n",
      "Requirement already satisfied: matplotlib!=3.6.1,>=3.4 in c:\\users\\samsung\\appdata\\local\\packages\\pythonsoftwarefoundation.python.3.12_qbz5n2kfra8p0\\localcache\\local-packages\\python312\\site-packages (from seaborn) (3.8.3)\n",
      "Requirement already satisfied: contourpy>=1.0.1 in c:\\users\\samsung\\appdata\\local\\packages\\pythonsoftwarefoundation.python.3.12_qbz5n2kfra8p0\\localcache\\local-packages\\python312\\site-packages (from matplotlib!=3.6.1,>=3.4->seaborn) (1.2.0)\n",
      "Requirement already satisfied: cycler>=0.10 in c:\\users\\samsung\\appdata\\local\\packages\\pythonsoftwarefoundation.python.3.12_qbz5n2kfra8p0\\localcache\\local-packages\\python312\\site-packages (from matplotlib!=3.6.1,>=3.4->seaborn) (0.12.1)\n",
      "Requirement already satisfied: fonttools>=4.22.0 in c:\\users\\samsung\\appdata\\local\\packages\\pythonsoftwarefoundation.python.3.12_qbz5n2kfra8p0\\localcache\\local-packages\\python312\\site-packages (from matplotlib!=3.6.1,>=3.4->seaborn) (4.49.0)\n",
      "Requirement already satisfied: kiwisolver>=1.3.1 in c:\\users\\samsung\\appdata\\local\\packages\\pythonsoftwarefoundation.python.3.12_qbz5n2kfra8p0\\localcache\\local-packages\\python312\\site-packages (from matplotlib!=3.6.1,>=3.4->seaborn) (1.4.5)\n",
      "Requirement already satisfied: packaging>=20.0 in c:\\users\\samsung\\appdata\\local\\packages\\pythonsoftwarefoundation.python.3.12_qbz5n2kfra8p0\\localcache\\local-packages\\python312\\site-packages (from matplotlib!=3.6.1,>=3.4->seaborn) (23.2)\n",
      "Requirement already satisfied: pillow>=8 in c:\\users\\samsung\\appdata\\local\\packages\\pythonsoftwarefoundation.python.3.12_qbz5n2kfra8p0\\localcache\\local-packages\\python312\\site-packages (from matplotlib!=3.6.1,>=3.4->seaborn) (10.2.0)\n",
      "Requirement already satisfied: pyparsing>=2.3.1 in c:\\users\\samsung\\appdata\\local\\packages\\pythonsoftwarefoundation.python.3.12_qbz5n2kfra8p0\\localcache\\local-packages\\python312\\site-packages (from matplotlib!=3.6.1,>=3.4->seaborn) (3.1.1)\n",
      "Requirement already satisfied: python-dateutil>=2.7 in c:\\users\\samsung\\appdata\\local\\packages\\pythonsoftwarefoundation.python.3.12_qbz5n2kfra8p0\\localcache\\local-packages\\python312\\site-packages (from matplotlib!=3.6.1,>=3.4->seaborn) (2.8.2)\n",
      "Requirement already satisfied: pytz>=2020.1 in c:\\users\\samsung\\appdata\\local\\packages\\pythonsoftwarefoundation.python.3.12_qbz5n2kfra8p0\\localcache\\local-packages\\python312\\site-packages (from pandas>=1.2->seaborn) (2024.1)\n",
      "Requirement already satisfied: tzdata>=2022.7 in c:\\users\\samsung\\appdata\\local\\packages\\pythonsoftwarefoundation.python.3.12_qbz5n2kfra8p0\\localcache\\local-packages\\python312\\site-packages (from pandas>=1.2->seaborn) (2024.1)\n",
      "Requirement already satisfied: six>=1.5 in c:\\users\\samsung\\appdata\\local\\packages\\pythonsoftwarefoundation.python.3.12_qbz5n2kfra8p0\\localcache\\local-packages\\python312\\site-packages (from python-dateutil>=2.7->matplotlib!=3.6.1,>=3.4->seaborn) (1.16.0)\n",
      "Downloading seaborn-0.13.2-py3-none-any.whl (294 kB)\n",
      "   ---------------------------------------- 0.0/294.9 kB ? eta -:--:--\n",
      "   - -------------------------------------- 10.2/294.9 kB ? eta -:--:--\n",
      "   ------------ --------------------------- 92.2/294.9 kB 1.7 MB/s eta 0:00:01\n",
      "   -------------------------------------- - 286.7/294.9 kB 2.9 MB/s eta 0:00:01\n",
      "   ---------------------------------------- 294.9/294.9 kB 2.6 MB/s eta 0:00:00\n",
      "Installing collected packages: seaborn\n",
      "Successfully installed seaborn-0.13.2\n",
      "Note: you may need to restart the kernel to use updated packages.\n"
     ]
    }
   ],
   "source": [
    "pip install seaborn"
   ]
  },
  {
   "cell_type": "code",
   "execution_count": 69,
   "metadata": {},
   "outputs": [],
   "source": [
    "import invest"
   ]
  },
  {
   "cell_type": "code",
   "execution_count": 70,
   "metadata": {},
   "outputs": [],
   "source": [
    "import yfinance as yf"
   ]
  },
  {
   "cell_type": "code",
   "execution_count": 71,
   "metadata": {},
   "outputs": [],
   "source": [
    "# import sys"
   ]
  },
  {
   "cell_type": "code",
   "execution_count": 72,
   "metadata": {},
   "outputs": [],
   "source": [
    "# sys.path.append('C:\\\\Users\\\\SAMSUNG\\\\Documents\\\\vscode\\\\2024\\\\240223') # 일시적 경로 설정"
   ]
  },
  {
   "cell_type": "code",
   "execution_count": 73,
   "metadata": {},
   "outputs": [],
   "source": [
    "import importlib"
   ]
  },
  {
   "cell_type": "code",
   "execution_count": 95,
   "metadata": {},
   "outputs": [
    {
     "data": {
      "text/plain": [
       "<module 'invest' from 'c:\\\\Users\\\\SAMSUNG\\\\Documents\\\\vscode\\\\2024\\\\invest\\\\__init__.py'>"
      ]
     },
     "execution_count": 95,
     "metadata": {},
     "output_type": "execute_result"
    }
   ],
   "source": [
    "importlib.reload(invest)"
   ]
  },
  {
   "cell_type": "code",
   "execution_count": 75,
   "metadata": {},
   "outputs": [],
   "source": [
    "import pandas as pd"
   ]
  },
  {
   "cell_type": "code",
   "execution_count": 76,
   "metadata": {},
   "outputs": [],
   "source": [
    "df = pd.read_csv('C:/Users/SAMSUNG/Documents/R/csv/AAPL.csv')"
   ]
  },
  {
   "cell_type": "code",
   "execution_count": 77,
   "metadata": {},
   "outputs": [],
   "source": [
    "test = invest.Invest(df)"
   ]
  },
  {
   "cell_type": "code",
   "execution_count": 78,
   "metadata": {},
   "outputs": [
    {
     "name": "stdout",
     "output_type": "stream",
     "text": [
      "7.436513727083075\n"
     ]
    },
    {
     "data": {
      "text/plain": [
       "(             Adj Close  daily_rtn   acc_rtn\n",
       " Date                                       \n",
       " 2010-01-04   26.782711   1.000000  1.000000\n",
       " 2010-01-05   26.829010   1.001729  1.001729\n",
       " 2010-01-06   26.402260   0.984094  0.985795\n",
       " 2010-01-07   26.353460   0.998152  0.983973\n",
       " 2010-01-08   26.528664   1.006648  0.990515\n",
       " ...                ...        ...       ...\n",
       " 2019-06-18  198.449997   1.023518  7.409631\n",
       " 2019-06-19  197.869995   0.997077  7.387975\n",
       " 2019-06-20  199.460007   1.008036  7.447342\n",
       " 2019-06-21  198.779999   0.996591  7.421952\n",
       " 2019-06-24  199.169998   1.001962  7.436514\n",
       " \n",
       " [2384 rows x 3 columns],\n",
       " 7.436513727083075)"
      ]
     },
     "execution_count": 78,
     "metadata": {},
     "output_type": "execute_result"
    }
   ],
   "source": [
    "test.buyandhold()"
   ]
  },
  {
   "cell_type": "code",
   "execution_count": 79,
   "metadata": {},
   "outputs": [
    {
     "name": "stderr",
     "output_type": "stream",
     "text": [
      "c:\\Users\\SAMSUNG\\Documents\\vscode\\2024\\invest\\quant\\halloween.py:41: FutureWarning: Setting an item of incompatible dtype is deprecated and will raise an error in a future version of pandas. Value '1.1510619149772932' has dtype incompatible with int64, please explicitly cast to a compatible dtype first.\n",
      "  result.iloc[i,1] = rtn\n"
     ]
    },
    {
     "data": {
      "text/plain": [
       "(             Adj Close       rtn   acc_rtn\n",
       " Date                                      \n",
       " 2010-11-01   38.067219  1.000000  1.000000\n",
       " 2011-04-29   43.817726  1.151062  1.151062\n",
       " 2011-11-01   49.622044  1.000000  1.151062\n",
       " 2012-04-30   73.083359  1.472800  1.695284\n",
       " 2012-11-01   74.975708  1.000000  1.695284\n",
       " 2013-04-30   56.230484  0.749983  1.271434\n",
       " 2013-11-01   66.916847  1.000000  1.271434\n",
       " 2014-04-30   76.832581  1.148180  1.459835\n",
       " 2014-11-03  100.766525  1.000000  1.459835\n",
       " 2015-04-30  116.230362  1.153462  1.683864\n",
       " 2015-11-02  113.524933  1.000000  1.683864\n",
       " 2016-04-29   88.672829  0.781087  1.315244\n",
       " 2016-11-01  106.680237  1.000000  1.315244\n",
       " 2017-04-28  138.757538  1.300686  1.710720\n",
       " 2017-11-01  162.507095  1.000000  1.710720\n",
       " 2018-04-30  162.156830  0.997845  1.707033\n",
       " 2018-11-01  219.655762  1.000000  1.707033\n",
       " 2019-04-30  199.900192  0.910061  1.553504,\n",
       " 1.553504431043527)"
      ]
     },
     "execution_count": 79,
     "metadata": {},
     "output_type": "execute_result"
    }
   ],
   "source": [
    "test.halloween()"
   ]
  },
  {
   "cell_type": "code",
   "execution_count": null,
   "metadata": {},
   "outputs": [],
   "source": [
    "test.momentum()"
   ]
  },
  {
   "cell_type": "code",
   "execution_count": 81,
   "metadata": {},
   "outputs": [
    {
     "name": "stderr",
     "output_type": "stream",
     "text": [
      "[*********************100%%**********************]  1 of 1 completed\n"
     ]
    }
   ],
   "source": [
    "df2 = yf.download('TSLA', start='2010-01-01')"
   ]
  },
  {
   "cell_type": "code",
   "execution_count": 82,
   "metadata": {},
   "outputs": [],
   "source": [
    "tsla = invest.Invest(df2, _start='2011-01-01')"
   ]
  },
  {
   "cell_type": "code",
   "execution_count": null,
   "metadata": {},
   "outputs": [],
   "source": [
    "tsla.bollinger()"
   ]
  },
  {
   "cell_type": "code",
   "execution_count": null,
   "metadata": {},
   "outputs": [],
   "source": [
    "test.momentum()"
   ]
  },
  {
   "cell_type": "code",
   "execution_count": null,
   "metadata": {},
   "outputs": [],
   "source": [
    "tsla.momentum()"
   ]
  },
  {
   "cell_type": "code",
   "execution_count": 89,
   "metadata": {},
   "outputs": [],
   "source": [
    "# 라이브러리에서 제공하는 샘플 데이터 로드\n",
    "test_df = invest.AAPL"
   ]
  },
  {
   "cell_type": "code",
   "execution_count": 90,
   "metadata": {},
   "outputs": [],
   "source": [
    "test_class = invest.Invest(test_df)"
   ]
  },
  {
   "cell_type": "code",
   "execution_count": null,
   "metadata": {},
   "outputs": [],
   "source": [
    "test_class.bollinger()"
   ]
  },
  {
   "cell_type": "code",
   "execution_count": 96,
   "metadata": {},
   "outputs": [
    {
     "name": "stderr",
     "output_type": "stream",
     "text": [
      "[*********************100%%**********************]  1 of 1 completed\n"
     ]
    }
   ],
   "source": [
    "lg = invest.load_data('066570.KS')"
   ]
  },
  {
   "cell_type": "code",
   "execution_count": 97,
   "metadata": {},
   "outputs": [],
   "source": [
    "lg_class = invest.Invest(lg)"
   ]
  },
  {
   "cell_type": "code",
   "execution_count": 98,
   "metadata": {},
   "outputs": [
    {
     "name": "stderr",
     "output_type": "stream",
     "text": [
      "c:\\Users\\SAMSUNG\\Documents\\vscode\\2024\\invest\\quant\\momentum.py:42: SettingWithCopyWarning: \n",
      "A value is trying to be set on a copy of a slice from a DataFrame.\n",
      "Try using .loc[row_indexer,col_indexer] = value instead\n",
      "\n",
      "See the caveats in the documentation: https://pandas.pydata.org/pandas-docs/stable/user_guide/indexing.html#returning-a-view-versus-a-copy\n",
      "  df['BF1'] = df.shift()[col].fillna(0)\n",
      "c:\\Users\\SAMSUNG\\Documents\\vscode\\2024\\invest\\quant\\momentum.py:43: SettingWithCopyWarning: \n",
      "A value is trying to be set on a copy of a slice from a DataFrame.\n",
      "Try using .loc[row_indexer,col_indexer] = value instead\n",
      "\n",
      "See the caveats in the documentation: https://pandas.pydata.org/pandas-docs/stable/user_guide/indexing.html#returning-a-view-versus-a-copy\n",
      "  df['BF2'] = df.shift(_momentum)[col].fillna(0)\n",
      "c:\\Users\\SAMSUNG\\Documents\\vscode\\2024\\invest\\quant\\momentum.py:69: RuntimeWarning: invalid value encountered in scalar divide\n",
      "  # 모멘텀 인덱스가 무한대가 아니고 0보다 큰 경우\n",
      "c:\\Users\\SAMSUNG\\Documents\\vscode\\2024\\invest\\quant\\momentum.py:69: RuntimeWarning: divide by zero encountered in scalar divide\n",
      "  # 모멘텀 인덱스가 무한대가 아니고 0보다 큰 경우\n"
     ]
    },
    {
     "name": "stdout",
     "output_type": "stream",
     "text": [
      "날짜 : 2010-01-29 00:00:00, 모멘텀 인덱스 : nan, flag : False, signal : \n",
      "날짜 : 2010-02-26 00:00:00, 모멘텀 인덱스 : inf, flag : False, signal : \n",
      "날짜 : 2010-03-31 00:00:00, 모멘텀 인덱스 : inf, flag : False, signal : \n",
      "날짜 : 2010-04-30 00:00:00, 모멘텀 인덱스 : inf, flag : False, signal : \n",
      "날짜 : 2010-05-31 00:00:00, 모멘텀 인덱스 : inf, flag : False, signal : \n",
      "날짜 : 2010-06-30 00:00:00, 모멘텀 인덱스 : inf, flag : False, signal : \n",
      "날짜 : 2010-07-30 00:00:00, 모멘텀 인덱스 : inf, flag : False, signal : \n",
      "날짜 : 2010-08-31 00:00:00, 모멘텀 인덱스 : inf, flag : False, signal : \n",
      "날짜 : 2010-09-30 00:00:00, 모멘텀 인덱스 : inf, flag : False, signal : \n",
      "날짜 : 2010-10-29 00:00:00, 모멘텀 인덱스 : inf, flag : False, signal : \n",
      "날짜 : 2010-11-30 00:00:00, 모멘텀 인덱스 : inf, flag : False, signal : \n",
      "날짜 : 2010-12-30 00:00:00, 모멘텀 인덱스 : inf, flag : False, signal : \n",
      "날짜 : 2011-01-31 00:00:00, 모멘텀 인덱스 : 0.08447127845609725, flag : True, signal : buy\n",
      "날짜 : 2011-02-28 00:00:00, 모멘텀 인덱스 : 0.0953795552536707, flag : True, signal : buy\n",
      "날짜 : 2011-03-31 00:00:00, 모멘텀 인덱스 : -0.03308630221232722, flag : False, signal : \n",
      "날짜 : 2011-04-29 00:00:00, 모멘텀 인덱스 : -0.13783161667162624, flag : False, signal : \n",
      "날짜 : 2011-05-31 00:00:00, 모멘텀 인덱스 : -0.007874888165097405, flag : False, signal : \n",
      "날짜 : 2011-06-30 00:00:00, 모멘텀 인덱스 : 0.035859820095867745, flag : True, signal : buy\n",
      "날짜 : 2011-07-29 00:00:00, 모멘텀 인덱스 : -0.1736748038270136, flag : False, signal : \n",
      "날짜 : 2011-08-31 00:00:00, 모멘텀 인덱스 : -0.16450932973947097, flag : False, signal : \n",
      "날짜 : 2011-09-30 00:00:00, 모멘텀 인덱스 : -0.3057540308914135, flag : False, signal : \n",
      "날짜 : 2011-10-31 00:00:00, 모멘텀 인덱스 : -0.30352090627496764, flag : False, signal : \n",
      "날짜 : 2011-11-30 00:00:00, 모멘텀 인덱스 : -0.2734826961940511, flag : False, signal : \n",
      "날짜 : 2011-12-29 00:00:00, 모멘텀 인덱스 : -0.36689915818676977, flag : False, signal : \n",
      "날짜 : 2012-01-31 00:00:00, 모멘텀 인덱스 : -0.3501132985909625, flag : False, signal : \n",
      "날짜 : 2012-02-29 00:00:00, 모멘텀 인덱스 : -0.23856436234630596, flag : False, signal : \n",
      "날짜 : 2012-03-30 00:00:00, 모멘텀 인덱스 : -0.16877389288523803, flag : False, signal : \n",
      "날짜 : 2012-04-30 00:00:00, 모멘텀 인덱스 : -0.17843159152236587, flag : False, signal : \n",
      "날짜 : 2012-05-31 00:00:00, 모멘텀 인덱스 : -0.26188940681272355, flag : False, signal : \n",
      "날짜 : 2012-06-29 00:00:00, 모멘텀 인덱스 : -0.18511269814660525, flag : False, signal : \n",
      "날짜 : 2012-07-31 00:00:00, 모멘텀 인덱스 : -0.22460255572992305, flag : False, signal : \n",
      "날짜 : 2012-08-31 00:00:00, 모멘텀 인덱스 : -0.04245099422281673, flag : False, signal : \n",
      "날짜 : 2012-09-28 00:00:00, 모멘텀 인덱스 : 0.04424899995905296, flag : True, signal : buy\n",
      "날짜 : 2012-10-31 00:00:00, 모멘텀 인덱스 : -0.05598439868675731, flag : False, signal : \n",
      "날짜 : 2012-11-30 00:00:00, 모멘텀 인덱스 : 0.03833489404089452, flag : True, signal : buy\n",
      "날짜 : 2012-12-28 00:00:00, 모멘텀 인덱스 : 0.025537774785050482, flag : True, signal : buy\n",
      "날짜 : 2013-01-31 00:00:00, 모멘텀 인덱스 : -0.10756437370292404, flag : False, signal : \n",
      "날짜 : 2013-02-28 00:00:00, 모멘텀 인덱스 : -0.1533925051966185, flag : False, signal : \n",
      "날짜 : 2013-03-29 00:00:00, 모멘텀 인덱스 : -0.05172097996909708, flag : False, signal : \n",
      "날짜 : 2013-04-30 00:00:00, 모멘텀 인덱스 : 0.15847987639771688, flag : True, signal : buy\n",
      "날짜 : 2013-05-31 00:00:00, 모멘텀 인덱스 : 0.3365314899302214, flag : True, signal : buy\n",
      "날짜 : 2013-06-28 00:00:00, 모멘텀 인덱스 : 0.33484516410047216, flag : True, signal : buy\n",
      "날짜 : 2013-07-31 00:00:00, 모멘텀 인덱스 : 0.17312112797519452, flag : True, signal : buy\n",
      "날짜 : 2013-08-30 00:00:00, 모멘텀 인덱스 : 0.03838769502459449, flag : True, signal : buy\n",
      "날짜 : 2013-09-30 00:00:00, 모멘텀 인덱스 : 0.052189865565029026, flag : True, signal : buy\n",
      "날짜 : 2013-10-31 00:00:00, 모멘텀 인덱스 : -0.05931782530830121, flag : False, signal : \n",
      "날짜 : 2013-11-29 00:00:00, 모멘텀 인덱스 : -0.10630546237343919, flag : False, signal : \n",
      "날짜 : 2013-12-30 00:00:00, 모멘텀 인덱스 : -0.07065200326007404, flag : False, signal : \n",
      "날짜 : 2014-01-29 00:00:00, 모멘텀 인덱스 : -0.05268011801779415, flag : False, signal : \n",
      "날짜 : 2014-02-28 00:00:00, 모멘텀 인덱스 : -0.15330978617662538, flag : False, signal : \n",
      "날짜 : 2014-03-31 00:00:00, 모멘텀 인덱스 : -0.24685032044720756, flag : False, signal : \n",
      "날짜 : 2014-04-30 00:00:00, 모멘텀 인덱스 : -0.2611544160868515, flag : False, signal : \n",
      "날짜 : 2014-05-30 00:00:00, 모멘텀 인덱스 : -0.15143395334830478, flag : False, signal : \n",
      "날짜 : 2014-06-30 00:00:00, 모멘텀 인덱스 : 0.0015891967212313673, flag : True, signal : buy\n",
      "날짜 : 2014-07-31 00:00:00, 모멘텀 인덱스 : 0.0222244910660776, flag : True, signal : buy\n",
      "날짜 : 2014-08-29 00:00:00, 모멘텀 인덱스 : 0.06391651264788645, flag : True, signal : buy\n",
      "날짜 : 2014-09-30 00:00:00, 모멘텀 인덱스 : 0.06494400716188986, flag : True, signal : buy\n",
      "날짜 : 2014-10-31 00:00:00, 모멘텀 인덱스 : -0.030960839530005613, flag : False, signal : \n",
      "날짜 : 2014-11-28 00:00:00, 모멘텀 인덱스 : -0.04249297749276104, flag : False, signal : \n",
      "날짜 : 2014-12-30 00:00:00, 모멘텀 인덱스 : -0.06607929488018371, flag : False, signal : \n",
      "날짜 : 2015-01-30 00:00:00, 모멘텀 인덱스 : -0.09985894655143157, flag : False, signal : \n",
      "날짜 : 2015-02-27 00:00:00, 모멘텀 인덱스 : 0.0051035713105818115, flag : True, signal : buy\n",
      "날짜 : 2015-03-31 00:00:00, 모멘텀 인덱스 : -0.04133179151094413, flag : False, signal : \n",
      "날짜 : 2015-04-30 00:00:00, 모멘텀 인덱스 : -0.13685639496342128, flag : False, signal : \n",
      "날짜 : 2015-05-29 00:00:00, 모멘텀 인덱스 : -0.1658695523842194, flag : False, signal : \n",
      "날짜 : 2015-06-30 00:00:00, 모멘텀 인덱스 : -0.25069128049364475, flag : False, signal : \n",
      "날짜 : 2015-07-31 00:00:00, 모멘텀 인덱스 : -0.38126405765675775, flag : False, signal : \n",
      "날짜 : 2015-08-31 00:00:00, 모멘텀 인덱스 : -0.4593343265947538, flag : False, signal : \n",
      "날짜 : 2015-09-30 00:00:00, 모멘텀 인덱스 : -0.3181022910324661, flag : False, signal : \n",
      "날짜 : 2015-10-30 00:00:00, 모멘텀 인덱스 : -0.29619526738871693, flag : False, signal : \n",
      "날짜 : 2015-11-30 00:00:00, 모멘텀 인덱스 : -0.22277102865887133, flag : False, signal : \n",
      "날짜 : 2015-12-30 00:00:00, 모멘텀 인덱스 : -0.08291026824772962, flag : False, signal : \n",
      "날짜 : 2016-01-29 00:00:00, 모멘텀 인덱스 : -0.10829855583149661, flag : False, signal : \n",
      "날짜 : 2016-02-29 00:00:00, 모멘텀 인덱스 : -0.05587208844376179, flag : False, signal : \n",
      "날짜 : 2016-03-31 00:00:00, 모멘텀 인덱스 : 0.11037637341875328, flag : True, signal : buy\n",
      "날짜 : 2016-04-29 00:00:00, 모멘텀 인덱스 : 0.02774302091817682, flag : True, signal : buy\n",
      "날짜 : 2016-05-31 00:00:00, 모멘텀 인덱스 : 0.06056819995657303, flag : True, signal : buy\n",
      "날짜 : 2016-06-30 00:00:00, 모멘텀 인덱스 : 0.1977372696683266, flag : True, signal : buy\n",
      "날짜 : 2016-07-29 00:00:00, 모멘텀 인덱스 : 0.3378377790222289, flag : True, signal : buy\n",
      "날짜 : 2016-08-31 00:00:00, 모멘텀 인덱스 : 0.21153088698650668, flag : True, signal : buy\n",
      "날짜 : 2016-09-30 00:00:00, 모멘텀 인덱스 : 0.13686053316743862, flag : True, signal : buy\n",
      "날짜 : 2016-10-31 00:00:00, 모멘텀 인덱스 : -0.01690665424077631, flag : False, signal : \n",
      "날짜 : 2016-11-30 00:00:00, 모멘텀 인덱스 : -0.11127098418141534, flag : False, signal : \n",
      "날짜 : 2016-12-29 00:00:00, 모멘텀 인덱스 : -0.1654274515963463, flag : False, signal : \n",
      "날짜 : 2017-01-31 00:00:00, 모멘텀 인덱스 : -0.1017492539194691, flag : False, signal : \n",
      "날짜 : 2017-02-28 00:00:00, 모멘텀 인덱스 : -0.13961785484948186, flag : False, signal : \n",
      "날짜 : 2017-03-31 00:00:00, 모멘텀 인덱스 : -0.021531465953114837, flag : False, signal : \n",
      "날짜 : 2017-04-28 00:00:00, 모멘텀 인덱스 : 0.1759075110208066, flag : True, signal : buy\n",
      "날짜 : 2017-05-31 00:00:00, 모멘텀 인덱스 : 0.2414855660554145, flag : True, signal : buy\n",
      "날짜 : 2017-06-30 00:00:00, 모멘텀 인덱스 : 0.5427359970689536, flag : True, signal : buy\n",
      "날짜 : 2017-07-31 00:00:00, 모멘텀 인덱스 : 0.5109391429453036, flag : True, signal : buy\n",
      "날짜 : 2017-08-31 00:00:00, 모멘텀 인덱스 : 0.3132326530671805, flag : True, signal : buy\n",
      "날짜 : 2017-09-29 00:00:00, 모멘텀 인덱스 : 0.7149385790161067, flag : True, signal : buy\n",
      "날짜 : 2017-10-31 00:00:00, 모멘텀 인덱스 : 0.7375035374268495, flag : True, signal : buy\n",
      "날짜 : 2017-11-30 00:00:00, 모멘텀 인덱스 : 1.0427791534941475, flag : True, signal : buy\n",
      "날짜 : 2017-12-28 00:00:00, 모멘텀 인덱스 : 0.7441858710251883, flag : True, signal : buy\n",
      "날짜 : 2018-01-31 00:00:00, 모멘텀 인덱스 : 0.9211038722650642, flag : True, signal : buy\n",
      "날짜 : 2018-02-28 00:00:00, 모멘텀 인덱스 : 0.7209863460961272, flag : True, signal : buy\n",
      "날짜 : 2018-03-30 00:00:00, 모멘텀 인덱스 : 0.4772380626673287, flag : True, signal : buy\n",
      "날짜 : 2018-04-30 00:00:00, 모멘텀 인덱스 : 0.5910753058608791, flag : True, signal : buy\n",
      "날짜 : 2018-05-31 00:00:00, 모멘텀 인덱스 : 0.2413691300750691, flag : True, signal : buy\n",
      "날짜 : 2018-06-29 00:00:00, 모멘텀 인덱스 : 0.15928806164625953, flag : True, signal : buy\n",
      "날짜 : 2018-07-31 00:00:00, 모멘텀 인덱스 : 0.2419677369272144, flag : True, signal : buy\n",
      "날짜 : 2018-08-31 00:00:00, 모멘텀 인덱스 : -0.07849301015765464, flag : False, signal : \n",
      "날짜 : 2018-09-28 00:00:00, 모멘텀 인덱스 : -0.06418763728041044, flag : False, signal : \n",
      "날짜 : 2018-10-31 00:00:00, 모멘텀 인덱스 : -0.21662136466083037, flag : False, signal : \n",
      "날짜 : 2018-11-30 00:00:00, 모멘텀 인덱스 : -0.29381917116612255, flag : False, signal : \n",
      "날짜 : 2018-12-28 00:00:00, 모멘텀 인덱스 : -0.31603778358118917, flag : False, signal : \n",
      "날짜 : 2019-01-31 00:00:00, 모멘텀 인덱스 : -0.38466654731489913, flag : False, signal : \n",
      "날짜 : 2019-02-28 00:00:00, 모멘텀 인덱스 : -0.3250757729618483, flag : False, signal : \n",
      "날짜 : 2019-03-29 00:00:00, 모멘텀 인덱스 : -0.34818954265751156, flag : False, signal : \n",
      "날짜 : 2019-04-30 00:00:00, 모멘텀 인덱스 : -0.2546057033841598, flag : False, signal : \n",
      "날짜 : 2019-05-31 00:00:00, 모멘텀 인덱스 : -0.17128625928521501, flag : False, signal : \n",
      "날짜 : 2019-06-28 00:00:00, 모멘텀 인덱스 : -0.0412823840004406, flag : False, signal : \n",
      "날짜 : 2019-07-31 00:00:00, 모멘텀 인덱스 : 0.07329215677038903, flag : True, signal : buy\n",
      "날짜 : 2019-08-30 00:00:00, 모멘텀 인덱스 : -0.13920793364179507, flag : False, signal : \n",
      "날짜 : 2019-09-30 00:00:00, 모멘텀 인덱스 : -0.1259255846071229, flag : False, signal : \n",
      "날짜 : 2019-10-31 00:00:00, 모멘텀 인덱스 : 0.07795957676679177, flag : True, signal : buy\n",
      "날짜 : 2019-11-29 00:00:00, 모멘텀 인덱스 : -0.0658115164178833, flag : False, signal : \n",
      "날짜 : 2019-12-30 00:00:00, 모멘텀 인덱스 : 0.12199042409226646, flag : True, signal : buy\n",
      "날짜 : 2020-01-31 00:00:00, 모멘텀 인덱스 : 0.09409149000520634, flag : True, signal : buy\n",
      "날짜 : 2020-02-28 00:00:00, 모멘텀 인덱스 : -0.055311078284645876, flag : False, signal : \n",
      "날짜 : 2020-03-31 00:00:00, 모멘텀 인덱스 : -0.1871890536465345, flag : False, signal : \n",
      "날짜 : 2020-04-29 00:00:00, 모멘텀 인덱스 : -0.35735617898433647, flag : False, signal : \n",
      "날짜 : 2020-05-29 00:00:00, 모멘텀 인덱스 : -0.29410137064765507, flag : False, signal : \n",
      "날짜 : 2020-06-30 00:00:00, 모멘텀 인덱스 : -0.24425721258005184, flag : False, signal : \n",
      "날짜 : 2020-07-31 00:00:00, 모멘텀 인덱스 : -0.02187034789877529, flag : False, signal : \n",
      "날짜 : 2020-08-31 00:00:00, 모멘텀 인덱스 : 0.1656051484690677, flag : True, signal : buy\n",
      "날짜 : 2020-09-29 00:00:00, 모멘텀 인덱스 : 0.26253887923802144, flag : True, signal : buy\n",
      "날짜 : 2020-10-30 00:00:00, 모멘텀 인덱스 : 0.3852741490822307, flag : True, signal : buy\n",
      "날짜 : 2020-11-30 00:00:00, 모멘텀 인덱스 : 0.21449169039794858, flag : True, signal : buy\n",
      "날짜 : 2020-12-30 00:00:00, 모멘텀 인덱스 : 0.18585279565665025, flag : True, signal : buy\n",
      "날짜 : 2021-01-29 00:00:00, 모멘텀 인덱스 : 1.0684957322482944, flag : True, signal : buy\n",
      "날짜 : 2021-02-26 00:00:00, 모멘텀 인덱스 : 1.557765742791386, flag : True, signal : buy\n",
      "날짜 : 2021-03-31 00:00:00, 모멘텀 인덱스 : 2.068999789941608, flag : True, signal : buy\n",
      "날짜 : 2021-04-30 00:00:00, 모멘텀 인덱스 : 1.7588319709471203, flag : True, signal : buy\n",
      "날짜 : 2021-05-31 00:00:00, 모멘텀 인덱스 : 1.681835384896785, flag : True, signal : buy\n",
      "날짜 : 2021-06-30 00:00:00, 모멘텀 인덱스 : 1.4284702320490124, flag : True, signal : buy\n",
      "날짜 : 2021-07-30 00:00:00, 모멘텀 인덱스 : 1.3350953654293658, flag : True, signal : buy\n",
      "날짜 : 2021-08-31 00:00:00, 모멘텀 인덱스 : 0.8887509922428827, flag : True, signal : buy\n",
      "날짜 : 2021-09-30 00:00:00, 모멘텀 인덱스 : 0.5635986217230151, flag : True, signal : buy\n",
      "날짜 : 2021-10-29 00:00:00, 모멘텀 인덱스 : 0.5326295891299986, flag : True, signal : buy\n",
      "날짜 : 2021-11-30 00:00:00, 모멘텀 인덱스 : 0.42307318654987824, flag : True, signal : buy\n",
      "날짜 : 2021-12-30 00:00:00, 모멘텀 인덱스 : -0.14444446416454138, flag : False, signal : \n",
      "날짜 : 2022-01-28 00:00:00, 모멘텀 인덱스 : -0.09244926422172495, flag : False, signal : \n",
      "날짜 : 2022-02-28 00:00:00, 모멘텀 인덱스 : -0.12429898838442766, flag : False, signal : \n",
      "날짜 : 2022-03-31 00:00:00, 모멘텀 인덱스 : -0.1682100579680884, flag : False, signal : \n",
      "날짜 : 2022-04-29 00:00:00, 모멘텀 인덱스 : -0.2301789605644582, flag : False, signal : \n",
      "날짜 : 2022-05-31 00:00:00, 모멘텀 인덱스 : -0.2288024601372105, flag : False, signal : \n",
      "날짜 : 2022-06-30 00:00:00, 모멘텀 인덱스 : -0.3538180775500215, flag : False, signal : \n",
      "날짜 : 2022-07-29 00:00:00, 모멘텀 인덱스 : -0.4358905082920589, flag : False, signal : \n",
      "날짜 : 2022-08-31 00:00:00, 모멘텀 인덱스 : -0.33109118750862643, flag : False, signal : \n",
      "날짜 : 2022-09-30 00:00:00, 모멘텀 인덱스 : -0.2029336211279753, flag : False, signal : \n",
      "날짜 : 2022-10-31 00:00:00, 모멘텀 인덱스 : -0.34367522467642186, flag : False, signal : \n",
      "날짜 : 2022-11-30 00:00:00, 모멘텀 인덱스 : -0.2891278949320589, flag : False, signal : \n",
      "날짜 : 2022-12-29 00:00:00, 모멘텀 인덱스 : -0.29275361751999196, flag : False, signal : \n",
      "날짜 : 2023-01-31 00:00:00, 모멘텀 인덱스 : -0.31623265022114966, flag : False, signal : \n",
      "날짜 : 2023-02-28 00:00:00, 모멘텀 인덱스 : -0.18639274624950863, flag : False, signal : \n",
      "날짜 : 2023-03-31 00:00:00, 모멘텀 인덱스 : -0.06992027312719906, flag : False, signal : \n",
      "날짜 : 2023-04-28 00:00:00, 모멘텀 인덱스 : -0.0025162726161856996, flag : False, signal : \n",
      "날짜 : 2023-05-31 00:00:00, 모멘텀 인덱스 : 0.049139671537890006, flag : True, signal : buy\n",
      "날짜 : 2023-06-30 00:00:00, 모멘텀 인덱스 : 0.40165179796204487, flag : True, signal : buy\n",
      "날짜 : 2023-07-31 00:00:00, 모멘텀 인덱스 : 0.3527173224841449, flag : True, signal : buy\n",
      "날짜 : 2023-08-31 00:00:00, 모멘텀 인덱스 : 0.08170869793192592, flag : True, signal : buy\n",
      "날짜 : 2023-09-27 00:00:00, 모멘텀 인덱스 : 0.2630370525214518, flag : True, signal : buy\n",
      "날짜 : 2023-10-31 00:00:00, 모멘텀 인덱스 : 0.24624496067024726, flag : True, signal : buy\n",
      "날짜 : 2023-11-30 00:00:00, 모멘텀 인덱스 : 0.029550803967356876, flag : True, signal : buy\n",
      "날짜 : 2023-12-28 00:00:00, 모멘텀 인덱스 : 0.1872832187849618, flag : True, signal : buy\n",
      "날짜 : 2024-01-31 00:00:00, 모멘텀 인덱스 : 0.025184541321103593, flag : True, signal : buy\n",
      "날짜 : 2024-02-28 00:00:00, 모멘텀 인덱스 : -0.15239178423441635, flag : False, signal : \n",
      "매수일 : 2011-01-31 00:00:00, 매수가 : 104973.5859375\n",
      "매도일 : 2011-03-31 00:00:00, 매도가 : 94207.078125, 수익률 : 0.8974360291082154\n",
      "매수일 : 2011-06-30 00:00:00, 매수가 : 74378.71875\n",
      "매도일 : 2011-07-29 00:00:00, 매도가 : 72135.703125, 수익률 : 0.9698433145569613\n"
     ]
    },
    {
     "name": "stderr",
     "output_type": "stream",
     "text": [
      "c:\\Users\\SAMSUNG\\Documents\\vscode\\2024\\invest\\quant\\momentum.py:92: FutureWarning: Setting an item of incompatible dtype is deprecated and will raise an error in a future version of pandas. Value '0.8974360291082154' has dtype incompatible with int64, please explicitly cast to a compatible dtype first.\n",
      "  # 누적수익률 계산\n"
     ]
    },
    {
     "name": "stdout",
     "output_type": "stream",
     "text": [
      "매수일 : 2012-09-28 00:00:00, 매수가 : 63269.4375\n",
      "매도일 : 2012-10-31 00:00:00, 매도가 : 69596.359375, 수익률 : 1.099999654256449\n",
      "매수일 : 2012-11-30 00:00:00, 매수가 : 69963.1484375\n",
      "매도일 : 2013-01-31 00:00:00, 매도가 : 66295.6171875, 수익률 : 0.9475790993986455\n",
      "매수일 : 2013-04-30 00:00:00, 매수가 : 81007.5390625\n",
      "매도일 : 2013-10-31 00:00:00, 매도가 : 62525.68359375, 수익률 : 0.7718501798395501\n",
      "매수일 : 2014-06-30 00:00:00, 매수가 : 68520.9375\n",
      "매도일 : 2014-10-31 00:00:00, 매도가 : 60220.94921875, 수익률 : 0.8788693122996164\n",
      "매수일 : 2015-02-27 00:00:00, 매수가 : 57378.26953125\n",
      "매도일 : 2015-03-31 00:00:00, 매도가 : 54685.7578125, 수익률 : 0.9530743652475686\n",
      "매수일 : 2016-03-31 00:00:00, 매수가 : 57634.21875\n",
      "매도일 : 2016-10-31 00:00:00, 매도가 : 44722.65625, 수익률 : 0.7759740171718733\n",
      "매수일 : 2017-04-28 00:00:00, 매수가 : 65163.47265625\n",
      "매도일 : 2018-08-31 00:00:00, 매도가 : 72718.0234375, 수익률 : 1.115932292637345\n",
      "매수일 : 2019-07-31 00:00:00, 매수가 : 62595.09765625\n",
      "매도일 : 2019-08-30 00:00:00, 매도가 : 58760.79296875, 수익률 : 0.9387443293314017\n",
      "매수일 : 2019-10-31 00:00:00, 매수가 : 64128.828125\n",
      "매도일 : 2019-11-29 00:00:00, 매도가 : 67004.5625, 수익률 : 1.044843083198006\n",
      "매수일 : 2019-12-30 00:00:00, 매수가 : 69848.1640625\n",
      "매도일 : 2020-02-28 00:00:00, 매도가 : 58513.57421875, 수익률 : 0.8377253003585344\n",
      "매수일 : 2020-08-31 00:00:00, 매수가 : 81570.25\n",
      "매도일 : 2021-12-30 00:00:00, 매도가 : 135827.6875, 수익률 : 1.6651620842157526\n",
      "매수일 : 2023-05-31 00:00:00, 매수가 : 121817.6015625\n",
      "매도일 : 2024-02-28 00:00:00, 매도가 : 95300.0, 수익률 : 0.7823171592415993\n"
     ]
    },
    {
     "data": {
      "text/plain": [
       "(                Adj Close   STD-YM trade       rtn   acc_rtn\n",
       " Date                                                        \n",
       " 2010-01-04  112850.148438  2010-01        1.000000  1.000000\n",
       " 2010-01-05  112402.351562  2010-01        1.000000  1.000000\n",
       " 2010-01-06  111506.718750  2010-01        1.000000  1.000000\n",
       " 2010-01-07  102998.156250  2010-01        1.000000  1.000000\n",
       " 2010-01-08   99415.625000  2010-01        1.000000  1.000000\n",
       " ...                   ...      ...   ...       ...       ...\n",
       " 2024-02-22   97800.000000  2024-02   buy  1.000000  0.694926\n",
       " 2024-02-23   97900.000000  2024-02   buy  1.000000  0.694926\n",
       " 2024-02-26   98200.000000  2024-02   buy  1.000000  0.694926\n",
       " 2024-02-27   96100.000000  2024-02   buy  1.000000  0.694926\n",
       " 2024-02-28   95300.000000  2024-02        0.782317  0.543653\n",
       " \n",
       " [3490 rows x 5 columns],\n",
       " 0.543652791749277)"
      ]
     },
     "execution_count": 98,
     "metadata": {},
     "output_type": "execute_result"
    }
   ],
   "source": [
    "lg_class.momentum()"
   ]
  },
  {
   "cell_type": "code",
   "execution_count": 101,
   "metadata": {},
   "outputs": [],
   "source": [
    "from seaborn import load_dataset"
   ]
  },
  {
   "cell_type": "code",
   "execution_count": 102,
   "metadata": {},
   "outputs": [
    {
     "data": {
      "text/html": [
       "<div>\n",
       "<style scoped>\n",
       "    .dataframe tbody tr th:only-of-type {\n",
       "        vertical-align: middle;\n",
       "    }\n",
       "\n",
       "    .dataframe tbody tr th {\n",
       "        vertical-align: top;\n",
       "    }\n",
       "\n",
       "    .dataframe thead th {\n",
       "        text-align: right;\n",
       "    }\n",
       "</style>\n",
       "<table border=\"1\" class=\"dataframe\">\n",
       "  <thead>\n",
       "    <tr style=\"text-align: right;\">\n",
       "      <th></th>\n",
       "      <th>total_bill</th>\n",
       "      <th>tip</th>\n",
       "      <th>sex</th>\n",
       "      <th>smoker</th>\n",
       "      <th>day</th>\n",
       "      <th>time</th>\n",
       "      <th>size</th>\n",
       "    </tr>\n",
       "  </thead>\n",
       "  <tbody>\n",
       "    <tr>\n",
       "      <th>0</th>\n",
       "      <td>16.99</td>\n",
       "      <td>1.01</td>\n",
       "      <td>Female</td>\n",
       "      <td>No</td>\n",
       "      <td>Sun</td>\n",
       "      <td>Dinner</td>\n",
       "      <td>2</td>\n",
       "    </tr>\n",
       "    <tr>\n",
       "      <th>1</th>\n",
       "      <td>10.34</td>\n",
       "      <td>1.66</td>\n",
       "      <td>Male</td>\n",
       "      <td>No</td>\n",
       "      <td>Sun</td>\n",
       "      <td>Dinner</td>\n",
       "      <td>3</td>\n",
       "    </tr>\n",
       "    <tr>\n",
       "      <th>2</th>\n",
       "      <td>21.01</td>\n",
       "      <td>3.50</td>\n",
       "      <td>Male</td>\n",
       "      <td>No</td>\n",
       "      <td>Sun</td>\n",
       "      <td>Dinner</td>\n",
       "      <td>3</td>\n",
       "    </tr>\n",
       "    <tr>\n",
       "      <th>3</th>\n",
       "      <td>23.68</td>\n",
       "      <td>3.31</td>\n",
       "      <td>Male</td>\n",
       "      <td>No</td>\n",
       "      <td>Sun</td>\n",
       "      <td>Dinner</td>\n",
       "      <td>2</td>\n",
       "    </tr>\n",
       "    <tr>\n",
       "      <th>4</th>\n",
       "      <td>24.59</td>\n",
       "      <td>3.61</td>\n",
       "      <td>Female</td>\n",
       "      <td>No</td>\n",
       "      <td>Sun</td>\n",
       "      <td>Dinner</td>\n",
       "      <td>4</td>\n",
       "    </tr>\n",
       "    <tr>\n",
       "      <th>...</th>\n",
       "      <td>...</td>\n",
       "      <td>...</td>\n",
       "      <td>...</td>\n",
       "      <td>...</td>\n",
       "      <td>...</td>\n",
       "      <td>...</td>\n",
       "      <td>...</td>\n",
       "    </tr>\n",
       "    <tr>\n",
       "      <th>239</th>\n",
       "      <td>29.03</td>\n",
       "      <td>5.92</td>\n",
       "      <td>Male</td>\n",
       "      <td>No</td>\n",
       "      <td>Sat</td>\n",
       "      <td>Dinner</td>\n",
       "      <td>3</td>\n",
       "    </tr>\n",
       "    <tr>\n",
       "      <th>240</th>\n",
       "      <td>27.18</td>\n",
       "      <td>2.00</td>\n",
       "      <td>Female</td>\n",
       "      <td>Yes</td>\n",
       "      <td>Sat</td>\n",
       "      <td>Dinner</td>\n",
       "      <td>2</td>\n",
       "    </tr>\n",
       "    <tr>\n",
       "      <th>241</th>\n",
       "      <td>22.67</td>\n",
       "      <td>2.00</td>\n",
       "      <td>Male</td>\n",
       "      <td>Yes</td>\n",
       "      <td>Sat</td>\n",
       "      <td>Dinner</td>\n",
       "      <td>2</td>\n",
       "    </tr>\n",
       "    <tr>\n",
       "      <th>242</th>\n",
       "      <td>17.82</td>\n",
       "      <td>1.75</td>\n",
       "      <td>Male</td>\n",
       "      <td>No</td>\n",
       "      <td>Sat</td>\n",
       "      <td>Dinner</td>\n",
       "      <td>2</td>\n",
       "    </tr>\n",
       "    <tr>\n",
       "      <th>243</th>\n",
       "      <td>18.78</td>\n",
       "      <td>3.00</td>\n",
       "      <td>Female</td>\n",
       "      <td>No</td>\n",
       "      <td>Thur</td>\n",
       "      <td>Dinner</td>\n",
       "      <td>2</td>\n",
       "    </tr>\n",
       "  </tbody>\n",
       "</table>\n",
       "<p>244 rows × 7 columns</p>\n",
       "</div>"
      ],
      "text/plain": [
       "     total_bill   tip     sex smoker   day    time  size\n",
       "0         16.99  1.01  Female     No   Sun  Dinner     2\n",
       "1         10.34  1.66    Male     No   Sun  Dinner     3\n",
       "2         21.01  3.50    Male     No   Sun  Dinner     3\n",
       "3         23.68  3.31    Male     No   Sun  Dinner     2\n",
       "4         24.59  3.61  Female     No   Sun  Dinner     4\n",
       "..          ...   ...     ...    ...   ...     ...   ...\n",
       "239       29.03  5.92    Male     No   Sat  Dinner     3\n",
       "240       27.18  2.00  Female    Yes   Sat  Dinner     2\n",
       "241       22.67  2.00    Male    Yes   Sat  Dinner     2\n",
       "242       17.82  1.75    Male     No   Sat  Dinner     2\n",
       "243       18.78  3.00  Female     No  Thur  Dinner     2\n",
       "\n",
       "[244 rows x 7 columns]"
      ]
     },
     "execution_count": 102,
     "metadata": {},
     "output_type": "execute_result"
    }
   ],
   "source": [
    "load_dataset('tips')"
   ]
  }
 ],
 "metadata": {
  "kernelspec": {
   "display_name": "Python 3",
   "language": "python",
   "name": "python3"
  },
  "language_info": {
   "codemirror_mode": {
    "name": "ipython",
    "version": 3
   },
   "file_extension": ".py",
   "mimetype": "text/x-python",
   "name": "python",
   "nbconvert_exporter": "python",
   "pygments_lexer": "ipython3",
   "version": "3.12.2"
  }
 },
 "nbformat": 4,
 "nbformat_minor": 2
}
