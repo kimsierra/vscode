{
 "cells": [
  {
   "cell_type": "code",
   "execution_count": 42,
   "id": "a61997ab-c795-4e26-8f68-d506bb676b24",
   "metadata": {},
   "outputs": [],
   "source": [
    "import pandas as pd\n",
    "import numpy as np\n",
    "import warnings \n",
    "warnings.filterwarnings('ignore')"
   ]
  },
  {
   "cell_type": "markdown",
   "id": "372762f6-381b-4a6c-b094-fb64911e34db",
   "metadata": {},
   "source": [
    "# 코스닥 재무피쳐 정리"
   ]
  },
  {
   "cell_type": "code",
   "execution_count": 43,
   "id": "9a669422-474e-4cc1-aed1-9f13203b5937",
   "metadata": {},
   "outputs": [],
   "source": [
    "kod = pd.read_excel('코스닥재무피쳐(최종).xlsx')"
   ]
  },
  {
   "cell_type": "code",
   "execution_count": 44,
   "id": "27aecf03-ebb2-4572-ae90-13b64b7d690f",
   "metadata": {
    "scrolled": true
   },
   "outputs": [
    {
     "data": {
      "text/plain": [
       "회사명                    0\n",
       "거래소코드                  0\n",
       "회계년도                   0\n",
       "총자본증가율               199\n",
       "정상영업이익증가율            428\n",
       "순이익증가율               199\n",
       "자기자본증가율              199\n",
       "매출액증가율               199\n",
       "종업원수증가율              532\n",
       "매출액총이익률                0\n",
       "매출액정상영업이익률           428\n",
       "매출액순이익률              428\n",
       "자기자본정상영업이익률          428\n",
       "자기자본순이익률             428\n",
       "금융비용부담률              428\n",
       "수지비율(관계기업투자손익 제외)    428\n",
       "사내유보 대 자기자본비율        532\n",
       "총자본회전률               428\n",
       "자기자본회전률              428\n",
       "타인자본회전률              428\n",
       "유동자산회전률              428\n",
       "당좌자산회전률              428\n",
       "재고자산회전률                0\n",
       "매출채권회전률              428\n",
       "순운전자본회전률             428\n",
       "운전자본회전률              428\n",
       "종업원1인당 부가가치          533\n",
       "노동장비율                533\n",
       "기계장비율                533\n",
       "자본집약도                533\n",
       "총자본투자효율              428\n",
       "설비투자효율               428\n",
       "1주당순이익                 0\n",
       "1주당 CASH FLOW        428\n",
       "유보율                  428\n",
       "기계투자효율               428\n",
       "부가가치율                428\n",
       "노동소득분배율                0\n",
       "자기자본구성비율             428\n",
       "유동비율                 428\n",
       "당좌비율                 428\n",
       "현금비율                 428\n",
       "재고자산 대 순운전자본비율       389\n",
       "매출채권 대 매입채무비율        428\n",
       "부채비율                 428\n",
       "CASH FLOW 대 부채비율     428\n",
       "CASH FLOW 대 차입금비율    428\n",
       "CASH FLOW 대 총자본비율    428\n",
       "CASH FLOW 대 매출액비율    428\n",
       "1주당매출액               428\n",
       "1주당순자산               532\n",
       "총자산영업이익률             388\n",
       "총자산순이익률              388\n",
       "dtype: int64"
      ]
     },
     "execution_count": 44,
     "metadata": {},
     "output_type": "execute_result"
    }
   ],
   "source": [
    "kod.isna().sum()"
   ]
  },
  {
   "cell_type": "markdown",
   "id": "fc0428c8-652f-4894-84d4-0cc8ec9511da",
   "metadata": {},
   "source": [
    "## 코스닥 스펙합병 기업 제거"
   ]
  },
  {
   "cell_type": "code",
   "execution_count": 45,
   "id": "7573be7e-68a2-4c81-91f3-3b9d13c80de2",
   "metadata": {},
   "outputs": [],
   "source": [
    "sp_enp =['(주)본느','(주)세화피앤씨','(주)아이엘사이언스','(주)알로이스','(주)에스에이티','(주)원바이오젠','(주)원익피앤이','(주)인산가','(주)자비스','(주)정다운','(주)카이노스메드','(주)티에스트릴리온','(주)포인트엔지니어링','(주)한국비엔씨','(주)휴럼','나무기술(주)','씨아이에스(주)','엠에프엠코리아(주)','원텍(주)','패션플랫폼(주)']"
   ]
  },
  {
   "cell_type": "code",
   "execution_count": 46,
   "id": "4404c053-a1eb-48be-97f2-7c0dc4fcbdfb",
   "metadata": {},
   "outputs": [],
   "source": [
    "for i in sp_enp:\n",
    "    ind = kod[kod['회사명'] == i].index\n",
    "    kod = kod.drop(index = ind).reset_index(drop=True)"
   ]
  },
  {
   "cell_type": "code",
   "execution_count": 47,
   "id": "10bdbec0-1ce2-4865-b030-64133b67abc2",
   "metadata": {
    "scrolled": true
   },
   "outputs": [
    {
     "data": {
      "text/plain": [
       "회사명                    0\n",
       "거래소코드                  0\n",
       "회계년도                   0\n",
       "총자본증가율               185\n",
       "정상영업이익증가율            379\n",
       "순이익증가율               185\n",
       "자기자본증가율              185\n",
       "매출액증가율               185\n",
       "종업원수증가율              483\n",
       "매출액총이익률                0\n",
       "매출액정상영업이익률           379\n",
       "매출액순이익률              379\n",
       "자기자본정상영업이익률          379\n",
       "자기자본순이익률             379\n",
       "금융비용부담률              379\n",
       "수지비율(관계기업투자손익 제외)    379\n",
       "사내유보 대 자기자본비율        483\n",
       "총자본회전률               379\n",
       "자기자본회전률              379\n",
       "타인자본회전률              379\n",
       "유동자산회전률              379\n",
       "당좌자산회전률              379\n",
       "재고자산회전률                0\n",
       "매출채권회전률              379\n",
       "순운전자본회전률             379\n",
       "운전자본회전률              379\n",
       "종업원1인당 부가가치          484\n",
       "노동장비율                484\n",
       "기계장비율                484\n",
       "자본집약도                484\n",
       "총자본투자효율              379\n",
       "설비투자효율               379\n",
       "1주당순이익                 0\n",
       "1주당 CASH FLOW        379\n",
       "유보율                  379\n",
       "기계투자효율               379\n",
       "부가가치율                379\n",
       "노동소득분배율                0\n",
       "자기자본구성비율             379\n",
       "유동비율                 379\n",
       "당좌비율                 379\n",
       "현금비율                 379\n",
       "재고자산 대 순운전자본비율       350\n",
       "매출채권 대 매입채무비율        379\n",
       "부채비율                 379\n",
       "CASH FLOW 대 부채비율     379\n",
       "CASH FLOW 대 차입금비율    379\n",
       "CASH FLOW 대 총자본비율    379\n",
       "CASH FLOW 대 매출액비율    379\n",
       "1주당매출액               379\n",
       "1주당순자산               483\n",
       "총자산영업이익률             348\n",
       "총자산순이익률              348\n",
       "dtype: int64"
      ]
     },
     "execution_count": 47,
     "metadata": {},
     "output_type": "execute_result"
    }
   ],
   "source": [
    "kod.isna().sum()"
   ]
  },
  {
   "cell_type": "markdown",
   "id": "b5818445-95fc-46cf-9ebb-2fe870d66d06",
   "metadata": {},
   "source": [
    "## 해외 법인 회사 제거"
   ]
  },
  {
   "cell_type": "code",
   "execution_count": 48,
   "id": "2ba987f3-4dc1-47f8-a4d7-68831d8e60a3",
   "metadata": {},
   "outputs": [],
   "source": [
    "ind= kod[kod[\"거래소코드\"] > 900000].index.tolist()\n",
    "kod = kod.drop(index = ind).reset_index(drop= True)"
   ]
  },
  {
   "cell_type": "code",
   "execution_count": 49,
   "id": "300a32de-ad28-41b2-90a5-c93098847c14",
   "metadata": {
    "scrolled": true
   },
   "outputs": [
    {
     "data": {
      "text/plain": [
       "회사명                    0\n",
       "거래소코드                  0\n",
       "회계년도                   0\n",
       "총자본증가율               179\n",
       "정상영업이익증가율            373\n",
       "순이익증가율               179\n",
       "자기자본증가율              179\n",
       "매출액증가율               179\n",
       "종업원수증가율              375\n",
       "매출액총이익률                0\n",
       "매출액정상영업이익률           373\n",
       "매출액순이익률              373\n",
       "자기자본정상영업이익률          373\n",
       "자기자본순이익률             373\n",
       "금융비용부담률              373\n",
       "수지비율(관계기업투자손익 제외)    373\n",
       "사내유보 대 자기자본비율        375\n",
       "총자본회전률               373\n",
       "자기자본회전률              373\n",
       "타인자본회전률              373\n",
       "유동자산회전률              373\n",
       "당좌자산회전률              373\n",
       "재고자산회전률                0\n",
       "매출채권회전률              373\n",
       "순운전자본회전률             373\n",
       "운전자본회전률              373\n",
       "종업원1인당 부가가치          376\n",
       "노동장비율                376\n",
       "기계장비율                376\n",
       "자본집약도                376\n",
       "총자본투자효율              373\n",
       "설비투자효율               373\n",
       "1주당순이익                 0\n",
       "1주당 CASH FLOW        373\n",
       "유보율                  373\n",
       "기계투자효율               373\n",
       "부가가치율                373\n",
       "노동소득분배율                0\n",
       "자기자본구성비율             373\n",
       "유동비율                 373\n",
       "당좌비율                 373\n",
       "현금비율                 373\n",
       "재고자산 대 순운전자본비율       350\n",
       "매출채권 대 매입채무비율        373\n",
       "부채비율                 373\n",
       "CASH FLOW 대 부채비율     373\n",
       "CASH FLOW 대 차입금비율    373\n",
       "CASH FLOW 대 총자본비율    373\n",
       "CASH FLOW 대 매출액비율    373\n",
       "1주당매출액               373\n",
       "1주당순자산               375\n",
       "총자산영업이익률             348\n",
       "총자산순이익률              348\n",
       "dtype: int64"
      ]
     },
     "execution_count": 49,
     "metadata": {},
     "output_type": "execute_result"
    }
   ],
   "source": [
    "kod.isna().sum()"
   ]
  },
  {
   "cell_type": "code",
   "execution_count": 27,
   "id": "afdd40cc-610b-4529-a9e2-e70c4d04d921",
   "metadata": {},
   "outputs": [],
   "source": [
    "kod.to_csv('코스닥재무피쳐_정리(최종).csv')"
   ]
  },
  {
   "cell_type": "markdown",
   "id": "45d40770-ae91-42a6-97e3-7eeaf5fa07a1",
   "metadata": {},
   "source": [
    "# 코스피 재무피쳐 정리"
   ]
  },
  {
   "cell_type": "code",
   "execution_count": 16,
   "id": "2fb0b057-8a14-44ad-ad87-aadddb0063cd",
   "metadata": {},
   "outputs": [],
   "source": [
    "kos = pd.read_excel('코스피재무피쳐(최종).xlsx')"
   ]
  },
  {
   "cell_type": "markdown",
   "id": "b2d6b342-3b74-4aca-a413-853d54e1cca1",
   "metadata": {},
   "source": [
    "## 동일 회사 중복 제거 및 해외 법인 회사 제거"
   ]
  },
  {
   "cell_type": "code",
   "execution_count": 18,
   "id": "97b13fc7-b5b1-45d0-91d4-e36128cdb1f1",
   "metadata": {
    "scrolled": true
   },
   "outputs": [
    {
     "data": {
      "text/plain": [
       "회사명                   0\n",
       "거래소코드                 0\n",
       "회계년도                  0\n",
       "총자본증가율               46\n",
       "정상영업이익증가율            46\n",
       "순이익증가율               46\n",
       "자기자본증가율              46\n",
       "매출액증가율               46\n",
       "종업원수증가율              67\n",
       "매출액총이익률               0\n",
       "매출액정상영업이익률           46\n",
       "매출액순이익률              46\n",
       "자기자본정상영업이익률          46\n",
       "자기자본순이익률             46\n",
       "금융비용부담률              46\n",
       "수지비율(관계기업투자손익 제외)    46\n",
       "사내유보 대 자기자본비율        67\n",
       "총자본회전률               46\n",
       "자기자본회전률              46\n",
       "타인자본회전률              46\n",
       "유동자산회전률              46\n",
       "당좌자산회전률              46\n",
       "재고자산회전률               0\n",
       "매출채권회전률              46\n",
       "순운전자본회전률             46\n",
       "운전자본회전률              46\n",
       "종업원1인당 부가가치          68\n",
       "노동장비율                68\n",
       "기계장비율                68\n",
       "자본집약도                68\n",
       "총자본투자효율              46\n",
       "설비투자효율               46\n",
       "1주당순이익                0\n",
       "1주당 CASH FLOW        46\n",
       "유보율                  46\n",
       "기계투자효율               46\n",
       "부가가치율                46\n",
       "노동소득분배율               0\n",
       "자기자본구성비율             46\n",
       "유동비율                 46\n",
       "당좌비율                 46\n",
       "현금비율                 45\n",
       "재고자산 대 순운전자본비율        2\n",
       "매출채권 대 매입채무비율        46\n",
       "부채비율                 46\n",
       "CASH FLOW 대 부채비율     46\n",
       "CASH FLOW 대 차입금비율    46\n",
       "CASH FLOW 대 총자본비율    46\n",
       "CASH FLOW 대 매출액비율    46\n",
       "1주당매출액               46\n",
       "1주당순자산               67\n",
       "총자산영업이익률              0\n",
       "총자산순이익률               0\n",
       "dtype: int64"
      ]
     },
     "execution_count": 18,
     "metadata": {},
     "output_type": "execute_result"
    }
   ],
   "source": [
    "kos.isna().sum()"
   ]
  },
  {
   "cell_type": "code",
   "execution_count": 19,
   "id": "6b190786-c881-484d-9da8-10ea63ba9aa7",
   "metadata": {},
   "outputs": [],
   "source": [
    "temp = kos[kos['회사명'] == '에스케이(주)']\n",
    "ind = temp[kos['거래소코드'] == 3600].index\n",
    "kos = kos.drop(index = ind)"
   ]
  },
  {
   "cell_type": "code",
   "execution_count": 20,
   "id": "26e0239e-1e4e-4831-8137-c723bac23e08",
   "metadata": {},
   "outputs": [],
   "source": [
    "ind= kos[kos[\"거래소코드\"] > 900000].index.tolist()\n",
    "kos = kos.drop(index = ind).reset_index(drop= True)"
   ]
  },
  {
   "cell_type": "code",
   "execution_count": 21,
   "id": "0a103c60-c38b-4e44-b835-ba13fdbe3090",
   "metadata": {
    "scrolled": true
   },
   "outputs": [
    {
     "data": {
      "text/plain": [
       "회사명                   0\n",
       "거래소코드                 0\n",
       "회계년도                  0\n",
       "총자본증가율               46\n",
       "정상영업이익증가율            46\n",
       "순이익증가율               46\n",
       "자기자본증가율              46\n",
       "매출액증가율               46\n",
       "종업원수증가율              46\n",
       "매출액총이익률               0\n",
       "매출액정상영업이익률           46\n",
       "매출액순이익률              46\n",
       "자기자본정상영업이익률          46\n",
       "자기자본순이익률             46\n",
       "금융비용부담률              46\n",
       "수지비율(관계기업투자손익 제외)    46\n",
       "사내유보 대 자기자본비율        46\n",
       "총자본회전률               46\n",
       "자기자본회전률              46\n",
       "타인자본회전률              46\n",
       "유동자산회전률              46\n",
       "당좌자산회전률              46\n",
       "재고자산회전률               0\n",
       "매출채권회전률              46\n",
       "순운전자본회전률             46\n",
       "운전자본회전률              46\n",
       "종업원1인당 부가가치          47\n",
       "노동장비율                47\n",
       "기계장비율                47\n",
       "자본집약도                47\n",
       "총자본투자효율              46\n",
       "설비투자효율               46\n",
       "1주당순이익                0\n",
       "1주당 CASH FLOW        46\n",
       "유보율                  46\n",
       "기계투자효율               46\n",
       "부가가치율                46\n",
       "노동소득분배율               0\n",
       "자기자본구성비율             46\n",
       "유동비율                 46\n",
       "당좌비율                 46\n",
       "현금비율                 45\n",
       "재고자산 대 순운전자본비율        2\n",
       "매출채권 대 매입채무비율        46\n",
       "부채비율                 46\n",
       "CASH FLOW 대 부채비율     46\n",
       "CASH FLOW 대 차입금비율    46\n",
       "CASH FLOW 대 총자본비율    46\n",
       "CASH FLOW 대 매출액비율    46\n",
       "1주당매출액               46\n",
       "1주당순자산               46\n",
       "총자산영업이익률              0\n",
       "총자산순이익률               0\n",
       "dtype: int64"
      ]
     },
     "execution_count": 21,
     "metadata": {},
     "output_type": "execute_result"
    }
   ],
   "source": [
    "kos.isna().sum()"
   ]
  },
  {
   "cell_type": "code",
   "execution_count": 28,
   "id": "97ef1d71-510d-40dc-8d30-85aa4a42f785",
   "metadata": {},
   "outputs": [],
   "source": [
    "kos.to_csv('코스피재무피쳐_정리(최종).csv')"
   ]
  },
  {
   "cell_type": "code",
   "execution_count": null,
   "id": "4813bcc4-30e7-4678-a0ea-cc7a5021bb69",
   "metadata": {},
   "outputs": [],
   "source": []
  }
 ],
 "metadata": {
  "kernelspec": {
   "display_name": "Python 3 (ipykernel)",
   "language": "python",
   "name": "python3"
  },
  "language_info": {
   "codemirror_mode": {
    "name": "ipython",
    "version": 3
   },
   "file_extension": ".py",
   "mimetype": "text/x-python",
   "name": "python",
   "nbconvert_exporter": "python",
   "pygments_lexer": "ipython3",
   "version": "3.11.5"
  }
 },
 "nbformat": 4,
 "nbformat_minor": 5
}
