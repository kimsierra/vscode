{
 "cells": [
  {
   "cell_type": "code",
   "execution_count": 35,
   "id": "92ae17a1-0514-4d6a-bf44-bdec5a0c3d5e",
   "metadata": {},
   "outputs": [],
   "source": [
    "from sklearn.model_selection import train_test_split\n",
    "from sklearn.metrics import recall_score,accuracy_score, precision_score,roc_auc_score,f1_score,confusion_matrix\n",
    "from xgboost import XGBClassifier\n",
    "from lightgbm import LGBMClassifier\n",
    "from sklearn.ensemble import RandomForestClassifier\n",
    "from pytorch_tabnet.tab_model import TabNetClassifier\n",
    "from catboost import CatBoostClassifier\n",
    "from sklearn.svm import SVC\n",
    "import pandas as pd\n",
    "import warnings \n",
    "warnings.filterwarnings('ignore')"
   ]
  },
  {
   "cell_type": "code",
   "execution_count": 4,
   "id": "3fb4e3c8-eafe-4591-8fe8-df6dea8fb640",
   "metadata": {},
   "outputs": [],
   "source": [
    "df = pd.read_csv(\"윈저라이징_inf제거.csv\",index_col = 0)\n",
    "df = df.drop(columns = ['코스닥연수익률 (%)', '코스피연수익률(%)','코스닥변동성', '코스피변동성'])\n",
    "X_data = df.drop(columns=['회사명', '거래소코드', '회계년도', '부실'])\n",
    "y_data = df['부실']"
   ]
  },
  {
   "cell_type": "code",
   "execution_count": 5,
   "id": "5ff22e26-5473-46c6-b4de-a41596afedba",
   "metadata": {},
   "outputs": [],
   "source": [
    "X_train,X_test,y_train,y_test = train_test_split(X_data,y_data,test_size=0.3,stratify=y_data,random_state = 42)"
   ]
  },
  {
   "cell_type": "code",
   "execution_count": 12,
   "id": "45a603f1-972a-4804-bba9-2a64ff8d7a15",
   "metadata": {},
   "outputs": [
    {
     "name": "stdout",
     "output_type": "stream",
     "text": [
      "정확도: 0.92\n",
      "정밀도: 0.00\n",
      "재현율: 0.00\n",
      "F1 점수: 0.00\n",
      "roc_auc 점수: 0.50\n"
     ]
    }
   ],
   "source": [
    "from sklearn.linear_model import LogisticRegression\n",
    "\n",
    "model = LogisticRegression()\n",
    "model.fit(X_train, y_train)\n",
    "y_pred = model.predict(X_test)\n",
    "\n",
    "print(f\"정확도: {accuracy_score(y_test, y_pred):.2f}\")\n",
    "print(f\"정밀도: {precision_score(y_test, y_pred):.2f}\")\n",
    "print(f\"재현율: {recall_score(y_test, y_pred):.2f}\")\n",
    "print(f\"F1 점수: {f1_score(y_test, y_pred):.2f}\")\n",
    "print(f\"roc_auc 점수: {roc_auc_score(y_test, y_pred):.2f}\")"
   ]
  },
  {
   "cell_type": "code",
   "execution_count": 20,
   "id": "65136d47-7caf-4945-a364-9dd57d49a928",
   "metadata": {},
   "outputs": [
    {
     "name": "stdout",
     "output_type": "stream",
     "text": [
      "정확도: 0.96\n",
      "정밀도: 0.81\n",
      "재현율: 0.62\n",
      "F1 점수: 0.71\n",
      "roc_auc 점수: 0.80\n"
     ]
    }
   ],
   "source": [
    "rf = RandomForestClassifier(random_state=42)\n",
    "rf.fit(X_train, y_train)\n",
    "y_pred_rf = rf.predict(X_test)\n",
    "\n",
    "\n",
    "print(f\"정확도: {accuracy_score(y_test, y_pred_rf):.2f}\")\n",
    "print(f\"정밀도: {precision_score(y_test, y_pred_rf):.2f}\")\n",
    "print(f\"재현율: {recall_score(y_test, y_pred_rf):.2f}\")\n",
    "print(f\"F1 점수: {f1_score(y_test, y_pred_rf):.2f}\")\n",
    "print(f\"roc_auc 점수: {roc_auc_score(y_test, y_pred_rf):.2f}\")"
   ]
  },
  {
   "cell_type": "code",
   "execution_count": 22,
   "id": "4c0bfa06-29a6-4126-a82b-515e3c20eece",
   "metadata": {},
   "outputs": [
    {
     "name": "stdout",
     "output_type": "stream",
     "text": [
      "정확도: 0.96\n",
      "정밀도: 0.81\n",
      "재현율: 0.68\n",
      "F1 점수: 0.74\n",
      "roc_auc 점수: 0.83\n"
     ]
    }
   ],
   "source": [
    "xgb = XGBClassifier(random_state=42)\n",
    "xgb.fit(X_train, y_train)\n",
    "y_pred_xgb = xgb.predict(X_test)\n",
    "\n",
    "print(f\"정확도: {accuracy_score(y_test, y_pred_xgb):.2f}\")\n",
    "print(f\"정밀도: {precision_score(y_test, y_pred_xgb):.2f}\")\n",
    "print(f\"재현율: {recall_score(y_test, y_pred_xgb):.2f}\")\n",
    "print(f\"F1 점수: {f1_score(y_test, y_pred_xgb):.2f}\")\n",
    "print(f\"roc_auc 점수: {roc_auc_score(y_test, y_pred_xgb):.2f}\")"
   ]
  },
  {
   "cell_type": "code",
   "execution_count": 23,
   "id": "b218bc88-b6da-4650-8e00-120a23500425",
   "metadata": {},
   "outputs": [
    {
     "name": "stdout",
     "output_type": "stream",
     "text": [
      "[LightGBM] [Warning] Found whitespace in feature_names, replace with underlines\n",
      "[LightGBM] [Info] Number of positive: 712, number of negative: 7913\n",
      "[LightGBM] [Info] Auto-choosing col-wise multi-threading, the overhead of testing was 0.005103 seconds.\n",
      "You can set `force_col_wise=true` to remove the overhead.\n",
      "[LightGBM] [Info] Total Bins 12837\n",
      "[LightGBM] [Info] Number of data points in the train set: 8625, number of used features: 67\n",
      "[LightGBM] [Info] [binary:BoostFromScore]: pavg=0.082551 -> initscore=-2.408184\n",
      "[LightGBM] [Info] Start training from score -2.408184\n",
      "정확도: 0.96\n",
      "정밀도: 0.82\n",
      "재현율: 0.68\n",
      "F1 점수: 0.74\n",
      "roc_auc 점수: 0.83\n"
     ]
    }
   ],
   "source": [
    "lgb = LGBMClassifier(random_state=42)\n",
    "lgb.fit(X_train, y_train)\n",
    "y_pred_lgb = lgb.predict(X_test)\n",
    "\n",
    "print(f\"정확도: {accuracy_score(y_test, y_pred_lgb):.2f}\")\n",
    "print(f\"정밀도: {precision_score(y_test, y_pred_lgb):.2f}\")\n",
    "print(f\"재현율: {recall_score(y_test, y_pred_lgb):.2f}\")\n",
    "print(f\"F1 점수: {f1_score(y_test, y_pred_lgb):.2f}\")\n",
    "print(f\"roc_auc 점수: {roc_auc_score(y_test, y_pred_lgb):.2f}\")"
   ]
  },
  {
   "cell_type": "code",
   "execution_count": 24,
   "id": "1cf3fe2a-a7ea-416d-a356-c255c3a83d0b",
   "metadata": {},
   "outputs": [
    {
     "name": "stdout",
     "output_type": "stream",
     "text": [
      "정확도: 0.96\n",
      "정밀도: 0.81\n",
      "재현율: 0.69\n",
      "F1 점수: 0.75\n",
      "roc_auc 점수: 0.84\n"
     ]
    }
   ],
   "source": [
    "cat = CatBoostClassifier(random_state=42, verbose=0)\n",
    "cat.fit(X_train, y_train)\n",
    "y_pred_cat = cat.predict(X_test)\n",
    "\n",
    "print(f\"정확도: {accuracy_score(y_test, y_pred_cat):.2f}\")\n",
    "print(f\"정밀도: {precision_score(y_test, y_pred_cat):.2f}\")\n",
    "print(f\"재현율: {recall_score(y_test, y_pred_cat):.2f}\")\n",
    "print(f\"F1 점수: {f1_score(y_test, y_pred_cat):.2f}\")\n",
    "print(f\"roc_auc 점수: {roc_auc_score(y_test, y_pred_cat):.2f}\")"
   ]
  },
  {
   "cell_type": "code",
   "execution_count": 32,
   "id": "e33a4898-6c51-42c4-b2dd-6c3b3ec31264",
   "metadata": {},
   "outputs": [
    {
     "name": "stdout",
     "output_type": "stream",
     "text": [
      "정확도: 0.92\n",
      "정밀도: 0.00\n",
      "재현율: 0.00\n",
      "F1 점수: 0.00\n",
      "roc_auc 점수: 0.50\n"
     ]
    }
   ],
   "source": [
    "svc_clf = SVC() \n",
    "svc_clf.fit(X_train,y_train)\n",
    "y_pred_svc = svc_clf.predict(X_test)\n",
    "\n",
    "print(f\"정확도: {accuracy_score(y_test, y_pred_svc):.2f}\")\n",
    "print(f\"정밀도: {precision_score(y_test, y_pred_svc):.2f}\")\n",
    "print(f\"재현율: {recall_score(y_test, y_pred_svc):.2f}\")\n",
    "print(f\"F1 점수: {f1_score(y_test, y_pred_svc):.2f}\")\n",
    "print(f\"roc_auc 점수: {roc_auc_score(y_test, y_pred_svc):.2f}\")"
   ]
  },
  {
   "cell_type": "code",
   "execution_count": 42,
   "id": "8eedd576-dcf6-4453-8eb2-6c72096176dd",
   "metadata": {},
   "outputs": [
    {
     "name": "stdout",
     "output_type": "stream",
     "text": [
      "epoch 0  | loss: 0.59816 | train_accuracy: 0.91629 | test_accuracy: 0.91777 |  0:00:03s\n",
      "epoch 1  | loss: 0.31967 | train_accuracy: 0.89032 | test_accuracy: 0.88829 |  0:00:10s\n",
      "epoch 2  | loss: 0.22673 | train_accuracy: 0.92174 | test_accuracy: 0.91831 |  0:00:18s\n",
      "epoch 3  | loss: 0.1831  | train_accuracy: 0.93229 | test_accuracy: 0.93508 |  0:00:25s\n",
      "epoch 4  | loss: 0.165   | train_accuracy: 0.93519 | test_accuracy: 0.93238 |  0:00:33s\n",
      "epoch 5  | loss: 0.15948 | train_accuracy: 0.93646 | test_accuracy: 0.93454 |  0:00:42s\n",
      "epoch 6  | loss: 0.15232 | train_accuracy: 0.93542 | test_accuracy: 0.93292 |  0:00:49s\n",
      "epoch 7  | loss: 0.14326 | train_accuracy: 0.93994 | test_accuracy: 0.93725 |  0:00:55s\n",
      "epoch 8  | loss: 0.13752 | train_accuracy: 0.93843 | test_accuracy: 0.93616 |  0:01:01s\n",
      "epoch 9  | loss: 0.13164 | train_accuracy: 0.93878 | test_accuracy: 0.93914 |  0:01:10s\n",
      "Stop training because you reached max_epochs = 10 with best_epoch = 9 and best_test_accuracy = 0.93914\n"
     ]
    }
   ],
   "source": [
    "clf = TabNetClassifier()\n",
    "\n",
    "# 모델 훈련\n",
    "clf.fit(\n",
    "    X_train.values, y_train.values,\n",
    "    eval_set=[(X_train.values, y_train.values), (X_test.values, y_test.values)],\n",
    "    eval_name=['train', 'test'],\n",
    "    eval_metric=['accuracy'],\n",
    "    max_epochs=10,\n",
    "    patience=10,\n",
    "    batch_size=1024, \n",
    "    virtual_batch_size=128,\n",
    "    num_workers=0,\n",
    "    drop_last=False\n",
    ")"
   ]
  },
  {
   "cell_type": "code",
   "execution_count": 48,
   "id": "ee7d945c-3c5d-43a6-8fc5-734dceb6f121",
   "metadata": {},
   "outputs": [
    {
     "name": "stdout",
     "output_type": "stream",
     "text": [
      "정확도: 0.94\n",
      "정밀도: 0.78\n",
      "재현율: 0.37\n",
      "F1 점수: 0.50\n",
      "roc_auc 점수: 0.68\n"
     ]
    }
   ],
   "source": [
    "y_pred_tab = clf.predict(X_test.values)\n",
    "\n",
    "print(f\"정확도: {accuracy_score(y_test, y_pred_tab):.2f}\")\n",
    "print(f\"정밀도: {precision_score(y_test, y_pred_tab):.2f}\")\n",
    "print(f\"재현율: {recall_score(y_test, y_pred_tab):.2f}\")\n",
    "print(f\"F1 점수: {f1_score(y_test, y_pred_tab):.2f}\")\n",
    "print(f\"roc_auc 점수: {roc_auc_score(y_test, y_pred_tab):.2f}\")"
   ]
  },
  {
   "cell_type": "code",
   "execution_count": null,
   "id": "cf3e1265-6bf8-4d9d-9e2a-7d8849e06140",
   "metadata": {},
   "outputs": [],
   "source": []
  }
 ],
 "metadata": {
  "kernelspec": {
   "display_name": "Python 3 (ipykernel)",
   "language": "python",
   "name": "python3"
  },
  "language_info": {
   "codemirror_mode": {
    "name": "ipython",
    "version": 3
   },
   "file_extension": ".py",
   "mimetype": "text/x-python",
   "name": "python",
   "nbconvert_exporter": "python",
   "pygments_lexer": "ipython3",
   "version": "3.11.5"
  }
 },
 "nbformat": 4,
 "nbformat_minor": 5
}
