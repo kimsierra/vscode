{
 "cells": [
  {
   "cell_type": "code",
   "execution_count": 1,
   "id": "156722ad-41d3-4c69-a999-d29a33393baa",
   "metadata": {},
   "outputs": [],
   "source": [
    "import pandas as pd\n",
    "import numpy as np"
   ]
  },
  {
   "cell_type": "markdown",
   "id": "3cf65af1-f1db-4281-9764-b6a978064a3f",
   "metadata": {},
   "source": [
    "## 코스피 레이블링하기"
   ]
  },
  {
   "cell_type": "code",
   "execution_count": 90,
   "id": "94aa61e0-ee32-48b7-9ab1-6dafa2ce3eac",
   "metadata": {},
   "outputs": [
    {
     "data": {
      "text/plain": [
       "회사명                                     0\n",
       "거래소코드                                   0\n",
       "회계년도                                    0\n",
       "이자보상배율(이자비용)(IFRS연결)                  224\n",
       "영업활동으로 인한 현금흐름(간접법)(*)(IFRS연결)(천원)    224\n",
       "자본(*)(IFRS연결)(천원)                     224\n",
       "dtype: int64"
      ]
     },
     "execution_count": 90,
     "metadata": {},
     "output_type": "execute_result"
    }
   ],
   "source": [
    "df = pd.read_csv('코스피_라벨피쳐_전처리.csv',index_col = 0)\n",
    "df = df.iloc[:,:6]\n",
    "df.isna().sum()"
   ]
  },
  {
   "cell_type": "markdown",
   "id": "45690d03-afec-4b0d-9a1a-9ce402deb93a",
   "metadata": {},
   "source": [
    "##  코스피 라벨 피쳐 3개가 모두 결측치인거 제거"
   ]
  },
  {
   "cell_type": "code",
   "execution_count": 91,
   "id": "6b34e050-6b12-4ec0-b7d8-9f44423d7fe0",
   "metadata": {},
   "outputs": [
    {
     "data": {
      "text/html": [
       "<div>\n",
       "<style scoped>\n",
       "    .dataframe tbody tr th:only-of-type {\n",
       "        vertical-align: middle;\n",
       "    }\n",
       "\n",
       "    .dataframe tbody tr th {\n",
       "        vertical-align: top;\n",
       "    }\n",
       "\n",
       "    .dataframe thead th {\n",
       "        text-align: right;\n",
       "    }\n",
       "</style>\n",
       "<table border=\"1\" class=\"dataframe\">\n",
       "  <thead>\n",
       "    <tr style=\"text-align: right;\">\n",
       "      <th></th>\n",
       "      <th>회사명</th>\n",
       "      <th>거래소코드</th>\n",
       "      <th>회계년도</th>\n",
       "      <th>이자보상배율(이자비용)(IFRS연결)</th>\n",
       "      <th>영업활동으로 인한 현금흐름(간접법)(*)(IFRS연결)(천원)</th>\n",
       "      <th>자본(*)(IFRS연결)(천원)</th>\n",
       "    </tr>\n",
       "  </thead>\n",
       "  <tbody>\n",
       "    <tr>\n",
       "      <th>0</th>\n",
       "      <td>(주)HJ매그놀리아용평호텔앤리조트</td>\n",
       "      <td>70960</td>\n",
       "      <td>2013/12</td>\n",
       "      <td>1.45</td>\n",
       "      <td>36775171.0</td>\n",
       "      <td>298067032.0</td>\n",
       "    </tr>\n",
       "    <tr>\n",
       "      <th>1</th>\n",
       "      <td>(주)HJ매그놀리아용평호텔앤리조트</td>\n",
       "      <td>70960</td>\n",
       "      <td>2014/12</td>\n",
       "      <td>1.07</td>\n",
       "      <td>40502835.0</td>\n",
       "      <td>301490946.0</td>\n",
       "    </tr>\n",
       "    <tr>\n",
       "      <th>2</th>\n",
       "      <td>(주)HJ매그놀리아용평호텔앤리조트</td>\n",
       "      <td>70960</td>\n",
       "      <td>2015/12</td>\n",
       "      <td>1.84</td>\n",
       "      <td>36832912.0</td>\n",
       "      <td>312817856.0</td>\n",
       "    </tr>\n",
       "    <tr>\n",
       "      <th>3</th>\n",
       "      <td>(주)HJ매그놀리아용평호텔앤리조트</td>\n",
       "      <td>70960</td>\n",
       "      <td>2016/12</td>\n",
       "      <td>2.62</td>\n",
       "      <td>-18994098.0</td>\n",
       "      <td>396442087.0</td>\n",
       "    </tr>\n",
       "    <tr>\n",
       "      <th>4</th>\n",
       "      <td>(주)HJ매그놀리아용평호텔앤리조트</td>\n",
       "      <td>70960</td>\n",
       "      <td>2017/12</td>\n",
       "      <td>3.00</td>\n",
       "      <td>17809537.0</td>\n",
       "      <td>408181173.0</td>\n",
       "    </tr>\n",
       "    <tr>\n",
       "      <th>...</th>\n",
       "      <td>...</td>\n",
       "      <td>...</td>\n",
       "      <td>...</td>\n",
       "      <td>...</td>\n",
       "      <td>...</td>\n",
       "      <td>...</td>\n",
       "    </tr>\n",
       "    <tr>\n",
       "      <th>9400</th>\n",
       "      <td>흥아해운(주)</td>\n",
       "      <td>3280</td>\n",
       "      <td>2018/12</td>\n",
       "      <td>-1.16</td>\n",
       "      <td>-33794586.0</td>\n",
       "      <td>73148175.0</td>\n",
       "    </tr>\n",
       "    <tr>\n",
       "      <th>9401</th>\n",
       "      <td>흥아해운(주)</td>\n",
       "      <td>3280</td>\n",
       "      <td>2019/12</td>\n",
       "      <td>-0.55</td>\n",
       "      <td>-12048291.0</td>\n",
       "      <td>30919383.0</td>\n",
       "    </tr>\n",
       "    <tr>\n",
       "      <th>9402</th>\n",
       "      <td>흥아해운(주)</td>\n",
       "      <td>3280</td>\n",
       "      <td>2020/12</td>\n",
       "      <td>-0.38</td>\n",
       "      <td>-3958237.0</td>\n",
       "      <td>-26283865.0</td>\n",
       "    </tr>\n",
       "    <tr>\n",
       "      <th>9403</th>\n",
       "      <td>흥아해운(주)</td>\n",
       "      <td>3280</td>\n",
       "      <td>2021/12</td>\n",
       "      <td>-1.06</td>\n",
       "      <td>-2635682.0</td>\n",
       "      <td>102939788.0</td>\n",
       "    </tr>\n",
       "    <tr>\n",
       "      <th>9404</th>\n",
       "      <td>흥아해운(주)</td>\n",
       "      <td>3280</td>\n",
       "      <td>2022/12</td>\n",
       "      <td>85.18</td>\n",
       "      <td>32737334.0</td>\n",
       "      <td>135304736.0</td>\n",
       "    </tr>\n",
       "  </tbody>\n",
       "</table>\n",
       "<p>9405 rows × 6 columns</p>\n",
       "</div>"
      ],
      "text/plain": [
       "                     회사명  거래소코드     회계년도  이자보상배율(이자비용)(IFRS연결)  \\\n",
       "0     (주)HJ매그놀리아용평호텔앤리조트  70960  2013/12                  1.45   \n",
       "1     (주)HJ매그놀리아용평호텔앤리조트  70960  2014/12                  1.07   \n",
       "2     (주)HJ매그놀리아용평호텔앤리조트  70960  2015/12                  1.84   \n",
       "3     (주)HJ매그놀리아용평호텔앤리조트  70960  2016/12                  2.62   \n",
       "4     (주)HJ매그놀리아용평호텔앤리조트  70960  2017/12                  3.00   \n",
       "...                  ...    ...      ...                   ...   \n",
       "9400             흥아해운(주)   3280  2018/12                 -1.16   \n",
       "9401             흥아해운(주)   3280  2019/12                 -0.55   \n",
       "9402             흥아해운(주)   3280  2020/12                 -0.38   \n",
       "9403             흥아해운(주)   3280  2021/12                 -1.06   \n",
       "9404             흥아해운(주)   3280  2022/12                 85.18   \n",
       "\n",
       "      영업활동으로 인한 현금흐름(간접법)(*)(IFRS연결)(천원)  자본(*)(IFRS연결)(천원)  \n",
       "0                             36775171.0        298067032.0  \n",
       "1                             40502835.0        301490946.0  \n",
       "2                             36832912.0        312817856.0  \n",
       "3                            -18994098.0        396442087.0  \n",
       "4                             17809537.0        408181173.0  \n",
       "...                                  ...                ...  \n",
       "9400                         -33794586.0         73148175.0  \n",
       "9401                         -12048291.0         30919383.0  \n",
       "9402                          -3958237.0        -26283865.0  \n",
       "9403                          -2635682.0        102939788.0  \n",
       "9404                          32737334.0        135304736.0  \n",
       "\n",
       "[9405 rows x 6 columns]"
      ]
     },
     "execution_count": 91,
     "metadata": {},
     "output_type": "execute_result"
    }
   ],
   "source": [
    "ind = df[df.iloc[:,3:].isna().all(axis = 1)].index\n",
    "df = df.drop(index = ind).reset_index(drop=True)\n",
    "df"
   ]
  },
  {
   "cell_type": "markdown",
   "id": "b2c6cbcb-3e6b-4ae1-9d41-d21cc892fed6",
   "metadata": {},
   "source": [
    "### 코스피 동일 회사 중복 제거 및 해외 법인 회사 제거"
   ]
  },
  {
   "cell_type": "code",
   "execution_count": 92,
   "id": "8804bf67-24d7-4308-a26d-7c5eaa434f42",
   "metadata": {},
   "outputs": [
    {
     "name": "stderr",
     "output_type": "stream",
     "text": [
      "C:\\Users\\geonh\\AppData\\Local\\Temp\\ipykernel_39696\\767628473.py:2: UserWarning: Boolean Series key will be reindexed to match DataFrame index.\n",
      "  ind = temp[df['거래소코드'] == 3600].index\n"
     ]
    }
   ],
   "source": [
    "temp = df[df['회사명'] == '에스케이(주)']\n",
    "ind = temp[df['거래소코드'] == 3600].index\n",
    "df = df.drop(index = ind)\n",
    "\n",
    "ind= df[df[\"거래소코드\"] > 900000].index.tolist()\n",
    "df = df.drop(index = ind).reset_index(drop= True)"
   ]
  },
  {
   "cell_type": "code",
   "execution_count": 95,
   "id": "9e746c12-5707-4750-8e91-e0a8c50f0ba2",
   "metadata": {},
   "outputs": [],
   "source": [
    "## 코스피 라벨 피쳐 정렬하기"
   ]
  },
  {
   "cell_type": "code",
   "execution_count": 96,
   "id": "7f054c60-6693-42c6-8b44-2dd6e16edf72",
   "metadata": {},
   "outputs": [
    {
     "data": {
      "text/html": [
       "<div>\n",
       "<style scoped>\n",
       "    .dataframe tbody tr th:only-of-type {\n",
       "        vertical-align: middle;\n",
       "    }\n",
       "\n",
       "    .dataframe tbody tr th {\n",
       "        vertical-align: top;\n",
       "    }\n",
       "\n",
       "    .dataframe thead th {\n",
       "        text-align: right;\n",
       "    }\n",
       "</style>\n",
       "<table border=\"1\" class=\"dataframe\">\n",
       "  <thead>\n",
       "    <tr style=\"text-align: right;\">\n",
       "      <th></th>\n",
       "      <th>회사명</th>\n",
       "      <th>거래소코드</th>\n",
       "      <th>회계년도</th>\n",
       "      <th>이자보상배율(이자비용)(IFRS연결)</th>\n",
       "      <th>영업활동으로 인한 현금흐름(간접법)(*)(IFRS연결)(천원)</th>\n",
       "      <th>자본(*)(IFRS연결)(천원)</th>\n",
       "    </tr>\n",
       "  </thead>\n",
       "  <tbody>\n",
       "    <tr>\n",
       "      <th>0</th>\n",
       "      <td>동화약품(주)</td>\n",
       "      <td>20</td>\n",
       "      <td>2010/12</td>\n",
       "      <td>6.25</td>\n",
       "      <td>11628787.0</td>\n",
       "      <td>217153837.0</td>\n",
       "    </tr>\n",
       "    <tr>\n",
       "      <th>1</th>\n",
       "      <td>동화약품(주)</td>\n",
       "      <td>20</td>\n",
       "      <td>2011/12</td>\n",
       "      <td>14.58</td>\n",
       "      <td>46244032.0</td>\n",
       "      <td>229623874.0</td>\n",
       "    </tr>\n",
       "    <tr>\n",
       "      <th>2</th>\n",
       "      <td>동화약품(주)</td>\n",
       "      <td>20</td>\n",
       "      <td>2012/12</td>\n",
       "      <td>9.47</td>\n",
       "      <td>25226760.0</td>\n",
       "      <td>226994670.0</td>\n",
       "    </tr>\n",
       "    <tr>\n",
       "      <th>3</th>\n",
       "      <td>동화약품(주)</td>\n",
       "      <td>20</td>\n",
       "      <td>2013/12</td>\n",
       "      <td>5.37</td>\n",
       "      <td>8205110.0</td>\n",
       "      <td>227231127.0</td>\n",
       "    </tr>\n",
       "    <tr>\n",
       "      <th>4</th>\n",
       "      <td>동화약품(주)</td>\n",
       "      <td>20</td>\n",
       "      <td>2014/12</td>\n",
       "      <td>33.65</td>\n",
       "      <td>13514668.0</td>\n",
       "      <td>229725782.0</td>\n",
       "    </tr>\n",
       "    <tr>\n",
       "      <th>...</th>\n",
       "      <td>...</td>\n",
       "      <td>...</td>\n",
       "      <td>...</td>\n",
       "      <td>...</td>\n",
       "      <td>...</td>\n",
       "      <td>...</td>\n",
       "    </tr>\n",
       "    <tr>\n",
       "      <th>9364</th>\n",
       "      <td>두산로보틱스(주)</td>\n",
       "      <td>454910</td>\n",
       "      <td>2018/12</td>\n",
       "      <td>844531.69</td>\n",
       "      <td>-17473671.0</td>\n",
       "      <td>25482765.0</td>\n",
       "    </tr>\n",
       "    <tr>\n",
       "      <th>9365</th>\n",
       "      <td>두산로보틱스(주)</td>\n",
       "      <td>454910</td>\n",
       "      <td>2019/12</td>\n",
       "      <td>-46.05</td>\n",
       "      <td>-18082748.0</td>\n",
       "      <td>23571013.0</td>\n",
       "    </tr>\n",
       "    <tr>\n",
       "      <th>9366</th>\n",
       "      <td>두산로보틱스(주)</td>\n",
       "      <td>454910</td>\n",
       "      <td>2020/12</td>\n",
       "      <td>-37.51</td>\n",
       "      <td>-4027165.0</td>\n",
       "      <td>9139203.0</td>\n",
       "    </tr>\n",
       "    <tr>\n",
       "      <th>9367</th>\n",
       "      <td>두산로보틱스(주)</td>\n",
       "      <td>454910</td>\n",
       "      <td>2021/12</td>\n",
       "      <td>-17.19</td>\n",
       "      <td>-7244230.0</td>\n",
       "      <td>15502080.0</td>\n",
       "    </tr>\n",
       "    <tr>\n",
       "      <th>9368</th>\n",
       "      <td>두산로보틱스(주)</td>\n",
       "      <td>454910</td>\n",
       "      <td>2022/12</td>\n",
       "      <td>-24.24</td>\n",
       "      <td>-22651453.0</td>\n",
       "      <td>42765362.0</td>\n",
       "    </tr>\n",
       "  </tbody>\n",
       "</table>\n",
       "<p>9369 rows × 6 columns</p>\n",
       "</div>"
      ],
      "text/plain": [
       "            회사명   거래소코드     회계년도  이자보상배율(이자비용)(IFRS연결)  \\\n",
       "0       동화약품(주)      20  2010/12                  6.25   \n",
       "1       동화약품(주)      20  2011/12                 14.58   \n",
       "2       동화약품(주)      20  2012/12                  9.47   \n",
       "3       동화약품(주)      20  2013/12                  5.37   \n",
       "4       동화약품(주)      20  2014/12                 33.65   \n",
       "...         ...     ...      ...                   ...   \n",
       "9364  두산로보틱스(주)  454910  2018/12             844531.69   \n",
       "9365  두산로보틱스(주)  454910  2019/12                -46.05   \n",
       "9366  두산로보틱스(주)  454910  2020/12                -37.51   \n",
       "9367  두산로보틱스(주)  454910  2021/12                -17.19   \n",
       "9368  두산로보틱스(주)  454910  2022/12                -24.24   \n",
       "\n",
       "      영업활동으로 인한 현금흐름(간접법)(*)(IFRS연결)(천원)  자본(*)(IFRS연결)(천원)  \n",
       "0                             11628787.0        217153837.0  \n",
       "1                             46244032.0        229623874.0  \n",
       "2                             25226760.0        226994670.0  \n",
       "3                              8205110.0        227231127.0  \n",
       "4                             13514668.0        229725782.0  \n",
       "...                                  ...                ...  \n",
       "9364                         -17473671.0         25482765.0  \n",
       "9365                         -18082748.0         23571013.0  \n",
       "9366                          -4027165.0          9139203.0  \n",
       "9367                          -7244230.0         15502080.0  \n",
       "9368                         -22651453.0         42765362.0  \n",
       "\n",
       "[9369 rows x 6 columns]"
      ]
     },
     "execution_count": 96,
     "metadata": {},
     "output_type": "execute_result"
    }
   ],
   "source": [
    "df = df.sort_values(['거래소코드','회사명','회계년도'])\n",
    "df = df.reset_index(drop=True)\n",
    "df"
   ]
  },
  {
   "cell_type": "markdown",
   "id": "6822e330-b3ad-4eb3-a56a-8dfe59440186",
   "metadata": {},
   "source": [
    "## 이자보상배율 1미만일 경우(CONDITION1) 영업활동으로 인한 현금흐름,자본(CONDITION2)"
   ]
  },
  {
   "cell_type": "code",
   "execution_count": 97,
   "id": "b7195c0e-d884-4e75-b76f-c01e62eafb63",
   "metadata": {},
   "outputs": [],
   "source": [
    "def condition1(x):\n",
    "    if x< 1:\n",
    "        return -1\n",
    "    else :\n",
    "        return 0\n",
    "        \n",
    "def condition2_3(x):\n",
    "    if x< 0:\n",
    "        return -1\n",
    "    else :\n",
    "        return 0"
   ]
  },
  {
   "cell_type": "markdown",
   "id": "6101d137-d951-4188-933f-a4fbc6a0dd5b",
   "metadata": {},
   "source": [
    "### 함수 각 LABEL Feature에 mapping"
   ]
  },
  {
   "cell_type": "code",
   "execution_count": 98,
   "id": "bace84f0-1821-419e-82ae-f11b9c3763b6",
   "metadata": {},
   "outputs": [],
   "source": [
    "df['이자보상배율'] = df['이자보상배율(이자비용)(IFRS연결)'].map(condition1)\n",
    "df['현금흐름'] = df['영업활동으로 인한 현금흐름(간접법)(*)(IFRS연결)(천원)'].map(condition2_3)\n",
    "df['자본'] = df['자본(*)(IFRS연결)(천원)'].map(condition2_3)\n",
    "df['이자_부실'] = 0\n",
    "df['현금흐름_부실'] = 0\n",
    "df['자본_부실'] = 0"
   ]
  },
  {
   "cell_type": "markdown",
   "id": "b46c96d4-b5a7-49d9-93b7-6cbfc959cd18",
   "metadata": {},
   "source": [
    "### 코스피 자본이 최근년도 음일경우 부실->1"
   ]
  },
  {
   "cell_type": "code",
   "execution_count": 99,
   "id": "0f698d9b-9b22-4352-b8ea-4cd2d2107a4e",
   "metadata": {},
   "outputs": [],
   "source": [
    "df['자본_부실'] =  df['자본'].map( lambda x: 1 if x < 0 else 0)\n",
    "df['부실'] = df['자본'].map( lambda x: 1 if x < 0 else 0)"
   ]
  },
  {
   "cell_type": "markdown",
   "id": "aa40dd6e-7a7c-4b99-b128-0b700e043468",
   "metadata": {},
   "source": [
    "### 코스피 이자보상배율 3개년도 1미만일시 부실 ->1"
   ]
  },
  {
   "cell_type": "code",
   "execution_count": 100,
   "id": "4f1a48e6-d117-42e0-96ce-b630e3927b16",
   "metadata": {},
   "outputs": [],
   "source": [
    "df2 = pd.DataFrame()\n",
    "for i in df['회사명'].unique():\n",
    "    temp = df[df['회사명'] == i]\n",
    "    temp = temp.reset_index(drop = True)\n",
    "    for j in range(len(temp) - 2):\n",
    "        if temp.iloc[j:j+3,6].apply(\"sum\") == -3:\n",
    "            temp.iloc[j+2,-1] = 1\n",
    "            temp.iloc[j+2,-4] = 1\n",
    "    df2 = pd.concat([df2,temp],axis = 0)\n",
    "df = df2"
   ]
  },
  {
   "cell_type": "markdown",
   "id": "b1158703-5fac-4b9b-8b0e-9a5fc9575cd3",
   "metadata": {},
   "source": [
    "### 코스피 현금흐름 3개년도 음일경우 부실 ->1"
   ]
  },
  {
   "cell_type": "code",
   "execution_count": 101,
   "id": "f60732aa-dc97-48c3-af2b-7d0d8941f8a1",
   "metadata": {},
   "outputs": [],
   "source": [
    "df2 = pd.DataFrame()\n",
    "for i in df['회사명'].unique():\n",
    "    temp = df[df['회사명'] == i]\n",
    "    temp = temp.reset_index(drop = True)\n",
    "    for j in range(len(temp) - 2):\n",
    "        if temp.iloc[j:j+3,7].apply(\"sum\") == -3:\n",
    "            temp.iloc[j+2,-1] = 1\n",
    "            temp.iloc[j+2,-3] = 1\n",
    "    df2 = pd.concat([df2,temp],axis = 0)\n",
    "df = df2"
   ]
  },
  {
   "cell_type": "code",
   "execution_count": 102,
   "id": "a2fb056f-6348-4b6f-b719-9770ae4600ed",
   "metadata": {},
   "outputs": [],
   "source": [
    "df.to_csv('코스피_라벨링.csv')"
   ]
  },
  {
   "cell_type": "markdown",
   "id": "54ae714f-382c-4473-a74f-d7d103f4189e",
   "metadata": {},
   "source": [
    "## 코스닥 라벨링 하기"
   ]
  },
  {
   "cell_type": "code",
   "execution_count": 103,
   "id": "c70c600c-5bdd-4896-8eef-8bf18827c48f",
   "metadata": {},
   "outputs": [
    {
     "data": {
      "text/plain": [
       "회사명                                      0\n",
       "거래소코드                                    0\n",
       "회계년도                                     0\n",
       "이자보상배율(이자비용)(IFRS연결)                  2357\n",
       "영업활동으로 인한 현금흐름(간접법)(*)(IFRS연결)(천원)    2356\n",
       "자본(*)(IFRS연결)(천원)                     2356\n",
       "dtype: int64"
      ]
     },
     "execution_count": 103,
     "metadata": {},
     "output_type": "execute_result"
    }
   ],
   "source": [
    "df = pd.read_csv('코스닥_라벨피쳐_전처리.csv',index_col = 0)\n",
    "df = df.iloc[:,:6]\n",
    "df.isna().sum()"
   ]
  },
  {
   "cell_type": "markdown",
   "id": "f9231e1d-0856-4c47-b0c3-f20c6dd69ef1",
   "metadata": {},
   "source": [
    "## 3개년도 연속 결측치인것 제거"
   ]
  },
  {
   "cell_type": "code",
   "execution_count": 104,
   "id": "25ba3c14-6ab6-405f-ba7f-09ac713c1811",
   "metadata": {},
   "outputs": [
    {
     "data": {
      "text/plain": [
       "회사명                                   0\n",
       "거래소코드                                 0\n",
       "회계년도                                  0\n",
       "이자보상배율(이자비용)(IFRS연결)                  2\n",
       "영업활동으로 인한 현금흐름(간접법)(*)(IFRS연결)(천원)    1\n",
       "자본(*)(IFRS연결)(천원)                     1\n",
       "dtype: int64"
      ]
     },
     "execution_count": 104,
     "metadata": {},
     "output_type": "execute_result"
    }
   ],
   "source": [
    "ind = np.where(df.iloc[:,3:].isna().all(axis=1))[0]\n",
    "df = df.sort_values(['거래소코드','회사명','회계년도'])\n",
    "df = df.drop(index = ind).reset_index(drop=True)\n",
    "df.isna().sum()"
   ]
  },
  {
   "cell_type": "markdown",
   "id": "17d9bca0-e509-4f86-9e1a-a4fd09f8847b",
   "metadata": {},
   "source": [
    "## 코스닥 스펙 합병 기업 제거"
   ]
  },
  {
   "cell_type": "code",
   "execution_count": 105,
   "id": "2cd9f7d7-3aa6-44cd-b444-c7555a01e70b",
   "metadata": {},
   "outputs": [
    {
     "data": {
      "text/plain": [
       "회사명                                   0\n",
       "거래소코드                                 0\n",
       "회계년도                                  0\n",
       "이자보상배율(이자비용)(IFRS연결)                  2\n",
       "영업활동으로 인한 현금흐름(간접법)(*)(IFRS연결)(천원)    1\n",
       "자본(*)(IFRS연결)(천원)                     1\n",
       "dtype: int64"
      ]
     },
     "execution_count": 105,
     "metadata": {},
     "output_type": "execute_result"
    }
   ],
   "source": [
    "sp_enp =['(주)본느','(주)세화피앤씨','(주)아이엘사이언스','(주)알로이스','(주)에스에이티','(주)원바이오젠','(주)원익피앤이','(주)인산가','(주)자비스','(주)정다운','(주)카이노스메드','(주)티에스트릴리온','(주)포인트엔지니어링','(주)한국비엔씨','(주)휴럼','나무기술(주)','씨아이에스(주)','엠에프엠코리아(주)','원텍(주)','패션플랫폼(주)']\n",
    "for i in sp_enp:\n",
    "    ind = df[df['회사명'] == i].index\n",
    "    df = df.drop(index = ind).reset_index(drop=True)\n",
    "df.isna().sum()"
   ]
  },
  {
   "cell_type": "markdown",
   "id": "aca1c7aa-b1ea-42c0-bb57-0088e2b709e1",
   "metadata": {},
   "source": [
    "## 코스닥 해외 법인 회사 제거"
   ]
  },
  {
   "cell_type": "code",
   "execution_count": 106,
   "id": "351ed752-d117-4622-8570-4b9172066f5f",
   "metadata": {},
   "outputs": [
    {
     "data": {
      "text/plain": [
       "회사명                                   0\n",
       "거래소코드                                 0\n",
       "회계년도                                  0\n",
       "이자보상배율(이자비용)(IFRS연결)                  2\n",
       "영업활동으로 인한 현금흐름(간접법)(*)(IFRS연결)(천원)    1\n",
       "자본(*)(IFRS연결)(천원)                     1\n",
       "dtype: int64"
      ]
     },
     "execution_count": 106,
     "metadata": {},
     "output_type": "execute_result"
    }
   ],
   "source": [
    "ind= df[df[\"거래소코드\"] > 900000].index.tolist()\n",
    "df = df.drop(index = ind).reset_index(drop= True)\n",
    "df.isna().sum()"
   ]
  },
  {
   "cell_type": "markdown",
   "id": "e068df81-f7dd-426c-82a6-b9052f4c4c6f",
   "metadata": {},
   "source": [
    "### 코스닥 결측치 확인"
   ]
  },
  {
   "cell_type": "code",
   "execution_count": 110,
   "id": "db03305a-f969-478a-a423-bf0f47f59d28",
   "metadata": {},
   "outputs": [
    {
     "data": {
      "text/html": [
       "<div>\n",
       "<style scoped>\n",
       "    .dataframe tbody tr th:only-of-type {\n",
       "        vertical-align: middle;\n",
       "    }\n",
       "\n",
       "    .dataframe tbody tr th {\n",
       "        vertical-align: top;\n",
       "    }\n",
       "\n",
       "    .dataframe thead th {\n",
       "        text-align: right;\n",
       "    }\n",
       "</style>\n",
       "<table border=\"1\" class=\"dataframe\">\n",
       "  <thead>\n",
       "    <tr style=\"text-align: right;\">\n",
       "      <th></th>\n",
       "      <th>회사명</th>\n",
       "      <th>거래소코드</th>\n",
       "      <th>회계년도</th>\n",
       "      <th>이자보상배율(이자비용)(IFRS연결)</th>\n",
       "      <th>영업활동으로 인한 현금흐름(간접법)(*)(IFRS연결)(천원)</th>\n",
       "      <th>자본(*)(IFRS연결)(천원)</th>\n",
       "    </tr>\n",
       "  </thead>\n",
       "  <tbody>\n",
       "    <tr>\n",
       "      <th>13880</th>\n",
       "      <td>덕산네오룩스(주)</td>\n",
       "      <td>213420</td>\n",
       "      <td>2014/12</td>\n",
       "      <td>NaN</td>\n",
       "      <td>0.0</td>\n",
       "      <td>102297139.0</td>\n",
       "    </tr>\n",
       "    <tr>\n",
       "      <th>14586</th>\n",
       "      <td>(주)슈프리마</td>\n",
       "      <td>236200</td>\n",
       "      <td>2015/12</td>\n",
       "      <td>NaN</td>\n",
       "      <td>0.0</td>\n",
       "      <td>77130099.0</td>\n",
       "    </tr>\n",
       "  </tbody>\n",
       "</table>\n",
       "</div>"
      ],
      "text/plain": [
       "             회사명   거래소코드     회계년도  이자보상배율(이자비용)(IFRS연결)  \\\n",
       "13880  덕산네오룩스(주)  213420  2014/12                   NaN   \n",
       "14586    (주)슈프리마  236200  2015/12                   NaN   \n",
       "\n",
       "       영업활동으로 인한 현금흐름(간접법)(*)(IFRS연결)(천원)  자본(*)(IFRS연결)(천원)  \n",
       "13880                                 0.0        102297139.0  \n",
       "14586                                 0.0         77130099.0  "
      ]
     },
     "execution_count": 110,
     "metadata": {},
     "output_type": "execute_result"
    }
   ],
   "source": [
    "df[df['이자보상배율(이자비용)(IFRS연결)'].isna()]"
   ]
  },
  {
   "cell_type": "code",
   "execution_count": 111,
   "id": "2968211c-ea88-47e7-8678-725462119b33",
   "metadata": {},
   "outputs": [
    {
     "data": {
      "text/html": [
       "<div>\n",
       "<style scoped>\n",
       "    .dataframe tbody tr th:only-of-type {\n",
       "        vertical-align: middle;\n",
       "    }\n",
       "\n",
       "    .dataframe tbody tr th {\n",
       "        vertical-align: top;\n",
       "    }\n",
       "\n",
       "    .dataframe thead th {\n",
       "        text-align: right;\n",
       "    }\n",
       "</style>\n",
       "<table border=\"1\" class=\"dataframe\">\n",
       "  <thead>\n",
       "    <tr style=\"text-align: right;\">\n",
       "      <th></th>\n",
       "      <th>회사명</th>\n",
       "      <th>거래소코드</th>\n",
       "      <th>회계년도</th>\n",
       "      <th>이자보상배율(이자비용)(IFRS연결)</th>\n",
       "      <th>영업활동으로 인한 현금흐름(간접법)(*)(IFRS연결)(천원)</th>\n",
       "      <th>자본(*)(IFRS연결)(천원)</th>\n",
       "    </tr>\n",
       "  </thead>\n",
       "  <tbody>\n",
       "    <tr>\n",
       "      <th>16174</th>\n",
       "      <td>대명에너지(주)</td>\n",
       "      <td>389260</td>\n",
       "      <td>2020/12</td>\n",
       "      <td>8432098.32</td>\n",
       "      <td>NaN</td>\n",
       "      <td>NaN</td>\n",
       "    </tr>\n",
       "  </tbody>\n",
       "</table>\n",
       "</div>"
      ],
      "text/plain": [
       "            회사명   거래소코드     회계년도  이자보상배율(이자비용)(IFRS연결)  \\\n",
       "16174  대명에너지(주)  389260  2020/12            8432098.32   \n",
       "\n",
       "       영업활동으로 인한 현금흐름(간접법)(*)(IFRS연결)(천원)  자본(*)(IFRS연결)(천원)  \n",
       "16174                                 NaN                NaN  "
      ]
     },
     "execution_count": 111,
     "metadata": {},
     "output_type": "execute_result"
    }
   ],
   "source": [
    "df[df['영업활동으로 인한 현금흐름(간접법)(*)(IFRS연결)(천원)'].isna()]"
   ]
  },
  {
   "cell_type": "code",
   "execution_count": 112,
   "id": "dae4cb8f-4605-4407-bf79-affb2197f089",
   "metadata": {},
   "outputs": [
    {
     "data": {
      "text/html": [
       "<div>\n",
       "<style scoped>\n",
       "    .dataframe tbody tr th:only-of-type {\n",
       "        vertical-align: middle;\n",
       "    }\n",
       "\n",
       "    .dataframe tbody tr th {\n",
       "        vertical-align: top;\n",
       "    }\n",
       "\n",
       "    .dataframe thead th {\n",
       "        text-align: right;\n",
       "    }\n",
       "</style>\n",
       "<table border=\"1\" class=\"dataframe\">\n",
       "  <thead>\n",
       "    <tr style=\"text-align: right;\">\n",
       "      <th></th>\n",
       "      <th>회사명</th>\n",
       "      <th>거래소코드</th>\n",
       "      <th>회계년도</th>\n",
       "      <th>이자보상배율(이자비용)(IFRS연결)</th>\n",
       "      <th>영업활동으로 인한 현금흐름(간접법)(*)(IFRS연결)(천원)</th>\n",
       "      <th>자본(*)(IFRS연결)(천원)</th>\n",
       "    </tr>\n",
       "  </thead>\n",
       "  <tbody>\n",
       "    <tr>\n",
       "      <th>16174</th>\n",
       "      <td>대명에너지(주)</td>\n",
       "      <td>389260</td>\n",
       "      <td>2020/12</td>\n",
       "      <td>8432098.32</td>\n",
       "      <td>NaN</td>\n",
       "      <td>NaN</td>\n",
       "    </tr>\n",
       "  </tbody>\n",
       "</table>\n",
       "</div>"
      ],
      "text/plain": [
       "            회사명   거래소코드     회계년도  이자보상배율(이자비용)(IFRS연결)  \\\n",
       "16174  대명에너지(주)  389260  2020/12            8432098.32   \n",
       "\n",
       "       영업활동으로 인한 현금흐름(간접법)(*)(IFRS연결)(천원)  자본(*)(IFRS연결)(천원)  \n",
       "16174                                 NaN                NaN  "
      ]
     },
     "execution_count": 112,
     "metadata": {},
     "output_type": "execute_result"
    }
   ],
   "source": [
    "df[df['자본(*)(IFRS연결)(천원)'].isna()]"
   ]
  },
  {
   "cell_type": "code",
   "execution_count": 113,
   "id": "ce329981-fe32-472a-be02-415d9b27cf26",
   "metadata": {},
   "outputs": [],
   "source": [
    "# 결측치인것들은 모두 회사의 첫개년도 \n",
    "#덕산네오룩스(주) == 2015년 상장 ->  2014년 데이터인 이자보상배율이 결측치 이지만 2015년도 이자보상배율은 1이상으로 부실기업과 관련 x\n",
    "#(주)슈프리마 == 2016년 상장 -> 2015년 데이터중 이자보상배율이 결측치 이지만 2016년도 이자보상배율은 1이상으로 부실기업과 관련 x   \n",
    "# 대명에너지 == 2022년 상장 -> 2020년 데이터중 현금흐름과 자본이 결측치 2021년도 현금흐름 0이상으로 부실과 관련 x , dart확인시 자본 양으로 인해 부실과 관련 x\n",
    "## 3개 모두 부실 라벨 0으로 사용"
   ]
  },
  {
   "cell_type": "markdown",
   "id": "684faeec-353c-4a24-96f2-a4db303c2b02",
   "metadata": {},
   "source": [
    "### 함수 각 LABEL Feature에 mapping"
   ]
  },
  {
   "cell_type": "code",
   "execution_count": 114,
   "id": "9677bc87-6ca8-42d1-9bb4-f971b67d7e01",
   "metadata": {},
   "outputs": [],
   "source": [
    "df['이자보상배율'] = df['이자보상배율(이자비용)(IFRS연결)'].map(condition1)\n",
    "df['현금흐름'] = df['영업활동으로 인한 현금흐름(간접법)(*)(IFRS연결)(천원)'].map(condition2_3)\n",
    "df['자본'] = df['자본(*)(IFRS연결)(천원)'].map(condition2_3)\n",
    "df['이자_부실'] = 0\n",
    "df['현금흐름_부실'] = 0\n",
    "df['자본_부실'] = 0"
   ]
  },
  {
   "cell_type": "markdown",
   "id": "345e55ff-06e8-4caa-8637-313ef7ecd5e8",
   "metadata": {},
   "source": [
    "### 코스닥 자본이 최근년도 음일경우 부실->1"
   ]
  },
  {
   "cell_type": "code",
   "execution_count": 115,
   "id": "d2488ad8-be19-4ed6-b261-464176af8b43",
   "metadata": {},
   "outputs": [],
   "source": [
    "df['자본_부실'].map( lambda x: 1 if x < 0 else 0)\n",
    "df['부실'] = df['자본'].map( lambda x: 1 if x < 0 else 0)"
   ]
  },
  {
   "cell_type": "markdown",
   "id": "38d7319c-dd5a-4958-82d5-ea6e01e72bac",
   "metadata": {},
   "source": [
    "### 코스닥 이자보상배율 3개년도 1미만일시 부실 ->1"
   ]
  },
  {
   "cell_type": "code",
   "execution_count": 116,
   "id": "ec5dfe13-fbb0-403b-9830-13e6eca46da6",
   "metadata": {},
   "outputs": [],
   "source": [
    "df2 = pd.DataFrame()\n",
    "for i in df['회사명'].unique():\n",
    "    temp = df[df['회사명'] == i]\n",
    "    temp = temp.reset_index(drop = True)\n",
    "    for j in range(len(temp) - 2):\n",
    "        if temp.iloc[j:j+3,6].apply(\"sum\") == -3:\n",
    "            temp.iloc[j+2,-1] = 1\n",
    "            temp.iloc[j+2,-4] = 1\n",
    "    df2 = pd.concat([df2,temp],axis = 0)\n",
    "df = df2"
   ]
  },
  {
   "cell_type": "markdown",
   "id": "46f18441-4936-431b-b96e-d50c90a60946",
   "metadata": {},
   "source": [
    "### 코스닥 현금흐름 3개년도 음일경우 부실 ->1"
   ]
  },
  {
   "cell_type": "code",
   "execution_count": 117,
   "id": "ade6fb9e-8ab2-4585-9aaf-2fdaad6c1ca0",
   "metadata": {},
   "outputs": [],
   "source": [
    "df2 = pd.DataFrame()\n",
    "for i in df['회사명'].unique():\n",
    "    temp = df[df['회사명'] == i]\n",
    "    temp = temp.reset_index(drop = True)\n",
    "    for j in range(len(temp) - 2):\n",
    "        if temp.iloc[j:j+3,7].apply(\"sum\") == -3:\n",
    "            temp.iloc[j+2,-1] = 1\n",
    "            temp.iloc[j+2,-3] = 1\n",
    "    df2 = pd.concat([df2,temp],axis = 0)\n",
    "df = df2"
   ]
  },
  {
   "cell_type": "code",
   "execution_count": 118,
   "id": "74eb4f3e-1e36-4aed-97fd-780e7bf16252",
   "metadata": {},
   "outputs": [],
   "source": [
    "df.to_csv('코스닥_라벨링.csv')"
   ]
  },
  {
   "cell_type": "code",
   "execution_count": 130,
   "id": "3d18742f-eeff-46be-a6d9-ca785f231812",
   "metadata": {},
   "outputs": [],
   "source": [
    "#이자비용이나 부채가 감소하는 방향으로 가고있는 기업 선택"
   ]
  },
  {
   "cell_type": "code",
   "execution_count": null,
   "id": "7b3d9371-509f-4766-ac13-c17d23ef2252",
   "metadata": {},
   "outputs": [],
   "source": []
  },
  {
   "cell_type": "code",
   "execution_count": null,
   "id": "5b36391d-9bbc-4b13-aa08-aa77bb93f735",
   "metadata": {},
   "outputs": [],
   "source": []
  },
  {
   "cell_type": "code",
   "execution_count": null,
   "id": "8734ae14-bcb2-4fb4-81b8-e94e9965a14d",
   "metadata": {},
   "outputs": [],
   "source": []
  },
  {
   "cell_type": "code",
   "execution_count": null,
   "id": "e07703b7-97ed-43cf-8595-fe8bf2dd7b3f",
   "metadata": {},
   "outputs": [],
   "source": []
  },
  {
   "cell_type": "code",
   "execution_count": null,
   "id": "0d7ae992-a266-48c1-ae31-d003dbe2ece5",
   "metadata": {},
   "outputs": [],
   "source": []
  }
 ],
 "metadata": {
  "kernelspec": {
   "display_name": "Python 3 (ipykernel)",
   "language": "python",
   "name": "python3"
  },
  "language_info": {
   "codemirror_mode": {
    "name": "ipython",
    "version": 3
   },
   "file_extension": ".py",
   "mimetype": "text/x-python",
   "name": "python",
   "nbconvert_exporter": "python",
   "pygments_lexer": "ipython3",
   "version": "3.11.5"
  }
 },
 "nbformat": 4,
 "nbformat_minor": 5
}
