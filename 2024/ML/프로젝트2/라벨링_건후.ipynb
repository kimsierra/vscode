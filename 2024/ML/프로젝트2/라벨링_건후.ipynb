{
 "cells": [
  {
   "cell_type": "code",
   "execution_count": 112,
   "id": "156722ad-41d3-4c69-a999-d29a33393baa",
   "metadata": {},
   "outputs": [],
   "source": [
    "import pandas as pd\n",
    "import numpy as np"
   ]
  },
  {
   "cell_type": "code",
   "execution_count": 113,
   "id": "94aa61e0-ee32-48b7-9ab1-6dafa2ce3eac",
   "metadata": {},
   "outputs": [
    {
     "data": {
      "text/plain": [
       "회사명                                     0\n",
       "거래소코드                                   0\n",
       "회계년도                                    0\n",
       "이자보상배율(이자비용)(IFRS연결)                  224\n",
       "영업활동으로 인한 현금흐름(간접법)(*)(IFRS연결)(천원)    224\n",
       "자본(*)(IFRS연결)(천원)                     224\n",
       "dtype: int64"
      ]
     },
     "execution_count": 113,
     "metadata": {},
     "output_type": "execute_result"
    }
   ],
   "source": [
    "df = pd.read_csv('코스피_라벨피쳐_전처리.csv',index_col = 0)\n",
    "df = df.iloc[:,:6]\n",
    "df.isna().sum()"
   ]
  },
  {
   "cell_type": "code",
   "execution_count": 114,
   "id": "7f054c60-6693-42c6-8b44-2dd6e16edf72",
   "metadata": {},
   "outputs": [
    {
     "data": {
      "text/html": [
       "<div>\n",
       "<style scoped>\n",
       "    .dataframe tbody tr th:only-of-type {\n",
       "        vertical-align: middle;\n",
       "    }\n",
       "\n",
       "    .dataframe tbody tr th {\n",
       "        vertical-align: top;\n",
       "    }\n",
       "\n",
       "    .dataframe thead th {\n",
       "        text-align: right;\n",
       "    }\n",
       "</style>\n",
       "<table border=\"1\" class=\"dataframe\">\n",
       "  <thead>\n",
       "    <tr style=\"text-align: right;\">\n",
       "      <th></th>\n",
       "      <th>회사명</th>\n",
       "      <th>거래소코드</th>\n",
       "      <th>회계년도</th>\n",
       "      <th>이자보상배율(이자비용)(IFRS연결)</th>\n",
       "      <th>영업활동으로 인한 현금흐름(간접법)(*)(IFRS연결)(천원)</th>\n",
       "      <th>자본(*)(IFRS연결)(천원)</th>\n",
       "    </tr>\n",
       "  </thead>\n",
       "  <tbody>\n",
       "    <tr>\n",
       "      <th>0</th>\n",
       "      <td>동화약품(주)</td>\n",
       "      <td>20</td>\n",
       "      <td>2010/12</td>\n",
       "      <td>6.25</td>\n",
       "      <td>11628787.0</td>\n",
       "      <td>217153837.0</td>\n",
       "    </tr>\n",
       "    <tr>\n",
       "      <th>1</th>\n",
       "      <td>동화약품(주)</td>\n",
       "      <td>20</td>\n",
       "      <td>2011/12</td>\n",
       "      <td>14.58</td>\n",
       "      <td>46244032.0</td>\n",
       "      <td>229623874.0</td>\n",
       "    </tr>\n",
       "    <tr>\n",
       "      <th>2</th>\n",
       "      <td>동화약품(주)</td>\n",
       "      <td>20</td>\n",
       "      <td>2012/12</td>\n",
       "      <td>9.47</td>\n",
       "      <td>25226760.0</td>\n",
       "      <td>226994670.0</td>\n",
       "    </tr>\n",
       "    <tr>\n",
       "      <th>3</th>\n",
       "      <td>동화약품(주)</td>\n",
       "      <td>20</td>\n",
       "      <td>2013/12</td>\n",
       "      <td>5.37</td>\n",
       "      <td>8205110.0</td>\n",
       "      <td>227231127.0</td>\n",
       "    </tr>\n",
       "    <tr>\n",
       "      <th>4</th>\n",
       "      <td>동화약품(주)</td>\n",
       "      <td>20</td>\n",
       "      <td>2014/12</td>\n",
       "      <td>33.65</td>\n",
       "      <td>13514668.0</td>\n",
       "      <td>229725782.0</td>\n",
       "    </tr>\n",
       "    <tr>\n",
       "      <th>...</th>\n",
       "      <td>...</td>\n",
       "      <td>...</td>\n",
       "      <td>...</td>\n",
       "      <td>...</td>\n",
       "      <td>...</td>\n",
       "      <td>...</td>\n",
       "    </tr>\n",
       "    <tr>\n",
       "      <th>9400</th>\n",
       "      <td>평산차업집단유한공사</td>\n",
       "      <td>950010</td>\n",
       "      <td>2013/12</td>\n",
       "      <td>-3.73</td>\n",
       "      <td>-8319318.0</td>\n",
       "      <td>564467978.0</td>\n",
       "    </tr>\n",
       "    <tr>\n",
       "      <th>9401</th>\n",
       "      <td>평산차업집단유한공사</td>\n",
       "      <td>950010</td>\n",
       "      <td>2014/12</td>\n",
       "      <td>-4.68</td>\n",
       "      <td>38192401.0</td>\n",
       "      <td>506680091.0</td>\n",
       "    </tr>\n",
       "    <tr>\n",
       "      <th>9402</th>\n",
       "      <td>중국고섬공고유한공사</td>\n",
       "      <td>950070</td>\n",
       "      <td>2010/12</td>\n",
       "      <td>160.04</td>\n",
       "      <td>-45607448.0</td>\n",
       "      <td>123584520.0</td>\n",
       "    </tr>\n",
       "    <tr>\n",
       "      <th>9403</th>\n",
       "      <td>중국고섬공고유한공사</td>\n",
       "      <td>950070</td>\n",
       "      <td>2011/12</td>\n",
       "      <td>-5.54</td>\n",
       "      <td>-18326012.0</td>\n",
       "      <td>225755014.0</td>\n",
       "    </tr>\n",
       "    <tr>\n",
       "      <th>9404</th>\n",
       "      <td>중국고섬공고유한공사</td>\n",
       "      <td>950070</td>\n",
       "      <td>2012/12</td>\n",
       "      <td>-3.36</td>\n",
       "      <td>-14132145.0</td>\n",
       "      <td>197742612.0</td>\n",
       "    </tr>\n",
       "  </tbody>\n",
       "</table>\n",
       "<p>9405 rows × 6 columns</p>\n",
       "</div>"
      ],
      "text/plain": [
       "             회사명   거래소코드     회계년도  이자보상배율(이자비용)(IFRS연결)  \\\n",
       "0        동화약품(주)      20  2010/12                  6.25   \n",
       "1        동화약품(주)      20  2011/12                 14.58   \n",
       "2        동화약품(주)      20  2012/12                  9.47   \n",
       "3        동화약품(주)      20  2013/12                  5.37   \n",
       "4        동화약품(주)      20  2014/12                 33.65   \n",
       "...          ...     ...      ...                   ...   \n",
       "9400  평산차업집단유한공사  950010  2013/12                 -3.73   \n",
       "9401  평산차업집단유한공사  950010  2014/12                 -4.68   \n",
       "9402  중국고섬공고유한공사  950070  2010/12                160.04   \n",
       "9403  중국고섬공고유한공사  950070  2011/12                 -5.54   \n",
       "9404  중국고섬공고유한공사  950070  2012/12                 -3.36   \n",
       "\n",
       "      영업활동으로 인한 현금흐름(간접법)(*)(IFRS연결)(천원)  자본(*)(IFRS연결)(천원)  \n",
       "0                             11628787.0        217153837.0  \n",
       "1                             46244032.0        229623874.0  \n",
       "2                             25226760.0        226994670.0  \n",
       "3                              8205110.0        227231127.0  \n",
       "4                             13514668.0        229725782.0  \n",
       "...                                  ...                ...  \n",
       "9400                          -8319318.0        564467978.0  \n",
       "9401                          38192401.0        506680091.0  \n",
       "9402                         -45607448.0        123584520.0  \n",
       "9403                         -18326012.0        225755014.0  \n",
       "9404                         -14132145.0        197742612.0  \n",
       "\n",
       "[9405 rows x 6 columns]"
      ]
     },
     "execution_count": 114,
     "metadata": {},
     "output_type": "execute_result"
    }
   ],
   "source": [
    "ind = np.where(df.iloc[:,3:].isna().all(axis=1))[0]\n",
    "df = df.sort_values(['거래소코드','회사명','회계년도'])\n",
    "df = df.drop(index = ind).reset_index(drop=True)\n",
    "df"
   ]
  },
  {
   "cell_type": "code",
   "execution_count": 115,
   "id": "b7195c0e-d884-4e75-b76f-c01e62eafb63",
   "metadata": {},
   "outputs": [],
   "source": [
    "def condition1(x):\n",
    "    if x< 1:\n",
    "        return -1\n",
    "    else :\n",
    "        return 0\n",
    "        \n",
    "def condition2_3(x):\n",
    "    if x< 0:\n",
    "        return -1\n",
    "    else :\n",
    "        return 0"
   ]
  },
  {
   "cell_type": "code",
   "execution_count": 116,
   "id": "bace84f0-1821-419e-82ae-f11b9c3763b6",
   "metadata": {},
   "outputs": [],
   "source": [
    "df['이자보상배율'] = df['이자보상배율(이자비용)(IFRS연결)'].map(condition1)\n",
    "df['현금흐름'] = df['영업활동으로 인한 현금흐름(간접법)(*)(IFRS연결)(천원)'].map(condition2_3)\n",
    "df['자본'] = df['자본(*)(IFRS연결)(천원)'].map(condition2_3)"
   ]
  },
  {
   "cell_type": "code",
   "execution_count": 117,
   "id": "0f698d9b-9b22-4352-b8ea-4cd2d2107a4e",
   "metadata": {},
   "outputs": [],
   "source": [
    "df['부실'] = df['자본'].map( lambda x: 1 if x < 0 else 0)"
   ]
  },
  {
   "cell_type": "code",
   "execution_count": 118,
   "id": "4f1a48e6-d117-42e0-96ce-b630e3927b16",
   "metadata": {},
   "outputs": [],
   "source": [
    "df2 = pd.DataFrame()\n",
    "for i in df['회사명'].unique():\n",
    "    temp = df[df['회사명'] == i]\n",
    "    temp = temp.reset_index(drop = True)\n",
    "    for j in range(len(temp) - 2):\n",
    "        if temp.iloc[j:j+3,6].apply(\"sum\") == -3:\n",
    "            temp.iloc[j+2,-1] = 1\n",
    "    df2 = pd.concat([df2,temp],axis = 0)\n",
    "df = df2"
   ]
  },
  {
   "cell_type": "code",
   "execution_count": 119,
   "id": "f60732aa-dc97-48c3-af2b-7d0d8941f8a1",
   "metadata": {},
   "outputs": [],
   "source": [
    "df2 = pd.DataFrame()\n",
    "for i in df['회사명'].unique():\n",
    "    temp = df[df['회사명'] == i]\n",
    "    temp = temp.reset_index(drop = True)\n",
    "    for j in range(len(temp) - 2):\n",
    "        if temp.iloc[j:j+3,7].apply(\"sum\") == -3:\n",
    "            temp.iloc[j+2,-1] = 1\n",
    "    df2 = pd.concat([df2,temp],axis = 0)\n",
    "df = df2"
   ]
  },
  {
   "cell_type": "code",
   "execution_count": 120,
   "id": "a2fb056f-6348-4b6f-b719-9770ae4600ed",
   "metadata": {},
   "outputs": [],
   "source": [
    "df.to_csv('코스피_라벨링.csv')"
   ]
  },
  {
   "cell_type": "code",
   "execution_count": 121,
   "id": "c70c600c-5bdd-4896-8eef-8bf18827c48f",
   "metadata": {},
   "outputs": [
    {
     "data": {
      "text/plain": [
       "회사명                                      0\n",
       "거래소코드                                    0\n",
       "회계년도                                     0\n",
       "이자보상배율(이자비용)(IFRS연결)                  2357\n",
       "영업활동으로 인한 현금흐름(간접법)(*)(IFRS연결)(천원)    2356\n",
       "자본(*)(IFRS연결)(천원)                     2356\n",
       "dtype: int64"
      ]
     },
     "execution_count": 121,
     "metadata": {},
     "output_type": "execute_result"
    }
   ],
   "source": [
    "df = pd.read_csv('코스닥_라벨피쳐_전처리.csv',index_col = 0)\n",
    "df = df.iloc[:,:6]\n",
    "df.isna().sum()"
   ]
  },
  {
   "cell_type": "code",
   "execution_count": 122,
   "id": "25ba3c14-6ab6-405f-ba7f-09ac713c1811",
   "metadata": {},
   "outputs": [
    {
     "data": {
      "text/html": [
       "<div>\n",
       "<style scoped>\n",
       "    .dataframe tbody tr th:only-of-type {\n",
       "        vertical-align: middle;\n",
       "    }\n",
       "\n",
       "    .dataframe tbody tr th {\n",
       "        vertical-align: top;\n",
       "    }\n",
       "\n",
       "    .dataframe thead th {\n",
       "        text-align: right;\n",
       "    }\n",
       "</style>\n",
       "<table border=\"1\" class=\"dataframe\">\n",
       "  <thead>\n",
       "    <tr style=\"text-align: right;\">\n",
       "      <th></th>\n",
       "      <th>회사명</th>\n",
       "      <th>거래소코드</th>\n",
       "      <th>회계년도</th>\n",
       "      <th>이자보상배율(이자비용)(IFRS연결)</th>\n",
       "      <th>영업활동으로 인한 현금흐름(간접법)(*)(IFRS연결)(천원)</th>\n",
       "      <th>자본(*)(IFRS연결)(천원)</th>\n",
       "    </tr>\n",
       "  </thead>\n",
       "  <tbody>\n",
       "    <tr>\n",
       "      <th>0</th>\n",
       "      <td>삼천당제약(주)</td>\n",
       "      <td>250</td>\n",
       "      <td>2010/12</td>\n",
       "      <td>104.600000</td>\n",
       "      <td>10860780.0</td>\n",
       "      <td>80827680.0</td>\n",
       "    </tr>\n",
       "    <tr>\n",
       "      <th>1</th>\n",
       "      <td>삼천당제약(주)</td>\n",
       "      <td>250</td>\n",
       "      <td>2011/12</td>\n",
       "      <td>127.500000</td>\n",
       "      <td>11351295.0</td>\n",
       "      <td>84091916.0</td>\n",
       "    </tr>\n",
       "    <tr>\n",
       "      <th>2</th>\n",
       "      <td>삼천당제약(주)</td>\n",
       "      <td>250</td>\n",
       "      <td>2012/12</td>\n",
       "      <td>203.800000</td>\n",
       "      <td>1602316.0</td>\n",
       "      <td>86634240.0</td>\n",
       "    </tr>\n",
       "    <tr>\n",
       "      <th>3</th>\n",
       "      <td>삼천당제약(주)</td>\n",
       "      <td>250</td>\n",
       "      <td>2013/12</td>\n",
       "      <td>17.310000</td>\n",
       "      <td>15941392.0</td>\n",
       "      <td>119231455.0</td>\n",
       "    </tr>\n",
       "    <tr>\n",
       "      <th>4</th>\n",
       "      <td>삼천당제약(주)</td>\n",
       "      <td>250</td>\n",
       "      <td>2014/12</td>\n",
       "      <td>37.970000</td>\n",
       "      <td>19549844.0</td>\n",
       "      <td>139676351.0</td>\n",
       "    </tr>\n",
       "    <tr>\n",
       "      <th>...</th>\n",
       "      <td>...</td>\n",
       "      <td>...</td>\n",
       "      <td>...</td>\n",
       "      <td>...</td>\n",
       "      <td>...</td>\n",
       "      <td>...</td>\n",
       "    </tr>\n",
       "    <tr>\n",
       "      <th>16736</th>\n",
       "      <td>(주)소마젠</td>\n",
       "      <td>950200</td>\n",
       "      <td>2022/12</td>\n",
       "      <td>-6.090000</td>\n",
       "      <td>-288735.0</td>\n",
       "      <td>35683447.0</td>\n",
       "    </tr>\n",
       "    <tr>\n",
       "      <th>16737</th>\n",
       "      <td>(주)네오이뮨텍</td>\n",
       "      <td>950220</td>\n",
       "      <td>2019/12</td>\n",
       "      <td>-124.505337</td>\n",
       "      <td>-14788020.0</td>\n",
       "      <td>115885823.0</td>\n",
       "    </tr>\n",
       "    <tr>\n",
       "      <th>16738</th>\n",
       "      <td>(주)네오이뮨텍</td>\n",
       "      <td>950220</td>\n",
       "      <td>2020/12</td>\n",
       "      <td>-168.300000</td>\n",
       "      <td>-28906170.0</td>\n",
       "      <td>84226680.0</td>\n",
       "    </tr>\n",
       "    <tr>\n",
       "      <th>16739</th>\n",
       "      <td>(주)네오이뮨텍</td>\n",
       "      <td>950220</td>\n",
       "      <td>2021/12</td>\n",
       "      <td>-236.850000</td>\n",
       "      <td>-33886577.0</td>\n",
       "      <td>162042429.0</td>\n",
       "    </tr>\n",
       "    <tr>\n",
       "      <th>16740</th>\n",
       "      <td>(주)네오이뮨텍</td>\n",
       "      <td>950220</td>\n",
       "      <td>2022/12</td>\n",
       "      <td>-222.590000</td>\n",
       "      <td>-42404803.0</td>\n",
       "      <td>119689261.0</td>\n",
       "    </tr>\n",
       "  </tbody>\n",
       "</table>\n",
       "<p>16741 rows × 6 columns</p>\n",
       "</div>"
      ],
      "text/plain": [
       "            회사명   거래소코드     회계년도  이자보상배율(이자비용)(IFRS연결)  \\\n",
       "0      삼천당제약(주)     250  2010/12            104.600000   \n",
       "1      삼천당제약(주)     250  2011/12            127.500000   \n",
       "2      삼천당제약(주)     250  2012/12            203.800000   \n",
       "3      삼천당제약(주)     250  2013/12             17.310000   \n",
       "4      삼천당제약(주)     250  2014/12             37.970000   \n",
       "...         ...     ...      ...                   ...   \n",
       "16736    (주)소마젠  950200  2022/12             -6.090000   \n",
       "16737  (주)네오이뮨텍  950220  2019/12           -124.505337   \n",
       "16738  (주)네오이뮨텍  950220  2020/12           -168.300000   \n",
       "16739  (주)네오이뮨텍  950220  2021/12           -236.850000   \n",
       "16740  (주)네오이뮨텍  950220  2022/12           -222.590000   \n",
       "\n",
       "       영업활동으로 인한 현금흐름(간접법)(*)(IFRS연결)(천원)  자본(*)(IFRS연결)(천원)  \n",
       "0                              10860780.0         80827680.0  \n",
       "1                              11351295.0         84091916.0  \n",
       "2                               1602316.0         86634240.0  \n",
       "3                              15941392.0        119231455.0  \n",
       "4                              19549844.0        139676351.0  \n",
       "...                                   ...                ...  \n",
       "16736                           -288735.0         35683447.0  \n",
       "16737                         -14788020.0        115885823.0  \n",
       "16738                         -28906170.0         84226680.0  \n",
       "16739                         -33886577.0        162042429.0  \n",
       "16740                         -42404803.0        119689261.0  \n",
       "\n",
       "[16741 rows x 6 columns]"
      ]
     },
     "execution_count": 122,
     "metadata": {},
     "output_type": "execute_result"
    }
   ],
   "source": [
    "ind = np.where(df.iloc[:,3:].isna().all(axis=1))[0]\n",
    "df = df.sort_values(['거래소코드','회사명','회계년도'])\n",
    "df = df.drop(index = ind).reset_index(drop=True)\n",
    "df"
   ]
  },
  {
   "cell_type": "code",
   "execution_count": 123,
   "id": "9677bc87-6ca8-42d1-9bb4-f971b67d7e01",
   "metadata": {},
   "outputs": [],
   "source": [
    "df['이자보상배율'] = df['이자보상배율(이자비용)(IFRS연결)'].map(condition1)\n",
    "df['현금흐름'] = df['영업활동으로 인한 현금흐름(간접법)(*)(IFRS연결)(천원)'].map(condition2_3)\n",
    "df['자본'] = df['자본(*)(IFRS연결)(천원)'].map(condition2_3)"
   ]
  },
  {
   "cell_type": "code",
   "execution_count": 124,
   "id": "d2488ad8-be19-4ed6-b261-464176af8b43",
   "metadata": {},
   "outputs": [],
   "source": [
    "df['부실'] = df['자본'].map( lambda x: 1 if x < 0 else 0)"
   ]
  },
  {
   "cell_type": "code",
   "execution_count": 125,
   "id": "ec5dfe13-fbb0-403b-9830-13e6eca46da6",
   "metadata": {},
   "outputs": [],
   "source": [
    "df2 = pd.DataFrame()\n",
    "for i in df['회사명'].unique():\n",
    "    temp = df[df['회사명'] == i]\n",
    "    temp = temp.reset_index(drop = True)\n",
    "    for j in range(len(temp) - 2):\n",
    "        if temp.iloc[j:j+3,6].apply(\"sum\") == -3:\n",
    "            temp.iloc[j+2,-1] = 1\n",
    "    df2 = pd.concat([df2,temp],axis = 0)\n",
    "df = df2"
   ]
  },
  {
   "cell_type": "code",
   "execution_count": 126,
   "id": "ade6fb9e-8ab2-4585-9aaf-2fdaad6c1ca0",
   "metadata": {},
   "outputs": [],
   "source": [
    "df2 = pd.DataFrame()\n",
    "for i in df['회사명'].unique():\n",
    "    temp = df[df['회사명'] == i]\n",
    "    temp = temp.reset_index(drop = True)\n",
    "    for j in range(len(temp) - 2):\n",
    "        if temp.iloc[j:j+3,7].apply(\"sum\") == -3:\n",
    "            temp.iloc[j+2,-1] = 1\n",
    "    df2 = pd.concat([df2,temp],axis = 0)\n",
    "df = df2"
   ]
  },
  {
   "cell_type": "code",
   "execution_count": 127,
   "id": "74eb4f3e-1e36-4aed-97fd-780e7bf16252",
   "metadata": {},
   "outputs": [],
   "source": [
    "df.to_csv('코스닥_라벨링.csv')"
   ]
  },
  {
   "cell_type": "code",
   "execution_count": 128,
   "id": "2190f0de-1e52-417f-bbee-109fb6d51c1f",
   "metadata": {},
   "outputs": [
    {
     "data": {
      "text/plain": [
       "811"
      ]
     },
     "execution_count": 128,
     "metadata": {},
     "output_type": "execute_result"
    }
   ],
   "source": [
    "len(df[df['부실'] == 1]['회사명'].unique())"
   ]
  },
  {
   "cell_type": "code",
   "execution_count": 129,
   "id": "0e7340ea-e51f-4f2f-9f87-835d24e1920a",
   "metadata": {},
   "outputs": [
    {
     "data": {
      "text/plain": [
       "1862"
      ]
     },
     "execution_count": 129,
     "metadata": {},
     "output_type": "execute_result"
    }
   ],
   "source": [
    "len(df['회사명'].unique())"
   ]
  },
  {
   "cell_type": "code",
   "execution_count": 130,
   "id": "3d18742f-eeff-46be-a6d9-ca785f231812",
   "metadata": {},
   "outputs": [],
   "source": [
    "#이자비용이나 부채가 감소하는 방향으로 가고있는 기업 선택"
   ]
  },
  {
   "cell_type": "code",
   "execution_count": 131,
   "id": "8b3ef57c-b3f6-4110-b8eb-e4a3a4299b41",
   "metadata": {},
   "outputs": [
    {
     "data": {
      "text/plain": [
       "부실\n",
       "0    13960\n",
       "1     2781\n",
       "Name: count, dtype: int64"
      ]
     },
     "execution_count": 131,
     "metadata": {},
     "output_type": "execute_result"
    }
   ],
   "source": [
    "df['부실'].value_counts()"
   ]
  },
  {
   "cell_type": "code",
   "execution_count": 132,
   "id": "43bc592a-7c68-4391-a571-a33c969af248",
   "metadata": {},
   "outputs": [],
   "source": [
    "df = pd.read_csv('코스닥_라벨링.csv',index_col = 0)"
   ]
  },
  {
   "cell_type": "code",
   "execution_count": 133,
   "id": "7b3d9371-509f-4766-ac13-c17d23ef2252",
   "metadata": {},
   "outputs": [],
   "source": [
    "enp_name = ['(주)이십일스토어', '(주)디와이디', '(주)비유테크놀러지', '글로본(주)', '(주)자비스', '에코캡(주)', '(주)카이노스메드', '(주)디딤이앤에프', '(주)넵튠', '(주)뉴온', '(주)스피어파워', '지엘팜텍(주)', '(주)액션스퀘어', '(주)모비스', '(주)우정바이오', '(주)유디피', '(주)셀바스헬스케어', '(주)바이오로그디바이스', '(주)코아시아씨엠', '케이에이치건설(주)', '(주)애닉', '(주)본느', '(주)로보로보', '글로벌텍스프리(주)', '(주)썸에이지', '에스지에이솔루션즈(주)', '(주)엔투텍', '(주)쎄노텍', '나무기술(주)', '엠에프엠코리아(주)', '(주)웹솔루스', '(주)세토피아', '(주)스튜디오산타클로스엔터테인먼트', '(주)애드바이오텍', '(주)베노티앤알', '(주)셀리드', '(주)비큐AI', '로스웰인터내셔널(유)', '(주)티씨엠생명과학', '(주)휴센텍', '(주)나노', '(주)우성아이비', '(주)네온테크', '원텍(주)', '(주)아이엘사이언스', '(주)한송네오텍', '(주)넥슨게임즈', '(주)엘피케이로보틱스']"
   ]
  },
  {
   "cell_type": "code",
   "execution_count": null,
   "id": "5b36391d-9bbc-4b13-aa08-aa77bb93f735",
   "metadata": {},
   "outputs": [],
   "source": []
  },
  {
   "cell_type": "code",
   "execution_count": null,
   "id": "8734ae14-bcb2-4fb4-81b8-e94e9965a14d",
   "metadata": {},
   "outputs": [],
   "source": []
  },
  {
   "cell_type": "code",
   "execution_count": null,
   "id": "e07703b7-97ed-43cf-8595-fe8bf2dd7b3f",
   "metadata": {},
   "outputs": [],
   "source": []
  },
  {
   "cell_type": "code",
   "execution_count": null,
   "id": "0d7ae992-a266-48c1-ae31-d003dbe2ece5",
   "metadata": {},
   "outputs": [],
   "source": []
  }
 ],
 "metadata": {
  "kernelspec": {
   "display_name": "Python 3 (ipykernel)",
   "language": "python",
   "name": "python3"
  },
  "language_info": {
   "codemirror_mode": {
    "name": "ipython",
    "version": 3
   },
   "file_extension": ".py",
   "mimetype": "text/x-python",
   "name": "python",
   "nbconvert_exporter": "python",
   "pygments_lexer": "ipython3",
   "version": "3.11.5"
  }
 },
 "nbformat": 4,
 "nbformat_minor": 5
}
