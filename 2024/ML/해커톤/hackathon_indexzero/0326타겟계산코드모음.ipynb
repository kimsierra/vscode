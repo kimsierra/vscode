{
 "cells": [
  {
   "cell_type": "code",
   "execution_count": null,
   "metadata": {},
   "outputs": [],
   "source": [
    " # 등락률을 기준으로 다음 날 등락률 계산 후 target 생성\n",
    "        df['next_day_return'] = df['등락률'].shift(-1)\n",
    "        df['target'] = df['next_day_return'].apply(lambda x: 1 if x > 0.25 else -1)\n",
    "        df.dropna(inplace=True)  # 마지막 행 삭제\n",
    "\n",
    "        first_column_name = df.columns[0]\n",
    "\n",
    "        df1= df.iloc[:-500, :]\n",
    "        X = df1.drop(['next_day_return','target'], axis=1)\n",
    "        y = df1['target']"
   ]
  },
  {
   "cell_type": "code",
   "execution_count": null,
   "metadata": {},
   "outputs": [],
   "source": [
    "# 누락된 값을 가진 행 제거\n",
    "data_cleaned = df.dropna()\n",
    "\n",
    "df['next_day_return'] = (df['종가'].shift(-1) - df['종가'])/ df['종가'] *100\n",
    "df.dropna(inplace=True)\n",
    "\n",
    "first_column_name = df.columns[0]\n",
    "X = df.drop(['next_day_return'], axis=1) \n",
    "y = df['next_day_return']\n"
   ]
  },
  {
   "cell_type": "code",
   "execution_count": null,
   "metadata": {},
   "outputs": [],
   "source": []
  }
 ],
 "metadata": {
  "language_info": {
   "name": "python"
  }
 },
 "nbformat": 4,
 "nbformat_minor": 2
}
