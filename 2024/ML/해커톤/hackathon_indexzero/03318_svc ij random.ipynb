{
 "cells": [
  {
   "cell_type": "code",
   "execution_count": 1,
   "metadata": {},
   "outputs": [
    {
     "data": {
      "application/vnd.jupyter.widget-view+json": {
       "model_id": "a90d95ede50b4204b73ef5905a256a89",
       "version_major": 2,
       "version_minor": 0
      },
      "text/plain": [
       "Outer Loop (train_test_split random_state):   0%|          | 0/100 [00:00<?, ?it/s]"
      ]
     },
     "metadata": {},
     "output_type": "display_data"
    },
    {
     "data": {
      "application/vnd.jupyter.widget-view+json": {
       "model_id": "b477c9b79c664e8a8eb9ce078113ce9b",
       "version_major": 2,
       "version_minor": 0
      },
      "text/plain": [
       "Inner Loop (SVC random_state):   0%|          | 0/50 [00:00<?, ?it/s]"
      ]
     },
     "metadata": {},
     "output_type": "display_data"
    },
    {
     "data": {
      "application/vnd.jupyter.widget-view+json": {
       "model_id": "0c31fefd18ee47e78896d5a7b49b74d8",
       "version_major": 2,
       "version_minor": 0
      },
      "text/plain": [
       "Inner Loop (SVC random_state):   0%|          | 0/50 [00:00<?, ?it/s]"
      ]
     },
     "metadata": {},
     "output_type": "display_data"
    },
    {
     "data": {
      "application/vnd.jupyter.widget-view+json": {
       "model_id": "0b3502a55fd14bc2a51026ced40d9004",
       "version_major": 2,
       "version_minor": 0
      },
      "text/plain": [
       "Inner Loop (SVC random_state):   0%|          | 0/50 [00:00<?, ?it/s]"
      ]
     },
     "metadata": {},
     "output_type": "display_data"
    },
    {
     "data": {
      "application/vnd.jupyter.widget-view+json": {
       "model_id": "0541699f84e946efb6234abad5be9663",
       "version_major": 2,
       "version_minor": 0
      },
      "text/plain": [
       "Inner Loop (SVC random_state):   0%|          | 0/50 [00:00<?, ?it/s]"
      ]
     },
     "metadata": {},
     "output_type": "display_data"
    },
    {
     "data": {
      "application/vnd.jupyter.widget-view+json": {
       "model_id": "23594dc615984cc59dd11260c69a964c",
       "version_major": 2,
       "version_minor": 0
      },
      "text/plain": [
       "Inner Loop (SVC random_state):   0%|          | 0/50 [00:00<?, ?it/s]"
      ]
     },
     "metadata": {},
     "output_type": "display_data"
    },
    {
     "data": {
      "application/vnd.jupyter.widget-view+json": {
       "model_id": "032c4901aefa4eb890eefe3919b46f30",
       "version_major": 2,
       "version_minor": 0
      },
      "text/plain": [
       "Inner Loop (SVC random_state):   0%|          | 0/50 [00:00<?, ?it/s]"
      ]
     },
     "metadata": {},
     "output_type": "display_data"
    },
    {
     "data": {
      "application/vnd.jupyter.widget-view+json": {
       "model_id": "faae5b0c69cc4164942afa8ba52fd83c",
       "version_major": 2,
       "version_minor": 0
      },
      "text/plain": [
       "Inner Loop (SVC random_state):   0%|          | 0/50 [00:00<?, ?it/s]"
      ]
     },
     "metadata": {},
     "output_type": "display_data"
    },
    {
     "data": {
      "application/vnd.jupyter.widget-view+json": {
       "model_id": "4bce44aee1cb45de8b9e5c3c9e6282cf",
       "version_major": 2,
       "version_minor": 0
      },
      "text/plain": [
       "Inner Loop (SVC random_state):   0%|          | 0/50 [00:00<?, ?it/s]"
      ]
     },
     "metadata": {},
     "output_type": "display_data"
    },
    {
     "data": {
      "application/vnd.jupyter.widget-view+json": {
       "model_id": "1f18c640ebb14dd3b7b0b8b86a5db527",
       "version_major": 2,
       "version_minor": 0
      },
      "text/plain": [
       "Inner Loop (SVC random_state):   0%|          | 0/50 [00:00<?, ?it/s]"
      ]
     },
     "metadata": {},
     "output_type": "display_data"
    },
    {
     "data": {
      "application/vnd.jupyter.widget-view+json": {
       "model_id": "a7f338b01f8b4729abf626fee9cbd46c",
       "version_major": 2,
       "version_minor": 0
      },
      "text/plain": [
       "Inner Loop (SVC random_state):   0%|          | 0/50 [00:00<?, ?it/s]"
      ]
     },
     "metadata": {},
     "output_type": "display_data"
    },
    {
     "data": {
      "application/vnd.jupyter.widget-view+json": {
       "model_id": "3feddfc786af48ee9acaf59fe1808b0f",
       "version_major": 2,
       "version_minor": 0
      },
      "text/plain": [
       "Inner Loop (SVC random_state):   0%|          | 0/50 [00:00<?, ?it/s]"
      ]
     },
     "metadata": {},
     "output_type": "display_data"
    },
    {
     "data": {
      "application/vnd.jupyter.widget-view+json": {
       "model_id": "a77535a797f94b2484c1f385381d124f",
       "version_major": 2,
       "version_minor": 0
      },
      "text/plain": [
       "Inner Loop (SVC random_state):   0%|          | 0/50 [00:00<?, ?it/s]"
      ]
     },
     "metadata": {},
     "output_type": "display_data"
    },
    {
     "data": {
      "application/vnd.jupyter.widget-view+json": {
       "model_id": "3b1766d258494953bfb504ee3ba5bee5",
       "version_major": 2,
       "version_minor": 0
      },
      "text/plain": [
       "Inner Loop (SVC random_state):   0%|          | 0/50 [00:00<?, ?it/s]"
      ]
     },
     "metadata": {},
     "output_type": "display_data"
    },
    {
     "data": {
      "application/vnd.jupyter.widget-view+json": {
       "model_id": "8722d4de9baa4bcb9c5a78128771560c",
       "version_major": 2,
       "version_minor": 0
      },
      "text/plain": [
       "Inner Loop (SVC random_state):   0%|          | 0/50 [00:00<?, ?it/s]"
      ]
     },
     "metadata": {},
     "output_type": "display_data"
    },
    {
     "data": {
      "application/vnd.jupyter.widget-view+json": {
       "model_id": "cc4420fe94ef4a7b8424937c2db41bb3",
       "version_major": 2,
       "version_minor": 0
      },
      "text/plain": [
       "Inner Loop (SVC random_state):   0%|          | 0/50 [00:00<?, ?it/s]"
      ]
     },
     "metadata": {},
     "output_type": "display_data"
    },
    {
     "data": {
      "application/vnd.jupyter.widget-view+json": {
       "model_id": "84bf55a3e802494ab0f8af6b35b286ba",
       "version_major": 2,
       "version_minor": 0
      },
      "text/plain": [
       "Inner Loop (SVC random_state):   0%|          | 0/50 [00:00<?, ?it/s]"
      ]
     },
     "metadata": {},
     "output_type": "display_data"
    },
    {
     "data": {
      "application/vnd.jupyter.widget-view+json": {
       "model_id": "b8d5545312d94f89af9ad13bfab829be",
       "version_major": 2,
       "version_minor": 0
      },
      "text/plain": [
       "Inner Loop (SVC random_state):   0%|          | 0/50 [00:00<?, ?it/s]"
      ]
     },
     "metadata": {},
     "output_type": "display_data"
    },
    {
     "data": {
      "application/vnd.jupyter.widget-view+json": {
       "model_id": "1d104f002a8d4c60a91ed4e2dc90c57a",
       "version_major": 2,
       "version_minor": 0
      },
      "text/plain": [
       "Inner Loop (SVC random_state):   0%|          | 0/50 [00:00<?, ?it/s]"
      ]
     },
     "metadata": {},
     "output_type": "display_data"
    },
    {
     "data": {
      "application/vnd.jupyter.widget-view+json": {
       "model_id": "8ef9c21f706c4c89b809de0c5f663872",
       "version_major": 2,
       "version_minor": 0
      },
      "text/plain": [
       "Inner Loop (SVC random_state):   0%|          | 0/50 [00:00<?, ?it/s]"
      ]
     },
     "metadata": {},
     "output_type": "display_data"
    },
    {
     "data": {
      "application/vnd.jupyter.widget-view+json": {
       "model_id": "903a76985e5644629b680b92ca4d1a29",
       "version_major": 2,
       "version_minor": 0
      },
      "text/plain": [
       "Inner Loop (SVC random_state):   0%|          | 0/50 [00:00<?, ?it/s]"
      ]
     },
     "metadata": {},
     "output_type": "display_data"
    },
    {
     "data": {
      "application/vnd.jupyter.widget-view+json": {
       "model_id": "9e239434fa1c4f9993d2e75c5ba6f36a",
       "version_major": 2,
       "version_minor": 0
      },
      "text/plain": [
       "Inner Loop (SVC random_state):   0%|          | 0/50 [00:00<?, ?it/s]"
      ]
     },
     "metadata": {},
     "output_type": "display_data"
    },
    {
     "data": {
      "application/vnd.jupyter.widget-view+json": {
       "model_id": "24b2031f814c453985b224bf6fc861ac",
       "version_major": 2,
       "version_minor": 0
      },
      "text/plain": [
       "Inner Loop (SVC random_state):   0%|          | 0/50 [00:00<?, ?it/s]"
      ]
     },
     "metadata": {},
     "output_type": "display_data"
    },
    {
     "data": {
      "application/vnd.jupyter.widget-view+json": {
       "model_id": "d852d0e714e142429d251ea1f1d4880d",
       "version_major": 2,
       "version_minor": 0
      },
      "text/plain": [
       "Inner Loop (SVC random_state):   0%|          | 0/50 [00:00<?, ?it/s]"
      ]
     },
     "metadata": {},
     "output_type": "display_data"
    },
    {
     "data": {
      "application/vnd.jupyter.widget-view+json": {
       "model_id": "821ea355ef86403ab5f5950111bc730c",
       "version_major": 2,
       "version_minor": 0
      },
      "text/plain": [
       "Inner Loop (SVC random_state):   0%|          | 0/50 [00:00<?, ?it/s]"
      ]
     },
     "metadata": {},
     "output_type": "display_data"
    },
    {
     "data": {
      "application/vnd.jupyter.widget-view+json": {
       "model_id": "d67303be8ece47b1b9965ce1ffd6087a",
       "version_major": 2,
       "version_minor": 0
      },
      "text/plain": [
       "Inner Loop (SVC random_state):   0%|          | 0/50 [00:00<?, ?it/s]"
      ]
     },
     "metadata": {},
     "output_type": "display_data"
    },
    {
     "data": {
      "application/vnd.jupyter.widget-view+json": {
       "model_id": "f0d56eb823ba4735b933e2f3e02699a1",
       "version_major": 2,
       "version_minor": 0
      },
      "text/plain": [
       "Inner Loop (SVC random_state):   0%|          | 0/50 [00:00<?, ?it/s]"
      ]
     },
     "metadata": {},
     "output_type": "display_data"
    },
    {
     "data": {
      "application/vnd.jupyter.widget-view+json": {
       "model_id": "5f3cbb0d02f6474b87a618d7f86d6b42",
       "version_major": 2,
       "version_minor": 0
      },
      "text/plain": [
       "Inner Loop (SVC random_state):   0%|          | 0/50 [00:00<?, ?it/s]"
      ]
     },
     "metadata": {},
     "output_type": "display_data"
    },
    {
     "data": {
      "application/vnd.jupyter.widget-view+json": {
       "model_id": "3077fb6afe13401bbb198eec8d089831",
       "version_major": 2,
       "version_minor": 0
      },
      "text/plain": [
       "Inner Loop (SVC random_state):   0%|          | 0/50 [00:00<?, ?it/s]"
      ]
     },
     "metadata": {},
     "output_type": "display_data"
    },
    {
     "data": {
      "application/vnd.jupyter.widget-view+json": {
       "model_id": "7e78ea664e95449a9b2ee1cbaf2b13fd",
       "version_major": 2,
       "version_minor": 0
      },
      "text/plain": [
       "Inner Loop (SVC random_state):   0%|          | 0/50 [00:00<?, ?it/s]"
      ]
     },
     "metadata": {},
     "output_type": "display_data"
    },
    {
     "data": {
      "application/vnd.jupyter.widget-view+json": {
       "model_id": "62f8c1cada524224a34214767789d1db",
       "version_major": 2,
       "version_minor": 0
      },
      "text/plain": [
       "Inner Loop (SVC random_state):   0%|          | 0/50 [00:00<?, ?it/s]"
      ]
     },
     "metadata": {},
     "output_type": "display_data"
    },
    {
     "data": {
      "application/vnd.jupyter.widget-view+json": {
       "model_id": "c8627f9f84b54bee81c344653c507164",
       "version_major": 2,
       "version_minor": 0
      },
      "text/plain": [
       "Inner Loop (SVC random_state):   0%|          | 0/50 [00:00<?, ?it/s]"
      ]
     },
     "metadata": {},
     "output_type": "display_data"
    },
    {
     "data": {
      "application/vnd.jupyter.widget-view+json": {
       "model_id": "cb58bacbbcda4dd2a3b1b75e39441eef",
       "version_major": 2,
       "version_minor": 0
      },
      "text/plain": [
       "Inner Loop (SVC random_state):   0%|          | 0/50 [00:00<?, ?it/s]"
      ]
     },
     "metadata": {},
     "output_type": "display_data"
    },
    {
     "data": {
      "application/vnd.jupyter.widget-view+json": {
       "model_id": "4c1db6184d9a4e3a927424cf281e2d6d",
       "version_major": 2,
       "version_minor": 0
      },
      "text/plain": [
       "Inner Loop (SVC random_state):   0%|          | 0/50 [00:00<?, ?it/s]"
      ]
     },
     "metadata": {},
     "output_type": "display_data"
    },
    {
     "data": {
      "application/vnd.jupyter.widget-view+json": {
       "model_id": "c2509bc2eb54410b9eb76a6f2ad51bdd",
       "version_major": 2,
       "version_minor": 0
      },
      "text/plain": [
       "Inner Loop (SVC random_state):   0%|          | 0/50 [00:00<?, ?it/s]"
      ]
     },
     "metadata": {},
     "output_type": "display_data"
    },
    {
     "data": {
      "application/vnd.jupyter.widget-view+json": {
       "model_id": "b44e9df5e5504783890b910d227503a1",
       "version_major": 2,
       "version_minor": 0
      },
      "text/plain": [
       "Inner Loop (SVC random_state):   0%|          | 0/50 [00:00<?, ?it/s]"
      ]
     },
     "metadata": {},
     "output_type": "display_data"
    },
    {
     "data": {
      "application/vnd.jupyter.widget-view+json": {
       "model_id": "3fc230e4fab94034b27cbed14859d2b2",
       "version_major": 2,
       "version_minor": 0
      },
      "text/plain": [
       "Inner Loop (SVC random_state):   0%|          | 0/50 [00:00<?, ?it/s]"
      ]
     },
     "metadata": {},
     "output_type": "display_data"
    },
    {
     "data": {
      "application/vnd.jupyter.widget-view+json": {
       "model_id": "1937e194bd024398a9c21b442e56da96",
       "version_major": 2,
       "version_minor": 0
      },
      "text/plain": [
       "Inner Loop (SVC random_state):   0%|          | 0/50 [00:00<?, ?it/s]"
      ]
     },
     "metadata": {},
     "output_type": "display_data"
    },
    {
     "data": {
      "application/vnd.jupyter.widget-view+json": {
       "model_id": "3ef429fa02424f968c57ad9585f75e8c",
       "version_major": 2,
       "version_minor": 0
      },
      "text/plain": [
       "Inner Loop (SVC random_state):   0%|          | 0/50 [00:00<?, ?it/s]"
      ]
     },
     "metadata": {},
     "output_type": "display_data"
    },
    {
     "data": {
      "application/vnd.jupyter.widget-view+json": {
       "model_id": "00ced056f78f497696276a8e995394bc",
       "version_major": 2,
       "version_minor": 0
      },
      "text/plain": [
       "Inner Loop (SVC random_state):   0%|          | 0/50 [00:00<?, ?it/s]"
      ]
     },
     "metadata": {},
     "output_type": "display_data"
    },
    {
     "data": {
      "application/vnd.jupyter.widget-view+json": {
       "model_id": "190f0e48f40d41a3b3e2d3dca3c3f6ec",
       "version_major": 2,
       "version_minor": 0
      },
      "text/plain": [
       "Inner Loop (SVC random_state):   0%|          | 0/50 [00:00<?, ?it/s]"
      ]
     },
     "metadata": {},
     "output_type": "display_data"
    },
    {
     "data": {
      "application/vnd.jupyter.widget-view+json": {
       "model_id": "ad56a1ba6bf34b00a86840549911f9df",
       "version_major": 2,
       "version_minor": 0
      },
      "text/plain": [
       "Inner Loop (SVC random_state):   0%|          | 0/50 [00:00<?, ?it/s]"
      ]
     },
     "metadata": {},
     "output_type": "display_data"
    },
    {
     "data": {
      "application/vnd.jupyter.widget-view+json": {
       "model_id": "986b8373ebb243ea9f395643766ec23a",
       "version_major": 2,
       "version_minor": 0
      },
      "text/plain": [
       "Inner Loop (SVC random_state):   0%|          | 0/50 [00:00<?, ?it/s]"
      ]
     },
     "metadata": {},
     "output_type": "display_data"
    },
    {
     "data": {
      "application/vnd.jupyter.widget-view+json": {
       "model_id": "9c796f99d2e942aea60570987032ce8d",
       "version_major": 2,
       "version_minor": 0
      },
      "text/plain": [
       "Inner Loop (SVC random_state):   0%|          | 0/50 [00:00<?, ?it/s]"
      ]
     },
     "metadata": {},
     "output_type": "display_data"
    },
    {
     "data": {
      "application/vnd.jupyter.widget-view+json": {
       "model_id": "bc09b6af045a4e839e316da77a0182ae",
       "version_major": 2,
       "version_minor": 0
      },
      "text/plain": [
       "Inner Loop (SVC random_state):   0%|          | 0/50 [00:00<?, ?it/s]"
      ]
     },
     "metadata": {},
     "output_type": "display_data"
    },
    {
     "data": {
      "application/vnd.jupyter.widget-view+json": {
       "model_id": "36fbf4a5d2324743986d626b09d3c1fe",
       "version_major": 2,
       "version_minor": 0
      },
      "text/plain": [
       "Inner Loop (SVC random_state):   0%|          | 0/50 [00:00<?, ?it/s]"
      ]
     },
     "metadata": {},
     "output_type": "display_data"
    },
    {
     "data": {
      "application/vnd.jupyter.widget-view+json": {
       "model_id": "f2444234f06d47df83e00399399a5cfc",
       "version_major": 2,
       "version_minor": 0
      },
      "text/plain": [
       "Inner Loop (SVC random_state):   0%|          | 0/50 [00:00<?, ?it/s]"
      ]
     },
     "metadata": {},
     "output_type": "display_data"
    },
    {
     "data": {
      "application/vnd.jupyter.widget-view+json": {
       "model_id": "574eb1ea6d0d40f892dda29bdd1b6818",
       "version_major": 2,
       "version_minor": 0
      },
      "text/plain": [
       "Inner Loop (SVC random_state):   0%|          | 0/50 [00:00<?, ?it/s]"
      ]
     },
     "metadata": {},
     "output_type": "display_data"
    },
    {
     "data": {
      "application/vnd.jupyter.widget-view+json": {
       "model_id": "716d26476a614f99b876431e2b5ac265",
       "version_major": 2,
       "version_minor": 0
      },
      "text/plain": [
       "Inner Loop (SVC random_state):   0%|          | 0/50 [00:00<?, ?it/s]"
      ]
     },
     "metadata": {},
     "output_type": "display_data"
    },
    {
     "data": {
      "application/vnd.jupyter.widget-view+json": {
       "model_id": "71535611ea58473db55cc4c82e310715",
       "version_major": 2,
       "version_minor": 0
      },
      "text/plain": [
       "Inner Loop (SVC random_state):   0%|          | 0/50 [00:00<?, ?it/s]"
      ]
     },
     "metadata": {},
     "output_type": "display_data"
    },
    {
     "data": {
      "application/vnd.jupyter.widget-view+json": {
       "model_id": "a8cd78418f3f42a7b204dad79a45a85e",
       "version_major": 2,
       "version_minor": 0
      },
      "text/plain": [
       "Inner Loop (SVC random_state):   0%|          | 0/50 [00:00<?, ?it/s]"
      ]
     },
     "metadata": {},
     "output_type": "display_data"
    },
    {
     "data": {
      "application/vnd.jupyter.widget-view+json": {
       "model_id": "8467e317af804f179d44d672073f314a",
       "version_major": 2,
       "version_minor": 0
      },
      "text/plain": [
       "Inner Loop (SVC random_state):   0%|          | 0/50 [00:00<?, ?it/s]"
      ]
     },
     "metadata": {},
     "output_type": "display_data"
    },
    {
     "data": {
      "application/vnd.jupyter.widget-view+json": {
       "model_id": "b14cdcd536f3450f9883bf46c3f9f2ac",
       "version_major": 2,
       "version_minor": 0
      },
      "text/plain": [
       "Inner Loop (SVC random_state):   0%|          | 0/50 [00:00<?, ?it/s]"
      ]
     },
     "metadata": {},
     "output_type": "display_data"
    },
    {
     "data": {
      "application/vnd.jupyter.widget-view+json": {
       "model_id": "f04782be3cd749f382e4324804f786fe",
       "version_major": 2,
       "version_minor": 0
      },
      "text/plain": [
       "Inner Loop (SVC random_state):   0%|          | 0/50 [00:00<?, ?it/s]"
      ]
     },
     "metadata": {},
     "output_type": "display_data"
    },
    {
     "data": {
      "application/vnd.jupyter.widget-view+json": {
       "model_id": "c49e93eb4854404db80eb718bcef105e",
       "version_major": 2,
       "version_minor": 0
      },
      "text/plain": [
       "Inner Loop (SVC random_state):   0%|          | 0/50 [00:00<?, ?it/s]"
      ]
     },
     "metadata": {},
     "output_type": "display_data"
    },
    {
     "data": {
      "application/vnd.jupyter.widget-view+json": {
       "model_id": "f07e7e5486f44a819cbb377cb46290af",
       "version_major": 2,
       "version_minor": 0
      },
      "text/plain": [
       "Inner Loop (SVC random_state):   0%|          | 0/50 [00:00<?, ?it/s]"
      ]
     },
     "metadata": {},
     "output_type": "display_data"
    },
    {
     "data": {
      "application/vnd.jupyter.widget-view+json": {
       "model_id": "2b8771d1a7e14b2ba092458e770b98d0",
       "version_major": 2,
       "version_minor": 0
      },
      "text/plain": [
       "Inner Loop (SVC random_state):   0%|          | 0/50 [00:00<?, ?it/s]"
      ]
     },
     "metadata": {},
     "output_type": "display_data"
    },
    {
     "data": {
      "application/vnd.jupyter.widget-view+json": {
       "model_id": "7d98588df82c432583eb4a6ab7474534",
       "version_major": 2,
       "version_minor": 0
      },
      "text/plain": [
       "Inner Loop (SVC random_state):   0%|          | 0/50 [00:00<?, ?it/s]"
      ]
     },
     "metadata": {},
     "output_type": "display_data"
    },
    {
     "data": {
      "application/vnd.jupyter.widget-view+json": {
       "model_id": "c44c09666d8b43979497a77f9786d9be",
       "version_major": 2,
       "version_minor": 0
      },
      "text/plain": [
       "Inner Loop (SVC random_state):   0%|          | 0/50 [00:00<?, ?it/s]"
      ]
     },
     "metadata": {},
     "output_type": "display_data"
    },
    {
     "data": {
      "application/vnd.jupyter.widget-view+json": {
       "model_id": "6e912f0394c3488896129db22b04957d",
       "version_major": 2,
       "version_minor": 0
      },
      "text/plain": [
       "Inner Loop (SVC random_state):   0%|          | 0/50 [00:00<?, ?it/s]"
      ]
     },
     "metadata": {},
     "output_type": "display_data"
    },
    {
     "data": {
      "application/vnd.jupyter.widget-view+json": {
       "model_id": "6c49bd87fb5e4d0bba28335fa09e7b59",
       "version_major": 2,
       "version_minor": 0
      },
      "text/plain": [
       "Inner Loop (SVC random_state):   0%|          | 0/50 [00:00<?, ?it/s]"
      ]
     },
     "metadata": {},
     "output_type": "display_data"
    },
    {
     "data": {
      "application/vnd.jupyter.widget-view+json": {
       "model_id": "768b57d1486543cfb8d9c1374cbba154",
       "version_major": 2,
       "version_minor": 0
      },
      "text/plain": [
       "Inner Loop (SVC random_state):   0%|          | 0/50 [00:00<?, ?it/s]"
      ]
     },
     "metadata": {},
     "output_type": "display_data"
    },
    {
     "data": {
      "application/vnd.jupyter.widget-view+json": {
       "model_id": "05fbf30732e8426786510b096ab44cf1",
       "version_major": 2,
       "version_minor": 0
      },
      "text/plain": [
       "Inner Loop (SVC random_state):   0%|          | 0/50 [00:00<?, ?it/s]"
      ]
     },
     "metadata": {},
     "output_type": "display_data"
    },
    {
     "data": {
      "application/vnd.jupyter.widget-view+json": {
       "model_id": "8176c6d7f158456c95199934fc898a78",
       "version_major": 2,
       "version_minor": 0
      },
      "text/plain": [
       "Inner Loop (SVC random_state):   0%|          | 0/50 [00:00<?, ?it/s]"
      ]
     },
     "metadata": {},
     "output_type": "display_data"
    },
    {
     "data": {
      "application/vnd.jupyter.widget-view+json": {
       "model_id": "c53bbc4327c040eb9b2ab8a889f42262",
       "version_major": 2,
       "version_minor": 0
      },
      "text/plain": [
       "Inner Loop (SVC random_state):   0%|          | 0/50 [00:00<?, ?it/s]"
      ]
     },
     "metadata": {},
     "output_type": "display_data"
    },
    {
     "data": {
      "application/vnd.jupyter.widget-view+json": {
       "model_id": "c56d6532ecba46b78f1252935c7b0efe",
       "version_major": 2,
       "version_minor": 0
      },
      "text/plain": [
       "Inner Loop (SVC random_state):   0%|          | 0/50 [00:00<?, ?it/s]"
      ]
     },
     "metadata": {},
     "output_type": "display_data"
    },
    {
     "data": {
      "application/vnd.jupyter.widget-view+json": {
       "model_id": "98aecb73c59d4e99a0d41bb1a92689d4",
       "version_major": 2,
       "version_minor": 0
      },
      "text/plain": [
       "Inner Loop (SVC random_state):   0%|          | 0/50 [00:00<?, ?it/s]"
      ]
     },
     "metadata": {},
     "output_type": "display_data"
    },
    {
     "data": {
      "application/vnd.jupyter.widget-view+json": {
       "model_id": "2b44a73b08a14f89978ef7bd9e7aa3bb",
       "version_major": 2,
       "version_minor": 0
      },
      "text/plain": [
       "Inner Loop (SVC random_state):   0%|          | 0/50 [00:00<?, ?it/s]"
      ]
     },
     "metadata": {},
     "output_type": "display_data"
    },
    {
     "data": {
      "application/vnd.jupyter.widget-view+json": {
       "model_id": "8062147aa49443ba9d2299c1a8258661",
       "version_major": 2,
       "version_minor": 0
      },
      "text/plain": [
       "Inner Loop (SVC random_state):   0%|          | 0/50 [00:00<?, ?it/s]"
      ]
     },
     "metadata": {},
     "output_type": "display_data"
    },
    {
     "data": {
      "application/vnd.jupyter.widget-view+json": {
       "model_id": "d114918b01634d57884906d3c4907669",
       "version_major": 2,
       "version_minor": 0
      },
      "text/plain": [
       "Inner Loop (SVC random_state):   0%|          | 0/50 [00:00<?, ?it/s]"
      ]
     },
     "metadata": {},
     "output_type": "display_data"
    },
    {
     "data": {
      "application/vnd.jupyter.widget-view+json": {
       "model_id": "40e05ee9fa354cd3b5806f9d5f8bb103",
       "version_major": 2,
       "version_minor": 0
      },
      "text/plain": [
       "Inner Loop (SVC random_state):   0%|          | 0/50 [00:00<?, ?it/s]"
      ]
     },
     "metadata": {},
     "output_type": "display_data"
    },
    {
     "data": {
      "application/vnd.jupyter.widget-view+json": {
       "model_id": "9874d424faae4ef9be8577ddb0fa5d20",
       "version_major": 2,
       "version_minor": 0
      },
      "text/plain": [
       "Inner Loop (SVC random_state):   0%|          | 0/50 [00:00<?, ?it/s]"
      ]
     },
     "metadata": {},
     "output_type": "display_data"
    },
    {
     "data": {
      "application/vnd.jupyter.widget-view+json": {
       "model_id": "8439a58c5e314c25ba76523b0a1a76a2",
       "version_major": 2,
       "version_minor": 0
      },
      "text/plain": [
       "Inner Loop (SVC random_state):   0%|          | 0/50 [00:00<?, ?it/s]"
      ]
     },
     "metadata": {},
     "output_type": "display_data"
    },
    {
     "data": {
      "application/vnd.jupyter.widget-view+json": {
       "model_id": "8267dceec93b476baa868963bac89825",
       "version_major": 2,
       "version_minor": 0
      },
      "text/plain": [
       "Inner Loop (SVC random_state):   0%|          | 0/50 [00:00<?, ?it/s]"
      ]
     },
     "metadata": {},
     "output_type": "display_data"
    },
    {
     "data": {
      "application/vnd.jupyter.widget-view+json": {
       "model_id": "a7325f37a4c7452192dbc29e93638b09",
       "version_major": 2,
       "version_minor": 0
      },
      "text/plain": [
       "Inner Loop (SVC random_state):   0%|          | 0/50 [00:00<?, ?it/s]"
      ]
     },
     "metadata": {},
     "output_type": "display_data"
    },
    {
     "data": {
      "application/vnd.jupyter.widget-view+json": {
       "model_id": "cfa4cd0ce5974ba3bc50713f26ab45ad",
       "version_major": 2,
       "version_minor": 0
      },
      "text/plain": [
       "Inner Loop (SVC random_state):   0%|          | 0/50 [00:00<?, ?it/s]"
      ]
     },
     "metadata": {},
     "output_type": "display_data"
    },
    {
     "data": {
      "application/vnd.jupyter.widget-view+json": {
       "model_id": "02e28296a1644217a645544d810a6f01",
       "version_major": 2,
       "version_minor": 0
      },
      "text/plain": [
       "Inner Loop (SVC random_state):   0%|          | 0/50 [00:00<?, ?it/s]"
      ]
     },
     "metadata": {},
     "output_type": "display_data"
    },
    {
     "data": {
      "application/vnd.jupyter.widget-view+json": {
       "model_id": "ca4fe1a908ac45a29fb16fe325b1546c",
       "version_major": 2,
       "version_minor": 0
      },
      "text/plain": [
       "Inner Loop (SVC random_state):   0%|          | 0/50 [00:00<?, ?it/s]"
      ]
     },
     "metadata": {},
     "output_type": "display_data"
    },
    {
     "data": {
      "application/vnd.jupyter.widget-view+json": {
       "model_id": "0152e4bdde63485fbda2902325f4b85c",
       "version_major": 2,
       "version_minor": 0
      },
      "text/plain": [
       "Inner Loop (SVC random_state):   0%|          | 0/50 [00:00<?, ?it/s]"
      ]
     },
     "metadata": {},
     "output_type": "display_data"
    },
    {
     "data": {
      "application/vnd.jupyter.widget-view+json": {
       "model_id": "e1c040fdfc9444c3b021908f0d0286dd",
       "version_major": 2,
       "version_minor": 0
      },
      "text/plain": [
       "Inner Loop (SVC random_state):   0%|          | 0/50 [00:00<?, ?it/s]"
      ]
     },
     "metadata": {},
     "output_type": "display_data"
    },
    {
     "data": {
      "application/vnd.jupyter.widget-view+json": {
       "model_id": "4ea6c9790fc44672bee9b5945916340f",
       "version_major": 2,
       "version_minor": 0
      },
      "text/plain": [
       "Inner Loop (SVC random_state):   0%|          | 0/50 [00:00<?, ?it/s]"
      ]
     },
     "metadata": {},
     "output_type": "display_data"
    },
    {
     "data": {
      "application/vnd.jupyter.widget-view+json": {
       "model_id": "59cb74903276483da0cacd42981715f6",
       "version_major": 2,
       "version_minor": 0
      },
      "text/plain": [
       "Inner Loop (SVC random_state):   0%|          | 0/50 [00:00<?, ?it/s]"
      ]
     },
     "metadata": {},
     "output_type": "display_data"
    },
    {
     "data": {
      "application/vnd.jupyter.widget-view+json": {
       "model_id": "404aaef72523410faf979c4b0c8784a6",
       "version_major": 2,
       "version_minor": 0
      },
      "text/plain": [
       "Inner Loop (SVC random_state):   0%|          | 0/50 [00:00<?, ?it/s]"
      ]
     },
     "metadata": {},
     "output_type": "display_data"
    },
    {
     "data": {
      "application/vnd.jupyter.widget-view+json": {
       "model_id": "aae3d646b7154e5d9b4906049f081fab",
       "version_major": 2,
       "version_minor": 0
      },
      "text/plain": [
       "Inner Loop (SVC random_state):   0%|          | 0/50 [00:00<?, ?it/s]"
      ]
     },
     "metadata": {},
     "output_type": "display_data"
    },
    {
     "data": {
      "application/vnd.jupyter.widget-view+json": {
       "model_id": "8f8baba10e4d4cc28b99f36b0a8cab80",
       "version_major": 2,
       "version_minor": 0
      },
      "text/plain": [
       "Inner Loop (SVC random_state):   0%|          | 0/50 [00:00<?, ?it/s]"
      ]
     },
     "metadata": {},
     "output_type": "display_data"
    },
    {
     "data": {
      "application/vnd.jupyter.widget-view+json": {
       "model_id": "d7f98dac38804ca4b61816b5f5ef7d72",
       "version_major": 2,
       "version_minor": 0
      },
      "text/plain": [
       "Inner Loop (SVC random_state):   0%|          | 0/50 [00:00<?, ?it/s]"
      ]
     },
     "metadata": {},
     "output_type": "display_data"
    },
    {
     "data": {
      "application/vnd.jupyter.widget-view+json": {
       "model_id": "99b6761748ba48dc89e2da21bcc7d308",
       "version_major": 2,
       "version_minor": 0
      },
      "text/plain": [
       "Inner Loop (SVC random_state):   0%|          | 0/50 [00:00<?, ?it/s]"
      ]
     },
     "metadata": {},
     "output_type": "display_data"
    },
    {
     "data": {
      "application/vnd.jupyter.widget-view+json": {
       "model_id": "26bbc474d0f843ffa3cc673756fff613",
       "version_major": 2,
       "version_minor": 0
      },
      "text/plain": [
       "Inner Loop (SVC random_state):   0%|          | 0/50 [00:00<?, ?it/s]"
      ]
     },
     "metadata": {},
     "output_type": "display_data"
    },
    {
     "data": {
      "application/vnd.jupyter.widget-view+json": {
       "model_id": "66703a1ab9114a798cc04f05d7a24565",
       "version_major": 2,
       "version_minor": 0
      },
      "text/plain": [
       "Inner Loop (SVC random_state):   0%|          | 0/50 [00:00<?, ?it/s]"
      ]
     },
     "metadata": {},
     "output_type": "display_data"
    },
    {
     "data": {
      "application/vnd.jupyter.widget-view+json": {
       "model_id": "7b0ee25206df43779b11f1a0020fa89d",
       "version_major": 2,
       "version_minor": 0
      },
      "text/plain": [
       "Inner Loop (SVC random_state):   0%|          | 0/50 [00:00<?, ?it/s]"
      ]
     },
     "metadata": {},
     "output_type": "display_data"
    },
    {
     "data": {
      "application/vnd.jupyter.widget-view+json": {
       "model_id": "a7a2debc87e74e2ebfa2eb2f5836ef12",
       "version_major": 2,
       "version_minor": 0
      },
      "text/plain": [
       "Inner Loop (SVC random_state):   0%|          | 0/50 [00:00<?, ?it/s]"
      ]
     },
     "metadata": {},
     "output_type": "display_data"
    },
    {
     "data": {
      "application/vnd.jupyter.widget-view+json": {
       "model_id": "e8f1d726e34c41bb9c48e81eb594b4f4",
       "version_major": 2,
       "version_minor": 0
      },
      "text/plain": [
       "Inner Loop (SVC random_state):   0%|          | 0/50 [00:00<?, ?it/s]"
      ]
     },
     "metadata": {},
     "output_type": "display_data"
    },
    {
     "data": {
      "application/vnd.jupyter.widget-view+json": {
       "model_id": "f5bd1ce672c64ed7a08436de645ee583",
       "version_major": 2,
       "version_minor": 0
      },
      "text/plain": [
       "Inner Loop (SVC random_state):   0%|          | 0/50 [00:00<?, ?it/s]"
      ]
     },
     "metadata": {},
     "output_type": "display_data"
    },
    {
     "data": {
      "application/vnd.jupyter.widget-view+json": {
       "model_id": "bd1afcffb0d0426196eb685e0bbba819",
       "version_major": 2,
       "version_minor": 0
      },
      "text/plain": [
       "Inner Loop (SVC random_state):   0%|          | 0/50 [00:00<?, ?it/s]"
      ]
     },
     "metadata": {},
     "output_type": "display_data"
    },
    {
     "data": {
      "application/vnd.jupyter.widget-view+json": {
       "model_id": "9baf0c5abc8d4d559e0d011cd1345b77",
       "version_major": 2,
       "version_minor": 0
      },
      "text/plain": [
       "Inner Loop (SVC random_state):   0%|          | 0/50 [00:00<?, ?it/s]"
      ]
     },
     "metadata": {},
     "output_type": "display_data"
    },
    {
     "data": {
      "application/vnd.jupyter.widget-view+json": {
       "model_id": "3fbce11d24d24dba9ca7de4fffe4fcd1",
       "version_major": 2,
       "version_minor": 0
      },
      "text/plain": [
       "Inner Loop (SVC random_state):   0%|          | 0/50 [00:00<?, ?it/s]"
      ]
     },
     "metadata": {},
     "output_type": "display_data"
    },
    {
     "data": {
      "application/vnd.jupyter.widget-view+json": {
       "model_id": "8fd7141fc98840ac9583d2cfaca6532b",
       "version_major": 2,
       "version_minor": 0
      },
      "text/plain": [
       "Inner Loop (SVC random_state):   0%|          | 0/50 [00:00<?, ?it/s]"
      ]
     },
     "metadata": {},
     "output_type": "display_data"
    },
    {
     "data": {
      "application/vnd.jupyter.widget-view+json": {
       "model_id": "d1b3aaaec5f94c78ae63bd7a4ccc0f1e",
       "version_major": 2,
       "version_minor": 0
      },
      "text/plain": [
       "Inner Loop (SVC random_state):   0%|          | 0/50 [00:00<?, ?it/s]"
      ]
     },
     "metadata": {},
     "output_type": "display_data"
    },
    {
     "data": {
      "application/vnd.jupyter.widget-view+json": {
       "model_id": "7069c074c5e84a1da522dde1ddfb8d6a",
       "version_major": 2,
       "version_minor": 0
      },
      "text/plain": [
       "Inner Loop (SVC random_state):   0%|          | 0/50 [00:00<?, ?it/s]"
      ]
     },
     "metadata": {},
     "output_type": "display_data"
    },
    {
     "data": {
      "application/vnd.jupyter.widget-view+json": {
       "model_id": "c11d4a614fef40479e70b997eee0e9c8",
       "version_major": 2,
       "version_minor": 0
      },
      "text/plain": [
       "Inner Loop (SVC random_state):   0%|          | 0/50 [00:00<?, ?it/s]"
      ]
     },
     "metadata": {},
     "output_type": "display_data"
    },
    {
     "data": {
      "application/vnd.jupyter.widget-view+json": {
       "model_id": "5524219a4d764e4db3dec3ab633c3c8c",
       "version_major": 2,
       "version_minor": 0
      },
      "text/plain": [
       "Inner Loop (SVC random_state):   0%|          | 0/50 [00:00<?, ?it/s]"
      ]
     },
     "metadata": {},
     "output_type": "display_data"
    },
    {
     "name": "stdout",
     "output_type": "stream",
     "text": [
      "     Train_Test_Split_Random_State  SVC_Random_State  Precision\n",
      "650                             14                 1   0.662395\n",
      "651                             14                 2   0.662395\n",
      "652                             14                 3   0.662395\n",
      "653                             14                 4   0.662395\n",
      "654                             14                 5   0.662395\n",
      "655                             14                 6   0.662395\n",
      "656                             14                 7   0.662395\n",
      "657                             14                 8   0.662395\n",
      "658                             14                 9   0.662395\n",
      "659                             14                10   0.662395\n"
     ]
    }
   ],
   "source": [
    "\n",
    "import pandas as pd\n",
    "import numpy as np\n",
    "from scipy.stats import ttest_ind\n",
    "from sklearn.linear_model import LassoCV, RidgeCV\n",
    "from sklearn.feature_selection import SequentialFeatureSelector\n",
    "from sklearn.ensemble import RandomForestClassifier, RandomForestRegressor\n",
    "from sklearn.model_selection import train_test_split\n",
    "from sklearn.svm import SVC\n",
    "from sklearn.linear_model import LogisticRegression\n",
    "from sklearn.tree import DecisionTreeClassifier\n",
    "from sklearn.ensemble import RandomForestClassifier\n",
    "from sklearn.metrics import accuracy_score, precision_score, recall_score, f1_score\n",
    "from sklearn.ensemble import GradientBoostingClassifier\n",
    "from tqdm.auto import tqdm\n",
    "df = pd.read_csv(\"하이닉스 power1_data.csv\", thousands=',', encoding='utf-8')\n",
    "# 등락률을 기준으로 다음 날 등락률 계산 후 target 생성\n",
    "df['next_day_return'] = (df['종가'].shift(-1) - df['종가'])/ df['종가'] *100\n",
    "df['target'] = df['next_day_return'].apply(lambda x: 2 if x > 0.25 else 1)\n",
    "df.dropna(inplace=True)  # 마지막 행 삭제\n",
    "\n",
    "first_column_name = df.columns[0]\n",
    "\n",
    "#df=df.iloc[-300:,:]\n",
    "X = df.drop(['날짜','target','next_day_return'], axis=1) \n",
    "y = df['target']\n",
    "\n",
    "\n",
    "# Random Forest for feature importance\n",
    "rf = RandomForestRegressor()\n",
    "rf.fit(X, y)\n",
    "\n",
    "features_rf_sorted = sorted(zip(X.columns, rf.feature_importances_), key=lambda x: x[1], reverse=True)\n",
    "features_rf_df = pd.DataFrame(features_rf_sorted, columns=['Feature', 'RF Importance'])\n",
    "\n",
    "# 상관관계가 가장 높은 상위 8개의 피처를 선정\n",
    "top_7_features = [feature for feature, importance in features_rf_sorted[:5]]\n",
    "\n",
    "# X와 y 정의 (df2와 이전 코드에서의 처리 과정을 바탕으로)dp\n",
    "X_top8 = X[top_7_features]\n",
    "y = df['target']  # y 값을 0과 1로 조정\n",
    "\n",
    "# 결과를 저장할 딕셔너리 리스트 초기화\n",
    "results = []\n",
    "\n",
    "# tqdm을 사용하여 진행률 표시\n",
    "for i in tqdm(range(1, 101), desc='Outer Loop (train_test_split random_state)'):\n",
    "    for j in tqdm(range(1, 51), desc='Inner Loop (SVC random_state)', leave=False):\n",
    "        # 데이터 분할\n",
    "        X_train, X_test, y_train, y_test = train_test_split(X_top8, y, test_size=0.25, random_state=i)\n",
    "        \n",
    "        # SVC 모델 학습 및 예측\n",
    "        svc_model = SVC(max_iter=10000, random_state=j)\n",
    "        svc_model.fit(X_train, y_train)\n",
    "        y_pred = svc_model.predict(X_test)\n",
    "        \n",
    "        # 정밀도 계산\n",
    "        precision = precision_score(y_test, y_pred, average='macro', zero_division=0)\n",
    "        \n",
    "        # 결과 저장\n",
    "        results.append({'Train_Test_Split_Random_State': i, 'SVC_Random_State': j, 'Precision': precision})\n",
    "\n",
    "# 결과 리스트를 DataFrame으로 변환\n",
    "results_df = pd.DataFrame(results)\n",
    "\n",
    "# 정밀도가 가장 높은 상위 10개의 결과 선택\n",
    "top_10_results = results_df.nlargest(10, 'Precision')\n",
    "\n",
    "# 상위 10개 결과 출력\n",
    "print(top_10_results)"
   ]
  }
 ],
 "metadata": {
  "kernelspec": {
   "display_name": "base",
   "language": "python",
   "name": "python3"
  },
  "language_info": {
   "codemirror_mode": {
    "name": "ipython",
    "version": 3
   },
   "file_extension": ".py",
   "mimetype": "text/x-python",
   "name": "python",
   "nbconvert_exporter": "python",
   "pygments_lexer": "ipython3",
   "version": "3.11.5"
  }
 },
 "nbformat": 4,
 "nbformat_minor": 2
}
