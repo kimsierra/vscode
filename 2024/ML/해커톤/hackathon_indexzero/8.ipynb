{
 "cells": [
  {
   "cell_type": "code",
   "execution_count": 1,
   "metadata": {},
   "outputs": [],
   "source": [
    "import warnings\n",
    "warnings.filterwarnings('ignore')"
   ]
  },
  {
   "cell_type": "code",
   "execution_count": 2,
   "metadata": {},
   "outputs": [
    {
     "name": "stderr",
     "output_type": "stream",
     "text": [
      "Processing:   3%|▎         | 28/953 [00:15<03:34,  4.32it/s] "
     ]
    },
    {
     "name": "stdout",
     "output_type": "stream",
     "text": [
      "Error processing 375500: With n_samples=0, test_size=0.25 and train_size=None, the resulting train set will be empty. Adjust any of the aforementioned parameters.\n",
      "Error processing 37550L: With n_samples=0, test_size=0.25 and train_size=None, the resulting train set will be empty. Adjust any of the aforementioned parameters.\n"
     ]
    },
    {
     "name": "stderr",
     "output_type": "stream",
     "text": [
      "Processing:   3%|▎         | 29/953 [00:15<03:11,  4.83it/s]"
     ]
    },
    {
     "name": "stdout",
     "output_type": "stream",
     "text": [
      "Error processing 37550K: With n_samples=0, test_size=0.25 and train_size=None, the resulting train set will be empty. Adjust any of the aforementioned parameters.\n"
     ]
    },
    {
     "name": "stderr",
     "output_type": "stream",
     "text": [
      "Processing:   3%|▎         | 33/953 [00:16<04:27,  3.45it/s]"
     ]
    },
    {
     "name": "stdout",
     "output_type": "stream",
     "text": [
      "Error processing 017860: With n_samples=0, test_size=0.25 and train_size=None, the resulting train set will be empty. Adjust any of the aforementioned parameters.\n"
     ]
    },
    {
     "name": "stderr",
     "output_type": "stream",
     "text": [
      "Processing:   4%|▍         | 37/953 [00:17<03:05,  4.94it/s]"
     ]
    },
    {
     "name": "stdout",
     "output_type": "stream",
     "text": [
      "Error processing 365550: With n_samples=0, test_size=0.25 and train_size=None, the resulting train set will be empty. Adjust any of the aforementioned parameters.\n",
      "Error processing 383220: With n_samples=0, test_size=0.25 and train_size=None, the resulting train set will be empty. Adjust any of the aforementioned parameters.\n"
     ]
    },
    {
     "name": "stderr",
     "output_type": "stream",
     "text": [
      "Processing:   6%|▌         | 55/953 [00:22<04:05,  3.65it/s]"
     ]
    },
    {
     "name": "stdout",
     "output_type": "stream",
     "text": [
      "Error processing 329180: With n_samples=0, test_size=0.25 and train_size=None, the resulting train set will be empty. Adjust any of the aforementioned parameters.\n"
     ]
    },
    {
     "name": "stderr",
     "output_type": "stream",
     "text": [
      "Processing:   7%|▋         | 71/953 [00:28<03:38,  4.04it/s]"
     ]
    },
    {
     "name": "stdout",
     "output_type": "stream",
     "text": [
      "Error processing 432320: With n_samples=0, test_size=0.25 and train_size=None, the resulting train set will be empty. Adjust any of the aforementioned parameters.\n"
     ]
    },
    {
     "name": "stderr",
     "output_type": "stream",
     "text": [
      "Processing:   8%|▊         | 73/953 [00:28<03:59,  3.68it/s]"
     ]
    },
    {
     "name": "stdout",
     "output_type": "stream",
     "text": [
      "Error processing 344820: With n_samples=0, test_size=0.25 and train_size=None, the resulting train set will be empty. Adjust any of the aforementioned parameters.\n"
     ]
    },
    {
     "name": "stderr",
     "output_type": "stream",
     "text": [
      "Processing:  10%|█         | 97/953 [00:37<04:30,  3.16it/s]"
     ]
    },
    {
     "name": "stdout",
     "output_type": "stream",
     "text": [
      "Error processing 373220: With n_samples=0, test_size=0.25 and train_size=None, the resulting train set will be empty. Adjust any of the aforementioned parameters.\n"
     ]
    },
    {
     "name": "stderr",
     "output_type": "stream",
     "text": [
      "Processing:  12%|█▏        | 116/953 [00:43<02:55,  4.76it/s]"
     ]
    },
    {
     "name": "stdout",
     "output_type": "stream",
     "text": [
      "Error processing 383800: With n_samples=0, test_size=0.25 and train_size=None, the resulting train set will be empty. Adjust any of the aforementioned parameters.\n",
      "Error processing 38380K: With n_samples=0, test_size=0.25 and train_size=None, the resulting train set will be empty. Adjust any of the aforementioned parameters.\n"
     ]
    },
    {
     "name": "stderr",
     "output_type": "stream",
     "text": [
      "Processing:  13%|█▎        | 120/953 [00:44<03:36,  3.85it/s]"
     ]
    },
    {
     "name": "stdout",
     "output_type": "stream",
     "text": [
      "Error processing 400760: With n_samples=0, test_size=0.25 and train_size=None, the resulting train set will be empty. Adjust any of the aforementioned parameters.\n"
     ]
    },
    {
     "name": "stderr",
     "output_type": "stream",
     "text": [
      "Processing:  13%|█▎        | 128/953 [00:46<03:47,  3.63it/s]"
     ]
    },
    {
     "name": "stdout",
     "output_type": "stream",
     "text": [
      "Error processing 456040: With n_samples=0, test_size=0.25 and train_size=None, the resulting train set will be empty. Adjust any of the aforementioned parameters.\n"
     ]
    },
    {
     "name": "stderr",
     "output_type": "stream",
     "text": [
      "Processing:  16%|█▌        | 151/953 [00:53<03:14,  4.13it/s]"
     ]
    },
    {
     "name": "stdout",
     "output_type": "stream",
     "text": [
      "Error processing 395400: With n_samples=0, test_size=0.25 and train_size=None, the resulting train set will be empty. Adjust any of the aforementioned parameters.\n"
     ]
    },
    {
     "name": "stderr",
     "output_type": "stream",
     "text": [
      "Processing:  16%|█▌        | 153/953 [00:53<02:46,  4.82it/s]"
     ]
    },
    {
     "name": "stdout",
     "output_type": "stream",
     "text": [
      "Error processing 302440: With n_samples=0, test_size=0.25 and train_size=None, the resulting train set will be empty. Adjust any of the aforementioned parameters.\n",
      "Error processing 326030: With n_samples=0, test_size=0.25 and train_size=None, the resulting train set will be empty. Adjust any of the aforementioned parameters.\n",
      "Error processing 402340: With n_samples=0, test_size=0.25 and train_size=None, the resulting train set will be empty. Adjust any of the aforementioned parameters.\n"
     ]
    },
    {
     "name": "stderr",
     "output_type": "stream",
     "text": [
      "Processing:  16%|█▋        | 155/953 [00:53<02:06,  6.30it/s]"
     ]
    },
    {
     "name": "stdout",
     "output_type": "stream",
     "text": [
      "Error processing 361610: With n_samples=0, test_size=0.25 and train_size=None, the resulting train set will be empty. Adjust any of the aforementioned parameters.\n"
     ]
    },
    {
     "name": "stderr",
     "output_type": "stream",
     "text": [
      "Processing:  18%|█▊        | 172/953 [01:00<04:29,  2.90it/s]"
     ]
    },
    {
     "name": "stdout",
     "output_type": "stream",
     "text": [
      "Error processing 465770: With n_samples=0, test_size=0.25 and train_size=None, the resulting train set will be empty. Adjust any of the aforementioned parameters.\n"
     ]
    },
    {
     "name": "stderr",
     "output_type": "stream",
     "text": [
      "Processing:  22%|██▏       | 205/953 [01:12<03:36,  3.45it/s]"
     ]
    },
    {
     "name": "stdout",
     "output_type": "stream",
     "text": [
      "Error processing 339770: With n_samples=0, test_size=0.25 and train_size=None, the resulting train set will be empty. Adjust any of the aforementioned parameters.\n"
     ]
    },
    {
     "name": "stderr",
     "output_type": "stream",
     "text": [
      "Processing:  25%|██▌       | 240/953 [01:23<02:39,  4.48it/s]"
     ]
    },
    {
     "name": "stdout",
     "output_type": "stream",
     "text": [
      "Error processing 092790: With n_samples=0, test_size=0.25 and train_size=None, the resulting train set will be empty. Adjust any of the aforementioned parameters.\n"
     ]
    },
    {
     "name": "stderr",
     "output_type": "stream",
     "text": [
      "Processing:  27%|██▋       | 261/953 [01:29<02:01,  5.67it/s]"
     ]
    },
    {
     "name": "stdout",
     "output_type": "stream",
     "text": [
      "Error processing 353200: With n_samples=0, test_size=0.25 and train_size=None, the resulting train set will be empty. Adjust any of the aforementioned parameters.\n",
      "Error processing 35320K: With n_samples=0, test_size=0.25 and train_size=None, the resulting train set will be empty. Adjust any of the aforementioned parameters.\n"
     ]
    },
    {
     "name": "stderr",
     "output_type": "stream",
     "text": [
      "Processing:  33%|███▎      | 312/953 [01:43<02:34,  4.16it/s]"
     ]
    },
    {
     "name": "stdout",
     "output_type": "stream",
     "text": [
      "Error processing 460850: With n_samples=0, test_size=0.25 and train_size=None, the resulting train set will be empty. Adjust any of the aforementioned parameters.\n",
      "Error processing 460860: With n_samples=0, test_size=0.25 and train_size=None, the resulting train set will be empty. Adjust any of the aforementioned parameters.\n"
     ]
    },
    {
     "name": "stderr",
     "output_type": "stream",
     "text": [
      "Processing:  36%|███▌      | 339/953 [01:52<02:46,  3.69it/s]"
     ]
    },
    {
     "name": "stdout",
     "output_type": "stream",
     "text": [
      "Error processing 111380: With n_samples=0, test_size=0.25 and train_size=None, the resulting train set will be empty. Adjust any of the aforementioned parameters.\n"
     ]
    },
    {
     "name": "stderr",
     "output_type": "stream",
     "text": [
      "Processing:  36%|███▌      | 345/953 [01:54<03:33,  2.84it/s]"
     ]
    },
    {
     "name": "stdout",
     "output_type": "stream",
     "text": [
      "Error processing 454910: With n_samples=0, test_size=0.25 and train_size=None, the resulting train set will be empty. Adjust any of the aforementioned parameters.\n"
     ]
    },
    {
     "name": "stderr",
     "output_type": "stream",
     "text": [
      "Processing:  38%|███▊      | 358/953 [01:57<02:39,  3.73it/s]"
     ]
    },
    {
     "name": "stdout",
     "output_type": "stream",
     "text": [
      "Error processing 377190: With n_samples=0, test_size=0.25 and train_size=None, the resulting train set will be empty. Adjust any of the aforementioned parameters.\n"
     ]
    },
    {
     "name": "stderr",
     "output_type": "stream",
     "text": [
      "Processing:  38%|███▊      | 363/953 [02:00<04:21,  2.26it/s]"
     ]
    },
    {
     "name": "stdout",
     "output_type": "stream",
     "text": [
      "Error processing 089860: With n_samples=0, test_size=0.25 and train_size=None, the resulting train set will be empty. Adjust any of the aforementioned parameters.\n"
     ]
    },
    {
     "name": "stderr",
     "output_type": "stream",
     "text": [
      "Processing:  40%|███▉      | 378/953 [02:05<02:30,  3.82it/s]"
     ]
    },
    {
     "name": "stdout",
     "output_type": "stream",
     "text": [
      "Error processing 357430: With n_samples=0, test_size=0.25 and train_size=None, the resulting train set will be empty. Adjust any of the aforementioned parameters.\n"
     ]
    },
    {
     "name": "stderr",
     "output_type": "stream",
     "text": [
      "Processing:  40%|████      | 385/953 [02:07<02:45,  3.44it/s]"
     ]
    },
    {
     "name": "stdout",
     "output_type": "stream",
     "text": [
      "Error processing 009900: With n_samples=0, test_size=0.25 and train_size=None, the resulting train set will be empty. Adjust any of the aforementioned parameters.\n"
     ]
    },
    {
     "name": "stderr",
     "output_type": "stream",
     "text": [
      "Processing:  41%|████▏     | 395/953 [02:10<02:48,  3.31it/s]"
     ]
    },
    {
     "name": "stdout",
     "output_type": "stream",
     "text": [
      "Error processing 396690: With n_samples=0, test_size=0.25 and train_size=None, the resulting train set will be empty. Adjust any of the aforementioned parameters.\n"
     ]
    },
    {
     "name": "stderr",
     "output_type": "stream",
     "text": [
      "Processing:  42%|████▏     | 396/953 [02:11<02:50,  3.27it/s]"
     ]
    },
    {
     "name": "stdout",
     "output_type": "stream",
     "text": [
      "Error processing 357250: With n_samples=0, test_size=0.25 and train_size=None, the resulting train set will be empty. Adjust any of the aforementioned parameters.\n"
     ]
    },
    {
     "name": "stderr",
     "output_type": "stream",
     "text": [
      "Processing:  43%|████▎     | 406/953 [02:15<03:47,  2.40it/s]"
     ]
    },
    {
     "name": "stdout",
     "output_type": "stream",
     "text": [
      "Error processing 377740: With n_samples=0, test_size=0.25 and train_size=None, the resulting train set will be empty. Adjust any of the aforementioned parameters.\n"
     ]
    },
    {
     "name": "stderr",
     "output_type": "stream",
     "text": [
      "Processing:  45%|████▌     | 432/953 [02:24<02:44,  3.16it/s]"
     ]
    },
    {
     "name": "stdout",
     "output_type": "stream",
     "text": [
      "Error processing 448730: With n_samples=0, test_size=0.25 and train_size=None, the resulting train set will be empty. Adjust any of the aforementioned parameters.\n"
     ]
    },
    {
     "name": "stderr",
     "output_type": "stream",
     "text": [
      "Processing:  54%|█████▍    | 518/953 [02:50<01:14,  5.83it/s]"
     ]
    },
    {
     "name": "stdout",
     "output_type": "stream",
     "text": [
      "Error processing 248070: With n_samples=0, test_size=0.25 and train_size=None, the resulting train set will be empty. Adjust any of the aforementioned parameters.\n"
     ]
    },
    {
     "name": "stderr",
     "output_type": "stream",
     "text": [
      "Processing:  55%|█████▍    | 520/953 [02:50<01:19,  5.48it/s]"
     ]
    },
    {
     "name": "stdout",
     "output_type": "stream",
     "text": [
      "Error processing 126720: With n_samples=0, test_size=0.25 and train_size=None, the resulting train set will be empty. Adjust any of the aforementioned parameters.\n"
     ]
    },
    {
     "name": "stderr",
     "output_type": "stream",
     "text": [
      "Processing:  57%|█████▋    | 545/953 [02:57<01:36,  4.25it/s]"
     ]
    },
    {
     "name": "stdout",
     "output_type": "stream",
     "text": [
      "Error processing 404990: With n_samples=0, test_size=0.25 and train_size=None, the resulting train set will be empty. Adjust any of the aforementioned parameters.\n"
     ]
    },
    {
     "name": "stderr",
     "output_type": "stream",
     "text": [
      "Processing:  58%|█████▊    | 552/953 [02:59<01:37,  4.10it/s]"
     ]
    },
    {
     "name": "stdout",
     "output_type": "stream",
     "text": [
      "Error processing 403550: With n_samples=0, test_size=0.25 and train_size=None, the resulting train set will be empty. Adjust any of the aforementioned parameters.\n"
     ]
    },
    {
     "name": "stderr",
     "output_type": "stream",
     "text": [
      "Processing:  59%|█████▊    | 558/953 [03:01<01:35,  4.16it/s]"
     ]
    },
    {
     "name": "stdout",
     "output_type": "stream",
     "text": [
      "Error processing 00279K: The number of classes has to be greater than one; got 1 class\n"
     ]
    },
    {
     "name": "stderr",
     "output_type": "stream",
     "text": [
      "Processing:  60%|█████▉    | 570/953 [03:04<01:29,  4.26it/s]"
     ]
    },
    {
     "name": "stdout",
     "output_type": "stream",
     "text": [
      "Error processing 139990: With n_samples=0, test_size=0.25 and train_size=None, the resulting train set will be empty. Adjust any of the aforementioned parameters.\n"
     ]
    },
    {
     "name": "stderr",
     "output_type": "stream",
     "text": [
      "Processing:  60%|██████    | 575/953 [03:06<01:28,  4.25it/s]"
     ]
    },
    {
     "name": "stdout",
     "output_type": "stream",
     "text": [
      "Error processing 137310: With n_samples=0, test_size=0.25 and train_size=None, the resulting train set will be empty. Adjust any of the aforementioned parameters.\n"
     ]
    },
    {
     "name": "stderr",
     "output_type": "stream",
     "text": [
      "Processing:  62%|██████▏   | 589/953 [03:10<01:08,  5.30it/s]"
     ]
    },
    {
     "name": "stdout",
     "output_type": "stream",
     "text": [
      "Error processing 244920: With n_samples=0, test_size=0.25 and train_size=None, the resulting train set will be empty. Adjust any of the aforementioned parameters.\n",
      "Error processing 278470: With n_samples=0, test_size=0.25 and train_size=None, the resulting train set will be empty. Adjust any of the aforementioned parameters.\n",
      "Error processing 450080: With n_samples=0, test_size=0.25 and train_size=None, the resulting train set will be empty. Adjust any of the aforementioned parameters.\n"
     ]
    },
    {
     "name": "stderr",
     "output_type": "stream",
     "text": [
      "Processing:  65%|██████▌   | 622/953 [03:20<01:31,  3.60it/s]"
     ]
    },
    {
     "name": "stdout",
     "output_type": "stream",
     "text": [
      "Error processing 446070: With n_samples=0, test_size=0.25 and train_size=None, the resulting train set will be empty. Adjust any of the aforementioned parameters.\n"
     ]
    },
    {
     "name": "stderr",
     "output_type": "stream",
     "text": [
      "Processing:  68%|██████▊   | 647/953 [03:28<02:12,  2.31it/s]"
     ]
    },
    {
     "name": "stdout",
     "output_type": "stream",
     "text": [
      "Error processing 457190: With n_samples=0, test_size=0.25 and train_size=None, the resulting train set will be empty. Adjust any of the aforementioned parameters.\n"
     ]
    },
    {
     "name": "stderr",
     "output_type": "stream",
     "text": [
      "Processing:  69%|██████▉   | 656/953 [03:31<01:11,  4.14it/s]"
     ]
    },
    {
     "name": "stdout",
     "output_type": "stream",
     "text": [
      "Error processing 350520: With n_samples=0, test_size=0.25 and train_size=None, the resulting train set will be empty. Adjust any of the aforementioned parameters.\n",
      "Error processing 334890: With n_samples=0, test_size=0.25 and train_size=None, the resulting train set will be empty. Adjust any of the aforementioned parameters.\n"
     ]
    },
    {
     "name": "stderr",
     "output_type": "stream",
     "text": [
      "Processing:  71%|███████   | 675/953 [03:38<01:28,  3.15it/s]"
     ]
    }
   ],
   "source": [
    "from pykrx import stock\n",
    "import pandas as pd\n",
    "import numpy as np\n",
    "from scipy.stats import ttest_ind\n",
    "from sklearn.linear_model import LassoCV, RidgeCV\n",
    "from sklearn.feature_selection import SequentialFeatureSelector\n",
    "from sklearn.ensemble import RandomForestClassifier, RandomForestRegressor\n",
    "from sklearn.model_selection import train_test_split\n",
    "from sklearn.svm import SVC\n",
    "from sklearn.linear_model import LogisticRegression\n",
    "from sklearn.tree import DecisionTreeClassifier\n",
    "from sklearn.ensemble import RandomForestClassifier\n",
    "from sklearn.metrics import accuracy_score, precision_score, recall_score, f1_score\n",
    "from tqdm import tqdm\n",
    "ticker_list = stock.get_market_ticker_list(market=\"KOSPI\")\n",
    "\n",
    "# precision_svm 값과 종목코드를 저장할 빈 리스트\n",
    "precision_list = []\n",
    "\n",
    "# 각 종목에 대해 반복\n",
    "for ticker in tqdm(ticker_list, desc=\"Processing\"):\n",
    "    try:\n",
    "        ticker_name = stock.get_market_ticker_name(ticker)\n",
    "        start_date = \"2015-03-20\"\n",
    "        end_date = \"2021-03-20\"\n",
    "        # 주어진 기간 동안의 일별 거래량 정보 가져오기\n",
    "        df = stock.get_market_ohlcv_by_date(fromdate=start_date, todate=end_date, ticker=ticker)\n",
    "\n",
    "\n",
    "        def calculate_macd(df, short_window=12, long_window=26, signal_window=9):\n",
    "            \"\"\"MACD 및 MACD 신호 계산\"\"\"\n",
    "            df['EMA_short'] = df['종가'].ewm(span=short_window, adjust=False).mean()\n",
    "            df['EMA_long'] = df['종가'].ewm(span=long_window, adjust=False).mean()\n",
    "            df['MACD'] = df['EMA_short'] - df['EMA_long']\n",
    "            df['MACD_Signal'] = df['MACD'].ewm(span=signal_window, adjust=False).mean()\n",
    "            return df\n",
    "\n",
    "        def calculate_rsi(df, window=14, signal_window=9):\n",
    "            \"\"\"RSI 및 RSI 신호 계산\"\"\"\n",
    "            delta = df['종가'].diff()\n",
    "            gain = (delta.where(delta > 0, 0)).rolling(window=window).mean()\n",
    "            loss = (-delta.where(delta < 0, 0)).rolling(window=window).mean()\n",
    "\n",
    "            rs = gain / loss\n",
    "            df['RSI'] = 100 - (100 / (1 + rs))\n",
    "            \n",
    "            # RSI 신호선 추가\n",
    "            df['RSI_Signal'] = df['RSI'].ewm(span=signal_window, adjust=False).mean()\n",
    "            return df\n",
    "\n",
    "        # MACD 및 MACD 신호 계산\n",
    "        df = calculate_macd(df)\n",
    "\n",
    "        df = calculate_rsi(df)\n",
    "\n",
    "        # '종가' 컬럼이 포함된 DataFrame을 가정합니다. 예를 들어, df라고 합시다.\n",
    "        # df = pd.read_csv('path_to_your_data.csv') # 데이터 파일을 로드하는 예시\n",
    "\n",
    "        # 지정된 기간에 대한 SMA 계산\n",
    "        periods = [5, 20, 60, 120, 240]\n",
    "        for period in periods:\n",
    "            df[f'SMA_{period}'] = df['종가'].rolling(window=period).mean()\n",
    "\n",
    "        # 지정된 기간에 대한 EMA 계산\n",
    "        for period in periods:\n",
    "            df[f'EMA_{period}'] = df['종가'].ewm(span=period, adjust=False).mean()\n",
    "\n",
    "        for i in range(len(periods)):\n",
    "            for j in range(i + 1, len(periods)):\n",
    "                smaller_period = periods[i]\n",
    "                larger_period = periods[j]\n",
    "                df[f'SMA_{smaller_period}_minus_SMA_{larger_period}'] = df[f'SMA_{smaller_period}'] - df[f'SMA_{larger_period}']\n",
    "\n",
    "        # EMA 간의 차이 계산\n",
    "        for i in range(len(periods)):\n",
    "            for j in range(i + 1, len(periods)):\n",
    "                smaller_period = periods[i]\n",
    "                larger_period = periods[j]\n",
    "                df[f'EMA_{smaller_period}_minus_EMA_{larger_period}'] = df[f'EMA_{smaller_period}'] - df[f'EMA_{larger_period}']\n",
    "\n",
    "        for column in ['시가', '고가', '저가','거래량','MACD','MACD_Signal','RSI','RSI_Signal']:\n",
    "            df[f'{column}_등락률'] = df[column].pct_change() * 100\n",
    "\n",
    "        # SMA 및 EMA의 전 거래일 대비 등락률 계산 및 DataFrame에 추가\n",
    "        periods = [5, 20, 60, 120, 240]\n",
    "\n",
    "        # SMA 등락률 계산 및 추가\n",
    "        for period in periods:\n",
    "            df[f'SMA_{period}_등락률'] = df[f'SMA_{period}'].pct_change() * 100\n",
    "\n",
    "        # EMA 등락률 계산 및 추가\n",
    "        for period in periods:\n",
    "            df[f'EMA_{period}_등락률'] = df[f'EMA_{period}'].pct_change() * 100\n",
    "\n",
    "        # 'MACD'가 0 이상일 때 1, 아니면 0을 할당\n",
    "        df['MACD_Binary'] = (df['MACD'] >= 0).astype(int)\n",
    "\n",
    "        # 'MACD - MACD_Signal'이 0 이상일 때 1, 아니면 0을 할당\n",
    "        df['MACD_minus_Signal_Binary'] = ((df['MACD'] - df['MACD_Signal']) >= 0).astype(int)\n",
    "\n",
    "        # 'RSI - RSI_Signal'이 0 이상일 때 1, 아니면 0을 할당\n",
    "        df['RSI_minus_Signal_Binary'] = ((df['RSI'] - df['RSI_Signal']) >= 0).astype(int)\n",
    "\n",
    "        # 시가 대비 종가 등락률 컬럼 추가\n",
    "        df['시가_대비_종가_등락률'] = ((df['종가'] - df['시가']) / df['시가']) * 100\n",
    "        df['시가_대비_저가_등락률'] = ((df['저가'] - df['시가']) / df['시가']) * 100\n",
    "        df['시가_대비_고가_등락률'] = ((df['고가'] - df['시가']) / df['시가']) * 100\n",
    "        df['저가_대비_종가_등락률'] = ((df['종가'] - df['저가']) / df['저가']) * 100\n",
    "        df['저가_대비_고가_등락률'] = ((df['고가'] - df['저가']) / df['저가']) * 100\n",
    "        df['고가_대비_종가_등락률'] = ((df['종가'] - df['고가']) / df['고가']) * 100\n",
    "        # 종가 - SMA [5, 20, 60, 120, 240] 값의 차이 컬럼 추가\n",
    "        for period in [5, 20, 60, 120, 240]:\n",
    "            df[f'종가_minus_SMA_{period}'] = df['종가'] - df[f'SMA_{period}']\n",
    "\n",
    "        # 종가 - EMA [5, 20, 60, 120, 240] 값의 차이 컬럼 추가\n",
    "        for period in [5, 20, 60, 120, 240]:\n",
    "            df[f'종가_minus_EMA_{period}'] = df['종가'] - df[f'EMA_{period}']\n",
    "\n",
    "\n",
    "        #csv_file_path = \"C:/apps/h1/이스트소프트_data.csv\"  # 저장할 파일 경로 및 이름 설정\n",
    "        #df.to_csv(csv_file_path, encoding='utf-8-sig')\n",
    "\n",
    "        #print(f\"Data saved to {csv_file_path}\")\n",
    "\n",
    "        # 등락률을 기준으로 다음 날 등락률 계산 후 target 생성\n",
    "        df['next_day_return'] = df['등락률'].shift(-1)\n",
    "        df['target'] = df['next_day_return'].apply(lambda x: 3 if x > 2 else (2 if x > -2 else 1))\n",
    "        df.dropna(inplace=True)  # 마지막 행 삭제\n",
    "\n",
    "        first_column_name = df.columns[0]\n",
    "\n",
    "        df1= df.iloc[:-50, :]\n",
    "        X = df1.drop(['next_day_return','target'], axis=1)\n",
    "        y = df1['target']\n",
    "\n",
    "        # Calculating correlations for Forward Selection\n",
    "        correlations = X.corrwith(y).abs().sort_values(ascending=False).reset_index()\n",
    "        correlations.columns = ['Feature', 'Correlation']\n",
    "\n",
    "        top_8_features = correlations.sort_values(by='Correlation', ascending=False).head(8)['Feature']\n",
    "\n",
    "        # X와 y 정의 (df2와 이전 코드에서의 처리 과정을 바탕으로)\n",
    "        X_top8 = X[top_8_features]\n",
    "        y = df1['target']\n",
    "\n",
    "        # 데이터를 학습 세트와 테스트 세트로 분할\n",
    "        X_train, X_test, y_train, y_test = train_test_split(X_top8, y, test_size=0.25, random_state=42)\n",
    "\n",
    "        svm_model = SVC()\n",
    "        svm_model.fit(X_train, y_train)\n",
    "        y_pred_svm = svm_model.predict(X_test)\n",
    "\n",
    "        # Precision score 계산\n",
    "        precision_svm = precision_score(y_test, y_pred_svm, average='macro')\n",
    "        precision_list.append({'Ticker': ticker, 'Name': ticker_name, 'Precision_SVM': precision_svm})\n",
    "        pass\n",
    "    except Exception as e:\n",
    "        print(f\"Error processing {ticker}: {e}\")\n",
    "        continue\n",
    "\n",
    "# 결과를 데이터프레임으로 변환하고 precision_svm 값에 따라 내림차순 정렬\n",
    "precision_df = pd.DataFrame(precision_list).sort_values(by='Precision_SVM', ascending=False)\n",
    "\n",
    "# 데이터프레임 출력\n",
    "precision_df\n"
   ]
  },
  {
   "cell_type": "code",
   "execution_count": 6,
   "metadata": {},
   "outputs": [],
   "source": [
    "csv_file_path = \"C:/apps/h1/3targets_kospi_1503_2103_svmprecision_data.csv\"  # 저장할 파일 경로 및 이름 설정\n",
    "precision_df.to_csv(csv_file_path, encoding='utf-8-sig')"
   ]
  }
 ],
 "metadata": {
  "kernelspec": {
   "display_name": "base",
   "language": "python",
   "name": "python3"
  },
  "language_info": {
   "codemirror_mode": {
    "name": "ipython",
    "version": 3
   },
   "file_extension": ".py",
   "mimetype": "text/x-python",
   "name": "python",
   "nbconvert_exporter": "python",
   "pygments_lexer": "ipython3",
   "version": "3.11.5"
  }
 },
 "nbformat": 4,
 "nbformat_minor": 2
}
