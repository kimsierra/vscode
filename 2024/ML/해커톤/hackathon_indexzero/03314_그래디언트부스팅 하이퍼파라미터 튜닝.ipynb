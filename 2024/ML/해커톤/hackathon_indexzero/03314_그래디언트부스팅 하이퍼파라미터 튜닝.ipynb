{
 "cells": [
  {
   "cell_type": "code",
   "execution_count": null,
   "metadata": {},
   "outputs": [],
   "source": [
    "from sklearn.ensemble import GradientBoostingClassifier\n",
    "from sklearn.model_selection import GridSearchCV\n",
    "import pandas as pd\n",
    "from sklearn.model_selection import train_test_split\n",
    "from sklearn.metrics import accuracy_score, precision_score, recall_score, f1_score\n",
    "\n",
    "# 데이터 로드 및 전처리\n",
    "df = pd.read_csv(\"하이닉스 power (3).csv\", thousands=',', encoding='cp949')\n",
    "df['next_day_return'] = (df['종가'].shift(-1) - df['종가']) / df['종가'] * 100\n",
    "df['target'] = df['next_day_return'].apply(lambda x: 1 if x > 0.25 else 0)\n",
    "df.dropna(inplace=True)\n",
    "\n",
    "X = df.drop(['날짜', 'target', 'next_day_return'], axis=1)\n",
    "y = df['target']\n",
    "\n",
    "# 데이터를 학습 세트와 테스트 세트로 분할\n",
    "X_train, X_test, y_train, y_test = train_test_split(X, y, test_size=0.25, random_state=1)\n",
    "\n",
    "# 그라디언트 부스팅 모델을 위한 하이퍼파라미터 그리드 정의\n",
    "param_grid_gb = {\n",
    "    'n_estimators': [100, 200, 300],\n",
    "    'learning_rate': [0.01, 0.1, 0.2],\n",
    "    'max_depth': [4,6,8],\n",
    "    'min_samples_split': [2, 5,7],\n",
    "    'min_samples_leaf': [1, 3]\n",
    "}\n",
    "\n",
    "# GridSearchCV 객체 초기화 및 학습\n",
    "grid_search_gb = GridSearchCV(GradientBoostingClassifier(random_state=1), param_grid_gb, refit=True, verbose=2, cv=5, n_jobs=-1)\n",
    "grid_search_gb.fit(X_train, y_train)\n",
    "\n",
    "# 최적의 하이퍼파라미터와 모델 출력\n",
    "print(f\"Best parameters: {grid_search_gb.best_params_}\")\n",
    "best_gb_model = grid_search_gb.best_estimator_\n",
    "\n",
    "# 최적의 모델로 테스트 데이터 예측\n",
    "y_pred_gb = best_gb_model.predict(X_test)\n",
    "\n",
    "# 예측 결과에 대한 평가 지표 출력\n",
    "accuracy_gb = accuracy_score(y_test, y_pred_gb)\n",
    "precision_gb = precision_score(y_test, y_pred_gb, average='macro')\n",
    "recall_gb = recall_score(y_test, y_pred_gb, average='macro')\n",
    "f1_gb = f1_score(y_test, y_pred_gb, average='macro')\n",
    "\n",
    "print(f\"Accuracy (GB): {accuracy_gb:.4f}\")\n",
    "print(f\"Precision (GB): {precision_gb:.4f}\")\n",
    "print(f\"Recall (GB): {recall_gb:.4f}\")\n",
    "print(f\"F1 Score (GB): {f1_gb:.4f}\")"
   ]
  }
 ],
 "metadata": {
  "language_info": {
   "name": "python"
  }
 },
 "nbformat": 4,
 "nbformat_minor": 2
}
