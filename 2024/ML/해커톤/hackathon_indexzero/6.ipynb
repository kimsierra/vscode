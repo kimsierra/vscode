{
 "cells": [
  {
   "cell_type": "code",
   "execution_count": 3,
   "metadata": {},
   "outputs": [],
   "source": [
    "import warnings\n",
    "warnings.filterwarnings('ignore')"
   ]
  },
  {
   "cell_type": "code",
   "execution_count": 5,
   "metadata": {},
   "outputs": [
    {
     "name": "stderr",
     "output_type": "stream",
     "text": [
      "Processing:   3%|▎         | 29/953 [00:18<04:40,  3.29it/s] "
     ]
    },
    {
     "name": "stdout",
     "output_type": "stream",
     "text": [
      "Error processing 37550L: With n_samples=0, test_size=0.3 and train_size=None, the resulting train set will be empty. Adjust any of the aforementioned parameters.\n"
     ]
    },
    {
     "name": "stderr",
     "output_type": "stream",
     "text": [
      "Processing:   4%|▎         | 34/953 [00:21<06:44,  2.27it/s]"
     ]
    },
    {
     "name": "stdout",
     "output_type": "stream",
     "text": [
      "Error processing 017860: With n_samples=0, test_size=0.3 and train_size=None, the resulting train set will be empty. Adjust any of the aforementioned parameters.\n"
     ]
    },
    {
     "name": "stderr",
     "output_type": "stream",
     "text": [
      "Processing:   4%|▍         | 37/953 [00:22<05:15,  2.90it/s]"
     ]
    },
    {
     "name": "stdout",
     "output_type": "stream",
     "text": [
      "Error processing 383220: With n_samples=0, test_size=0.3 and train_size=None, the resulting train set will be empty. Adjust any of the aforementioned parameters.\n"
     ]
    },
    {
     "name": "stderr",
     "output_type": "stream",
     "text": [
      "Processing:   6%|▌         | 55/953 [00:31<05:32,  2.70it/s]"
     ]
    },
    {
     "name": "stdout",
     "output_type": "stream",
     "text": [
      "Error processing 329180: With n_samples=0, test_size=0.3 and train_size=None, the resulting train set will be empty. Adjust any of the aforementioned parameters.\n"
     ]
    },
    {
     "name": "stderr",
     "output_type": "stream",
     "text": [
      "Processing:   7%|▋         | 71/953 [00:41<07:16,  2.02it/s]"
     ]
    },
    {
     "name": "stdout",
     "output_type": "stream",
     "text": [
      "Error processing 432320: With n_samples=0, test_size=0.3 and train_size=None, the resulting train set will be empty. Adjust any of the aforementioned parameters.\n"
     ]
    },
    {
     "name": "stderr",
     "output_type": "stream",
     "text": [
      "Processing:  10%|█         | 97/953 [00:57<07:47,  1.83it/s]"
     ]
    },
    {
     "name": "stdout",
     "output_type": "stream",
     "text": [
      "Error processing 373220: With n_samples=0, test_size=0.3 and train_size=None, the resulting train set will be empty. Adjust any of the aforementioned parameters.\n"
     ]
    },
    {
     "name": "stderr",
     "output_type": "stream",
     "text": [
      "Processing:  12%|█▏        | 116/953 [01:07<05:18,  2.63it/s]"
     ]
    },
    {
     "name": "stdout",
     "output_type": "stream",
     "text": [
      "Error processing 383800: With n_samples=0, test_size=0.3 and train_size=None, the resulting train set will be empty. Adjust any of the aforementioned parameters.\n",
      "Error processing 38380K: With n_samples=0, test_size=0.3 and train_size=None, the resulting train set will be empty. Adjust any of the aforementioned parameters.\n"
     ]
    },
    {
     "name": "stderr",
     "output_type": "stream",
     "text": [
      "Processing:  13%|█▎        | 120/953 [01:09<05:49,  2.38it/s]"
     ]
    },
    {
     "name": "stdout",
     "output_type": "stream",
     "text": [
      "Error processing 400760: With n_samples=0, test_size=0.3 and train_size=None, the resulting train set will be empty. Adjust any of the aforementioned parameters.\n"
     ]
    },
    {
     "name": "stderr",
     "output_type": "stream",
     "text": [
      "Processing:  14%|█▎        | 129/953 [01:15<07:41,  1.79it/s]"
     ]
    },
    {
     "name": "stdout",
     "output_type": "stream",
     "text": [
      "Error processing 456040: With n_samples=0, test_size=0.3 and train_size=None, the resulting train set will be empty. Adjust any of the aforementioned parameters.\n"
     ]
    },
    {
     "name": "stderr",
     "output_type": "stream",
     "text": [
      "Processing:  16%|█▌        | 151/953 [01:30<06:09,  2.17it/s]"
     ]
    },
    {
     "name": "stdout",
     "output_type": "stream",
     "text": [
      "Error processing 395400: With n_samples=0, test_size=0.3 and train_size=None, the resulting train set will be empty. Adjust any of the aforementioned parameters.\n"
     ]
    },
    {
     "name": "stderr",
     "output_type": "stream",
     "text": [
      "Processing:  16%|█▌        | 152/953 [01:30<05:30,  2.42it/s]"
     ]
    },
    {
     "name": "stdout",
     "output_type": "stream",
     "text": [
      "Error processing 302440: The number of classes has to be greater than one; got 1 class\n"
     ]
    },
    {
     "name": "stderr",
     "output_type": "stream",
     "text": [
      "Processing:  16%|█▋        | 155/953 [01:31<03:34,  3.73it/s]"
     ]
    },
    {
     "name": "stdout",
     "output_type": "stream",
     "text": [
      "Error processing 402340: With n_samples=0, test_size=0.3 and train_size=None, the resulting train set will be empty. Adjust any of the aforementioned parameters.\n",
      "Error processing 361610: With n_samples=0, test_size=0.3 and train_size=None, the resulting train set will be empty. Adjust any of the aforementioned parameters.\n"
     ]
    },
    {
     "name": "stderr",
     "output_type": "stream",
     "text": [
      "Processing:  18%|█▊        | 172/953 [01:39<05:36,  2.32it/s]"
     ]
    },
    {
     "name": "stdout",
     "output_type": "stream",
     "text": [
      "Error processing 465770: With n_samples=0, test_size=0.3 and train_size=None, the resulting train set will be empty. Adjust any of the aforementioned parameters.\n"
     ]
    },
    {
     "name": "stderr",
     "output_type": "stream",
     "text": [
      "Processing:  25%|██▌       | 240/953 [02:24<06:10,  1.92it/s]"
     ]
    },
    {
     "name": "stdout",
     "output_type": "stream",
     "text": [
      "Error processing 092790: With n_samples=0, test_size=0.3 and train_size=None, the resulting train set will be empty. Adjust any of the aforementioned parameters.\n"
     ]
    },
    {
     "name": "stderr",
     "output_type": "stream",
     "text": [
      "Processing:  33%|███▎      | 311/953 [03:09<04:43,  2.26it/s]"
     ]
    },
    {
     "name": "stdout",
     "output_type": "stream",
     "text": [
      "Error processing 460850: With n_samples=0, test_size=0.3 and train_size=None, the resulting train set will be empty. Adjust any of the aforementioned parameters.\n"
     ]
    },
    {
     "name": "stderr",
     "output_type": "stream",
     "text": [
      "Processing:  33%|███▎      | 312/953 [03:09<04:13,  2.53it/s]"
     ]
    },
    {
     "name": "stdout",
     "output_type": "stream",
     "text": [
      "Error processing 460860: With n_samples=0, test_size=0.3 and train_size=None, the resulting train set will be empty. Adjust any of the aforementioned parameters.\n"
     ]
    },
    {
     "name": "stderr",
     "output_type": "stream",
     "text": [
      "Processing:  36%|███▌      | 339/953 [03:31<05:14,  1.95it/s]"
     ]
    },
    {
     "name": "stdout",
     "output_type": "stream",
     "text": [
      "Error processing 111380: With n_samples=0, test_size=0.3 and train_size=None, the resulting train set will be empty. Adjust any of the aforementioned parameters.\n"
     ]
    },
    {
     "name": "stderr",
     "output_type": "stream",
     "text": [
      "Processing:  36%|███▋      | 346/953 [03:35<05:04,  2.00it/s]"
     ]
    },
    {
     "name": "stdout",
     "output_type": "stream",
     "text": [
      "Error processing 454910: With n_samples=0, test_size=0.3 and train_size=None, the resulting train set will be empty. Adjust any of the aforementioned parameters.\n"
     ]
    },
    {
     "name": "stderr",
     "output_type": "stream",
     "text": [
      "Processing:  38%|███▊      | 358/953 [03:40<04:35,  2.16it/s]"
     ]
    },
    {
     "name": "stdout",
     "output_type": "stream",
     "text": [
      "Error processing 377190: With n_samples=0, test_size=0.3 and train_size=None, the resulting train set will be empty. Adjust any of the aforementioned parameters.\n"
     ]
    },
    {
     "name": "stderr",
     "output_type": "stream",
     "text": [
      "Processing:  38%|███▊      | 363/953 [03:43<04:50,  2.03it/s]"
     ]
    },
    {
     "name": "stdout",
     "output_type": "stream",
     "text": [
      "Error processing 089860: With n_samples=0, test_size=0.3 and train_size=None, the resulting train set will be empty. Adjust any of the aforementioned parameters.\n"
     ]
    },
    {
     "name": "stderr",
     "output_type": "stream",
     "text": [
      "Processing:  40%|███▉      | 378/953 [03:55<06:42,  1.43it/s]"
     ]
    },
    {
     "name": "stdout",
     "output_type": "stream",
     "text": [
      "Error processing 357430: With n_samples=0, test_size=0.3 and train_size=None, the resulting train set will be empty. Adjust any of the aforementioned parameters.\n"
     ]
    },
    {
     "name": "stderr",
     "output_type": "stream",
     "text": [
      "Processing:  41%|████▏     | 395/953 [04:05<05:26,  1.71it/s]"
     ]
    },
    {
     "name": "stdout",
     "output_type": "stream",
     "text": [
      "Error processing 396690: With n_samples=0, test_size=0.3 and train_size=None, the resulting train set will be empty. Adjust any of the aforementioned parameters.\n"
     ]
    },
    {
     "name": "stderr",
     "output_type": "stream",
     "text": [
      "Processing:  43%|████▎     | 406/953 [04:11<03:53,  2.34it/s]"
     ]
    },
    {
     "name": "stdout",
     "output_type": "stream",
     "text": [
      "Error processing 377740: With n_samples=0, test_size=0.3 and train_size=None, the resulting train set will be empty. Adjust any of the aforementioned parameters.\n"
     ]
    },
    {
     "name": "stderr",
     "output_type": "stream",
     "text": [
      "Processing:  45%|████▌     | 432/953 [04:26<03:43,  2.34it/s]"
     ]
    },
    {
     "name": "stdout",
     "output_type": "stream",
     "text": [
      "Error processing 448730: With n_samples=0, test_size=0.3 and train_size=None, the resulting train set will be empty. Adjust any of the aforementioned parameters.\n"
     ]
    },
    {
     "name": "stderr",
     "output_type": "stream",
     "text": [
      "Processing:  55%|█████▍    | 520/953 [05:17<03:00,  2.39it/s]"
     ]
    },
    {
     "name": "stdout",
     "output_type": "stream",
     "text": [
      "Error processing 126720: With n_samples=0, test_size=0.3 and train_size=None, the resulting train set will be empty. Adjust any of the aforementioned parameters.\n"
     ]
    },
    {
     "name": "stderr",
     "output_type": "stream",
     "text": [
      "Processing:  57%|█████▋    | 545/953 [05:32<03:23,  2.00it/s]"
     ]
    },
    {
     "name": "stdout",
     "output_type": "stream",
     "text": [
      "Error processing 404990: With n_samples=0, test_size=0.3 and train_size=None, the resulting train set will be empty. Adjust any of the aforementioned parameters.\n"
     ]
    },
    {
     "name": "stderr",
     "output_type": "stream",
     "text": [
      "Processing:  58%|█████▊    | 552/953 [05:36<03:04,  2.18it/s]"
     ]
    },
    {
     "name": "stdout",
     "output_type": "stream",
     "text": [
      "Error processing 403550: With n_samples=0, test_size=0.3 and train_size=None, the resulting train set will be empty. Adjust any of the aforementioned parameters.\n"
     ]
    },
    {
     "name": "stderr",
     "output_type": "stream",
     "text": [
      "Processing:  60%|█████▉    | 570/953 [05:45<02:44,  2.33it/s]"
     ]
    },
    {
     "name": "stdout",
     "output_type": "stream",
     "text": [
      "Error processing 139990: With n_samples=0, test_size=0.3 and train_size=None, the resulting train set will be empty. Adjust any of the aforementioned parameters.\n"
     ]
    },
    {
     "name": "stderr",
     "output_type": "stream",
     "text": [
      "Processing:  60%|██████    | 575/953 [05:47<02:43,  2.31it/s]"
     ]
    },
    {
     "name": "stdout",
     "output_type": "stream",
     "text": [
      "Error processing 137310: With n_samples=0, test_size=0.3 and train_size=None, the resulting train set will be empty. Adjust any of the aforementioned parameters.\n"
     ]
    },
    {
     "name": "stderr",
     "output_type": "stream",
     "text": [
      "Processing:  62%|██████▏   | 589/953 [05:53<01:51,  3.28it/s]"
     ]
    },
    {
     "name": "stdout",
     "output_type": "stream",
     "text": [
      "Error processing 278470: With n_samples=0, test_size=0.3 and train_size=None, the resulting train set will be empty. Adjust any of the aforementioned parameters.\n",
      "Error processing 450080: With n_samples=0, test_size=0.3 and train_size=None, the resulting train set will be empty. Adjust any of the aforementioned parameters.\n"
     ]
    },
    {
     "name": "stderr",
     "output_type": "stream",
     "text": [
      "Processing:  65%|██████▌   | 623/953 [06:14<02:40,  2.05it/s]"
     ]
    },
    {
     "name": "stdout",
     "output_type": "stream",
     "text": [
      "Error processing 446070: With n_samples=0, test_size=0.3 and train_size=None, the resulting train set will be empty. Adjust any of the aforementioned parameters.\n"
     ]
    },
    {
     "name": "stderr",
     "output_type": "stream",
     "text": [
      "Processing:  68%|██████▊   | 647/953 [06:29<02:23,  2.13it/s]"
     ]
    },
    {
     "name": "stdout",
     "output_type": "stream",
     "text": [
      "Error processing 457190: With n_samples=0, test_size=0.3 and train_size=None, the resulting train set will be empty. Adjust any of the aforementioned parameters.\n"
     ]
    },
    {
     "name": "stderr",
     "output_type": "stream",
     "text": [
      "Processing:  71%|███████   | 677/953 [06:46<02:18,  2.00it/s]"
     ]
    },
    {
     "name": "stdout",
     "output_type": "stream",
     "text": [
      "Error processing 271940: With n_samples=0, test_size=0.3 and train_size=None, the resulting train set will be empty. Adjust any of the aforementioned parameters.\n"
     ]
    },
    {
     "name": "stderr",
     "output_type": "stream",
     "text": [
      "Processing:  73%|███████▎  | 695/953 [06:56<02:14,  1.92it/s]"
     ]
    },
    {
     "name": "stdout",
     "output_type": "stream",
     "text": [
      "Error processing 462520: With n_samples=0, test_size=0.3 and train_size=None, the resulting train set will be empty. Adjust any of the aforementioned parameters.\n"
     ]
    },
    {
     "name": "stderr",
     "output_type": "stream",
     "text": [
      "Processing:  76%|███████▌  | 723/953 [07:11<01:18,  2.94it/s]"
     ]
    },
    {
     "name": "stdout",
     "output_type": "stream",
     "text": [
      "Error processing 323410: With n_samples=0, test_size=0.3 and train_size=None, the resulting train set will be empty. Adjust any of the aforementioned parameters.\n",
      "Error processing 377300: With n_samples=0, test_size=0.3 and train_size=None, the resulting train set will be empty. Adjust any of the aforementioned parameters.\n"
     ]
    },
    {
     "name": "stderr",
     "output_type": "stream",
     "text": [
      "Processing:  76%|███████▋  | 728/953 [07:13<01:25,  2.64it/s]"
     ]
    },
    {
     "name": "stdout",
     "output_type": "stream",
     "text": [
      "Error processing 381970: With n_samples=0, test_size=0.3 and train_size=None, the resulting train set will be empty. Adjust any of the aforementioned parameters.\n"
     ]
    },
    {
     "name": "stderr",
     "output_type": "stream",
     "text": [
      "Processing:  77%|███████▋  | 730/953 [07:14<01:16,  2.90it/s]"
     ]
    },
    {
     "name": "stdout",
     "output_type": "stream",
     "text": [
      "Error processing 417310: With n_samples=0, test_size=0.3 and train_size=None, the resulting train set will be empty. Adjust any of the aforementioned parameters.\n"
     ]
    },
    {
     "name": "stderr",
     "output_type": "stream",
     "text": [
      "Processing:  78%|███████▊  | 745/953 [07:22<01:13,  2.82it/s]"
     ]
    },
    {
     "name": "stdout",
     "output_type": "stream",
     "text": [
      "Error processing 450140: With n_samples=0, test_size=0.3 and train_size=None, the resulting train set will be empty. Adjust any of the aforementioned parameters.\n",
      "Error processing 45014K: With n_samples=0, test_size=0.3 and train_size=None, the resulting train set will be empty. Adjust any of the aforementioned parameters.\n"
     ]
    },
    {
     "name": "stderr",
     "output_type": "stream",
     "text": [
      "Processing:  80%|███████▉  | 759/953 [07:29<01:10,  2.74it/s]"
     ]
    },
    {
     "name": "stdout",
     "output_type": "stream",
     "text": [
      "Error processing 259960: With n_samples=0, test_size=0.3 and train_size=None, the resulting train set will be empty. Adjust any of the aforementioned parameters.\n"
     ]
    },
    {
     "name": "stderr",
     "output_type": "stream",
     "text": [
      "Processing:  92%|█████████▏| 878/953 [08:39<00:37,  1.99it/s]"
     ]
    },
    {
     "name": "stdout",
     "output_type": "stream",
     "text": [
      "Error processing 372910: With n_samples=0, test_size=0.3 and train_size=None, the resulting train set will be empty. Adjust any of the aforementioned parameters.\n"
     ]
    },
    {
     "name": "stderr",
     "output_type": "stream",
     "text": [
      "Processing:  93%|█████████▎| 882/953 [08:40<00:21,  3.30it/s]"
     ]
    },
    {
     "name": "stdout",
     "output_type": "stream",
     "text": [
      "Error processing 452260: With n_samples=0, test_size=0.3 and train_size=None, the resulting train set will be empty. Adjust any of the aforementioned parameters.\n",
      "Error processing 45226K: With n_samples=0, test_size=0.3 and train_size=None, the resulting train set will be empty. Adjust any of the aforementioned parameters.\n"
     ]
    },
    {
     "name": "stderr",
     "output_type": "stream",
     "text": [
      "Processing:  93%|█████████▎| 883/953 [08:40<00:17,  4.04it/s]"
     ]
    },
    {
     "name": "stdout",
     "output_type": "stream",
     "text": [
      "Error processing 451800: With n_samples=0, test_size=0.3 and train_size=None, the resulting train set will be empty. Adjust any of the aforementioned parameters.\n"
     ]
    },
    {
     "name": "stderr",
     "output_type": "stream",
     "text": [
      "Processing:  94%|█████████▍| 900/953 [08:49<00:22,  2.35it/s]"
     ]
    },
    {
     "name": "stdout",
     "output_type": "stream",
     "text": [
      "Error processing 453340: With n_samples=0, test_size=0.3 and train_size=None, the resulting train set will be empty. Adjust any of the aforementioned parameters.\n"
     ]
    },
    {
     "name": "stderr",
     "output_type": "stream",
     "text": [
      "Processing:  98%|█████████▊| 930/953 [09:07<00:12,  1.85it/s]"
     ]
    },
    {
     "name": "stdout",
     "output_type": "stream",
     "text": [
      "Error processing 378850: The number of classes has to be greater than one; got 1 class\n"
     ]
    },
    {
     "name": "stderr",
     "output_type": "stream",
     "text": [
      "Processing: 100%|██████████| 953/953 [09:20<00:00,  1.70it/s]"
     ]
    },
    {
     "name": "stdout",
     "output_type": "stream",
     "text": [
      "     Ticker        Name  Precision_SVM\n",
      "48   322000  HD현대에너지솔루션       0.819588\n",
      "353  071840      롯데하이마트       0.819066\n",
      "80   000040       KR모터스       0.814115\n",
      "452  041650      상신브레이크       0.813592\n",
      "768  071055     한국금융지주우       0.811650\n",
      "..      ...         ...            ...\n",
      "189  339770      교촌에프앤비       0.250000\n",
      "27   37550K      DL이앤씨우       0.250000\n",
      "666  013890         지누스       0.247573\n",
      "752  950210  프레스티지바이오파마       0.222222\n",
      "26   375500       DL이앤씨       0.166667\n",
      "\n",
      "[903 rows x 3 columns]\n"
     ]
    },
    {
     "name": "stderr",
     "output_type": "stream",
     "text": [
      "\n"
     ]
    }
   ],
   "source": [
    "from pykrx import stock\n",
    "import pandas as pd\n",
    "import numpy as np\n",
    "from scipy.stats import ttest_ind\n",
    "from sklearn.linear_model import LassoCV, RidgeCV\n",
    "from sklearn.feature_selection import SequentialFeatureSelector\n",
    "from sklearn.ensemble import RandomForestClassifier, RandomForestRegressor\n",
    "from sklearn.model_selection import train_test_split\n",
    "from sklearn.svm import SVC\n",
    "from sklearn.linear_model import LogisticRegression\n",
    "from sklearn.tree import DecisionTreeClassifier\n",
    "from sklearn.ensemble import RandomForestClassifier\n",
    "from sklearn.metrics import accuracy_score, precision_score, recall_score, f1_score\n",
    "from tqdm import tqdm\n",
    "ticker_list = stock.get_market_ticker_list(market=\"KOSPI\")\n",
    "\n",
    "# precision_svm 값과 종목코드를 저장할 빈 리스트\n",
    "precision_list = []\n",
    "\n",
    "# 각 종목에 대해 반복\n",
    "for ticker in tqdm(ticker_list, desc=\"Processing\"):\n",
    "    try:\n",
    "        ticker_name = stock.get_market_ticker_name(ticker)\n",
    "        start_date = \"2014-03-20\"\n",
    "        end_date = \"2024-03-20\"\n",
    "        # 주어진 기간 동안의 일별 거래량 정보 가져오기\n",
    "        df = stock.get_market_ohlcv_by_date(fromdate=start_date, todate=end_date, ticker=ticker)\n",
    "\n",
    "\n",
    "        def calculate_macd(df, short_window=12, long_window=26, signal_window=9):\n",
    "            \"\"\"MACD 및 MACD 신호 계산\"\"\"\n",
    "            df['EMA_short'] = df['종가'].ewm(span=short_window, adjust=False).mean()\n",
    "            df['EMA_long'] = df['종가'].ewm(span=long_window, adjust=False).mean()\n",
    "            df['MACD'] = df['EMA_short'] - df['EMA_long']\n",
    "            df['MACD_Signal'] = df['MACD'].ewm(span=signal_window, adjust=False).mean()\n",
    "            return df\n",
    "\n",
    "        def calculate_rsi(df, window=14, signal_window=9):\n",
    "            \"\"\"RSI 및 RSI 신호 계산\"\"\"\n",
    "            delta = df['종가'].diff()\n",
    "            gain = (delta.where(delta > 0, 0)).rolling(window=window).mean()\n",
    "            loss = (-delta.where(delta < 0, 0)).rolling(window=window).mean()\n",
    "\n",
    "            rs = gain / loss\n",
    "            df['RSI'] = 100 - (100 / (1 + rs))\n",
    "            \n",
    "            # RSI 신호선 추가\n",
    "            df['RSI_Signal'] = df['RSI'].ewm(span=signal_window, adjust=False).mean()\n",
    "            return df\n",
    "\n",
    "        # MACD 및 MACD 신호 계산\n",
    "        df = calculate_macd(df)\n",
    "\n",
    "        df = calculate_rsi(df)\n",
    "\n",
    "        # '종가' 컬럼이 포함된 DataFrame을 가정합니다. 예를 들어, df라고 합시다.\n",
    "        # df = pd.read_csv('path_to_your_data.csv') # 데이터 파일을 로드하는 예시\n",
    "\n",
    "        # 지정된 기간에 대한 SMA 계산\n",
    "        periods = [5, 20, 60, 120, 240]\n",
    "        for period in periods:\n",
    "            df[f'SMA_{period}'] = df['종가'].rolling(window=period).mean()\n",
    "\n",
    "        # 지정된 기간에 대한 EMA 계산\n",
    "        for period in periods:\n",
    "            df[f'EMA_{period}'] = df['종가'].ewm(span=period, adjust=False).mean()\n",
    "\n",
    "        for i in range(len(periods)):\n",
    "            for j in range(i + 1, len(periods)):\n",
    "                smaller_period = periods[i]\n",
    "                larger_period = periods[j]\n",
    "                df[f'SMA_{smaller_period}_minus_SMA_{larger_period}'] = df[f'SMA_{smaller_period}'] - df[f'SMA_{larger_period}']\n",
    "\n",
    "        # EMA 간의 차이 계산\n",
    "        for i in range(len(periods)):\n",
    "            for j in range(i + 1, len(periods)):\n",
    "                smaller_period = periods[i]\n",
    "                larger_period = periods[j]\n",
    "                df[f'EMA_{smaller_period}_minus_EMA_{larger_period}'] = df[f'EMA_{smaller_period}'] - df[f'EMA_{larger_period}']\n",
    "\n",
    "        for column in ['시가', '고가', '저가','거래량','MACD','MACD_Signal','RSI','RSI_Signal']:\n",
    "            df[f'{column}_등락률'] = df[column].pct_change() * 100\n",
    "\n",
    "        # SMA 및 EMA의 전 거래일 대비 등락률 계산 및 DataFrame에 추가\n",
    "        periods = [5, 20, 60, 120, 240]\n",
    "\n",
    "        # SMA 등락률 계산 및 추가\n",
    "        for period in periods:\n",
    "            df[f'SMA_{period}_등락률'] = df[f'SMA_{period}'].pct_change() * 100\n",
    "\n",
    "        # EMA 등락률 계산 및 추가\n",
    "        for period in periods:\n",
    "            df[f'EMA_{period}_등락률'] = df[f'EMA_{period}'].pct_change() * 100\n",
    "\n",
    "        # 'MACD'가 0 이상일 때 1, 아니면 0을 할당\n",
    "        df['MACD_Binary'] = (df['MACD'] >= 0).astype(int)\n",
    "\n",
    "        # 'MACD - MACD_Signal'이 0 이상일 때 1, 아니면 0을 할당\n",
    "        df['MACD_minus_Signal_Binary'] = ((df['MACD'] - df['MACD_Signal']) >= 0).astype(int)\n",
    "\n",
    "        # 'RSI - RSI_Signal'이 0 이상일 때 1, 아니면 0을 할당\n",
    "        df['RSI_minus_Signal_Binary'] = ((df['RSI'] - df['RSI_Signal']) >= 0).astype(int)\n",
    "\n",
    "        # 시가 대비 종가 등락률 컬럼 추가\n",
    "        df['시가_대비_종가_등락률'] = ((df['종가'] - df['시가']) / df['시가']) * 100\n",
    "        df['시가_대비_저가_등락률'] = ((df['저가'] - df['시가']) / df['시가']) * 100\n",
    "        df['시가_대비_고가_등락률'] = ((df['고가'] - df['시가']) / df['시가']) * 100\n",
    "        df['저가_대비_종가_등락률'] = ((df['종가'] - df['저가']) / df['저가']) * 100\n",
    "        df['저가_대비_고가_등락률'] = ((df['고가'] - df['저가']) / df['저가']) * 100\n",
    "        df['고가_대비_종가_등락률'] = ((df['종가'] - df['고가']) / df['고가']) * 100\n",
    "        # 종가 - SMA [5, 20, 60, 120, 240] 값의 차이 컬럼 추가\n",
    "        for period in [5, 20, 60, 120, 240]:\n",
    "            df[f'종가_minus_SMA_{period}'] = df['종가'] - df[f'SMA_{period}']\n",
    "\n",
    "        # 종가 - EMA [5, 20, 60, 120, 240] 값의 차이 컬럼 추가\n",
    "        for period in [5, 20, 60, 120, 240]:\n",
    "            df[f'종가_minus_EMA_{period}'] = df['종가'] - df[f'EMA_{period}']\n",
    "\n",
    "\n",
    "        #csv_file_path = \"C:/apps/h1/이스트소프트_data.csv\"  # 저장할 파일 경로 및 이름 설정\n",
    "        #df.to_csv(csv_file_path, encoding='utf-8-sig')\n",
    "\n",
    "        #print(f\"Data saved to {csv_file_path}\")\n",
    "\n",
    "        # 등락률을 기준으로 다음 날 등락률 계산 후 target 생성\n",
    "        df['next_day_return'] = df['등락률'].shift(-1)\n",
    "        df['target'] = df['next_day_return'].apply(lambda x: 1 if x > 0.25 else -1)\n",
    "        df.dropna(inplace=True)  # 마지막 행 삭제\n",
    "\n",
    "        first_column_name = df.columns[0]\n",
    "\n",
    "        df1= df.iloc[:-500, :]\n",
    "        X = df1.drop(['next_day_return','target'], axis=1)\n",
    "        y = df1['target']\n",
    "\n",
    "        # Calculating correlations for Forward Selection\n",
    "        correlations = X.corrwith(y).abs().sort_values(ascending=False).reset_index()\n",
    "        correlations.columns = ['Feature', 'Correlation']\n",
    "\n",
    "        top_8_features = correlations.sort_values(by='Correlation', ascending=False).head(8)['Feature']\n",
    "\n",
    "        # X와 y 정의 (df2와 이전 코드에서의 처리 과정을 바탕으로)\n",
    "        X_top8 = X[top_8_features]\n",
    "        y = df1['target'].map({-1: 0, 1: 1})  # y 값을 0과 1로 조정\n",
    "\n",
    "        # 데이터를 학습 세트와 테스트 세트로 분할\n",
    "        X_train, X_test, y_train, y_test = train_test_split(X_top8, y, test_size=0.3, random_state=42)\n",
    "\n",
    "        svm_model = SVC()\n",
    "        svm_model.fit(X_train, y_train)\n",
    "        y_pred_svm = svm_model.predict(X_test)\n",
    "\n",
    "        # Precision score 계산\n",
    "        precision_svm = precision_score(y_test, y_pred_svm, average='macro')\n",
    "        precision_list.append({'Ticker': ticker, 'Name': ticker_name, 'Precision_SVM': precision_svm})\n",
    "        pass\n",
    "    except Exception as e:\n",
    "        print(f\"Error processing {ticker}: {e}\")\n",
    "        continue\n",
    "\n",
    "# 결과를 데이터프레임으로 변환하고 precision_svm 값에 따라 내림차순 정렬\n",
    "precision_df = pd.DataFrame(precision_list).sort_values(by='Precision_SVM', ascending=False)\n",
    "\n",
    "# 데이터프레임 출력\n",
    "print(precision_df)\n"
   ]
  },
  {
   "cell_type": "code",
   "execution_count": 6,
   "metadata": {},
   "outputs": [
    {
     "data": {
      "text/html": [
       "<div>\n",
       "<style scoped>\n",
       "    .dataframe tbody tr th:only-of-type {\n",
       "        vertical-align: middle;\n",
       "    }\n",
       "\n",
       "    .dataframe tbody tr th {\n",
       "        vertical-align: top;\n",
       "    }\n",
       "\n",
       "    .dataframe thead th {\n",
       "        text-align: right;\n",
       "    }\n",
       "</style>\n",
       "<table border=\"1\" class=\"dataframe\">\n",
       "  <thead>\n",
       "    <tr style=\"text-align: right;\">\n",
       "      <th></th>\n",
       "      <th>Ticker</th>\n",
       "      <th>Name</th>\n",
       "      <th>Precision_SVM</th>\n",
       "    </tr>\n",
       "  </thead>\n",
       "  <tbody>\n",
       "    <tr>\n",
       "      <th>48</th>\n",
       "      <td>322000</td>\n",
       "      <td>HD현대에너지솔루션</td>\n",
       "      <td>0.819588</td>\n",
       "    </tr>\n",
       "    <tr>\n",
       "      <th>353</th>\n",
       "      <td>071840</td>\n",
       "      <td>롯데하이마트</td>\n",
       "      <td>0.819066</td>\n",
       "    </tr>\n",
       "    <tr>\n",
       "      <th>80</th>\n",
       "      <td>000040</td>\n",
       "      <td>KR모터스</td>\n",
       "      <td>0.814115</td>\n",
       "    </tr>\n",
       "    <tr>\n",
       "      <th>452</th>\n",
       "      <td>041650</td>\n",
       "      <td>상신브레이크</td>\n",
       "      <td>0.813592</td>\n",
       "    </tr>\n",
       "    <tr>\n",
       "      <th>768</th>\n",
       "      <td>071055</td>\n",
       "      <td>한국금융지주우</td>\n",
       "      <td>0.811650</td>\n",
       "    </tr>\n",
       "    <tr>\n",
       "      <th>...</th>\n",
       "      <td>...</td>\n",
       "      <td>...</td>\n",
       "      <td>...</td>\n",
       "    </tr>\n",
       "    <tr>\n",
       "      <th>189</th>\n",
       "      <td>339770</td>\n",
       "      <td>교촌에프앤비</td>\n",
       "      <td>0.250000</td>\n",
       "    </tr>\n",
       "    <tr>\n",
       "      <th>27</th>\n",
       "      <td>37550K</td>\n",
       "      <td>DL이앤씨우</td>\n",
       "      <td>0.250000</td>\n",
       "    </tr>\n",
       "    <tr>\n",
       "      <th>666</th>\n",
       "      <td>013890</td>\n",
       "      <td>지누스</td>\n",
       "      <td>0.247573</td>\n",
       "    </tr>\n",
       "    <tr>\n",
       "      <th>752</th>\n",
       "      <td>950210</td>\n",
       "      <td>프레스티지바이오파마</td>\n",
       "      <td>0.222222</td>\n",
       "    </tr>\n",
       "    <tr>\n",
       "      <th>26</th>\n",
       "      <td>375500</td>\n",
       "      <td>DL이앤씨</td>\n",
       "      <td>0.166667</td>\n",
       "    </tr>\n",
       "  </tbody>\n",
       "</table>\n",
       "<p>903 rows × 3 columns</p>\n",
       "</div>"
      ],
      "text/plain": [
       "     Ticker        Name  Precision_SVM\n",
       "48   322000  HD현대에너지솔루션       0.819588\n",
       "353  071840      롯데하이마트       0.819066\n",
       "80   000040       KR모터스       0.814115\n",
       "452  041650      상신브레이크       0.813592\n",
       "768  071055     한국금융지주우       0.811650\n",
       "..      ...         ...            ...\n",
       "189  339770      교촌에프앤비       0.250000\n",
       "27   37550K      DL이앤씨우       0.250000\n",
       "666  013890         지누스       0.247573\n",
       "752  950210  프레스티지바이오파마       0.222222\n",
       "26   375500       DL이앤씨       0.166667\n",
       "\n",
       "[903 rows x 3 columns]"
      ]
     },
     "execution_count": 6,
     "metadata": {},
     "output_type": "execute_result"
    }
   ],
   "source": []
  },
  {
   "cell_type": "code",
   "execution_count": 17,
   "metadata": {},
   "outputs": [
    {
     "name": "stderr",
     "output_type": "stream",
     "text": [
      "Processing:   4%|▎         | 34/953 [00:24<08:27,  1.81it/s]"
     ]
    },
    {
     "name": "stdout",
     "output_type": "stream",
     "text": [
      "Error processing 017860: With n_samples=0, test_size=0.25 and train_size=None, the resulting train set will be empty. Adjust any of the aforementioned parameters.\n"
     ]
    },
    {
     "name": "stderr",
     "output_type": "stream",
     "text": [
      "Processing:  14%|█▎        | 129/953 [02:11<17:51,  1.30s/it]"
     ]
    },
    {
     "name": "stdout",
     "output_type": "stream",
     "text": [
      "Error processing 456040: With n_samples=0, test_size=0.25 and train_size=None, the resulting train set will be empty. Adjust any of the aforementioned parameters.\n"
     ]
    },
    {
     "name": "stderr",
     "output_type": "stream",
     "text": [
      "Processing:  18%|█▊        | 172/953 [02:52<07:55,  1.64it/s]"
     ]
    },
    {
     "name": "stdout",
     "output_type": "stream",
     "text": [
      "Error processing 465770: With n_samples=0, test_size=0.25 and train_size=None, the resulting train set will be empty. Adjust any of the aforementioned parameters.\n"
     ]
    },
    {
     "name": "stderr",
     "output_type": "stream",
     "text": [
      "Processing:  25%|██▌       | 240/953 [03:48<06:36,  1.80it/s]"
     ]
    },
    {
     "name": "stdout",
     "output_type": "stream",
     "text": [
      "Error processing 092790: With n_samples=0, test_size=0.25 and train_size=None, the resulting train set will be empty. Adjust any of the aforementioned parameters.\n"
     ]
    },
    {
     "name": "stderr",
     "output_type": "stream",
     "text": [
      "Processing:  33%|███▎      | 312/953 [04:54<04:18,  2.48it/s]"
     ]
    },
    {
     "name": "stdout",
     "output_type": "stream",
     "text": [
      "Error processing 460850: With n_samples=0, test_size=0.25 and train_size=None, the resulting train set will be empty. Adjust any of the aforementioned parameters.\n",
      "Error processing 460860: With n_samples=0, test_size=0.25 and train_size=None, the resulting train set will be empty. Adjust any of the aforementioned parameters.\n"
     ]
    },
    {
     "name": "stderr",
     "output_type": "stream",
     "text": [
      "Processing:  36%|███▌      | 339/953 [05:12<06:08,  1.67it/s]"
     ]
    },
    {
     "name": "stdout",
     "output_type": "stream",
     "text": [
      "Error processing 111380: With n_samples=0, test_size=0.25 and train_size=None, the resulting train set will be empty. Adjust any of the aforementioned parameters.\n"
     ]
    },
    {
     "name": "stderr",
     "output_type": "stream",
     "text": [
      "Processing:  36%|███▋      | 346/953 [05:18<06:59,  1.45it/s]"
     ]
    },
    {
     "name": "stdout",
     "output_type": "stream",
     "text": [
      "Error processing 454910: With n_samples=0, test_size=0.25 and train_size=None, the resulting train set will be empty. Adjust any of the aforementioned parameters.\n"
     ]
    },
    {
     "name": "stderr",
     "output_type": "stream",
     "text": [
      "Processing:  44%|████▍     | 424/953 [06:10<04:27,  1.97it/s]"
     ]
    },
    {
     "name": "stdout",
     "output_type": "stream",
     "text": [
      "Error processing 030790: With n_samples=0, test_size=0.25 and train_size=None, the resulting train set will be empty. Adjust any of the aforementioned parameters.\n"
     ]
    },
    {
     "name": "stderr",
     "output_type": "stream",
     "text": [
      "Processing:  45%|████▌     | 432/953 [06:15<04:22,  1.98it/s]"
     ]
    },
    {
     "name": "stdout",
     "output_type": "stream",
     "text": [
      "Error processing 448730: With n_samples=0, test_size=0.25 and train_size=None, the resulting train set will be empty. Adjust any of the aforementioned parameters.\n"
     ]
    },
    {
     "name": "stderr",
     "output_type": "stream",
     "text": [
      "Processing:  51%|█████▏    | 490/953 [06:51<03:35,  2.15it/s]"
     ]
    },
    {
     "name": "stdout",
     "output_type": "stream",
     "text": [
      "Error processing 007610: With n_samples=0, test_size=0.25 and train_size=None, the resulting train set will be empty. Adjust any of the aforementioned parameters.\n"
     ]
    },
    {
     "name": "stderr",
     "output_type": "stream",
     "text": [
      "Processing:  62%|██████▏   | 589/953 [08:00<01:53,  3.22it/s]"
     ]
    },
    {
     "name": "stdout",
     "output_type": "stream",
     "text": [
      "Error processing 278470: With n_samples=0, test_size=0.25 and train_size=None, the resulting train set will be empty. Adjust any of the aforementioned parameters.\n",
      "Error processing 450080: With n_samples=0, test_size=0.25 and train_size=None, the resulting train set will be empty. Adjust any of the aforementioned parameters.\n"
     ]
    },
    {
     "name": "stderr",
     "output_type": "stream",
     "text": [
      "Processing:  68%|██████▊   | 647/953 [08:36<02:32,  2.01it/s]"
     ]
    },
    {
     "name": "stdout",
     "output_type": "stream",
     "text": [
      "Error processing 457190: With n_samples=0, test_size=0.25 and train_size=None, the resulting train set will be empty. Adjust any of the aforementioned parameters.\n"
     ]
    },
    {
     "name": "stderr",
     "output_type": "stream",
     "text": [
      "Processing:  73%|███████▎  | 695/953 [09:11<03:11,  1.34it/s]"
     ]
    },
    {
     "name": "stdout",
     "output_type": "stream",
     "text": [
      "Error processing 462520: With n_samples=0, test_size=0.25 and train_size=None, the resulting train set will be empty. Adjust any of the aforementioned parameters.\n"
     ]
    },
    {
     "name": "stderr",
     "output_type": "stream",
     "text": [
      "Processing:  74%|███████▎  | 702/953 [09:16<02:41,  1.55it/s]"
     ]
    },
    {
     "name": "stdout",
     "output_type": "stream",
     "text": [
      "Error processing 109070: With n_samples=0, test_size=0.25 and train_size=None, the resulting train set will be empty. Adjust any of the aforementioned parameters.\n"
     ]
    },
    {
     "name": "stderr",
     "output_type": "stream",
     "text": [
      "Processing:  75%|███████▌  | 719/953 [09:30<02:29,  1.56it/s]"
     ]
    },
    {
     "name": "stdout",
     "output_type": "stream",
     "text": [
      "Error processing 012600: With n_samples=0, test_size=0.25 and train_size=None, the resulting train set will be empty. Adjust any of the aforementioned parameters.\n"
     ]
    },
    {
     "name": "stderr",
     "output_type": "stream",
     "text": [
      "Processing:  78%|███████▊  | 745/953 [09:46<01:36,  2.15it/s]"
     ]
    },
    {
     "name": "stdout",
     "output_type": "stream",
     "text": [
      "Error processing 450140: With n_samples=0, test_size=0.25 and train_size=None, the resulting train set will be empty. Adjust any of the aforementioned parameters.\n",
      "Error processing 45014K: With n_samples=0, test_size=0.25 and train_size=None, the resulting train set will be empty. Adjust any of the aforementioned parameters.\n"
     ]
    },
    {
     "name": "stderr",
     "output_type": "stream",
     "text": [
      "Processing:  92%|█████████▏| 881/953 [11:27<00:35,  2.04it/s]"
     ]
    },
    {
     "name": "stdout",
     "output_type": "stream",
     "text": [
      "Error processing 452260: With n_samples=0, test_size=0.25 and train_size=None, the resulting train set will be empty. Adjust any of the aforementioned parameters.\n"
     ]
    },
    {
     "name": "stderr",
     "output_type": "stream",
     "text": [
      "Processing:  93%|█████████▎| 883/953 [11:27<00:22,  3.11it/s]"
     ]
    },
    {
     "name": "stdout",
     "output_type": "stream",
     "text": [
      "Error processing 45226K: With n_samples=0, test_size=0.25 and train_size=None, the resulting train set will be empty. Adjust any of the aforementioned parameters.\n",
      "Error processing 451800: With n_samples=0, test_size=0.25 and train_size=None, the resulting train set will be empty. Adjust any of the aforementioned parameters.\n"
     ]
    },
    {
     "name": "stderr",
     "output_type": "stream",
     "text": [
      "Processing:  94%|█████████▍| 900/953 [11:38<00:29,  1.81it/s]"
     ]
    },
    {
     "name": "stdout",
     "output_type": "stream",
     "text": [
      "Error processing 453340: With n_samples=0, test_size=0.25 and train_size=None, the resulting train set will be empty. Adjust any of the aforementioned parameters.\n"
     ]
    },
    {
     "name": "stderr",
     "output_type": "stream",
     "text": [
      "Processing: 100%|██████████| 953/953 [12:13<00:00,  1.30it/s]\n"
     ]
    }
   ],
   "source": [
    "from pykrx import stock\n",
    "import pandas as pd\n",
    "import numpy as np\n",
    "from scipy.stats import ttest_ind\n",
    "from sklearn.linear_model import LassoCV, RidgeCV\n",
    "from sklearn.feature_selection import SequentialFeatureSelector\n",
    "from sklearn.ensemble import RandomForestClassifier, RandomForestRegressor\n",
    "from sklearn.model_selection import train_test_split\n",
    "from sklearn.svm import SVC\n",
    "from sklearn.linear_model import LogisticRegression\n",
    "from sklearn.tree import DecisionTreeClassifier\n",
    "from sklearn.ensemble import RandomForestClassifier\n",
    "from sklearn.metrics import accuracy_score, precision_score, recall_score, f1_score\n",
    "from tqdm import tqdm\n",
    "ticker_list = stock.get_market_ticker_list(market=\"KOSPI\")\n",
    "\n",
    "# precision_svm 값과 종목코드를 저장할 빈 리스트\n",
    "results_list = []\n",
    "\n",
    "# 각 종목에 대해 반복\n",
    "for ticker in tqdm(ticker_list, desc=\"Processing\"):\n",
    "    try:\n",
    "        ticker_name = stock.get_market_ticker_name(ticker)\n",
    "        start_date = \"2021-03-20\"\n",
    "        end_date = \"2024-03-20\"\n",
    "        # 주어진 기간 동안의 일별 거래량 정보 가져오기\n",
    "        df = stock.get_market_ohlcv_by_date(fromdate=start_date, todate=end_date, ticker=ticker)\n",
    "\n",
    "\n",
    "        def calculate_macd(df, short_window=12, long_window=26, signal_window=9):\n",
    "            \"\"\"MACD 및 MACD 신호 계산\"\"\"\n",
    "            df['EMA_short'] = df['종가'].ewm(span=short_window, adjust=False).mean()\n",
    "            df['EMA_long'] = df['종가'].ewm(span=long_window, adjust=False).mean()\n",
    "            df['MACD'] = df['EMA_short'] - df['EMA_long']\n",
    "            df['MACD_Signal'] = df['MACD'].ewm(span=signal_window, adjust=False).mean()\n",
    "            return df\n",
    "\n",
    "        def calculate_rsi(df, window=14, signal_window=9):\n",
    "            \"\"\"RSI 및 RSI 신호 계산\"\"\"\n",
    "            delta = df['종가'].diff()\n",
    "            gain = (delta.where(delta > 0, 0)).rolling(window=window).mean()\n",
    "            loss = (-delta.where(delta < 0, 0)).rolling(window=window).mean()\n",
    "\n",
    "            rs = gain / loss\n",
    "            df['RSI'] = 100 - (100 / (1 + rs))\n",
    "            \n",
    "            # RSI 신호선 추가\n",
    "            df['RSI_Signal'] = df['RSI'].ewm(span=signal_window, adjust=False).mean()\n",
    "            return df\n",
    "\n",
    "        # MACD 및 MACD 신호 계산\n",
    "        df = calculate_macd(df)\n",
    "\n",
    "        df = calculate_rsi(df)\n",
    "\n",
    "        # '종가' 컬럼이 포함된 DataFrame을 가정합니다. 예를 들어, df라고 합시다.\n",
    "        # df = pd.read_csv('path_to_your_data.csv') # 데이터 파일을 로드하는 예시\n",
    "\n",
    "        # 지정된 기간에 대한 SMA 계산\n",
    "        periods = [5, 20, 60, 120, 240]\n",
    "        for period in periods:\n",
    "            df[f'SMA_{period}'] = df['종가'].rolling(window=period).mean()\n",
    "\n",
    "        # 지정된 기간에 대한 EMA 계산\n",
    "        for period in periods:\n",
    "            df[f'EMA_{period}'] = df['종가'].ewm(span=period, adjust=False).mean()\n",
    "\n",
    "        for i in range(len(periods)):\n",
    "            for j in range(i + 1, len(periods)):\n",
    "                smaller_period = periods[i]\n",
    "                larger_period = periods[j]\n",
    "                df[f'SMA_{smaller_period}_minus_SMA_{larger_period}'] = df[f'SMA_{smaller_period}'] - df[f'SMA_{larger_period}']\n",
    "\n",
    "        # EMA 간의 차이 계산\n",
    "        for i in range(len(periods)):\n",
    "            for j in range(i + 1, len(periods)):\n",
    "                smaller_period = periods[i]\n",
    "                larger_period = periods[j]\n",
    "                df[f'EMA_{smaller_period}_minus_EMA_{larger_period}'] = df[f'EMA_{smaller_period}'] - df[f'EMA_{larger_period}']\n",
    "\n",
    "        for column in ['시가', '고가', '저가','거래량','MACD','MACD_Signal','RSI','RSI_Signal']:\n",
    "            df[f'{column}_등락률'] = df[column].pct_change() * 100\n",
    "\n",
    "        # SMA 및 EMA의 전 거래일 대비 등락률 계산 및 DataFrame에 추가\n",
    "        periods = [5, 20, 60, 120, 240]\n",
    "\n",
    "        # SMA 등락률 계산 및 추가\n",
    "        for period in periods:\n",
    "            df[f'SMA_{period}_등락률'] = df[f'SMA_{period}'].pct_change() * 100\n",
    "\n",
    "        # EMA 등락률 계산 및 추가\n",
    "        for period in periods:\n",
    "            df[f'EMA_{period}_등락률'] = df[f'EMA_{period}'].pct_change() * 100\n",
    "\n",
    "        # 'MACD'가 0 이상일 때 1, 아니면 0을 할당\n",
    "        df['MACD_Binary'] = (df['MACD'] >= 0).astype(int)\n",
    "\n",
    "        # 'MACD - MACD_Signal'이 0 이상일 때 1, 아니면 0을 할당\n",
    "        df['MACD_minus_Signal_Binary'] = ((df['MACD'] - df['MACD_Signal']) >= 0).astype(int)\n",
    "\n",
    "        # 'RSI - RSI_Signal'이 0 이상일 때 1, 아니면 0을 할당\n",
    "        df['RSI_minus_Signal_Binary'] = ((df['RSI'] - df['RSI_Signal']) >= 0).astype(int)\n",
    "\n",
    "        # 시가 대비 종가 등락률 컬럼 추가\n",
    "        df['시가_대비_종가_등락률'] = ((df['종가'] - df['시가']) / df['시가']) * 100\n",
    "        df['시가_대비_저가_등락률'] = ((df['저가'] - df['시가']) / df['시가']) * 100\n",
    "        df['시가_대비_고가_등락률'] = ((df['고가'] - df['시가']) / df['시가']) * 100\n",
    "        df['저가_대비_종가_등락률'] = ((df['종가'] - df['저가']) / df['저가']) * 100\n",
    "        df['저가_대비_고가_등락률'] = ((df['고가'] - df['저가']) / df['저가']) * 100\n",
    "        df['고가_대비_종가_등락률'] = ((df['종가'] - df['고가']) / df['고가']) * 100\n",
    "        # 종가 - SMA [5, 20, 60, 120, 240] 값의 차이 컬럼 추가\n",
    "        for period in [5, 20, 60, 120, 240]:\n",
    "            df[f'종가_minus_SMA_{period}'] = df['종가'] - df[f'SMA_{period}']\n",
    "\n",
    "        # 종가 - EMA [5, 20, 60, 120, 240] 값의 차이 컬럼 추가\n",
    "        for period in [5, 20, 60, 120, 240]:\n",
    "            df[f'종가_minus_EMA_{period}'] = df['종가'] - df[f'EMA_{period}']\n",
    "\n",
    "\n",
    "        #csv_file_path = \"C:/apps/h1/이스트소프트_data.csv\"  # 저장할 파일 경로 및 이름 설정\n",
    "        #df.to_csv(csv_file_path, encoding='utf-8-sig')\n",
    "\n",
    "        #print(f\"Data saved to {csv_file_path}\")\n",
    "\n",
    "        # 등락률을 기준으로 다음 날 등락률 계산 후 target 생성\n",
    "        df['next_day_return'] = df['등락률'].shift(-1)\n",
    "        df['target'] = df['next_day_return'].apply(lambda x: 1 if x > 0.25 else -1)\n",
    "        df.dropna(inplace=True)  # 마지막 행 삭제\n",
    "\n",
    "        first_column_name = df.columns[0]\n",
    "\n",
    "        df1= df.iloc[:-50, :]\n",
    "        X = df1.drop(['next_day_return','target'], axis=1)\n",
    "        y = df1['target']\n",
    "\n",
    "        # Calculating correlations for Forward Selection\n",
    "        correlations = X.corrwith(y).abs().sort_values(ascending=False).reset_index()\n",
    "        correlations.columns = ['Feature', 'Correlation']\n",
    "\n",
    "        top_8_features = correlations.sort_values(by='Correlation', ascending=False).head(8)['Feature']\n",
    "\n",
    "        # X와 y 정의 (df2와 이전 코드에서의 처리 과정을 바탕으로)\n",
    "        X_top8 = X[top_8_features]\n",
    "        y = df1['target'].map({-1: 0, 1: 1})  # y 값을 0과 1로 조정\n",
    "\n",
    "        # 데이터를 학습 세트와 테스트 세트로 분할\n",
    "        X_train, X_test, y_train, y_test = train_test_split(X_top8, y, test_size=0.25, random_state=42)\n",
    "\n",
    "        # 모델 초기화\n",
    "        rf_model = RandomForestClassifier()\n",
    "        dt_model = DecisionTreeClassifier()\n",
    "        lr_model = LogisticRegression()\n",
    "        svm_model = SVC()\n",
    "\n",
    "        # 모델 학습\n",
    "        rf_model.fit(X_train, y_train)\n",
    "        dt_model.fit(X_train, y_train)\n",
    "        lr_model.fit(X_train, y_train)\n",
    "        svm_model.fit(X_train, y_train)\n",
    "\n",
    "        # 예측\n",
    "        y_pred_rf = rf_model.predict(X_test)\n",
    "        y_pred_dt = dt_model.predict(X_test)\n",
    "        y_pred_lr = lr_model.predict(X_test)\n",
    "        y_pred_svm = svm_model.predict(X_test)\n",
    "\n",
    "        # Precision 계산\n",
    "        precision_rf = precision_score(y_test, y_pred_rf, average='macro')\n",
    "        precision_dt = precision_score(y_test, y_pred_dt, average='macro')\n",
    "        precision_lr = precision_score(y_test, y_pred_lr, average='macro')\n",
    "        precision_svm = precision_score(y_test, y_pred_svm, average='macro')\n",
    "\n",
    "        # 결과 저장\n",
    "        results_list.append({\n",
    "            'Ticker': ticker,\n",
    "            'Name': ticker_name,\n",
    "            'Precision_RF': precision_rf,\n",
    "            'Precision_DT': precision_dt,\n",
    "            'Precision_LR': precision_lr,\n",
    "            'Precision_SVM': precision_svm\n",
    "        })\n",
    "        pass\n",
    "    except Exception as e:\n",
    "        print(f\"Error processing {ticker}: {e}\")\n",
    "        continue\n",
    "\n",
    "# 결과를 데이터프레임으로 변환하고 precision_svm 값에 따라 내림차순 정렬\n",
    "results_df = pd.DataFrame(results_list).sort_values(by='Precision_SVM', ascending=False)\n",
    "\n"
   ]
  },
  {
   "cell_type": "code",
   "execution_count": 18,
   "metadata": {},
   "outputs": [
    {
     "data": {
      "text/html": [
       "<div>\n",
       "<style scoped>\n",
       "    .dataframe tbody tr th:only-of-type {\n",
       "        vertical-align: middle;\n",
       "    }\n",
       "\n",
       "    .dataframe tbody tr th {\n",
       "        vertical-align: top;\n",
       "    }\n",
       "\n",
       "    .dataframe thead th {\n",
       "        text-align: right;\n",
       "    }\n",
       "</style>\n",
       "<table border=\"1\" class=\"dataframe\">\n",
       "  <thead>\n",
       "    <tr style=\"text-align: right;\">\n",
       "      <th></th>\n",
       "      <th>Ticker</th>\n",
       "      <th>Name</th>\n",
       "      <th>Precision_RF</th>\n",
       "      <th>Precision_DT</th>\n",
       "      <th>Precision_LR</th>\n",
       "      <th>Precision_SVM</th>\n",
       "    </tr>\n",
       "  </thead>\n",
       "  <tbody>\n",
       "    <tr>\n",
       "      <th>113</th>\n",
       "      <td>383800</td>\n",
       "      <td>LX홀딩스</td>\n",
       "      <td>0.482051</td>\n",
       "      <td>0.523733</td>\n",
       "      <td>0.540351</td>\n",
       "      <td>0.875000</td>\n",
       "    </tr>\n",
       "    <tr>\n",
       "      <th>499</th>\n",
       "      <td>067830</td>\n",
       "      <td>세이브존I&amp;C</td>\n",
       "      <td>0.532793</td>\n",
       "      <td>0.492193</td>\n",
       "      <td>0.534848</td>\n",
       "      <td>0.870536</td>\n",
       "    </tr>\n",
       "    <tr>\n",
       "      <th>375</th>\n",
       "      <td>017180</td>\n",
       "      <td>명문제약</td>\n",
       "      <td>0.422159</td>\n",
       "      <td>0.478922</td>\n",
       "      <td>0.476485</td>\n",
       "      <td>0.857143</td>\n",
       "    </tr>\n",
       "    <tr>\n",
       "      <th>283</th>\n",
       "      <td>000300</td>\n",
       "      <td>대유플러스</td>\n",
       "      <td>0.541775</td>\n",
       "      <td>0.492556</td>\n",
       "      <td>0.431395</td>\n",
       "      <td>0.845000</td>\n",
       "    </tr>\n",
       "    <tr>\n",
       "      <th>530</th>\n",
       "      <td>002870</td>\n",
       "      <td>신풍</td>\n",
       "      <td>0.524980</td>\n",
       "      <td>0.524360</td>\n",
       "      <td>0.508251</td>\n",
       "      <td>0.843750</td>\n",
       "    </tr>\n",
       "    <tr>\n",
       "      <th>...</th>\n",
       "      <td>...</td>\n",
       "      <td>...</td>\n",
       "      <td>...</td>\n",
       "      <td>...</td>\n",
       "      <td>...</td>\n",
       "      <td>...</td>\n",
       "    </tr>\n",
       "    <tr>\n",
       "      <th>398</th>\n",
       "      <td>003610</td>\n",
       "      <td>방림</td>\n",
       "      <td>0.546296</td>\n",
       "      <td>0.471459</td>\n",
       "      <td>0.618506</td>\n",
       "      <td>0.238532</td>\n",
       "    </tr>\n",
       "    <tr>\n",
       "      <th>710</th>\n",
       "      <td>381970</td>\n",
       "      <td>케이카</td>\n",
       "      <td>0.637143</td>\n",
       "      <td>0.602564</td>\n",
       "      <td>0.707353</td>\n",
       "      <td>0.230769</td>\n",
       "    </tr>\n",
       "    <tr>\n",
       "      <th>540</th>\n",
       "      <td>403550</td>\n",
       "      <td>쏘카</td>\n",
       "      <td>0.756410</td>\n",
       "      <td>0.792208</td>\n",
       "      <td>0.666667</td>\n",
       "      <td>0.200000</td>\n",
       "    </tr>\n",
       "    <tr>\n",
       "      <th>609</th>\n",
       "      <td>446070</td>\n",
       "      <td>유니드비티플러스</td>\n",
       "      <td>0.187500</td>\n",
       "      <td>0.142857</td>\n",
       "      <td>0.266667</td>\n",
       "      <td>0.187500</td>\n",
       "    </tr>\n",
       "    <tr>\n",
       "      <th>491</th>\n",
       "      <td>001430</td>\n",
       "      <td>세아베스틸지주</td>\n",
       "      <td>0.520994</td>\n",
       "      <td>0.476356</td>\n",
       "      <td>0.520990</td>\n",
       "      <td>0.185841</td>\n",
       "    </tr>\n",
       "  </tbody>\n",
       "</table>\n",
       "<p>930 rows × 6 columns</p>\n",
       "</div>"
      ],
      "text/plain": [
       "     Ticker      Name  Precision_RF  Precision_DT  Precision_LR  Precision_SVM\n",
       "113  383800     LX홀딩스      0.482051      0.523733      0.540351       0.875000\n",
       "499  067830   세이브존I&C      0.532793      0.492193      0.534848       0.870536\n",
       "375  017180      명문제약      0.422159      0.478922      0.476485       0.857143\n",
       "283  000300     대유플러스      0.541775      0.492556      0.431395       0.845000\n",
       "530  002870        신풍      0.524980      0.524360      0.508251       0.843750\n",
       "..      ...       ...           ...           ...           ...            ...\n",
       "398  003610        방림      0.546296      0.471459      0.618506       0.238532\n",
       "710  381970       케이카      0.637143      0.602564      0.707353       0.230769\n",
       "540  403550        쏘카      0.756410      0.792208      0.666667       0.200000\n",
       "609  446070  유니드비티플러스      0.187500      0.142857      0.266667       0.187500\n",
       "491  001430   세아베스틸지주      0.520994      0.476356      0.520990       0.185841\n",
       "\n",
       "[930 rows x 6 columns]"
      ]
     },
     "execution_count": 18,
     "metadata": {},
     "output_type": "execute_result"
    }
   ],
   "source": [
    "results_df"
   ]
  },
  {
   "cell_type": "code",
   "execution_count": 19,
   "metadata": {},
   "outputs": [
    {
     "data": {
      "text/html": [
       "<div>\n",
       "<style scoped>\n",
       "    .dataframe tbody tr th:only-of-type {\n",
       "        vertical-align: middle;\n",
       "    }\n",
       "\n",
       "    .dataframe tbody tr th {\n",
       "        vertical-align: top;\n",
       "    }\n",
       "\n",
       "    .dataframe thead th {\n",
       "        text-align: right;\n",
       "    }\n",
       "</style>\n",
       "<table border=\"1\" class=\"dataframe\">\n",
       "  <thead>\n",
       "    <tr style=\"text-align: right;\">\n",
       "      <th></th>\n",
       "      <th>시가</th>\n",
       "      <th>고가</th>\n",
       "      <th>저가</th>\n",
       "      <th>종가</th>\n",
       "      <th>거래량</th>\n",
       "      <th>등락률</th>\n",
       "      <th>EMA_short</th>\n",
       "      <th>EMA_long</th>\n",
       "      <th>MACD</th>\n",
       "      <th>MACD_Signal</th>\n",
       "      <th>...</th>\n",
       "      <th>종가_minus_SMA_60</th>\n",
       "      <th>종가_minus_SMA_120</th>\n",
       "      <th>종가_minus_SMA_240</th>\n",
       "      <th>종가_minus_EMA_5</th>\n",
       "      <th>종가_minus_EMA_20</th>\n",
       "      <th>종가_minus_EMA_60</th>\n",
       "      <th>종가_minus_EMA_120</th>\n",
       "      <th>종가_minus_EMA_240</th>\n",
       "      <th>next_day_return</th>\n",
       "      <th>target</th>\n",
       "    </tr>\n",
       "    <tr>\n",
       "      <th>날짜</th>\n",
       "      <th></th>\n",
       "      <th></th>\n",
       "      <th></th>\n",
       "      <th></th>\n",
       "      <th></th>\n",
       "      <th></th>\n",
       "      <th></th>\n",
       "      <th></th>\n",
       "      <th></th>\n",
       "      <th></th>\n",
       "      <th></th>\n",
       "      <th></th>\n",
       "      <th></th>\n",
       "      <th></th>\n",
       "      <th></th>\n",
       "      <th></th>\n",
       "      <th></th>\n",
       "      <th></th>\n",
       "      <th></th>\n",
       "      <th></th>\n",
       "      <th></th>\n",
       "    </tr>\n",
       "  </thead>\n",
       "  <tbody>\n",
       "    <tr>\n",
       "      <th>2022-03-11</th>\n",
       "      <td>3135</td>\n",
       "      <td>3275</td>\n",
       "      <td>3070</td>\n",
       "      <td>3180</td>\n",
       "      <td>2351671</td>\n",
       "      <td>0.632911</td>\n",
       "      <td>3170.637584</td>\n",
       "      <td>2926.211749</td>\n",
       "      <td>244.425835</td>\n",
       "      <td>238.522244</td>\n",
       "      <td>...</td>\n",
       "      <td>547.500000</td>\n",
       "      <td>222.666667</td>\n",
       "      <td>923.833333</td>\n",
       "      <td>-63.116951</td>\n",
       "      <td>167.087493</td>\n",
       "      <td>418.526170</td>\n",
       "      <td>531.041596</td>\n",
       "      <td>789.025161</td>\n",
       "      <td>0.628931</td>\n",
       "      <td>1</td>\n",
       "    </tr>\n",
       "    <tr>\n",
       "      <th>2022-03-14</th>\n",
       "      <td>3180</td>\n",
       "      <td>3240</td>\n",
       "      <td>3070</td>\n",
       "      <td>3200</td>\n",
       "      <td>1919028</td>\n",
       "      <td>0.628931</td>\n",
       "      <td>3175.154879</td>\n",
       "      <td>2946.492360</td>\n",
       "      <td>228.662518</td>\n",
       "      <td>236.550299</td>\n",
       "      <td>...</td>\n",
       "      <td>562.166667</td>\n",
       "      <td>228.958333</td>\n",
       "      <td>936.979167</td>\n",
       "      <td>-28.744634</td>\n",
       "      <td>169.269637</td>\n",
       "      <td>424.148263</td>\n",
       "      <td>541.933471</td>\n",
       "      <td>802.311259</td>\n",
       "      <td>-8.437500</td>\n",
       "      <td>-1</td>\n",
       "    </tr>\n",
       "    <tr>\n",
       "      <th>2022-03-15</th>\n",
       "      <td>3165</td>\n",
       "      <td>3170</td>\n",
       "      <td>2920</td>\n",
       "      <td>2930</td>\n",
       "      <td>1869555</td>\n",
       "      <td>-8.437500</td>\n",
       "      <td>3137.438743</td>\n",
       "      <td>2945.270704</td>\n",
       "      <td>192.168040</td>\n",
       "      <td>227.673847</td>\n",
       "      <td>...</td>\n",
       "      <td>290.500000</td>\n",
       "      <td>-52.500000</td>\n",
       "      <td>661.250000</td>\n",
       "      <td>-199.163089</td>\n",
       "      <td>-91.136995</td>\n",
       "      <td>149.094221</td>\n",
       "      <td>267.438703</td>\n",
       "      <td>527.893738</td>\n",
       "      <td>0.341297</td>\n",
       "      <td>1</td>\n",
       "    </tr>\n",
       "    <tr>\n",
       "      <th>2022-03-16</th>\n",
       "      <td>2955</td>\n",
       "      <td>3030</td>\n",
       "      <td>2900</td>\n",
       "      <td>2940</td>\n",
       "      <td>835034</td>\n",
       "      <td>0.341297</td>\n",
       "      <td>3107.063552</td>\n",
       "      <td>2944.880281</td>\n",
       "      <td>162.183271</td>\n",
       "      <td>214.575732</td>\n",
       "      <td>...</td>\n",
       "      <td>297.000000</td>\n",
       "      <td>-54.041667</td>\n",
       "      <td>665.479167</td>\n",
       "      <td>-126.108726</td>\n",
       "      <td>-73.409662</td>\n",
       "      <td>153.878017</td>\n",
       "      <td>272.852939</td>\n",
       "      <td>533.429890</td>\n",
       "      <td>0.510204</td>\n",
       "      <td>1</td>\n",
       "    </tr>\n",
       "    <tr>\n",
       "      <th>2022-03-17</th>\n",
       "      <td>2965</td>\n",
       "      <td>3000</td>\n",
       "      <td>2910</td>\n",
       "      <td>2955</td>\n",
       "      <td>787556</td>\n",
       "      <td>0.510204</td>\n",
       "      <td>3083.669159</td>\n",
       "      <td>2945.629890</td>\n",
       "      <td>138.039269</td>\n",
       "      <td>199.268439</td>\n",
       "      <td>...</td>\n",
       "      <td>308.000000</td>\n",
       "      <td>-46.833333</td>\n",
       "      <td>674.645833</td>\n",
       "      <td>-74.072484</td>\n",
       "      <td>-52.846837</td>\n",
       "      <td>163.341033</td>\n",
       "      <td>283.095039</td>\n",
       "      <td>543.878604</td>\n",
       "      <td>0.169205</td>\n",
       "      <td>-1</td>\n",
       "    </tr>\n",
       "    <tr>\n",
       "      <th>...</th>\n",
       "      <td>...</td>\n",
       "      <td>...</td>\n",
       "      <td>...</td>\n",
       "      <td>...</td>\n",
       "      <td>...</td>\n",
       "      <td>...</td>\n",
       "      <td>...</td>\n",
       "      <td>...</td>\n",
       "      <td>...</td>\n",
       "      <td>...</td>\n",
       "      <td>...</td>\n",
       "      <td>...</td>\n",
       "      <td>...</td>\n",
       "      <td>...</td>\n",
       "      <td>...</td>\n",
       "      <td>...</td>\n",
       "      <td>...</td>\n",
       "      <td>...</td>\n",
       "      <td>...</td>\n",
       "      <td>...</td>\n",
       "      <td>...</td>\n",
       "    </tr>\n",
       "    <tr>\n",
       "      <th>2023-12-27</th>\n",
       "      <td>2395</td>\n",
       "      <td>2495</td>\n",
       "      <td>2350</td>\n",
       "      <td>2450</td>\n",
       "      <td>3466116</td>\n",
       "      <td>0.204499</td>\n",
       "      <td>2384.218191</td>\n",
       "      <td>2246.707920</td>\n",
       "      <td>137.510272</td>\n",
       "      <td>125.907124</td>\n",
       "      <td>...</td>\n",
       "      <td>483.033333</td>\n",
       "      <td>465.933333</td>\n",
       "      <td>724.700000</td>\n",
       "      <td>-13.783991</td>\n",
       "      <td>149.952693</td>\n",
       "      <td>378.056923</td>\n",
       "      <td>502.979640</td>\n",
       "      <td>586.232265</td>\n",
       "      <td>2.040816</td>\n",
       "      <td>1</td>\n",
       "    </tr>\n",
       "    <tr>\n",
       "      <th>2023-12-28</th>\n",
       "      <td>2420</td>\n",
       "      <td>2505</td>\n",
       "      <td>2365</td>\n",
       "      <td>2500</td>\n",
       "      <td>2270612</td>\n",
       "      <td>2.040816</td>\n",
       "      <td>2402.030777</td>\n",
       "      <td>2265.470296</td>\n",
       "      <td>136.560481</td>\n",
       "      <td>128.037795</td>\n",
       "      <td>...</td>\n",
       "      <td>518.283333</td>\n",
       "      <td>514.225000</td>\n",
       "      <td>770.387500</td>\n",
       "      <td>24.144006</td>\n",
       "      <td>180.909579</td>\n",
       "      <td>414.022269</td>\n",
       "      <td>543.839481</td>\n",
       "      <td>630.952329</td>\n",
       "      <td>-0.600000</td>\n",
       "      <td>-1</td>\n",
       "    </tr>\n",
       "    <tr>\n",
       "      <th>2024-01-02</th>\n",
       "      <td>2600</td>\n",
       "      <td>2625</td>\n",
       "      <td>2480</td>\n",
       "      <td>2485</td>\n",
       "      <td>2803849</td>\n",
       "      <td>-0.600000</td>\n",
       "      <td>2414.795273</td>\n",
       "      <td>2281.731756</td>\n",
       "      <td>133.063517</td>\n",
       "      <td>129.042940</td>\n",
       "      <td>...</td>\n",
       "      <td>487.700000</td>\n",
       "      <td>496.725000</td>\n",
       "      <td>751.158333</td>\n",
       "      <td>6.096004</td>\n",
       "      <td>150.108667</td>\n",
       "      <td>385.939572</td>\n",
       "      <td>520.098332</td>\n",
       "      <td>610.840692</td>\n",
       "      <td>0.804829</td>\n",
       "      <td>1</td>\n",
       "    </tr>\n",
       "    <tr>\n",
       "      <th>2024-01-03</th>\n",
       "      <td>2620</td>\n",
       "      <td>2675</td>\n",
       "      <td>2470</td>\n",
       "      <td>2505</td>\n",
       "      <td>5012099</td>\n",
       "      <td>0.804829</td>\n",
       "      <td>2428.672923</td>\n",
       "      <td>2298.270144</td>\n",
       "      <td>130.402779</td>\n",
       "      <td>129.314908</td>\n",
       "      <td>...</td>\n",
       "      <td>491.016667</td>\n",
       "      <td>514.266667</td>\n",
       "      <td>766.762500</td>\n",
       "      <td>17.397336</td>\n",
       "      <td>153.907841</td>\n",
       "      <td>392.630078</td>\n",
       "      <td>531.171087</td>\n",
       "      <td>625.605499</td>\n",
       "      <td>29.940120</td>\n",
       "      <td>1</td>\n",
       "    </tr>\n",
       "    <tr>\n",
       "      <th>2024-01-04</th>\n",
       "      <td>2720</td>\n",
       "      <td>3255</td>\n",
       "      <td>2600</td>\n",
       "      <td>3255</td>\n",
       "      <td>63362917</td>\n",
       "      <td>29.940120</td>\n",
       "      <td>2555.800166</td>\n",
       "      <td>2369.139022</td>\n",
       "      <td>186.661144</td>\n",
       "      <td>140.784155</td>\n",
       "      <td>...</td>\n",
       "      <td>1212.600000</td>\n",
       "      <td>1254.891667</td>\n",
       "      <td>1509.241667</td>\n",
       "      <td>511.598224</td>\n",
       "      <td>817.821380</td>\n",
       "      <td>1105.166797</td>\n",
       "      <td>1259.994705</td>\n",
       "      <td>1364.189686</td>\n",
       "      <td>-12.442396</td>\n",
       "      <td>-1</td>\n",
       "    </tr>\n",
       "  </tbody>\n",
       "</table>\n",
       "<p>450 rows × 81 columns</p>\n",
       "</div>"
      ],
      "text/plain": [
       "              시가    고가    저가    종가       거래량        등락률    EMA_short  \\\n",
       "날짜                                                                     \n",
       "2022-03-11  3135  3275  3070  3180   2351671   0.632911  3170.637584   \n",
       "2022-03-14  3180  3240  3070  3200   1919028   0.628931  3175.154879   \n",
       "2022-03-15  3165  3170  2920  2930   1869555  -8.437500  3137.438743   \n",
       "2022-03-16  2955  3030  2900  2940    835034   0.341297  3107.063552   \n",
       "2022-03-17  2965  3000  2910  2955    787556   0.510204  3083.669159   \n",
       "...          ...   ...   ...   ...       ...        ...          ...   \n",
       "2023-12-27  2395  2495  2350  2450   3466116   0.204499  2384.218191   \n",
       "2023-12-28  2420  2505  2365  2500   2270612   2.040816  2402.030777   \n",
       "2024-01-02  2600  2625  2480  2485   2803849  -0.600000  2414.795273   \n",
       "2024-01-03  2620  2675  2470  2505   5012099   0.804829  2428.672923   \n",
       "2024-01-04  2720  3255  2600  3255  63362917  29.940120  2555.800166   \n",
       "\n",
       "               EMA_long        MACD  MACD_Signal  ...  종가_minus_SMA_60  \\\n",
       "날짜                                                ...                    \n",
       "2022-03-11  2926.211749  244.425835   238.522244  ...       547.500000   \n",
       "2022-03-14  2946.492360  228.662518   236.550299  ...       562.166667   \n",
       "2022-03-15  2945.270704  192.168040   227.673847  ...       290.500000   \n",
       "2022-03-16  2944.880281  162.183271   214.575732  ...       297.000000   \n",
       "2022-03-17  2945.629890  138.039269   199.268439  ...       308.000000   \n",
       "...                 ...         ...          ...  ...              ...   \n",
       "2023-12-27  2246.707920  137.510272   125.907124  ...       483.033333   \n",
       "2023-12-28  2265.470296  136.560481   128.037795  ...       518.283333   \n",
       "2024-01-02  2281.731756  133.063517   129.042940  ...       487.700000   \n",
       "2024-01-03  2298.270144  130.402779   129.314908  ...       491.016667   \n",
       "2024-01-04  2369.139022  186.661144   140.784155  ...      1212.600000   \n",
       "\n",
       "            종가_minus_SMA_120  종가_minus_SMA_240  종가_minus_EMA_5  \\\n",
       "날짜                                                               \n",
       "2022-03-11        222.666667        923.833333      -63.116951   \n",
       "2022-03-14        228.958333        936.979167      -28.744634   \n",
       "2022-03-15        -52.500000        661.250000     -199.163089   \n",
       "2022-03-16        -54.041667        665.479167     -126.108726   \n",
       "2022-03-17        -46.833333        674.645833      -74.072484   \n",
       "...                      ...               ...             ...   \n",
       "2023-12-27        465.933333        724.700000      -13.783991   \n",
       "2023-12-28        514.225000        770.387500       24.144006   \n",
       "2024-01-02        496.725000        751.158333        6.096004   \n",
       "2024-01-03        514.266667        766.762500       17.397336   \n",
       "2024-01-04       1254.891667       1509.241667      511.598224   \n",
       "\n",
       "            종가_minus_EMA_20  종가_minus_EMA_60  종가_minus_EMA_120  \\\n",
       "날짜                                                               \n",
       "2022-03-11       167.087493       418.526170        531.041596   \n",
       "2022-03-14       169.269637       424.148263        541.933471   \n",
       "2022-03-15       -91.136995       149.094221        267.438703   \n",
       "2022-03-16       -73.409662       153.878017        272.852939   \n",
       "2022-03-17       -52.846837       163.341033        283.095039   \n",
       "...                     ...              ...               ...   \n",
       "2023-12-27       149.952693       378.056923        502.979640   \n",
       "2023-12-28       180.909579       414.022269        543.839481   \n",
       "2024-01-02       150.108667       385.939572        520.098332   \n",
       "2024-01-03       153.907841       392.630078        531.171087   \n",
       "2024-01-04       817.821380      1105.166797       1259.994705   \n",
       "\n",
       "            종가_minus_EMA_240  next_day_return  target  \n",
       "날짜                                                     \n",
       "2022-03-11        789.025161         0.628931       1  \n",
       "2022-03-14        802.311259        -8.437500      -1  \n",
       "2022-03-15        527.893738         0.341297       1  \n",
       "2022-03-16        533.429890         0.510204       1  \n",
       "2022-03-17        543.878604         0.169205      -1  \n",
       "...                      ...              ...     ...  \n",
       "2023-12-27        586.232265         2.040816       1  \n",
       "2023-12-28        630.952329        -0.600000      -1  \n",
       "2024-01-02        610.840692         0.804829       1  \n",
       "2024-01-03        625.605499        29.940120       1  \n",
       "2024-01-04       1364.189686       -12.442396      -1  \n",
       "\n",
       "[450 rows x 81 columns]"
      ]
     },
     "execution_count": 19,
     "metadata": {},
     "output_type": "execute_result"
    }
   ],
   "source": [
    "df1"
   ]
  },
  {
   "cell_type": "code",
   "execution_count": 21,
   "metadata": {},
   "outputs": [],
   "source": [
    "csv_file_path = \"C:/apps/h1/precision_코스피1_240311_240104.csv\"  # 저장할 파일 경로 및 이름 설정\n",
    "\n",
    "results_df.to_csv(csv_file_path, index=True, encoding='utf-8-sig')\n"
   ]
  }
 ],
 "metadata": {
  "kernelspec": {
   "display_name": "base",
   "language": "python",
   "name": "python3"
  },
  "language_info": {
   "codemirror_mode": {
    "name": "ipython",
    "version": 3
   },
   "file_extension": ".py",
   "mimetype": "text/x-python",
   "name": "python",
   "nbconvert_exporter": "python",
   "pygments_lexer": "ipython3",
   "version": "undefined.undefined.undefined"
  }
 },
 "nbformat": 4,
 "nbformat_minor": 2
}
