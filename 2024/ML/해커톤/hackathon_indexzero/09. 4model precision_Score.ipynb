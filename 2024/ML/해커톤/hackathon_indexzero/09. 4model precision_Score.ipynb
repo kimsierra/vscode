{
 "cells": [
  {
   "cell_type": "code",
   "execution_count": 1,
   "metadata": {},
   "outputs": [],
   "source": [
    "import warnings\n",
    "warnings.filterwarnings('ignore')"
   ]
  },
  {
   "cell_type": "code",
   "execution_count": 2,
   "metadata": {},
   "outputs": [
    {
     "name": "stderr",
     "output_type": "stream",
     "text": [
      "Processing:   3%|▎         | 28/953 [00:29<08:40,  1.78it/s] "
     ]
    },
    {
     "name": "stdout",
     "output_type": "stream",
     "text": [
      "Error processing 375500: With n_samples=0, test_size=0.25 and train_size=None, the resulting train set will be empty. Adjust any of the aforementioned parameters.\n",
      "Error processing 37550L: With n_samples=0, test_size=0.25 and train_size=None, the resulting train set will be empty. Adjust any of the aforementioned parameters.\n"
     ]
    },
    {
     "name": "stderr",
     "output_type": "stream",
     "text": [
      "Processing:   3%|▎         | 29/953 [00:29<07:33,  2.04it/s]"
     ]
    },
    {
     "name": "stdout",
     "output_type": "stream",
     "text": [
      "Error processing 37550K: With n_samples=0, test_size=0.25 and train_size=None, the resulting train set will be empty. Adjust any of the aforementioned parameters.\n"
     ]
    },
    {
     "name": "stderr",
     "output_type": "stream",
     "text": [
      "Processing:   4%|▎         | 34/953 [00:34<11:09,  1.37it/s]"
     ]
    },
    {
     "name": "stdout",
     "output_type": "stream",
     "text": [
      "Error processing 017860: With n_samples=0, test_size=0.25 and train_size=None, the resulting train set will be empty. Adjust any of the aforementioned parameters.\n"
     ]
    },
    {
     "name": "stderr",
     "output_type": "stream",
     "text": [
      "Processing:   4%|▍         | 37/953 [00:35<07:33,  2.02it/s]"
     ]
    },
    {
     "name": "stdout",
     "output_type": "stream",
     "text": [
      "Error processing 365550: With n_samples=0, test_size=0.25 and train_size=None, the resulting train set will be empty. Adjust any of the aforementioned parameters.\n",
      "Error processing 383220: With n_samples=0, test_size=0.25 and train_size=None, the resulting train set will be empty. Adjust any of the aforementioned parameters.\n"
     ]
    },
    {
     "name": "stderr",
     "output_type": "stream",
     "text": [
      "Processing:   6%|▌         | 55/953 [00:52<12:40,  1.18it/s]"
     ]
    },
    {
     "name": "stdout",
     "output_type": "stream",
     "text": [
      "Error processing 329180: With n_samples=0, test_size=0.25 and train_size=None, the resulting train set will be empty. Adjust any of the aforementioned parameters.\n"
     ]
    },
    {
     "name": "stderr",
     "output_type": "stream",
     "text": [
      "Processing:   7%|▋         | 71/953 [01:03<08:41,  1.69it/s]"
     ]
    },
    {
     "name": "stdout",
     "output_type": "stream",
     "text": [
      "Error processing 432320: With n_samples=0, test_size=0.25 and train_size=None, the resulting train set will be empty. Adjust any of the aforementioned parameters.\n"
     ]
    },
    {
     "name": "stderr",
     "output_type": "stream",
     "text": [
      "Processing:   8%|▊         | 73/953 [01:04<07:26,  1.97it/s]"
     ]
    },
    {
     "name": "stdout",
     "output_type": "stream",
     "text": [
      "Error processing 344820: With n_samples=0, test_size=0.25 and train_size=None, the resulting train set will be empty. Adjust any of the aforementioned parameters.\n"
     ]
    },
    {
     "name": "stderr",
     "output_type": "stream",
     "text": [
      "Processing:  10%|█         | 97/953 [01:26<08:37,  1.65it/s]"
     ]
    },
    {
     "name": "stdout",
     "output_type": "stream",
     "text": [
      "Error processing 373220: With n_samples=0, test_size=0.25 and train_size=None, the resulting train set will be empty. Adjust any of the aforementioned parameters.\n"
     ]
    },
    {
     "name": "stderr",
     "output_type": "stream",
     "text": [
      "Processing:  12%|█▏        | 116/953 [01:42<07:21,  1.89it/s]"
     ]
    },
    {
     "name": "stdout",
     "output_type": "stream",
     "text": [
      "Error processing 383800: With n_samples=0, test_size=0.25 and train_size=None, the resulting train set will be empty. Adjust any of the aforementioned parameters.\n",
      "Error processing 38380K: With n_samples=0, test_size=0.25 and train_size=None, the resulting train set will be empty. Adjust any of the aforementioned parameters.\n"
     ]
    },
    {
     "name": "stderr",
     "output_type": "stream",
     "text": [
      "Processing:  13%|█▎        | 120/953 [01:44<07:44,  1.79it/s]"
     ]
    },
    {
     "name": "stdout",
     "output_type": "stream",
     "text": [
      "Error processing 400760: With n_samples=0, test_size=0.25 and train_size=None, the resulting train set will be empty. Adjust any of the aforementioned parameters.\n"
     ]
    },
    {
     "name": "stderr",
     "output_type": "stream",
     "text": [
      "Processing:  13%|█▎        | 123/953 [01:47<09:02,  1.53it/s]"
     ]
    },
    {
     "name": "stdout",
     "output_type": "stream",
     "text": [
      "Error processing 338100: This solver needs samples of at least 2 classes in the data, but the data contains only one class: 0\n"
     ]
    },
    {
     "name": "stderr",
     "output_type": "stream",
     "text": [
      "Processing:  14%|█▎        | 129/953 [01:51<07:42,  1.78it/s]"
     ]
    },
    {
     "name": "stdout",
     "output_type": "stream",
     "text": [
      "Error processing 456040: With n_samples=0, test_size=0.25 and train_size=None, the resulting train set will be empty. Adjust any of the aforementioned parameters.\n"
     ]
    },
    {
     "name": "stderr",
     "output_type": "stream",
     "text": [
      "Processing:  16%|█▌        | 151/953 [02:10<10:24,  1.28it/s]"
     ]
    },
    {
     "name": "stdout",
     "output_type": "stream",
     "text": [
      "Error processing 395400: With n_samples=0, test_size=0.25 and train_size=None, the resulting train set will be empty. Adjust any of the aforementioned parameters.\n"
     ]
    },
    {
     "name": "stderr",
     "output_type": "stream",
     "text": [
      "Processing:  16%|█▌        | 152/953 [02:11<09:34,  1.40it/s]"
     ]
    },
    {
     "name": "stdout",
     "output_type": "stream",
     "text": [
      "Error processing 302440: With n_samples=0, test_size=0.25 and train_size=None, the resulting train set will be empty. Adjust any of the aforementioned parameters.\n"
     ]
    },
    {
     "name": "stderr",
     "output_type": "stream",
     "text": [
      "Processing:  16%|█▌        | 153/953 [02:11<08:08,  1.64it/s]"
     ]
    },
    {
     "name": "stdout",
     "output_type": "stream",
     "text": [
      "Error processing 326030: With n_samples=0, test_size=0.25 and train_size=None, the resulting train set will be empty. Adjust any of the aforementioned parameters.\n"
     ]
    },
    {
     "name": "stderr",
     "output_type": "stream",
     "text": [
      "Processing:  16%|█▌        | 154/953 [02:11<06:36,  2.02it/s]"
     ]
    },
    {
     "name": "stdout",
     "output_type": "stream",
     "text": [
      "Error processing 402340: With n_samples=0, test_size=0.25 and train_size=None, the resulting train set will be empty. Adjust any of the aforementioned parameters.\n"
     ]
    },
    {
     "name": "stderr",
     "output_type": "stream",
     "text": [
      "Processing:  16%|█▋        | 155/953 [02:12<05:46,  2.30it/s]"
     ]
    },
    {
     "name": "stdout",
     "output_type": "stream",
     "text": [
      "Error processing 361610: With n_samples=0, test_size=0.25 and train_size=None, the resulting train set will be empty. Adjust any of the aforementioned parameters.\n"
     ]
    },
    {
     "name": "stderr",
     "output_type": "stream",
     "text": [
      "Processing:  18%|█▊        | 172/953 [02:29<09:46,  1.33it/s]"
     ]
    },
    {
     "name": "stdout",
     "output_type": "stream",
     "text": [
      "Error processing 465770: With n_samples=0, test_size=0.25 and train_size=None, the resulting train set will be empty. Adjust any of the aforementioned parameters.\n"
     ]
    },
    {
     "name": "stderr",
     "output_type": "stream",
     "text": [
      "Processing:  22%|██▏       | 205/953 [03:02<08:21,  1.49it/s]"
     ]
    },
    {
     "name": "stdout",
     "output_type": "stream",
     "text": [
      "Error processing 339770: With n_samples=0, test_size=0.25 and train_size=None, the resulting train set will be empty. Adjust any of the aforementioned parameters.\n"
     ]
    },
    {
     "name": "stderr",
     "output_type": "stream",
     "text": [
      "Processing:  25%|██▌       | 240/953 [03:37<07:04,  1.68it/s]"
     ]
    },
    {
     "name": "stdout",
     "output_type": "stream",
     "text": [
      "Error processing 092790: With n_samples=0, test_size=0.25 and train_size=None, the resulting train set will be empty. Adjust any of the aforementioned parameters.\n"
     ]
    },
    {
     "name": "stderr",
     "output_type": "stream",
     "text": [
      "Processing:  27%|██▋       | 261/953 [03:52<04:30,  2.56it/s]"
     ]
    },
    {
     "name": "stdout",
     "output_type": "stream",
     "text": [
      "Error processing 353200: With n_samples=0, test_size=0.25 and train_size=None, the resulting train set will be empty. Adjust any of the aforementioned parameters.\n",
      "Error processing 35320K: With n_samples=0, test_size=0.25 and train_size=None, the resulting train set will be empty. Adjust any of the aforementioned parameters.\n"
     ]
    },
    {
     "name": "stderr",
     "output_type": "stream",
     "text": [
      "Processing:  33%|███▎      | 312/953 [04:36<05:35,  1.91it/s]"
     ]
    },
    {
     "name": "stdout",
     "output_type": "stream",
     "text": [
      "Error processing 460850: With n_samples=0, test_size=0.25 and train_size=None, the resulting train set will be empty. Adjust any of the aforementioned parameters.\n",
      "Error processing 460860: With n_samples=0, test_size=0.25 and train_size=None, the resulting train set will be empty. Adjust any of the aforementioned parameters.\n"
     ]
    },
    {
     "name": "stderr",
     "output_type": "stream",
     "text": [
      "Processing:  36%|███▌      | 339/953 [05:06<07:14,  1.41it/s]"
     ]
    },
    {
     "name": "stdout",
     "output_type": "stream",
     "text": [
      "Error processing 111380: With n_samples=0, test_size=0.25 and train_size=None, the resulting train set will be empty. Adjust any of the aforementioned parameters.\n"
     ]
    },
    {
     "name": "stderr",
     "output_type": "stream",
     "text": [
      "Processing:  36%|███▋      | 346/953 [05:11<06:28,  1.56it/s]"
     ]
    },
    {
     "name": "stdout",
     "output_type": "stream",
     "text": [
      "Error processing 454910: With n_samples=0, test_size=0.25 and train_size=None, the resulting train set will be empty. Adjust any of the aforementioned parameters.\n"
     ]
    },
    {
     "name": "stderr",
     "output_type": "stream",
     "text": [
      "Processing:  38%|███▊      | 358/953 [05:19<05:46,  1.72it/s]"
     ]
    },
    {
     "name": "stdout",
     "output_type": "stream",
     "text": [
      "Error processing 377190: With n_samples=0, test_size=0.25 and train_size=None, the resulting train set will be empty. Adjust any of the aforementioned parameters.\n"
     ]
    },
    {
     "name": "stderr",
     "output_type": "stream",
     "text": [
      "Processing:  38%|███▊      | 363/953 [05:24<07:05,  1.39it/s]"
     ]
    },
    {
     "name": "stdout",
     "output_type": "stream",
     "text": [
      "Error processing 089860: With n_samples=0, test_size=0.25 and train_size=None, the resulting train set will be empty. Adjust any of the aforementioned parameters.\n"
     ]
    },
    {
     "name": "stderr",
     "output_type": "stream",
     "text": [
      "Processing:  40%|███▉      | 378/953 [05:40<09:11,  1.04it/s]"
     ]
    },
    {
     "name": "stdout",
     "output_type": "stream",
     "text": [
      "Error processing 357430: With n_samples=0, test_size=0.25 and train_size=None, the resulting train set will be empty. Adjust any of the aforementioned parameters.\n"
     ]
    },
    {
     "name": "stderr",
     "output_type": "stream",
     "text": [
      "Processing:  40%|████      | 385/953 [05:48<09:04,  1.04it/s]"
     ]
    },
    {
     "name": "stdout",
     "output_type": "stream",
     "text": [
      "Error processing 009900: With n_samples=0, test_size=0.25 and train_size=None, the resulting train set will be empty. Adjust any of the aforementioned parameters.\n"
     ]
    },
    {
     "name": "stderr",
     "output_type": "stream",
     "text": [
      "Processing:  42%|████▏     | 396/953 [06:01<05:54,  1.57it/s]"
     ]
    },
    {
     "name": "stdout",
     "output_type": "stream",
     "text": [
      "Error processing 396690: With n_samples=0, test_size=0.25 and train_size=None, the resulting train set will be empty. Adjust any of the aforementioned parameters.\n",
      "Error processing 357250: With n_samples=0, test_size=0.25 and train_size=None, the resulting train set will be empty. Adjust any of the aforementioned parameters.\n"
     ]
    },
    {
     "name": "stderr",
     "output_type": "stream",
     "text": [
      "Processing:  43%|████▎     | 406/953 [06:08<05:09,  1.77it/s]"
     ]
    },
    {
     "name": "stdout",
     "output_type": "stream",
     "text": [
      "Error processing 377740: With n_samples=0, test_size=0.25 and train_size=None, the resulting train set will be empty. Adjust any of the aforementioned parameters.\n"
     ]
    },
    {
     "name": "stderr",
     "output_type": "stream",
     "text": [
      "Processing:  45%|████▌     | 432/953 [06:32<07:01,  1.23it/s]"
     ]
    },
    {
     "name": "stdout",
     "output_type": "stream",
     "text": [
      "Error processing 448730: With n_samples=0, test_size=0.25 and train_size=None, the resulting train set will be empty. Adjust any of the aforementioned parameters.\n"
     ]
    },
    {
     "name": "stderr",
     "output_type": "stream",
     "text": [
      "Processing:  54%|█████▍    | 518/953 [07:55<03:59,  1.82it/s]"
     ]
    },
    {
     "name": "stdout",
     "output_type": "stream",
     "text": [
      "Error processing 248070: With n_samples=0, test_size=0.25 and train_size=None, the resulting train set will be empty. Adjust any of the aforementioned parameters.\n"
     ]
    },
    {
     "name": "stderr",
     "output_type": "stream",
     "text": [
      "Processing:  55%|█████▍    | 520/953 [07:56<03:51,  1.87it/s]"
     ]
    },
    {
     "name": "stdout",
     "output_type": "stream",
     "text": [
      "Error processing 126720: With n_samples=0, test_size=0.25 and train_size=None, the resulting train set will be empty. Adjust any of the aforementioned parameters.\n"
     ]
    },
    {
     "name": "stderr",
     "output_type": "stream",
     "text": [
      "Processing:  57%|█████▋    | 545/953 [08:20<04:36,  1.48it/s]"
     ]
    },
    {
     "name": "stdout",
     "output_type": "stream",
     "text": [
      "Error processing 404990: With n_samples=0, test_size=0.25 and train_size=None, the resulting train set will be empty. Adjust any of the aforementioned parameters.\n"
     ]
    },
    {
     "name": "stderr",
     "output_type": "stream",
     "text": [
      "Processing:  58%|█████▊    | 552/953 [08:25<04:13,  1.58it/s]"
     ]
    },
    {
     "name": "stdout",
     "output_type": "stream",
     "text": [
      "Error processing 403550: With n_samples=0, test_size=0.25 and train_size=None, the resulting train set will be empty. Adjust any of the aforementioned parameters.\n"
     ]
    },
    {
     "name": "stderr",
     "output_type": "stream",
     "text": [
      "Processing:  60%|█████▉    | 570/953 [08:40<03:48,  1.67it/s]"
     ]
    },
    {
     "name": "stdout",
     "output_type": "stream",
     "text": [
      "Error processing 139990: With n_samples=0, test_size=0.25 and train_size=None, the resulting train set will be empty. Adjust any of the aforementioned parameters.\n"
     ]
    },
    {
     "name": "stderr",
     "output_type": "stream",
     "text": [
      "Processing:  60%|██████    | 575/953 [08:43<03:39,  1.72it/s]"
     ]
    },
    {
     "name": "stdout",
     "output_type": "stream",
     "text": [
      "Error processing 137310: With n_samples=0, test_size=0.25 and train_size=None, the resulting train set will be empty. Adjust any of the aforementioned parameters.\n"
     ]
    },
    {
     "name": "stderr",
     "output_type": "stream",
     "text": [
      "Processing:  62%|██████▏   | 588/953 [09:01<06:45,  1.11s/it]"
     ]
    },
    {
     "name": "stdout",
     "output_type": "stream",
     "text": [
      "Error processing 244920: With n_samples=0, test_size=0.25 and train_size=None, the resulting train set will be empty. Adjust any of the aforementioned parameters.\n",
      "Error processing 278470: With n_samples=0, test_size=0.25 and train_size=None, the resulting train set will be empty. Adjust any of the aforementioned parameters.\n"
     ]
    },
    {
     "name": "stderr",
     "output_type": "stream",
     "text": [
      "Processing:  62%|██████▏   | 589/953 [09:01<04:59,  1.21it/s]"
     ]
    },
    {
     "name": "stdout",
     "output_type": "stream",
     "text": [
      "Error processing 450080: With n_samples=0, test_size=0.25 and train_size=None, the resulting train set will be empty. Adjust any of the aforementioned parameters.\n"
     ]
    },
    {
     "name": "stderr",
     "output_type": "stream",
     "text": [
      "Processing:  65%|██████▌   | 623/953 [09:33<03:32,  1.56it/s]"
     ]
    },
    {
     "name": "stdout",
     "output_type": "stream",
     "text": [
      "Error processing 446070: With n_samples=0, test_size=0.25 and train_size=None, the resulting train set will be empty. Adjust any of the aforementioned parameters.\n"
     ]
    },
    {
     "name": "stderr",
     "output_type": "stream",
     "text": [
      "Processing:  68%|██████▊   | 647/953 [10:02<02:59,  1.70it/s]"
     ]
    },
    {
     "name": "stdout",
     "output_type": "stream",
     "text": [
      "Error processing 457190: With n_samples=0, test_size=0.25 and train_size=None, the resulting train set will be empty. Adjust any of the aforementioned parameters.\n"
     ]
    },
    {
     "name": "stderr",
     "output_type": "stream",
     "text": [
      "Processing:  69%|██████▊   | 655/953 [10:08<02:59,  1.66it/s]"
     ]
    },
    {
     "name": "stdout",
     "output_type": "stream",
     "text": [
      "Error processing 350520: With n_samples=0, test_size=0.25 and train_size=None, the resulting train set will be empty. Adjust any of the aforementioned parameters.\n"
     ]
    },
    {
     "name": "stderr",
     "output_type": "stream",
     "text": [
      "Processing:  69%|██████▉   | 656/953 [10:08<02:31,  1.96it/s]"
     ]
    },
    {
     "name": "stdout",
     "output_type": "stream",
     "text": [
      "Error processing 334890: With n_samples=0, test_size=0.25 and train_size=None, the resulting train set will be empty. Adjust any of the aforementioned parameters.\n"
     ]
    },
    {
     "name": "stderr",
     "output_type": "stream",
     "text": [
      "Processing:  71%|███████   | 677/953 [10:28<03:05,  1.49it/s]"
     ]
    },
    {
     "name": "stdout",
     "output_type": "stream",
     "text": [
      "Error processing 271940: With n_samples=0, test_size=0.25 and train_size=None, the resulting train set will be empty. Adjust any of the aforementioned parameters.\n"
     ]
    },
    {
     "name": "stderr",
     "output_type": "stream",
     "text": [
      "Processing:  72%|███████▏  | 683/953 [10:33<03:11,  1.41it/s]"
     ]
    },
    {
     "name": "stdout",
     "output_type": "stream",
     "text": [
      "Error processing 348950: With n_samples=0, test_size=0.25 and train_size=None, the resulting train set will be empty. Adjust any of the aforementioned parameters.\n"
     ]
    },
    {
     "name": "stderr",
     "output_type": "stream",
     "text": [
      "Processing:  73%|███████▎  | 695/953 [10:46<03:06,  1.39it/s]"
     ]
    },
    {
     "name": "stdout",
     "output_type": "stream",
     "text": [
      "Error processing 462520: With n_samples=0, test_size=0.25 and train_size=None, the resulting train set will be empty. Adjust any of the aforementioned parameters.\n"
     ]
    },
    {
     "name": "stderr",
     "output_type": "stream",
     "text": [
      "Processing:  76%|███████▌  | 722/953 [11:16<04:47,  1.24s/it]"
     ]
    },
    {
     "name": "stdout",
     "output_type": "stream",
     "text": [
      "Error processing 323410: With n_samples=0, test_size=0.25 and train_size=None, the resulting train set will be empty. Adjust any of the aforementioned parameters.\n"
     ]
    },
    {
     "name": "stderr",
     "output_type": "stream",
     "text": [
      "Processing:  76%|███████▌  | 723/953 [11:17<03:46,  1.01it/s]"
     ]
    },
    {
     "name": "stdout",
     "output_type": "stream",
     "text": [
      "Error processing 377300: With n_samples=0, test_size=0.25 and train_size=None, the resulting train set will be empty. Adjust any of the aforementioned parameters.\n"
     ]
    },
    {
     "name": "stderr",
     "output_type": "stream",
     "text": [
      "Processing:  76%|███████▋  | 728/953 [11:22<03:41,  1.02it/s]"
     ]
    },
    {
     "name": "stdout",
     "output_type": "stream",
     "text": [
      "Error processing 381970: With n_samples=0, test_size=0.25 and train_size=None, the resulting train set will be empty. Adjust any of the aforementioned parameters.\n"
     ]
    },
    {
     "name": "stderr",
     "output_type": "stream",
     "text": [
      "Processing:  77%|███████▋  | 730/953 [11:23<02:46,  1.34it/s]"
     ]
    },
    {
     "name": "stdout",
     "output_type": "stream",
     "text": [
      "Error processing 417310: With n_samples=0, test_size=0.25 and train_size=None, the resulting train set will be empty. Adjust any of the aforementioned parameters.\n"
     ]
    },
    {
     "name": "stderr",
     "output_type": "stream",
     "text": [
      "Processing:  77%|███████▋  | 731/953 [11:24<02:16,  1.63it/s]"
     ]
    },
    {
     "name": "stdout",
     "output_type": "stream",
     "text": [
      "Error processing 357120: With n_samples=0, test_size=0.25 and train_size=None, the resulting train set will be empty. Adjust any of the aforementioned parameters.\n"
     ]
    },
    {
     "name": "stderr",
     "output_type": "stream",
     "text": [
      "Processing:  78%|███████▊  | 745/953 [11:40<02:20,  1.48it/s]"
     ]
    },
    {
     "name": "stdout",
     "output_type": "stream",
     "text": [
      "Error processing 450140: With n_samples=0, test_size=0.25 and train_size=None, the resulting train set will be empty. Adjust any of the aforementioned parameters.\n",
      "Error processing 45014K: With n_samples=0, test_size=0.25 and train_size=None, the resulting train set will be empty. Adjust any of the aforementioned parameters.\n"
     ]
    },
    {
     "name": "stderr",
     "output_type": "stream",
     "text": [
      "Processing:  80%|███████▉  | 759/953 [11:52<01:57,  1.66it/s]"
     ]
    },
    {
     "name": "stdout",
     "output_type": "stream",
     "text": [
      "Error processing 259960: With n_samples=0, test_size=0.25 and train_size=None, the resulting train set will be empty. Adjust any of the aforementioned parameters.\n"
     ]
    },
    {
     "name": "stderr",
     "output_type": "stream",
     "text": [
      "Processing:  82%|████████▏ | 778/953 [12:07<01:23,  2.10it/s]"
     ]
    },
    {
     "name": "stdout",
     "output_type": "stream",
     "text": [
      "Error processing 363280: With n_samples=0, test_size=0.25 and train_size=None, the resulting train set will be empty. Adjust any of the aforementioned parameters.\n",
      "Error processing 36328K: With n_samples=0, test_size=0.25 and train_size=None, the resulting train set will be empty. Adjust any of the aforementioned parameters.\n"
     ]
    },
    {
     "name": "stderr",
     "output_type": "stream",
     "text": [
      "Processing:  84%|████████▎ | 797/953 [12:22<01:37,  1.61it/s]"
     ]
    },
    {
     "name": "stdout",
     "output_type": "stream",
     "text": [
      "Error processing 950210: With n_samples=0, test_size=0.25 and train_size=None, the resulting train set will be empty. Adjust any of the aforementioned parameters.\n"
     ]
    },
    {
     "name": "stderr",
     "output_type": "stream",
     "text": [
      "Processing:  84%|████████▍ | 802/953 [12:25<01:18,  1.93it/s]"
     ]
    },
    {
     "name": "stdout",
     "output_type": "stream",
     "text": [
      "Error processing 352820: With n_samples=0, test_size=0.25 and train_size=None, the resulting train set will be empty. Adjust any of the aforementioned parameters.\n"
     ]
    },
    {
     "name": "stderr",
     "output_type": "stream",
     "text": [
      "Processing:  92%|█████████▏| 878/953 [13:29<00:53,  1.41it/s]"
     ]
    },
    {
     "name": "stdout",
     "output_type": "stream",
     "text": [
      "Error processing 372910: With n_samples=0, test_size=0.25 and train_size=None, the resulting train set will be empty. Adjust any of the aforementioned parameters.\n"
     ]
    },
    {
     "name": "stderr",
     "output_type": "stream",
     "text": [
      "Processing:  92%|█████████▏| 881/953 [13:30<00:40,  1.78it/s]"
     ]
    },
    {
     "name": "stdout",
     "output_type": "stream",
     "text": [
      "Error processing 452260: With n_samples=0, test_size=0.25 and train_size=None, the resulting train set will be empty. Adjust any of the aforementioned parameters.\n"
     ]
    },
    {
     "name": "stderr",
     "output_type": "stream",
     "text": [
      "Processing:  93%|█████████▎| 883/953 [13:31<00:25,  2.72it/s]"
     ]
    },
    {
     "name": "stdout",
     "output_type": "stream",
     "text": [
      "Error processing 45226K: With n_samples=0, test_size=0.25 and train_size=None, the resulting train set will be empty. Adjust any of the aforementioned parameters.\n",
      "Error processing 451800: With n_samples=0, test_size=0.25 and train_size=None, the resulting train set will be empty. Adjust any of the aforementioned parameters.\n"
     ]
    },
    {
     "name": "stderr",
     "output_type": "stream",
     "text": [
      "Processing:  94%|█████████▍| 900/953 [13:43<00:30,  1.73it/s]"
     ]
    },
    {
     "name": "stdout",
     "output_type": "stream",
     "text": [
      "Error processing 453340: With n_samples=0, test_size=0.25 and train_size=None, the resulting train set will be empty. Adjust any of the aforementioned parameters.\n"
     ]
    },
    {
     "name": "stderr",
     "output_type": "stream",
     "text": [
      "Processing:  98%|█████████▊| 930/953 [14:16<00:27,  1.18s/it]"
     ]
    },
    {
     "name": "stdout",
     "output_type": "stream",
     "text": [
      "Error processing 378850: With n_samples=0, test_size=0.25 and train_size=None, the resulting train set will be empty. Adjust any of the aforementioned parameters.\n"
     ]
    },
    {
     "name": "stderr",
     "output_type": "stream",
     "text": [
      "Processing: 100%|██████████| 953/953 [14:38<00:00,  1.09it/s]\n"
     ]
    }
   ],
   "source": [
    "from pykrx import stock\n",
    "import pandas as pd\n",
    "import numpy as np\n",
    "from scipy.stats import ttest_ind\n",
    "from sklearn.linear_model import LassoCV, RidgeCV\n",
    "from sklearn.feature_selection import SequentialFeatureSelector\n",
    "from sklearn.ensemble import RandomForestClassifier, RandomForestRegressor\n",
    "from sklearn.model_selection import train_test_split\n",
    "from sklearn.svm import SVC\n",
    "from sklearn.linear_model import LogisticRegression\n",
    "from sklearn.tree import DecisionTreeClassifier\n",
    "from sklearn.ensemble import RandomForestClassifier\n",
    "from sklearn.metrics import accuracy_score, precision_score, recall_score, f1_score\n",
    "from tqdm import tqdm\n",
    "ticker_list = stock.get_market_ticker_list(market=\"KOSPI\")\n",
    "\n",
    "# precision_svm 값과 종목코드를 저장할 빈 리스트\n",
    "results_list = []\n",
    "\n",
    "# 각 종목에 대해 반복\n",
    "for ticker in tqdm(ticker_list, desc=\"Processing\"):\n",
    "    try:\n",
    "        ticker_name = stock.get_market_ticker_name(ticker)\n",
    "        start_date = \"2016-03-20\"\n",
    "        end_date = \"2021-03-20\"\n",
    "        # 주어진 기간 동안의 일별 거래량 정보 가져오기\n",
    "        df = stock.get_market_ohlcv_by_date(fromdate=start_date, todate=end_date, ticker=ticker)\n",
    "\n",
    "\n",
    "        def calculate_macd(df, short_window=12, long_window=26, signal_window=9):\n",
    "            \"\"\"MACD 및 MACD 신호 계산\"\"\"\n",
    "            df['EMA_short'] = df['종가'].ewm(span=short_window, adjust=False).mean()\n",
    "            df['EMA_long'] = df['종가'].ewm(span=long_window, adjust=False).mean()\n",
    "            df['MACD'] = df['EMA_short'] - df['EMA_long']\n",
    "            df['MACD_Signal'] = df['MACD'].ewm(span=signal_window, adjust=False).mean()\n",
    "            return df\n",
    "\n",
    "        def calculate_rsi(df, window=14, signal_window=9):\n",
    "            \"\"\"RSI 및 RSI 신호 계산\"\"\"\n",
    "            delta = df['종가'].diff()\n",
    "            gain = (delta.where(delta > 0, 0)).rolling(window=window).mean()\n",
    "            loss = (-delta.where(delta < 0, 0)).rolling(window=window).mean()\n",
    "\n",
    "            rs = gain / loss\n",
    "            df['RSI'] = 100 - (100 / (1 + rs))\n",
    "            \n",
    "            # RSI 신호선 추가\n",
    "            df['RSI_Signal'] = df['RSI'].ewm(span=signal_window, adjust=False).mean()\n",
    "            return df\n",
    "\n",
    "        # MACD 및 MACD 신호 계산\n",
    "        df = calculate_macd(df)\n",
    "\n",
    "        df = calculate_rsi(df)\n",
    "\n",
    "        # '종가' 컬럼이 포함된 DataFrame을 가정합니다. 예를 들어, df라고 합시다.\n",
    "        # df = pd.read_csv('path_to_your_data.csv') # 데이터 파일을 로드하는 예시\n",
    "\n",
    "        # 지정된 기간에 대한 SMA 계산\n",
    "        periods = [5, 20, 60, 120, 240]\n",
    "        for period in periods:\n",
    "            df[f'SMA_{period}'] = df['종가'].rolling(window=period).mean()\n",
    "\n",
    "        # 지정된 기간에 대한 EMA 계산\n",
    "        for period in periods:\n",
    "            df[f'EMA_{period}'] = df['종가'].ewm(span=period, adjust=False).mean()\n",
    "\n",
    "        for i in range(len(periods)):\n",
    "            for j in range(i + 1, len(periods)):\n",
    "                smaller_period = periods[i]\n",
    "                larger_period = periods[j]\n",
    "                df[f'SMA_{smaller_period}_minus_SMA_{larger_period}'] = df[f'SMA_{smaller_period}'] - df[f'SMA_{larger_period}']\n",
    "\n",
    "        # EMA 간의 차이 계산\n",
    "        for i in range(len(periods)):\n",
    "            for j in range(i + 1, len(periods)):\n",
    "                smaller_period = periods[i]\n",
    "                larger_period = periods[j]\n",
    "                df[f'EMA_{smaller_period}_minus_EMA_{larger_period}'] = df[f'EMA_{smaller_period}'] - df[f'EMA_{larger_period}']\n",
    "\n",
    "        for column in ['시가', '고가', '저가','거래량','MACD','MACD_Signal','RSI','RSI_Signal']:\n",
    "            df[f'{column}_등락률'] = df[column].pct_change() * 100\n",
    "\n",
    "        # SMA 및 EMA의 전 거래일 대비 등락률 계산 및 DataFrame에 추가\n",
    "        periods = [5, 20, 60, 120, 240]\n",
    "\n",
    "        # SMA 등락률 계산 및 추가\n",
    "        for period in periods:\n",
    "            df[f'SMA_{period}_등락률'] = df[f'SMA_{period}'].pct_change() * 100\n",
    "\n",
    "        # EMA 등락률 계산 및 추가\n",
    "        for period in periods:\n",
    "            df[f'EMA_{period}_등락률'] = df[f'EMA_{period}'].pct_change() * 100\n",
    "\n",
    "        # 'MACD'가 0 이상일 때 1, 아니면 0을 할당\n",
    "        df['MACD_Binary'] = (df['MACD'] >= 0).astype(int)\n",
    "\n",
    "        # 'MACD - MACD_Signal'이 0 이상일 때 1, 아니면 0을 할당\n",
    "        df['MACD_minus_Signal_Binary'] = ((df['MACD'] - df['MACD_Signal']) >= 0).astype(int)\n",
    "\n",
    "        # 'RSI - RSI_Signal'이 0 이상일 때 1, 아니면 0을 할당\n",
    "        df['RSI_minus_Signal_Binary'] = ((df['RSI'] - df['RSI_Signal']) >= 0).astype(int)\n",
    "\n",
    "        # 시가 대비 종가 등락률 컬럼 추가\n",
    "        df['시가_대비_종가_등락률'] = ((df['종가'] - df['시가']) / df['시가']) * 100\n",
    "        df['시가_대비_저가_등락률'] = ((df['저가'] - df['시가']) / df['시가']) * 100\n",
    "        df['시가_대비_고가_등락률'] = ((df['고가'] - df['시가']) / df['시가']) * 100\n",
    "        df['저가_대비_종가_등락률'] = ((df['종가'] - df['저가']) / df['저가']) * 100\n",
    "        df['저가_대비_고가_등락률'] = ((df['고가'] - df['저가']) / df['저가']) * 100\n",
    "        df['고가_대비_종가_등락률'] = ((df['종가'] - df['고가']) / df['고가']) * 100\n",
    "        # 종가 - SMA [5, 20, 60, 120, 240] 값의 차이 컬럼 추가\n",
    "        for period in [5, 20, 60, 120, 240]:\n",
    "            df[f'종가_minus_SMA_{period}'] = df['종가'] - df[f'SMA_{period}']\n",
    "\n",
    "        # 종가 - EMA [5, 20, 60, 120, 240] 값의 차이 컬럼 추가\n",
    "        for period in [5, 20, 60, 120, 240]:\n",
    "            df[f'종가_minus_EMA_{period}'] = df['종가'] - df[f'EMA_{period}']\n",
    "\n",
    "\n",
    "        #csv_file_path = \"C:/apps/h1/이스트소프트_data.csv\"  # 저장할 파일 경로 및 이름 설정\n",
    "        #df.to_csv(csv_file_path, encoding='utf-8-sig')\n",
    "\n",
    "        #print(f\"Data saved to {csv_file_path}\")\n",
    "\n",
    "        # 등락률을 기준으로 다음 날 등락률 계산 후 target 생성\n",
    "        df['next_day_return'] = (df['시가'].shift(-5)-df['종가'])/df['종가']\n",
    "        df['target'] = df['next_day_return'].apply(lambda x: 1 if x > 0.25 else -1)\n",
    "        df.dropna(inplace=True)  # 마지막 행 삭제\n",
    "\n",
    "        first_column_name = df.columns[0]\n",
    "\n",
    "        df1= df.iloc[:-50, :]\n",
    "        X = df1.drop(['next_day_return','target'], axis=1)\n",
    "        y = df1['target']\n",
    "\n",
    "        # Calculating correlations for Forward Selection\n",
    "        correlations = X.corrwith(y).abs().sort_values(ascending=False).reset_index()\n",
    "        correlations.columns = ['Feature', 'Correlation']\n",
    "\n",
    "        top_8_features = correlations.sort_values(by='Correlation', ascending=False).head(8)['Feature']\n",
    "\n",
    "        # X와 y 정의 (df2와 이전 코드에서의 처리 과정을 바탕으로)\n",
    "        X_top8 = X[top_8_features]\n",
    "        y = df1['target'].map({-1: 0, 1: 1})  # y 값을 0과 1로 조정\n",
    "\n",
    "        # 데이터를 학습 세트와 테스트 세트로 분할\n",
    "        X_train, X_test, y_train, y_test = train_test_split(X_top8, y, test_size=0.25, random_state=42)\n",
    "\n",
    "        # 모델 초기화\n",
    "        rf_model = RandomForestClassifier()\n",
    "        dt_model = DecisionTreeClassifier()\n",
    "        lr_model = LogisticRegression()\n",
    "        svm_model = SVC()\n",
    "\n",
    "        # 모델 학습\n",
    "        rf_model.fit(X_train, y_train)\n",
    "        dt_model.fit(X_train, y_train)\n",
    "        lr_model.fit(X_train, y_train)\n",
    "        svm_model.fit(X_train, y_train)\n",
    "\n",
    "        # 예측\n",
    "        y_pred_rf = rf_model.predict(X_test)\n",
    "        y_pred_dt = dt_model.predict(X_test)\n",
    "        y_pred_lr = lr_model.predict(X_test)\n",
    "        y_pred_svm = svm_model.predict(X_test)\n",
    "\n",
    "        # Precision 계산\n",
    "        precision_rf = precision_score(y_test, y_pred_rf, average='macro')\n",
    "        precision_dt = precision_score(y_test, y_pred_dt, average='macro')\n",
    "        precision_lr = precision_score(y_test, y_pred_lr, average='macro')\n",
    "        precision_svm = precision_score(y_test, y_pred_svm, average='macro')\n",
    "\n",
    "        # 결과 저장\n",
    "        results_list.append({\n",
    "            'Ticker': ticker,\n",
    "            'Name': ticker_name,\n",
    "            'Precision_RF': precision_rf,\n",
    "            'Precision_DT': precision_dt,\n",
    "            'Precision_LR': precision_lr,\n",
    "            'Precision_SVM': precision_svm\n",
    "        })\n",
    "        pass\n",
    "    except Exception as e:\n",
    "        print(f\"Error processing {ticker}: {e}\")\n",
    "        continue\n",
    "\n",
    "# 결과를 데이터프레임으로 변환하고 precision_svm 값에 따라 내림차순 정렬\n",
    "results_df = pd.DataFrame(results_list).sort_values(by='Precision_SVM', ascending=False)\n",
    "\n"
   ]
  },
  {
   "cell_type": "code",
   "execution_count": 3,
   "metadata": {},
   "outputs": [
    {
     "data": {
      "text/html": [
       "<div>\n",
       "<style scoped>\n",
       "    .dataframe tbody tr th:only-of-type {\n",
       "        vertical-align: middle;\n",
       "    }\n",
       "\n",
       "    .dataframe tbody tr th {\n",
       "        vertical-align: top;\n",
       "    }\n",
       "\n",
       "    .dataframe thead th {\n",
       "        text-align: right;\n",
       "    }\n",
       "</style>\n",
       "<table border=\"1\" class=\"dataframe\">\n",
       "  <thead>\n",
       "    <tr style=\"text-align: right;\">\n",
       "      <th></th>\n",
       "      <th>Ticker</th>\n",
       "      <th>Name</th>\n",
       "      <th>Precision_RF</th>\n",
       "      <th>Precision_DT</th>\n",
       "      <th>Precision_LR</th>\n",
       "      <th>Precision_SVM</th>\n",
       "    </tr>\n",
       "  </thead>\n",
       "  <tbody>\n",
       "    <tr>\n",
       "      <th>722</th>\n",
       "      <td>016800</td>\n",
       "      <td>퍼시스</td>\n",
       "      <td>0.539073</td>\n",
       "      <td>0.513935</td>\n",
       "      <td>0.651942</td>\n",
       "      <td>0.863248</td>\n",
       "    </tr>\n",
       "    <tr>\n",
       "      <th>463</th>\n",
       "      <td>004365</td>\n",
       "      <td>세방우</td>\n",
       "      <td>0.585332</td>\n",
       "      <td>0.598969</td>\n",
       "      <td>0.704004</td>\n",
       "      <td>0.829741</td>\n",
       "    </tr>\n",
       "    <tr>\n",
       "      <th>656</th>\n",
       "      <td>100250</td>\n",
       "      <td>진양홀딩스</td>\n",
       "      <td>0.512108</td>\n",
       "      <td>0.533859</td>\n",
       "      <td>0.325532</td>\n",
       "      <td>0.826923</td>\n",
       "    </tr>\n",
       "    <tr>\n",
       "      <th>0</th>\n",
       "      <td>095570</td>\n",
       "      <td>AJ네트웍스</td>\n",
       "      <td>0.517027</td>\n",
       "      <td>0.512338</td>\n",
       "      <td>0.545221</td>\n",
       "      <td>0.824786</td>\n",
       "    </tr>\n",
       "    <tr>\n",
       "      <th>672</th>\n",
       "      <td>145270</td>\n",
       "      <td>케이탑리츠</td>\n",
       "      <td>0.567769</td>\n",
       "      <td>0.484879</td>\n",
       "      <td>0.776303</td>\n",
       "      <td>0.822650</td>\n",
       "    </tr>\n",
       "    <tr>\n",
       "      <th>...</th>\n",
       "      <td>...</td>\n",
       "      <td>...</td>\n",
       "      <td>...</td>\n",
       "      <td>...</td>\n",
       "      <td>...</td>\n",
       "      <td>...</td>\n",
       "    </tr>\n",
       "    <tr>\n",
       "      <th>321</th>\n",
       "      <td>33626K</td>\n",
       "      <td>두산퓨얼셀1우</td>\n",
       "      <td>0.583333</td>\n",
       "      <td>0.611111</td>\n",
       "      <td>0.550000</td>\n",
       "      <td>0.233333</td>\n",
       "    </tr>\n",
       "    <tr>\n",
       "      <th>479</th>\n",
       "      <td>33637L</td>\n",
       "      <td>솔루스첨단소재2우B</td>\n",
       "      <td>0.472222</td>\n",
       "      <td>0.535714</td>\n",
       "      <td>0.598214</td>\n",
       "      <td>0.233333</td>\n",
       "    </tr>\n",
       "    <tr>\n",
       "      <th>9</th>\n",
       "      <td>00104K</td>\n",
       "      <td>CJ4우(전환)</td>\n",
       "      <td>0.433333</td>\n",
       "      <td>0.414706</td>\n",
       "      <td>0.638889</td>\n",
       "      <td>0.203704</td>\n",
       "    </tr>\n",
       "    <tr>\n",
       "      <th>45</th>\n",
       "      <td>322000</td>\n",
       "      <td>HD현대에너지솔루션</td>\n",
       "      <td>0.200000</td>\n",
       "      <td>0.416667</td>\n",
       "      <td>0.437500</td>\n",
       "      <td>0.200000</td>\n",
       "    </tr>\n",
       "    <tr>\n",
       "      <th>650</th>\n",
       "      <td>013890</td>\n",
       "      <td>지누스</td>\n",
       "      <td>0.297619</td>\n",
       "      <td>0.547619</td>\n",
       "      <td>0.533333</td>\n",
       "      <td>0.192308</td>\n",
       "    </tr>\n",
       "  </tbody>\n",
       "</table>\n",
       "<p>882 rows × 6 columns</p>\n",
       "</div>"
      ],
      "text/plain": [
       "     Ticker        Name  Precision_RF  Precision_DT  Precision_LR  \\\n",
       "722  016800         퍼시스      0.539073      0.513935      0.651942   \n",
       "463  004365         세방우      0.585332      0.598969      0.704004   \n",
       "656  100250       진양홀딩스      0.512108      0.533859      0.325532   \n",
       "0    095570      AJ네트웍스      0.517027      0.512338      0.545221   \n",
       "672  145270       케이탑리츠      0.567769      0.484879      0.776303   \n",
       "..      ...         ...           ...           ...           ...   \n",
       "321  33626K     두산퓨얼셀1우      0.583333      0.611111      0.550000   \n",
       "479  33637L  솔루스첨단소재2우B      0.472222      0.535714      0.598214   \n",
       "9    00104K    CJ4우(전환)      0.433333      0.414706      0.638889   \n",
       "45   322000  HD현대에너지솔루션      0.200000      0.416667      0.437500   \n",
       "650  013890         지누스      0.297619      0.547619      0.533333   \n",
       "\n",
       "     Precision_SVM  \n",
       "722       0.863248  \n",
       "463       0.829741  \n",
       "656       0.826923  \n",
       "0         0.824786  \n",
       "672       0.822650  \n",
       "..             ...  \n",
       "321       0.233333  \n",
       "479       0.233333  \n",
       "9         0.203704  \n",
       "45        0.200000  \n",
       "650       0.192308  \n",
       "\n",
       "[882 rows x 6 columns]"
      ]
     },
     "execution_count": 3,
     "metadata": {},
     "output_type": "execute_result"
    }
   ],
   "source": [
    "results_df"
   ]
  },
  {
   "cell_type": "code",
   "execution_count": 4,
   "metadata": {},
   "outputs": [],
   "source": [
    "csv_file_path = \"C:/apps/h1/kospi_1603_2103_precision score_data.csv\"  # 저장할 파일 경로 및 이름 설정\n",
    "results_df.to_csv(csv_file_path, encoding='utf-8-sig')"
   ]
  }
 ],
 "metadata": {
  "kernelspec": {
   "display_name": "base",
   "language": "python",
   "name": "python3"
  },
  "language_info": {
   "codemirror_mode": {
    "name": "ipython",
    "version": 3
   },
   "file_extension": ".py",
   "mimetype": "text/x-python",
   "name": "python",
   "nbconvert_exporter": "python",
   "pygments_lexer": "ipython3",
   "version": "undefined.undefined.undefined"
  }
 },
 "nbformat": 4,
 "nbformat_minor": 2
}
