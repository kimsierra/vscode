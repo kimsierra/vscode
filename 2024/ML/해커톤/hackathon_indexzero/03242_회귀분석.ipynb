{
 "cells": [
  {
   "cell_type": "code",
   "execution_count": 8,
   "metadata": {},
   "outputs": [
    {
     "name": "stderr",
     "output_type": "stream",
     "text": [
      "c:\\Users\\yeotaekyeong\\anaconda3\\Lib\\site-packages\\sklearn\\linear_model\\_coordinate_descent.py:678: ConvergenceWarning: Objective did not converge. You might want to increase the number of iterations, check the scale of the features or consider increasing regularisation. Duality gap: 4.203e+03, tolerance: 1.018e+00\n",
      "  model = cd_fast.enet_coordinate_descent(\n"
     ]
    },
    {
     "name": "stdout",
     "output_type": "stream",
     "text": [
      "선형회귀 R² 점수: 0.2894360148232695\n",
      "다항회귀 R² 점수: -5189.04828646568\n",
      "라쏘회귀 R² 점수: 0.1370465521171388\n",
      "릿지회귀 R² 점수: 0.18631493748624695\n"
     ]
    },
    {
     "name": "stderr",
     "output_type": "stream",
     "text": [
      "c:\\Users\\yeotaekyeong\\anaconda3\\Lib\\site-packages\\sklearn\\linear_model\\_ridge.py:204: LinAlgWarning: Ill-conditioned matrix (rcond=5.1094e-17): result may not be accurate.\n",
      "  return linalg.solve(A, Xy, assume_a=\"pos\", overwrite_a=True).T\n"
     ]
    }
   ],
   "source": [
    "import pandas as pd\n",
    "from sklearn.model_selection import train_test_split\n",
    "from sklearn.linear_model import LinearRegression, Lasso, Ridge\n",
    "from sklearn.metrics import r2_score\n",
    "from sklearn.preprocessing import PolynomialFeatures\n",
    "\n",
    "# 파일 로드\n",
    "df = pd.read_csv(\"하이닉스 power.csv\", thousands=',', encoding = 'cp949')\n",
    "\n",
    "# 날짜 칼럼을 datetime 타입으로 변환하고 인덱스로 설정\n",
    "df['날짜'] = pd.to_datetime(df['날짜'])\n",
    "df.set_index('날짜', inplace=True)\n",
    "\n",
    "# 누락된 값을 가진 행 제거\n",
    "data_cleaned = df.dropna()\n",
    "\n",
    "df['next_day_return'] = (df['종가'].shift(-1) - df['종가'])/ df['종가'] *100\n",
    "df.dropna(inplace=True)\n",
    "\n",
    "first_column_name = df.columns[0]\n",
    "X = df.drop(['next_day_return'], axis=1) \n",
    "y = df['next_day_return']\n",
    "\n",
    "\n",
    "\n",
    "# 데이터를 훈련 세트와 테스트 세트로 분할\n",
    "X_train, X_test, y_train, y_test = train_test_split(X, y, test_size=0.2, random_state=42)\n",
    "\n",
    "# 선형회귀 모델 학습 및 평가\n",
    "linear_reg = LinearRegression()\n",
    "linear_reg.fit(X_train, y_train)\n",
    "y_pred_linear = linear_reg.predict(X_test)\n",
    "r2_linear = r2_score(y_test, y_pred_linear)\n",
    "\n",
    "# 다항회귀 모델 학습 및 평가\n",
    "poly_features = PolynomialFeatures(degree=2, include_bias=False)\n",
    "X_poly_train = poly_features.fit_transform(X_train)\n",
    "X_poly_test = poly_features.transform(X_test)\n",
    "poly_reg = LinearRegression()\n",
    "poly_reg.fit(X_poly_train, y_train)\n",
    "y_pred_poly = poly_reg.predict(X_poly_test)\n",
    "r2_poly = r2_score(y_test, y_pred_poly)\n",
    "\n",
    "# 라쏘 회귀 모델 학습 및 평가\n",
    "lasso_reg = Lasso(alpha=0.1)\n",
    "lasso_reg.fit(X_train, y_train)\n",
    "y_pred_lasso = lasso_reg.predict(X_test)\n",
    "r2_lasso = r2_score(y_test, y_pred_lasso)\n",
    "\n",
    "# 릿지 회귀 모델 학습 및 평가\n",
    "ridge_reg = Ridge(alpha=1.0)\n",
    "ridge_reg.fit(X_train, y_train)\n",
    "y_pred_ridge = ridge_reg.predict(X_test)\n",
    "r2_ridge = r2_score(y_test, y_pred_ridge)\n",
    "\n",
    "# 결과 출력\n",
    "print(f\"선형회귀 R² 점수: {r2_linear}\")\n",
    "print(f\"다항회귀 R² 점수: {r2_poly}\")\n",
    "print(f\"라쏘회귀 R² 점수: {r2_lasso}\")\n",
    "print(f\"릿지회귀 R² 점수: {r2_ridge}\")\n"
   ]
  }
 ],
 "metadata": {
  "kernelspec": {
   "display_name": "base",
   "language": "python",
   "name": "python3"
  },
  "language_info": {
   "codemirror_mode": {
    "name": "ipython",
    "version": 3
   },
   "file_extension": ".py",
   "mimetype": "text/x-python",
   "name": "python",
   "nbconvert_exporter": "python",
   "pygments_lexer": "ipython3",
   "version": "undefined.undefined.undefined"
  }
 },
 "nbformat": 4,
 "nbformat_minor": 2
}
