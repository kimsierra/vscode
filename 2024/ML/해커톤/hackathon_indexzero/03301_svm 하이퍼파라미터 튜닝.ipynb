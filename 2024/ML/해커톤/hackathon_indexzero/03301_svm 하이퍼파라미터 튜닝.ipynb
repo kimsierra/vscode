{
 "cells": [
  {
   "cell_type": "code",
   "execution_count": 1,
   "metadata": {},
   "outputs": [
    {
     "name": "stdout",
     "output_type": "stream",
     "text": [
      "Fitting 5 folds for each of 12 candidates, totalling 60 fits\n",
      "[CV 1/5] END .....C=1, gamma=scale, kernel=poly;, score=0.558 total time=   0.8s\n",
      "[CV 2/5] END .....C=1, gamma=scale, kernel=poly;, score=0.552 total time=   0.8s\n",
      "[CV 3/5] END .....C=1, gamma=scale, kernel=poly;, score=0.571 total time=   0.7s\n",
      "[CV 4/5] END .....C=1, gamma=scale, kernel=poly;, score=0.570 total time=   0.9s\n",
      "[CV 5/5] END .....C=1, gamma=scale, kernel=poly;, score=0.562 total time=   2.8s\n"
     ]
    }
   ],
   "source": [
    "from sklearn.ensemble import RandomForestClassifier\n",
    "from sklearn.model_selection import GridSearchCV\n",
    "import pandas as pd\n",
    "from sklearn.model_selection import train_test_split\n",
    "from sklearn.metrics import accuracy_score, precision_score, recall_score, f1_score\n",
    "import numpy as np\n",
    "from scipy.stats import ttest_ind\n",
    "from sklearn.linear_model import LassoCV, RidgeCV\n",
    "from sklearn.feature_selection import SequentialFeatureSelector\n",
    "from sklearn.ensemble import RandomForestClassifier, RandomForestRegressor, GradientBoostingClassifier\n",
    "from sklearn.model_selection import train_test_split\n",
    "from sklearn.svm import SVC\n",
    "from sklearn.linear_model import LogisticRegression\n",
    "from sklearn.tree import DecisionTreeClassifier\n",
    "from tqdm.auto import tqdm\n",
    "\n",
    "# 데이터 로드 및 전처리 (위의 예제와 동일한 방식으로)\n",
    "df = pd.read_csv(\"하이닉스 power (3).csv\", thousands=',', encoding='cp949')\n",
    "df['next_day_return'] = (df['종가'].shift(-1) - df['종가']) / df['종가'] * 100\n",
    "df['target'] = df['next_day_return'].apply(lambda x: 1 if x > 0.25 else 0)\n",
    "df.dropna(inplace=True)\n",
    "\n",
    "X = df.drop(['날짜', 'target', 'next_day_return'], axis=1)\n",
    "y = df['target']\n",
    "# Random Forest for feature importance\n",
    "rf = RandomForestRegressor()\n",
    "rf.fit(X, y)\n",
    "\n",
    "features_rf_sorted = sorted(zip(X.columns, rf.feature_importances_), key=lambda x: x[1], reverse=True)\n",
    "features_rf_df = pd.DataFrame(features_rf_sorted, columns=['Feature', 'RF Importance'])\n",
    "\n",
    "# 상관관계가 가장 높은 상위 8개의 피처를 선정\n",
    "top_7_features = [feature for feature, importance in features_rf_sorted[:7]]\n",
    "# X와 y 정의 (df2와 이전 코드에서의 처리 과정을 바탕으로)dp\n",
    "X_top7 = X[top_7_features]\n",
    "y = df['target']  # y 값을 0과 1로 조정\n",
    "\n",
    "# 데이터를 학습 세트와 테스트 세트로 분할\n",
    "X_train, X_test, y_train, y_test = train_test_split(X_top7, y, test_size=0.26, random_state=7)\n",
    "\n",
    "param_grid = {\n",
    "    'C': [0.1, 1, 10, 100],  # 규제의 강도\n",
    "    'gamma': ['scale', 'auto', 0.01, 0.1, 1, 10],  # 커널 계수\n",
    "    'kernel': ['linear', 'rbf', 'poly', 'sigmoid']  # 사용할 커널\n",
    "}\n",
    "\n",
    "\n",
    "# GridSearchCV 객체 초기화 및 학습\n",
    "grid_search = GridSearchCV(SVC(), param_grid, refit=True, verbose=5, n_jobs=1)\n",
    "grid_search.fit(X_train, y_train)\n",
    "\n",
    "# 최적의 하이퍼파라미터와 모델 출력\n",
    "print(f\"Best parameters: {grid_search.best_params_}\")\n",
    "best_model = grid_search.best_estimator_\n",
    "\n",
    "# 최적의 모델로 테스트 데이터 예측\n",
    "y_pred = best_model.predict(X_test)\n",
    "\n",
    "# 예측 결과에 대한 평가 지표 출력\n",
    "accuracy = accuracy_score(y_test, y_pred)\n",
    "precision = precision_score(y_test, y_pred, average='macro')\n",
    "recall = recall_score(y_test, y_pred, average='macro')\n",
    "f1 = f1_score(y_test, y_pred, average='macro')\n",
    "\n",
    "print(f\"Accuracy: {accuracy:.4f}\")\n",
    "print(f\"Precision: {precision:.4f}\")\n",
    "print(f\"Recall: {recall:.4f}\")\n",
    "print(f\"F1 Score: {f1:.4f}\")"
   ]
  },
  {
   "cell_type": "code",
   "execution_count": null,
   "metadata": {},
   "outputs": [],
   "source": []
  }
 ],
 "metadata": {
  "kernelspec": {
   "display_name": "base",
   "language": "python",
   "name": "python3"
  },
  "language_info": {
   "codemirror_mode": {
    "name": "ipython",
    "version": 3
   },
   "file_extension": ".py",
   "mimetype": "text/x-python",
   "name": "python",
   "nbconvert_exporter": "python",
   "pygments_lexer": "ipython3",
   "version": "undefined.undefined.undefined"
  }
 },
 "nbformat": 4,
 "nbformat_minor": 2
}
