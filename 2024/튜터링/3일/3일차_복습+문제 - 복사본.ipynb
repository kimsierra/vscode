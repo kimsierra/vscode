{
 "cells": [
  {
   "cell_type": "code",
   "execution_count": 72,
   "metadata": {},
   "outputs": [],
   "source": [
    "import pandas as pd \n",
    "pd.options.display.float_format = '{:.5f}'.format"
   ]
  },
  {
   "cell_type": "markdown",
   "metadata": {},
   "source": [
    "### 1. 데이터 읽기\n",
    "\n",
    "- data 파일 안에 있는 day1.csv파일 읽기\n",
    "- 읽은 뒤 df에 저장하기"
   ]
  },
  {
   "cell_type": "markdown",
   "metadata": {},
   "source": [
    "### 2. 전체 컬럼 출력하기 \n",
    "- 출력한 뒤 5번째 컬럼명만 출력하기\n",
    "- 이후 컬럼의 갯수를 확인하기"
   ]
  },
  {
   "cell_type": "markdown",
   "metadata": {},
   "source": [
    "### 3. iloc을 활용해 전체행과 3번째 열 출력하기\n",
    "\n",
    "- 이후 10번째 행에 있는 6번째 열의 값을 출력하기"
   ]
  },
  {
   "cell_type": "markdown",
   "metadata": {},
   "source": [
    "### 3-2 loc를 활용해 전체 행과 3번째 열('회계년도') 출력하기\n",
    "- 이후 10번째 행에 있는 6번째 열('결산년도')의 값 출력하기"
   ]
  },
  {
   "cell_type": "markdown",
   "metadata": {},
   "source": [
    "### 4. 결측치 확인하기. 모든 열이 가진 결측치 숫자 파악"
   ]
  },
  {
   "cell_type": "markdown",
   "metadata": {},
   "source": [
    "### 5. '거래소코드' 열의 값들을 출력하기\n",
    "\n",
    "- 만약 거래소코드의 값이 6자리가 아닌 경우 0으로 채우기 "
   ]
  },
  {
   "cell_type": "markdown",
   "metadata": {},
   "source": [
    "### 6. 거래소코드의 유일값 갯수를 출력하기 \n",
    "- 이후 유일값을 모두 출력하기\n",
    "- 출력한 유일값들을 for문을 사용해 출력하기 "
   ]
  },
  {
   "cell_type": "markdown",
   "metadata": {},
   "source": [
    "### 7. df의 회계년도 열을 datetime형식으로 변환하기\n",
    "- 회계년도의 연도값을 year이라는 새로운 열에 저장하기\n",
    "- year값이 22년이면서, 영업손익 열이 적자인 회사명 출력"
   ]
  },
  {
   "cell_type": "markdown",
   "metadata": {},
   "source": [
    "### 8. df의 컬럼중 '영업'이라는 단어를 포함한 열을 df2로 저장하기\n",
    "\n",
    "- df.columns는 리스트이므로 []로 추출\n",
    "- 이후 for문, loc나 iloc 사용해 합치기"
   ]
  },
  {
   "cell_type": "markdown",
   "metadata": {},
   "source": [
    "### 복습 끝\n",
    "\n",
    "### 1. 시가총액 데이터 yf로 가져오기"
   ]
  },
  {
   "cell_type": "code",
   "execution_count": 82,
   "metadata": {},
   "outputs": [],
   "source": [
    "import yfinance as yf\n",
    "\n",
    "#yf.Ticker('005930.KS').info['marketCap']\n",
    "#이거 인포를 찍어보면 걍 회사에대한 정보 다 나오고 있는 것 \n",
    "#이중 시가총액이 있지만, 가장 최근날짜의 시가총액밖에 나오지 않을것임\n",
    "# TS에서 발행주식의 총수 가져와서 계산은 가능할듯 \n",
    "# TS에서 발행주식 총수 가져올경우 본주, 우선주 때문에 행처리도 거지같을것임 "
   ]
  },
  {
   "attachments": {
    "image.png": {
     "image/png": "[encoded data removed]"
    }
   },
   "cell_type": "markdown",
   "metadata": {},
   "source": [
    "![image.png](attachment:image.png)"
   ]
  },
  {
   "cell_type": "code",
   "execution_count": 83,
   "metadata": {},
   "outputs": [
    {
     "data": {
      "text/html": [
       "<div>\n",
       "<style scoped>\n",
       "    .dataframe tbody tr th:only-of-type {\n",
       "        vertical-align: middle;\n",
       "    }\n",
       "\n",
       "    .dataframe tbody tr th {\n",
       "        vertical-align: top;\n",
       "    }\n",
       "\n",
       "    .dataframe thead th {\n",
       "        text-align: right;\n",
       "    }\n",
       "</style>\n",
       "<table border=\"1\" class=\"dataframe\">\n",
       "  <thead>\n",
       "    <tr style=\"text-align: right;\">\n",
       "      <th></th>\n",
       "      <th>Open</th>\n",
       "      <th>High</th>\n",
       "      <th>Low</th>\n",
       "      <th>Close</th>\n",
       "      <th>Volume</th>\n",
       "      <th>Dividends</th>\n",
       "      <th>Stock Splits</th>\n",
       "    </tr>\n",
       "    <tr>\n",
       "      <th>Date</th>\n",
       "      <th></th>\n",
       "      <th></th>\n",
       "      <th></th>\n",
       "      <th></th>\n",
       "      <th></th>\n",
       "      <th></th>\n",
       "      <th></th>\n",
       "    </tr>\n",
       "  </thead>\n",
       "  <tbody>\n",
       "    <tr>\n",
       "      <th>2021-01-04 00:00:00+09:00</th>\n",
       "      <td>76045.04763</td>\n",
       "      <td>79237.06197</td>\n",
       "      <td>75293.98543</td>\n",
       "      <td>77922.70312</td>\n",
       "      <td>38655276</td>\n",
       "      <td>0.00000</td>\n",
       "      <td>0.00000</td>\n",
       "    </tr>\n",
       "    <tr>\n",
       "      <th>2021-01-05 00:00:00+09:00</th>\n",
       "      <td>76608.33701</td>\n",
       "      <td>78767.64062</td>\n",
       "      <td>76608.33701</td>\n",
       "      <td>78767.64062</td>\n",
       "      <td>35335669</td>\n",
       "      <td>0.00000</td>\n",
       "      <td>0.00000</td>\n",
       "    </tr>\n",
       "  </tbody>\n",
       "</table>\n",
       "</div>"
      ],
      "text/plain": [
       "                                 Open        High         Low       Close  \\\n",
       "Date                                                                        \n",
       "2021-01-04 00:00:00+09:00 76045.04763 79237.06197 75293.98543 77922.70312   \n",
       "2021-01-05 00:00:00+09:00 76608.33701 78767.64062 76608.33701 78767.64062   \n",
       "\n",
       "                             Volume  Dividends  Stock Splits  \n",
       "Date                                                          \n",
       "2021-01-04 00:00:00+09:00  38655276    0.00000       0.00000  \n",
       "2021-01-05 00:00:00+09:00  35335669    0.00000       0.00000  "
      ]
     },
     "execution_count": 83,
     "metadata": {},
     "output_type": "execute_result"
    }
   ],
   "source": [
    "yf.Ticker('005930.KS').history(start='2021-01-02', end='2021-01-06')"
   ]
  },
  {
   "cell_type": "code",
   "execution_count": 84,
   "metadata": {},
   "outputs": [
    {
     "data": {
      "text/plain": [
       "5969780224"
      ]
     },
     "execution_count": 84,
     "metadata": {},
     "output_type": "execute_result"
    }
   ],
   "source": [
    "yf.Ticker('005930.KS').info['sharesOutstanding']"
   ]
  },
  {
   "cell_type": "code",
   "execution_count": 85,
   "metadata": {},
   "outputs": [
    {
     "data": {
      "text/plain": [
       "'000020.KS'"
      ]
     },
     "execution_count": 85,
     "metadata": {},
     "output_type": "execute_result"
    }
   ],
   "source": [
    "df['거래소코드'][0]+'.KS'"
   ]
  },
  {
   "cell_type": "code",
   "execution_count": 1,
   "metadata": {},
   "outputs": [
    {
     "data": {
      "text/html": [
       "<div>\n",
       "<style scoped>\n",
       "    .dataframe tbody tr th:only-of-type {\n",
       "        vertical-align: middle;\n",
       "    }\n",
       "\n",
       "    .dataframe tbody tr th {\n",
       "        vertical-align: top;\n",
       "    }\n",
       "\n",
       "    .dataframe thead th {\n",
       "        text-align: right;\n",
       "    }\n",
       "</style>\n",
       "<table border=\"1\" class=\"dataframe\">\n",
       "  <thead>\n",
       "    <tr style=\"text-align: right;\">\n",
       "      <th></th>\n",
       "      <th>시가총액</th>\n",
       "      <th>거래량</th>\n",
       "      <th>거래대금</th>\n",
       "      <th>상장주식수</th>\n",
       "    </tr>\n",
       "    <tr>\n",
       "      <th>날짜</th>\n",
       "      <th></th>\n",
       "      <th></th>\n",
       "      <th></th>\n",
       "      <th></th>\n",
       "    </tr>\n",
       "  </thead>\n",
       "  <tbody>\n",
       "    <tr>\n",
       "      <th>2021-01-04</th>\n",
       "      <td>495491951650000</td>\n",
       "      <td>38655276</td>\n",
       "      <td>3185356823460</td>\n",
       "      <td>5969782550</td>\n",
       "    </tr>\n",
       "    <tr>\n",
       "      <th>2021-01-05</th>\n",
       "      <td>500864755945000</td>\n",
       "      <td>35335669</td>\n",
       "      <td>2915618322800</td>\n",
       "      <td>5969782550</td>\n",
       "    </tr>\n",
       "  </tbody>\n",
       "</table>\n",
       "</div>"
      ],
      "text/plain": [
       "                       시가총액       거래량           거래대금       상장주식수\n",
       "날짜                                                              \n",
       "2021-01-04  495491951650000  38655276  3185356823460  5969782550\n",
       "2021-01-05  500864755945000  35335669  2915618322800  5969782550"
      ]
     },
     "execution_count": 1,
     "metadata": {},
     "output_type": "execute_result"
    }
   ],
   "source": [
    "import yfinance as yf\n",
    "from pykrx import stock\n",
    "# 이유는 모르겠으나 yf불러와져 있어야 pykrx의 시가총액 데이터 가져와지는것으로 보임 \n",
    "stock.get_market_cap('2021-01-01','2021-01-05',\"005930\")"
   ]
  },
  {
   "cell_type": "code",
   "execution_count": null,
   "metadata": {},
   "outputs": [],
   "source": [
    "#위 코드 안될경우\n",
    "stock.get_market_cap(\"20100625\") "
   ]
  },
  {
   "cell_type": "code",
   "execution_count": 87,
   "metadata": {},
   "outputs": [
    {
     "data": {
      "text/html": [
       "<div>\n",
       "<style scoped>\n",
       "    .dataframe tbody tr th:only-of-type {\n",
       "        vertical-align: middle;\n",
       "    }\n",
       "\n",
       "    .dataframe tbody tr th {\n",
       "        vertical-align: top;\n",
       "    }\n",
       "\n",
       "    .dataframe thead th {\n",
       "        text-align: right;\n",
       "    }\n",
       "</style>\n",
       "<table border=\"1\" class=\"dataframe\">\n",
       "  <thead>\n",
       "    <tr style=\"text-align: right;\">\n",
       "      <th></th>\n",
       "      <th>시가총액</th>\n",
       "      <th>거래량</th>\n",
       "      <th>거래대금</th>\n",
       "      <th>상장주식수</th>\n",
       "    </tr>\n",
       "    <tr>\n",
       "      <th>날짜</th>\n",
       "      <th></th>\n",
       "      <th></th>\n",
       "      <th></th>\n",
       "      <th></th>\n",
       "    </tr>\n",
       "  </thead>\n",
       "  <tbody>\n",
       "    <tr>\n",
       "      <th>2021-01-04</th>\n",
       "      <td>495491951650000</td>\n",
       "      <td>38655276</td>\n",
       "      <td>3185356823460</td>\n",
       "      <td>5969782550</td>\n",
       "    </tr>\n",
       "    <tr>\n",
       "      <th>2021-01-05</th>\n",
       "      <td>500864755945000</td>\n",
       "      <td>35335669</td>\n",
       "      <td>2915618322800</td>\n",
       "      <td>5969782550</td>\n",
       "    </tr>\n",
       "  </tbody>\n",
       "</table>\n",
       "</div>"
      ],
      "text/plain": [
       "                       시가총액       거래량           거래대금       상장주식수\n",
       "날짜                                                              \n",
       "2021-01-04  495491951650000  38655276  3185356823460  5969782550\n",
       "2021-01-05  500864755945000  35335669  2915618322800  5969782550"
      ]
     },
     "execution_count": 87,
     "metadata": {},
     "output_type": "execute_result"
    }
   ],
   "source": [
    "# 이게 걍 goat니까 이거가 나오게 해결하는게?\n",
    "stock.get_market_cap_by_date('2021-01-01','2021-01-05', \"005930\")"
   ]
  },
  {
   "cell_type": "markdown",
   "metadata": {},
   "source": [
    "### 2. 거래소코드별 데이터 개수 구하기\n",
    "\n",
    "\n",
    "- 이때, 거래소코드별로 데이터 개수가 5개 미만인 경우만 출력하기 (map사용)"
   ]
  },
  {
   "cell_type": "markdown",
   "metadata": {},
   "source": [
    "## 3. pbr 구하기\n",
    "- '자산,자본,부채,매출.csv'를 새로운 df로 파일 읽기"
   ]
  },
  {
   "cell_type": "markdown",
   "metadata": {},
   "source": [
    "#### 3-1 개별, 연결 합치기\n",
    "\n",
    "- 연결이 붙은 열을 추출해 개별 df로 만들기 (filtered_df)\n",
    "- 기존의 df에서 연결이 붙은 열을 드랍하기\n",
    "- 두 데이터프레임의 열 이름을 깔끔하게 정리하기 (for문 사용, 제거할 내용을 리스트화하기)\n",
    "- 기존 df와 filtered_df를 합치기. 이 때, filtered_df가 연결값이므로 우선시 되어야함"
   ]
  },
  {
   "cell_type": "markdown",
   "metadata": {},
   "source": [
    "#### 3-2 시가총액 구하기 \n",
    "- df의 거래소코드에 제로패딩하기 \n",
    "- '회계년도 말일'열을 생성하기 (이때 df회계년도의 값에서 일 데이터만 31로 바뀐 값 넣기)\n",
    "- df.head()를 df_example로 저장하기"
   ]
  },
  {
   "cell_type": "markdown",
   "metadata": {},
   "source": [
    "### 3-3 만들어낸 회계년도 말일을 통해 df_example의 연말 시가총액 구하기\n",
    "\n",
    "- 저장할 빈 리스트를 우선 만들어야 할것\n",
    "- 시가총액 코드를 보면서 내가 구한 걸 넣어야함. \n",
    "- 이때, 최종값 1개만 넣으면 되므로 특정함수를 사용해야할것임 "
   ]
  }
 ],
 "metadata": {
  "kernelspec": {
   "display_name": "Python 3",
   "language": "python",
   "name": "python3"
  },
  "language_info": {
   "codemirror_mode": {
    "name": "ipython",
    "version": 3
   },
   "file_extension": ".py",
   "mimetype": "text/x-python",
   "name": "python",
   "nbconvert_exporter": "python",
   "pygments_lexer": "ipython3",
   "version": "3.11.8"
  }
 },
 "nbformat": 4,
 "nbformat_minor": 2
}
