{
 "cells": [
  {
   "cell_type": "code",
   "execution_count": null,
   "id": "f79a2c22",
   "metadata": {},
   "outputs": [],
   "source": [
    "import pandas as pd \n",
    "import yfinance as yf\n",
    "from pykrx import stock\n",
    "from datetime import timedelta\n",
    "import time\n",
    "import warnings\n",
    "# 경고를 무시하도록 설정\n",
    "warnings.filterwarnings(\"ignore\")\n",
    "#stock.get_market_cap('20210501','20210510',\"000480\")\n",
    "df= pd.read_csv('../4일/data/자산,자본,부채,매출.csv',encoding='cp949')"
   ]
  },
  {
   "cell_type": "code",
   "execution_count": null,
   "id": "518017ba",
   "metadata": {},
   "outputs": [],
   "source": [
    "#인덱스가 티커인거 \n",
    "stock.get_market_cap(\"2019-04-01\")\n",
    "# 걍 이거 아래나 위나 다 일정시간 이상 접근하면 코드가 막히는 문제가 발생함\n",
    "# https://github.com/sharebook-kr/pykrx/issues 확인할경우 걍 진짜 한국거래소에서 제한 걸어버린거임"
   ]
  },
  {
   "cell_type": "code",
   "execution_count": null,
   "id": "83fd6316",
   "metadata": {},
   "outputs": [],
   "source": [
    "#인덱스 날짜인거 \n",
    "#주의할점은 31일로 끝날짜 지정시 걍 값이 안불러와질 수 있음 \n",
    "stock.get_market_cap(\"2019-04-01\", \"2019-04-30\", \"058820\")"
   ]
  },
  {
   "cell_type": "code",
   "execution_count": null,
   "id": "f1284da3",
   "metadata": {},
   "outputs": [],
   "source": [
    "stock.get_market_cap_by_date('20210501','20210510', \"005930\")\n",
    "# 특정 거래소코드 시가총액 가져오기. 이게 안된다고 하셨음 "
   ]
  },
  {
   "cell_type": "code",
   "execution_count": null,
   "id": "b8a34ab8",
   "metadata": {},
   "outputs": [],
   "source": [
    "import re\n",
    "\n",
    "strs = ['(*)', '(IFRS연결)', '(천원)', '(IFRS)', '[제조]',\n",
    "         '*','(-)',('결손금'),'(수익)','(보고서기재)','()','(정상)']\n",
    "\n",
    "for s in strs:\n",
    "    escape_s = re.escape(s)  # 문자열 이스케이프 처리 << 이거 안해줄경우 오류날 수 있음 import re 필수\n",
    "    #이거 해줘야만 하는 이유는 ()가 특정 그룹처리가 되는데, 문자열로 읽으라고 명령하고 있는거임\n",
    "    #이거 vscode는 안해줘도 되는데 주피터는 또 해줘야됨 아 ㅋㅋ\n",
    "    print(escape_s)\n",
    "    print(s)"
   ]
  },
  {
   "cell_type": "markdown",
   "id": "ff85ccfa",
   "metadata": {},
   "source": [
    "### 복습용\n",
    "\n",
    "\n",
    "- data폴더의 '자산,자본,부채,매출.csv'파일 df로 읽기\n",
    "- 연결이 붙은 열을 추출해 개별 df로 만들기 (filtered_df) 그후 filtered_df에 동일한 이름의 df의 회사명, 거래소코드, 회계년도를 할당하기\n",
    "- 기존의 df에서 열이름에 '연결'이 붙은 열을 드랍하기\n",
    "- 두 데이터프레임의 열 이름을 깔끔하게 정리하기 (for문 사용, 제거할 내용을 리스트화하기)\n",
    "- 기존 df와 filtered_df를 합치기. 이 때, filtered_df가 연결값이므로 우선시 되어야함 이름은 df_sum으로"
   ]
  },
  {
   "cell_type": "code",
   "execution_count": null,
   "id": "a0192254",
   "metadata": {},
   "outputs": [],
   "source": [
    "import pandas as pd\n",
    "\n",
    "df = pd.read_csv(\"./data/자산,자본,부채,매출.csv\",encoding=\"cp949\")\n",
    "df.head(5)"
   ]
  },
  {
   "cell_type": "markdown",
   "id": "bcaa11f1",
   "metadata": {},
   "source": [
    "- 연결이 붙은 열을 추출해 개별 df로 만들기 (filtered_df) 그후 filtered_df에 동일한 이름의 df의 회사명, 거래소코드, 회계년도를 할당하기"
   ]
  },
  {
   "cell_type": "code",
   "execution_count": null,
   "id": "8a44798b",
   "metadata": {},
   "outputs": [],
   "source": [
    "filterd_df = df.filter(regex='연결')\n",
    "filterd_df"
   ]
  },
  {
   "cell_type": "code",
   "execution_count": null,
   "id": "b6a3d183",
   "metadata": {},
   "outputs": [],
   "source": [
    "filterd_df[['회사명','거래소코드','회계년도']]=df[['회사명','거래소코드','회계년도']]\n",
    "filterd_df.head(5)"
   ]
  },
  {
   "cell_type": "code",
   "execution_count": null,
   "id": "cf043ba7",
   "metadata": {},
   "outputs": [],
   "source": [
    "df = df.drop(df.filter(regex='연결').columns, axis=1)\n",
    "df"
   ]
  },
  {
   "cell_type": "code",
   "execution_count": null,
   "id": "774ee3c7",
   "metadata": {},
   "outputs": [],
   "source": [
    "strs = ['(*)(IFRS연결)(천원)', '(수익)(*)(IFRS연결)(천원)' ,'(*)(IFRS)(천원)', '(수익)(*)(IFRS)(천원)','(수익)']\n",
    "\n",
    "for s in strs:\n",
    "\n",
    "    filterd_df.columns = filterd_df.columns.str.replace(s, \"\")\n",
    "    df.columns = df.columns.str.replace(s, \"\")\n",
    "    \n",
    "filterd_df.columns =filterd_df.columns.str.strip()\n",
    "filterd_df.columns"
   ]
  },
  {
   "cell_type": "code",
   "execution_count": null,
   "id": "0cf80537",
   "metadata": {},
   "outputs": [],
   "source": [
    "df.columns =df.columns.str.strip()\n",
    "df.columns"
   ]
  },
  {
   "cell_type": "code",
   "execution_count": null,
   "id": "556fdbcb",
   "metadata": {},
   "outputs": [],
   "source": [
    "df_sum = filterd_df.combine_first(df)\n",
    "df_sum"
   ]
  },
  {
   "cell_type": "markdown",
   "id": "2d28c0f9",
   "metadata": {},
   "source": [
    "### 문제1\n",
    "\n",
    "- df_sum의 회계년도 열을 데이트타임으로 변경하기 \n",
    "- 매수년도라는 열을 새롭게 만들고, 회계년도 에서 1년뒤 값을 넣기 (년도값만들어감)\n",
    "- 년도값만 들어가 있는 매수년도 열을 str타입으로 바꾸고 '-04-01' 붙이기. \n",
    "- timedelta(import 필요)를 이용해 매수년도 값에 5일을 더해준 매수년도2열 만들기\n",
    "- df_sum의 거래소코드를 제로패딩해주기 "
   ]
  },
  {
   "cell_type": "code",
   "execution_count": null,
   "id": "c5b91c9a",
   "metadata": {},
   "outputs": [],
   "source": [
    "\n",
    "df_sum['회계년도'] = pd.to_datetime(df_sum['회계년도'])\n",
    "df_sum"
   ]
  },
  {
   "cell_type": "markdown",
   "id": "acc1aed7",
   "metadata": {},
   "source": [
    "- 매수년도라는 열을 새롭게 만들고, 회계년도 에서 1년뒤 값을 넣기 (년도값만들어감)\n",
    "- 년도값만 들어가 있는 매수년도 열을 str타입으로 바꾸고 '-04-01' 붙이기. \n",
    "- timedelta(import 필요)를 이용해 매수년도 값에 5일을 더해준 매수년도2열 만들기\n",
    "- df_sum의 거래소코드를 제로패딩해주기 "
   ]
  },
  {
   "cell_type": "code",
   "execution_count": null,
   "id": "db9f5813",
   "metadata": {},
   "outputs": [],
   "source": [
    "df_sum['매수년도'] = df_sum['회계년도'].dt.year + 1\n",
    "df_sum['매수년도'] = pd.to_datetime(df_sum['매수년도'].astype(str)+ '-04-01')\n",
    "df_sum"
   ]
  },
  {
   "cell_type": "code",
   "execution_count": null,
   "id": "74c22f65",
   "metadata": {},
   "outputs": [],
   "source": [
    "df_sum['매수년도2'] = df_sum['매수년도']+timedelta(days=4)\n",
    "df_sum"
   ]
  },
  {
   "cell_type": "code",
   "execution_count": null,
   "id": "e37153ca",
   "metadata": {},
   "outputs": [],
   "source": [
    "df_sum['거래소코드'] =df_sum['거래소코드'].astype(str).str.zfill(6)\n",
    "df_sum"
   ]
  },
  {
   "cell_type": "markdown",
   "id": "75aca9d5",
   "metadata": {},
   "source": [
    "### 문제2 df = df_sum.head()로 사용\n",
    "\n",
    "- 거래소코드로 시가총액 불러오기\n",
    "- 설명코드를 보고 for in zip을 사용해 시가총액 가져오기\n",
    "- 시가총액 리스트를 만들고, 해당 리스트를 시가총액열에 넣어주기\n",
    "- 현재 pykrx를 krx에서 차단해서 사용불가능 걍 코드 보여드리고 설명만해라 "
   ]
  },
  {
   "cell_type": "code",
   "execution_count": null,
   "id": "08a4c07c",
   "metadata": {},
   "outputs": [],
   "source": [
    "### 설명용\n",
    "df=df_sum.head()\n",
    "\n",
    "#stock.get_market_cap(df['매수년도'][0], df['매수년도2'][0], df['거래소코드'][0])"
   ]
  },
  {
   "cell_type": "code",
   "execution_count": null,
   "id": "906d2bd6",
   "metadata": {},
   "outputs": [],
   "source": [
    "stock.get_market_cap_by_date('20240301','20240310', \"005930\")"
   ]
  },
  {
   "cell_type": "code",
   "execution_count": null,
   "id": "7b11a50c",
   "metadata": {},
   "outputs": [],
   "source": [
    "### 설명용2\n",
    "for i,j,c in zip(df['매수년도'],df['매수년도2'] ,df['거래소코드']):\n",
    "    print(i, j, c)"
   ]
  },
  {
   "cell_type": "code",
   "execution_count": null,
   "id": "7d13c7e1",
   "metadata": {},
   "outputs": [],
   "source": [
    "marcap = []\n",
    "\n",
    "for i,j,c in zip(df['매수년도'],df['매수년도2'] ,df['거래소코드']):\n",
    "    marcap.append(stock.get_market_cap_by_date(i,j,c).head(1)['시가총액'][0])\n",
    "\n",
    "df['시가총액'] = marcap\n",
    "df"
   ]
  },
  {
   "cell_type": "code",
   "execution_count": null,
   "id": "14362955",
   "metadata": {},
   "outputs": [],
   "source": [
    "# 설명용\n",
    "\n",
    "marcap=[]\n",
    "\n",
    "\n",
    "for i,j,c in zip(df['매수년도'],df['매수년도2'] ,df['거래소코드']):\n",
    "    marcap.append(stock.get_market_cap(i, j, c).head(1)['시가총액'][0])\n",
    "\n",
    "df['시가총액'] =marcap\n",
    "    "
   ]
  },
  {
   "cell_type": "markdown",
   "id": "c09440c0",
   "metadata": {},
   "source": [
    "### pykrx는 현재 서버에서 차단중이므로 대안구하기\n",
    "\n",
    "- 1. https://github.com/FinanceData/marcap <<깃허브 사용을 통한 시가총액 가져오기>> 파일이 너무큼\n",
    "- 2. http://data.krx.co.kr/contents/MDC/MDI/mdiLoader/index.cmd?menuId=MDC0201020101\n",
    "- krx에서 일일이 가져온 뒤, merge나 concat써서 사용하기. 우선은 이거로 진행\n"
   ]
  },
  {
   "cell_type": "markdown",
   "id": "304eeae9",
   "metadata": {},
   "source": [
    "### concat연습하기\n",
    "- concat은 위아래로 붙이기"
   ]
  },
  {
   "cell_type": "code",
   "execution_count": null,
   "id": "5e990ac9",
   "metadata": {},
   "outputs": [],
   "source": [
    "# 예시(2번으로 일일이 데이터 가져올 때)\n",
    "df=pd.read_csv('./data/시가총액/2019.csv',encoding='cp949')\n",
    "df['year'] = 2019 # 따로 년도열을 만들고 열 전체에 2019값을 다 넣겠다\n",
    "df2=pd.read_csv('./data/시가총액/2020.csv',encoding='cp949')\n",
    "df2['year'] = 2020\n",
    "df3=pd.concat([df, df2])\n",
    "df3.sort_values('종목코드')"
   ]
  },
  {
   "cell_type": "markdown",
   "id": "60478b57",
   "metadata": {},
   "source": [
    "### 문제3 시가총액 무식하게 읽기\n",
    "목적은 data폴더안의 시가총액폴더 안 파일을 모두 합치고, 연도를 구분해주는 것 \n",
    "- for문을 이용\n",
    "- 저장할 빈 df_marcap이라는 df만들기\n",
    "- file에 파일명 할당하기\n",
    "- df로 csv읽기\n",
    "- df['year']에 해당년도값 할당하기\n",
    "- df와 df_marcap을 concat하기 \n",
    "- 거래소코드열을 만들고 종목코드 값 넣기\n",
    "- 필요한 거래소코드, 시가총액, year 열만 남기고 df_marcap에 저장하기\n"
   ]
  },
  {
   "cell_type": "code",
   "execution_count": null,
   "id": "01ccaf34",
   "metadata": {},
   "outputs": [],
   "source": [
    "years = [2018,2019,2020,2021,2022,2023,2024]\n",
    "df_marcap = pd.DataFrame() # 빈 데이터 프레임 만들기\n",
    "\n",
    "for i in years:\n",
    "    file = f'../4일/data/시가총액/{i}.csv'\n",
    "    #print(file)\n",
    "    df = pd.read_csv(file, encoding='cp949')\n",
    "    df['year'] = i\n",
    "    df_marcap = pd.concat([df,df_marcap])\n",
    "\n",
    "df_marcap['거래소코드'] = df_marcap['종목코드']    \n",
    "df_marcap = df_marcap[['거래소코드', '시가총액', 'year']]\n",
    "df_marcap\n"
   ]
  },
  {
   "cell_type": "markdown",
   "id": "996e5a27",
   "metadata": {},
   "source": [
    "# 문제 4\n",
    "- df_marcap의 거래소코드, year을 기준으로 df_marcap정렬하기\n",
    "- df_sum에서 회계년도열의 월 값이 12가 아닌 경우를 출력하기\n",
    "- 월 값이 12가 아닌 거래소코드 데이터를 모두 버리고 df_12에 저장하기 (isin사용)\n",
    "- df_12에 'year'열만들기. 매수년도열의 년도값과 동일한 값 넣기 \n",
    "- 이후 merge를 통해 df_12와 df_marcap합치기. 이때 기준은 거래소코드, year 두 열로 하기 (final_df로 할당)\n"
   ]
  },
  {
   "cell_type": "code",
   "execution_count": null,
   "id": "12794e3c",
   "metadata": {},
   "outputs": [],
   "source": [
    "df_marcap = df_marcap.sort_values(['거래소코드','year'])\n",
    "df_marcap"
   ]
  },
  {
   "cell_type": "code",
   "execution_count": null,
   "id": "2e1cd808",
   "metadata": {},
   "outputs": [],
   "source": [
    "df_sum"
   ]
  },
  {
   "cell_type": "code",
   "execution_count": null,
   "id": "31394d70",
   "metadata": {},
   "outputs": [],
   "source": [
    "df_sum[df_sum['회계년도'].dt.month!=12]"
   ]
  },
  {
   "cell_type": "code",
   "execution_count": null,
   "id": "f7959ab3",
   "metadata": {},
   "outputs": [],
   "source": [
    "counts = df_sum['거래소코드'].value_counts()\n",
    "\n",
    "df_12 = df_sum[df_sum['거래소코드'].isin(counts[counts == 6].index)]"
   ]
  },
  {
   "cell_type": "code",
   "execution_count": null,
   "id": "74d8c96c",
   "metadata": {},
   "outputs": [],
   "source": [
    "df_12['year'] = df_sum['매수년도'].dt.year"
   ]
  },
  {
   "cell_type": "code",
   "execution_count": null,
   "id": "42dff382",
   "metadata": {},
   "outputs": [],
   "source": [
    "df_12"
   ]
  },
  {
   "cell_type": "code",
   "execution_count": 67,
   "id": "9b764b7c",
   "metadata": {},
   "outputs": [
    {
     "data": {
      "text/html": [
       "<div>\n",
       "<style scoped>\n",
       "    .dataframe tbody tr th:only-of-type {\n",
       "        vertical-align: middle;\n",
       "    }\n",
       "\n",
       "    .dataframe tbody tr th {\n",
       "        vertical-align: top;\n",
       "    }\n",
       "\n",
       "    .dataframe thead th {\n",
       "        text-align: right;\n",
       "    }\n",
       "</style>\n",
       "<table border=\"1\" class=\"dataframe\">\n",
       "  <thead>\n",
       "    <tr style=\"text-align: right;\">\n",
       "      <th></th>\n",
       "      <th>거래소코드</th>\n",
       "      <th>매출액</th>\n",
       "      <th>부채</th>\n",
       "      <th>자본</th>\n",
       "      <th>자산</th>\n",
       "      <th>회계년도</th>\n",
       "      <th>회사명</th>\n",
       "      <th>매수년도</th>\n",
       "      <th>매수년도2</th>\n",
       "      <th>year</th>\n",
       "      <th>시가총액</th>\n",
       "    </tr>\n",
       "  </thead>\n",
       "  <tbody>\n",
       "    <tr>\n",
       "      <th>0</th>\n",
       "      <td>058820</td>\n",
       "      <td>49864782.0</td>\n",
       "      <td>10398033.0</td>\n",
       "      <td>103981846.0</td>\n",
       "      <td>114379880.0</td>\n",
       "      <td>2018-12-01</td>\n",
       "      <td>(주)CMG제약</td>\n",
       "      <td>2019-04-01</td>\n",
       "      <td>2019-04-05</td>\n",
       "      <td>2019</td>\n",
       "      <td>4.981591e+11</td>\n",
       "    </tr>\n",
       "    <tr>\n",
       "      <th>1</th>\n",
       "      <td>058820</td>\n",
       "      <td>58622681.0</td>\n",
       "      <td>12084883.0</td>\n",
       "      <td>180158283.0</td>\n",
       "      <td>192243166.0</td>\n",
       "      <td>2019-12-01</td>\n",
       "      <td>(주)CMG제약</td>\n",
       "      <td>2020-04-01</td>\n",
       "      <td>2020-04-05</td>\n",
       "      <td>2020</td>\n",
       "      <td>4.993176e+11</td>\n",
       "    </tr>\n",
       "    <tr>\n",
       "      <th>2</th>\n",
       "      <td>058820</td>\n",
       "      <td>64459891.0</td>\n",
       "      <td>14224578.0</td>\n",
       "      <td>181131004.0</td>\n",
       "      <td>195355583.0</td>\n",
       "      <td>2020-12-01</td>\n",
       "      <td>(주)CMG제약</td>\n",
       "      <td>2021-04-01</td>\n",
       "      <td>2021-04-05</td>\n",
       "      <td>2021</td>\n",
       "      <td>6.111259e+11</td>\n",
       "    </tr>\n",
       "    <tr>\n",
       "      <th>3</th>\n",
       "      <td>058820</td>\n",
       "      <td>69475496.0</td>\n",
       "      <td>14472099.0</td>\n",
       "      <td>184702494.0</td>\n",
       "      <td>199174593.0</td>\n",
       "      <td>2021-12-01</td>\n",
       "      <td>(주)CMG제약</td>\n",
       "      <td>2022-04-01</td>\n",
       "      <td>2022-04-05</td>\n",
       "      <td>2022</td>\n",
       "      <td>4.764004e+11</td>\n",
       "    </tr>\n",
       "    <tr>\n",
       "      <th>4</th>\n",
       "      <td>058820</td>\n",
       "      <td>82197410.0</td>\n",
       "      <td>28307361.0</td>\n",
       "      <td>184953015.0</td>\n",
       "      <td>213260376.0</td>\n",
       "      <td>2022-12-01</td>\n",
       "      <td>(주)CMG제약</td>\n",
       "      <td>2023-04-01</td>\n",
       "      <td>2023-04-05</td>\n",
       "      <td>2023</td>\n",
       "      <td>2.854236e+11</td>\n",
       "    </tr>\n",
       "    <tr>\n",
       "      <th>...</th>\n",
       "      <td>...</td>\n",
       "      <td>...</td>\n",
       "      <td>...</td>\n",
       "      <td>...</td>\n",
       "      <td>...</td>\n",
       "      <td>...</td>\n",
       "      <td>...</td>\n",
       "      <td>...</td>\n",
       "      <td>...</td>\n",
       "      <td>...</td>\n",
       "      <td>...</td>\n",
       "    </tr>\n",
       "    <tr>\n",
       "      <th>10603</th>\n",
       "      <td>003280</td>\n",
       "      <td>102166838.0</td>\n",
       "      <td>400043339.0</td>\n",
       "      <td>30919383.0</td>\n",
       "      <td>430962722.0</td>\n",
       "      <td>2019-12-01</td>\n",
       "      <td>흥아해운(주)</td>\n",
       "      <td>2020-04-01</td>\n",
       "      <td>2020-04-05</td>\n",
       "      <td>2020</td>\n",
       "      <td>2.992840e+10</td>\n",
       "    </tr>\n",
       "    <tr>\n",
       "      <th>10604</th>\n",
       "      <td>003280</td>\n",
       "      <td>88938838.0</td>\n",
       "      <td>313059823.0</td>\n",
       "      <td>-26283865.0</td>\n",
       "      <td>286775958.0</td>\n",
       "      <td>2020-12-01</td>\n",
       "      <td>흥아해운(주)</td>\n",
       "      <td>2021-04-01</td>\n",
       "      <td>2021-04-05</td>\n",
       "      <td>2021</td>\n",
       "      <td>3.011700e+10</td>\n",
       "    </tr>\n",
       "    <tr>\n",
       "      <th>10605</th>\n",
       "      <td>003280</td>\n",
       "      <td>81724314.0</td>\n",
       "      <td>144358895.0</td>\n",
       "      <td>102939788.0</td>\n",
       "      <td>247298683.0</td>\n",
       "      <td>2021-12-01</td>\n",
       "      <td>흥아해운(주)</td>\n",
       "      <td>2022-04-01</td>\n",
       "      <td>2022-04-05</td>\n",
       "      <td>2022</td>\n",
       "      <td>6.852110e+11</td>\n",
       "    </tr>\n",
       "    <tr>\n",
       "      <th>10606</th>\n",
       "      <td>003280</td>\n",
       "      <td>177860078.0</td>\n",
       "      <td>181755200.0</td>\n",
       "      <td>135304736.0</td>\n",
       "      <td>317059937.0</td>\n",
       "      <td>2022-12-01</td>\n",
       "      <td>흥아해운(주)</td>\n",
       "      <td>2023-04-01</td>\n",
       "      <td>2023-04-05</td>\n",
       "      <td>2023</td>\n",
       "      <td>3.315459e+11</td>\n",
       "    </tr>\n",
       "    <tr>\n",
       "      <th>10607</th>\n",
       "      <td>003280</td>\n",
       "      <td>164811542.0</td>\n",
       "      <td>154939134.0</td>\n",
       "      <td>170714206.0</td>\n",
       "      <td>325653339.0</td>\n",
       "      <td>2023-12-01</td>\n",
       "      <td>흥아해운(주)</td>\n",
       "      <td>2024-04-01</td>\n",
       "      <td>2024-04-05</td>\n",
       "      <td>2024</td>\n",
       "      <td>6.347217e+11</td>\n",
       "    </tr>\n",
       "  </tbody>\n",
       "</table>\n",
       "<p>10608 rows × 11 columns</p>\n",
       "</div>"
      ],
      "text/plain": [
       "        거래소코드          매출액           부채           자본           자산       회계년도  \\\n",
       "0      058820   49864782.0   10398033.0  103981846.0  114379880.0 2018-12-01   \n",
       "1      058820   58622681.0   12084883.0  180158283.0  192243166.0 2019-12-01   \n",
       "2      058820   64459891.0   14224578.0  181131004.0  195355583.0 2020-12-01   \n",
       "3      058820   69475496.0   14472099.0  184702494.0  199174593.0 2021-12-01   \n",
       "4      058820   82197410.0   28307361.0  184953015.0  213260376.0 2022-12-01   \n",
       "...       ...          ...          ...          ...          ...        ...   \n",
       "10603  003280  102166838.0  400043339.0   30919383.0  430962722.0 2019-12-01   \n",
       "10604  003280   88938838.0  313059823.0  -26283865.0  286775958.0 2020-12-01   \n",
       "10605  003280   81724314.0  144358895.0  102939788.0  247298683.0 2021-12-01   \n",
       "10606  003280  177860078.0  181755200.0  135304736.0  317059937.0 2022-12-01   \n",
       "10607  003280  164811542.0  154939134.0  170714206.0  325653339.0 2023-12-01   \n",
       "\n",
       "            회사명       매수년도      매수년도2  year          시가총액  \n",
       "0      (주)CMG제약 2019-04-01 2019-04-05  2019  4.981591e+11  \n",
       "1      (주)CMG제약 2020-04-01 2020-04-05  2020  4.993176e+11  \n",
       "2      (주)CMG제약 2021-04-01 2021-04-05  2021  6.111259e+11  \n",
       "3      (주)CMG제약 2022-04-01 2022-04-05  2022  4.764004e+11  \n",
       "4      (주)CMG제약 2023-04-01 2023-04-05  2023  2.854236e+11  \n",
       "...         ...        ...        ...   ...           ...  \n",
       "10603   흥아해운(주) 2020-04-01 2020-04-05  2020  2.992840e+10  \n",
       "10604   흥아해운(주) 2021-04-01 2021-04-05  2021  3.011700e+10  \n",
       "10605   흥아해운(주) 2022-04-01 2022-04-05  2022  6.852110e+11  \n",
       "10606   흥아해운(주) 2023-04-01 2023-04-05  2023  3.315459e+11  \n",
       "10607   흥아해운(주) 2024-04-01 2024-04-05  2024  6.347217e+11  \n",
       "\n",
       "[10608 rows x 11 columns]"
      ]
     },
     "execution_count": 67,
     "metadata": {},
     "output_type": "execute_result"
    }
   ],
   "source": [
    "final_df = pd.merge(df_12,df_marcap, left_on=['거래소코드','year'], right_on=['거래소코드','year'], how='left')\n",
    "final_df"
   ]
  },
  {
   "cell_type": "code",
   "execution_count": 68,
   "id": "81605641",
   "metadata": {},
   "outputs": [
    {
     "data": {
      "text/plain": [
       "거래소코드\n",
       "058820    6\n",
       "194480    6\n",
       "041930    6\n",
       "282690    6\n",
       "170900    6\n",
       "         ..\n",
       "045060    6\n",
       "122640    6\n",
       "015360    6\n",
       "012160    6\n",
       "003280    6\n",
       "Name: count, Length: 1768, dtype: int64"
      ]
     },
     "execution_count": 68,
     "metadata": {},
     "output_type": "execute_result"
    }
   ],
   "source": [
    "final_df['거래소코드'].value_counts()"
   ]
  }
 ],
 "metadata": {
  "kernelspec": {
   "display_name": "Python 3 (ipykernel)",
   "language": "python",
   "name": "python3"
  },
  "language_info": {
   "codemirror_mode": {
    "name": "ipython",
    "version": 3
   },
   "file_extension": ".py",
   "mimetype": "text/x-python",
   "name": "python",
   "nbconvert_exporter": "python",
   "pygments_lexer": "ipython3",
   "version": "3.12.3"
  }
 },
 "nbformat": 4,
 "nbformat_minor": 5
}
