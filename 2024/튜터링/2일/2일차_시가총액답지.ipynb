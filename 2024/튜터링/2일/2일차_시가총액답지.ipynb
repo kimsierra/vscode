{
 "cells": [
  {
   "cell_type": "code",
   "execution_count": null,
   "metadata": {},
   "outputs": [],
   "source": [
    "import pandas as pd\n",
    "\n",
    "df=pd.read_csv('./data/거버넌스추가된df.csv',encoding='cp949',index_col=0)"
   ]
  },
  {
   "cell_type": "markdown",
   "metadata": {},
   "source": [
    "### 데이터 프레임 읽기 \n",
    "- '거버넌스추가된df.csv' 파일을 읽기. \n",
    "- 단, 읽을때 unnamed: 0 열이 생기지 않도록 하기"
   ]
  },
  {
   "cell_type": "code",
   "execution_count": null,
   "metadata": {},
   "outputs": [],
   "source": [
    "df=pd.read_csv('./data/거버넌스추가된df.csv',encoding='cp949',index_col=0)"
   ]
  },
  {
   "cell_type": "markdown",
   "metadata": {},
   "source": [
    "#### df의 거래소코드를 제로패딩하기 "
   ]
  },
  {
   "cell_type": "code",
   "execution_count": null,
   "metadata": {},
   "outputs": [],
   "source": [
    "df['거래소코드'] = df['거래소코드'].astype(str).str.zfill(6)"
   ]
  },
  {
   "cell_type": "markdown",
   "metadata": {},
   "source": [
    "### 시가총액 가져오기"
   ]
  },
  {
   "cell_type": "code",
   "execution_count": null,
   "metadata": {},
   "outputs": [],
   "source": [
    "### 예시\n",
    "from pykrx import stock\n",
    "stock.get_market_ohlcv('20140301',\"20140304\",\"000050\",\"m\")\n",
    "#시작기간, 종료기간, 거래소코드, 일자별 데이터 가져오기\n",
    "# 끝의 d를 m으로 수정할 경우 가져오는 데이터의 가장 마지막 날짜 데이터 가져옴\n",
    "# 해당 코드에서 '종가'는 수정종가임.  "
   ]
  },
  {
   "cell_type": "code",
   "execution_count": null,
   "metadata": {},
   "outputs": [],
   "source": [
    "stock.get_market_cap(\"20190101\", \"20190102\", \"005930\")\n",
    "#특정 종목의 시가총액 데이터 가져오기 \n",
    "#시작일, 종료일, 거래소코드"
   ]
  },
  {
   "cell_type": "markdown",
   "metadata": {},
   "source": [
    "#### 거래소코드 005930의  2024년 3월 4일의 시가총액과 종가를 구하기"
   ]
  },
  {
   "cell_type": "code",
   "execution_count": null,
   "metadata": {},
   "outputs": [],
   "source": [
    "stock.get_market_ohlcv('20240304',\"20240304\",\"005930\",\"d\")['종가']\n",
    "#해당 데이터는 시리즈 데이터임 "
   ]
  },
  {
   "cell_type": "code",
   "execution_count": null,
   "metadata": {},
   "outputs": [],
   "source": [
    "stock.get_market_cap('20240304',\"20240304\", \"005930\")['시가총액']\n",
    "#해당 데이터는 시리즈 데이터임"
   ]
  },
  {
   "cell_type": "markdown",
   "metadata": {},
   "source": [
    "#### 구한 종가와 시가총액에서 인덱스인 날짜를 제외한 '값'만 추출해보기"
   ]
  },
  {
   "cell_type": "code",
   "execution_count": null,
   "metadata": {},
   "outputs": [],
   "source": [
    "stock.get_market_cap('20240304',\"20240304\", '005930')['시가총액'][0]\n",
    "stock.get_market_ohlcv('20240304',\"20240304\",'005930',\"d\")['종가'][0]"
   ]
  },
  {
   "cell_type": "markdown",
   "metadata": {},
   "source": [
    "#### for문 연습용\n",
    "- 1. df_example에서 거래소코드의 고유값을 추출하기 \n",
    "- 2. df_example의 거래소코드별 종가와 시가총액을 출력해보기 (print 사용)\n",
    "- 3. Adj_close, Marcap이라는 빈 리스트를 만들어서 종가와 시가총액을 리스트에 담기 (개별값 추출시 iloc사용해야함)\n"
   ]
  },
  {
   "cell_type": "code",
   "execution_count": null,
   "metadata": {},
   "outputs": [],
   "source": [
    "# 더미 데이터프레임 생성\n",
    "data = {'거래소코드': [1, 2, 3, 4, 5, 6],\n",
    "        '종가': [100, 200, 150, 300, 250, 180],\n",
    "        '시가총액': [1000, 1500, 1100, 2000, 1600, 1050]}\n",
    "df_example = pd.DataFrame(data)"
   ]
  },
  {
   "cell_type": "code",
   "execution_count": null,
   "metadata": {},
   "outputs": [],
   "source": [
    "# 1번과 2번\n",
    "trade_code = df_example['거래소코드'].unique()\n",
    "\n",
    "for i in trade_code:\n",
    "    print(df_example[df_example['거래소코드'] == i]['종가'].iloc[0])\n",
    "    print(df_example[df_example['거래소코드'] == i]['시가총액'].iloc[0])"
   ]
  },
  {
   "cell_type": "code",
   "execution_count": null,
   "metadata": {},
   "outputs": [],
   "source": [
    "#3번\n",
    "trade_code = df_example['거래소코드'].unique()\n",
    "Adj_close = []\n",
    "Marcap = []\n",
    "\n",
    "for i in trade_code:\n",
    "    Adj_close.append(df_example[df_example['거래소코드'] == i]['종가'].iloc[0])\n",
    "    Marcap.append(df_example[df_example['거래소코드'] == i]['시가총액'].iloc[0])\n",
    "\n",
    "print(\"Adj_close:\", Adj_close)\n",
    "print(\"Marcap:\", Marcap)"
   ]
  },
  {
   "cell_type": "markdown",
   "metadata": {},
   "source": [
    "#### df에서 거래소코드를 중복되지 않게 추출하고, 종가와 시가총액 구하기\n",
    "- for문 사용 \n",
    "- 1. 빈 리스트를 만들고\n",
    "- 2. df의 거래소코드를 중복되지 않게 추출하고\n",
    "- 3. for문을 통해 위에서 구한 코드로 종가를 출력하고 (단, 종가와 시가총액출력시 iloc 써도가능 하지만, 필요는 없음)\n",
    "- 4. 리스트에 합쳐줘야함. "
   ]
  },
  {
   "cell_type": "code",
   "execution_count": null,
   "metadata": {},
   "outputs": [],
   "source": [
    "trade_code=df['거래소코드'].unique()\n",
    "Adj_close=[]\n",
    "Marcap=[]\n",
    "\n",
    "for i in trade_code:\n",
    "    Adj_close.append(stock.get_market_ohlcv('20240304',\"20240304\",i,\"d\")['종가'][0])\n",
    "    Marcap.append(stock.get_market_cap('20240304',\"20240304\", i)['시가총액'][0])"
   ]
  },
  {
   "cell_type": "markdown",
   "metadata": {},
   "source": [
    "#### 만들어낸 거래소코드, 수정종가, 시가총액을 하나의 데이터프레임으로 만들기\n",
    "- 이름은 df_stock"
   ]
  },
  {
   "cell_type": "code",
   "execution_count": null,
   "metadata": {},
   "outputs": [],
   "source": [
    "df_stock = pd.DataFrame({'거래소코드': trade_code, '수정종가': Adj_close, '시총': Marcap})"
   ]
  }
 ],
 "metadata": {
  "kernelspec": {
   "display_name": "Python 3",
   "language": "python",
   "name": "python3"
  },
  "language_info": {
   "codemirror_mode": {
    "name": "ipython",
    "version": 3
   },
   "file_extension": ".py",
   "mimetype": "text/x-python",
   "name": "python",
   "nbconvert_exporter": "python",
   "pygments_lexer": "ipython3",
   "version": "3.11.8"
  }
 },
 "nbformat": 4,
 "nbformat_minor": 2
}
