{
 "cells": [
  {
   "cell_type": "code",
   "execution_count": null,
   "metadata": {},
   "outputs": [],
   "source": [
    "import pandas as pd "
   ]
  },
  {
   "cell_type": "code",
   "execution_count": null,
   "metadata": {},
   "outputs": [],
   "source": [
    "from pykrx import stock\n",
    "stock.get_market_cap(\"20190101\", \"20190102\", \"005930\")"
   ]
  },
  {
   "cell_type": "markdown",
   "metadata": {},
   "source": [
    "### pbr 구하기\n",
    "- '자산,자본,부채,매출.csv' 파일 읽기\n",
    "- 연결데이터가 존재할 경우 연결데이터를 사용하고, 연결데이터 없을경우 개별 데이터 사용하기\n",
    "- 시가총액 구하기 \n",
    "- pbr = 시가총액/자산\n",
    "- 배당성향 = 배당금/순이익 "
   ]
  },
  {
   "cell_type": "markdown",
   "metadata": {},
   "source": [
    "#### 개별, 연결 합치기\n",
    "\n",
    "- 연결이 붙은 열을 추출해 개별 df로 만들기 (filtered_df)\n",
    "- 기존의 df에서 연결이 붙은 열을 드랍하기\n",
    "- 두 데이터프레임의 열 이름을 깔끔하게 정리하기 (for문 사용, 제거할 내용을 리스트화하기)\n",
    "- 기존 df와 filtered_df를 합치기. 이 때, filtered_df가 연결값이므로 우선시 되어야함 "
   ]
  },
  {
   "cell_type": "markdown",
   "metadata": {},
   "source": [
    "#### df의 거래소코드에 제로패딩하기 "
   ]
  },
  {
   "cell_type": "markdown",
   "metadata": {},
   "source": [
    "#### for문 만들기 위해 회사 한개로 연습해보기\n",
    "\n",
    "- 회계년도 열을 데이트타임 형식으로 변경하기 \n",
    "- '회계년도말일' 이라는 열을 만들어 strftime함수를 사용해  회계년도 열의 day값을 31로 변경하기 "
   ]
  },
  {
   "cell_type": "code",
   "execution_count": null,
   "metadata": {},
   "outputs": [],
   "source": [
    "df_example=df.head(6)"
   ]
  },
  {
   "cell_type": "markdown",
   "metadata": {},
   "source": [
    "### 만들어낸 회계년도 말일을 통해 연말의 시가총액 1개만 구하기\n",
    "\n",
    "- 저장할 빈 리스트를 우선 만들어야 할것\n",
    "- 시가총액 코드를 보면서 내가 구한 걸 넣어야함. \n",
    "- 이때, 최종값 1개만 넣으면 되므로 특정함수를 사용해야할것임 "
   ]
  }
 ],
 "metadata": {
  "kernelspec": {
   "display_name": "Python 3",
   "language": "python",
   "name": "python3"
  },
  "language_info": {
   "codemirror_mode": {
    "name": "ipython",
    "version": 3
   },
   "file_extension": ".py",
   "mimetype": "text/x-python",
   "name": "python",
   "nbconvert_exporter": "python",
   "pygments_lexer": "ipython3",
   "version": "3.11.8"
  }
 },
 "nbformat": 4,
 "nbformat_minor": 2
}
