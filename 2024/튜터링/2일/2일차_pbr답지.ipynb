{
 "cells": [
  {
   "cell_type": "code",
   "execution_count": 1,
   "metadata": {},
   "outputs": [
    {
     "name": "stderr",
     "output_type": "stream",
     "text": [
      "C:\\Users\\SAMSUNG\\AppData\\Local\\Temp\\ipykernel_7812\\217833862.py:1: DeprecationWarning: \n",
      "Pyarrow will become a required dependency of pandas in the next major release of pandas (pandas 3.0),\n",
      "(to allow more performant data types, such as the Arrow string type, and better interoperability with other libraries)\n",
      "but was not found to be installed on your system.\n",
      "If this would cause problems for you,\n",
      "please provide us feedback at https://github.com/pandas-dev/pandas/issues/54466\n",
      "        \n",
      "  import pandas as pd\n"
     ]
    }
   ],
   "source": [
    "import pandas as pd "
   ]
  },
  {
   "cell_type": "code",
   "execution_count": 2,
   "metadata": {},
   "outputs": [
    {
     "data": {
      "text/html": [
       "<div>\n",
       "<style scoped>\n",
       "    .dataframe tbody tr th:only-of-type {\n",
       "        vertical-align: middle;\n",
       "    }\n",
       "\n",
       "    .dataframe tbody tr th {\n",
       "        vertical-align: top;\n",
       "    }\n",
       "\n",
       "    .dataframe thead th {\n",
       "        text-align: right;\n",
       "    }\n",
       "</style>\n",
       "<table border=\"1\" class=\"dataframe\">\n",
       "  <thead>\n",
       "    <tr style=\"text-align: right;\">\n",
       "      <th></th>\n",
       "    </tr>\n",
       "  </thead>\n",
       "  <tbody>\n",
       "  </tbody>\n",
       "</table>\n",
       "</div>"
      ],
      "text/plain": [
       "Empty DataFrame\n",
       "Columns: []\n",
       "Index: []"
      ]
     },
     "execution_count": 2,
     "metadata": {},
     "output_type": "execute_result"
    }
   ],
   "source": [
    "from pykrx import stock\n",
    "stock.get_market_cap(\"20190101\", \"20190102\", \"005930\")"
   ]
  },
  {
   "cell_type": "markdown",
   "metadata": {},
   "source": [
    "### pbr 구하기\n",
    "- '자산,자본,부채,매출.csv' 파일 읽기\n",
    "- 연결데이터가 존재할 경우 연결데이터를 사용하고, 연결데이터 없을경우 개별 데이터 사용하기\n",
    "- 시가총액 구하기 \n",
    "- pbr = 시가총액/자산\n",
    "- 배당성향 = 배당금/순이익 "
   ]
  },
  {
   "cell_type": "code",
   "execution_count": 3,
   "metadata": {},
   "outputs": [],
   "source": [
    "df=pd.read_csv('./data/자산,자본,부채,매출.csv',encoding='cp949')"
   ]
  },
  {
   "cell_type": "markdown",
   "metadata": {},
   "source": [
    "#### 개별, 연결 합치기\n",
    "\n",
    "- 연결이 붙은 열을 추출해 개별 df로 만들기 (filtered_df)\n",
    "- 기존의 df에서 연결이 붙은 열을 드랍하기\n",
    "- 두 데이터프레임의 열 이름을 깔끔하게 정리하기 (for문 사용, 제거할 내용을 리스트화하기)\n",
    "- 기존 df와 filtered_df를 합치기. 이 때, filtered_df가 연결값이므로 우선시 되어야함 "
   ]
  },
  {
   "cell_type": "code",
   "execution_count": null,
   "metadata": {},
   "outputs": [],
   "source": [
    "filtered_df = df.filter(regex='연결')\n",
    "filtered_df[['회사명','거래소코드','회계년도']] =df[['회사명','거래소코드','회계년도']]\n",
    "\n",
    "#연결 이름이 붙은 열 제거하기 \n",
    "df=df.drop(df.filter(regex='연결').columns,axis=1)"
   ]
  },
  {
   "cell_type": "code",
   "execution_count": 18,
   "metadata": {},
   "outputs": [
    {
     "data": {
      "text/plain": [
       "Index(['회사명', '거래소코드', '회계년도', '자산', '자본', '부채', '매출액'], dtype='object')"
      ]
     },
     "execution_count": 18,
     "metadata": {},
     "output_type": "execute_result"
    }
   ],
   "source": [
    "strs = ['(*)', '(IFRS연결)', '(천원)', '(IFRS)', '[제조]',\n",
    "         '*','(-)',('결손금'),'(수익)','(보고서기재)','()','(정상)']\n",
    "#위에 포함된 모든 문자열을 삭제시키기\n",
    "for s in strs:\n",
    "    filtered_df.columns = filtered_df.columns.str.replace(s, '')\n",
    "    df.columns = df.columns.str.replace(s, '')\n",
    "\n",
    "## 공백제거하기\n",
    "filtered_df.columns = filtered_df.columns.str.strip()\n",
    "filtered_df.columns\n",
    "\n",
    "df.columns = df.columns.str.strip()\n",
    "df.columns"
   ]
  },
  {
   "cell_type": "code",
   "execution_count": 22,
   "metadata": {},
   "outputs": [],
   "source": [
    "#df의 값이 우선사용되고 값이 없을경우에 df2값이 사용됨 \n",
    "#df=df.combine_first(df2)\n",
    "df=filtered_df.combine_first(df)"
   ]
  },
  {
   "cell_type": "code",
   "execution_count": 25,
   "metadata": {},
   "outputs": [
    {
     "data": {
      "text/html": [
       "<div>\n",
       "<style scoped>\n",
       "    .dataframe tbody tr th:only-of-type {\n",
       "        vertical-align: middle;\n",
       "    }\n",
       "\n",
       "    .dataframe tbody tr th {\n",
       "        vertical-align: top;\n",
       "    }\n",
       "\n",
       "    .dataframe thead th {\n",
       "        text-align: right;\n",
       "    }\n",
       "</style>\n",
       "<table border=\"1\" class=\"dataframe\">\n",
       "  <thead>\n",
       "    <tr style=\"text-align: right;\">\n",
       "      <th></th>\n",
       "      <th>자산</th>\n",
       "      <th>자본</th>\n",
       "      <th>부채</th>\n",
       "      <th>매출액</th>\n",
       "      <th>회사명</th>\n",
       "      <th>거래소코드</th>\n",
       "      <th>회계년도</th>\n",
       "    </tr>\n",
       "  </thead>\n",
       "  <tbody>\n",
       "    <tr>\n",
       "      <th>0</th>\n",
       "      <td>114379880.0</td>\n",
       "      <td>103981846.0</td>\n",
       "      <td>10398033.0</td>\n",
       "      <td>49864782.0</td>\n",
       "      <td>(주)CMG제약</td>\n",
       "      <td>58820</td>\n",
       "      <td>2018/12</td>\n",
       "    </tr>\n",
       "    <tr>\n",
       "      <th>1</th>\n",
       "      <td>192243166.0</td>\n",
       "      <td>180158283.0</td>\n",
       "      <td>12084883.0</td>\n",
       "      <td>58622681.0</td>\n",
       "      <td>(주)CMG제약</td>\n",
       "      <td>58820</td>\n",
       "      <td>2019/12</td>\n",
       "    </tr>\n",
       "    <tr>\n",
       "      <th>2</th>\n",
       "      <td>NaN</td>\n",
       "      <td>NaN</td>\n",
       "      <td>NaN</td>\n",
       "      <td>NaN</td>\n",
       "      <td>(주)CMG제약</td>\n",
       "      <td>58820</td>\n",
       "      <td>2020/12</td>\n",
       "    </tr>\n",
       "    <tr>\n",
       "      <th>3</th>\n",
       "      <td>NaN</td>\n",
       "      <td>NaN</td>\n",
       "      <td>NaN</td>\n",
       "      <td>NaN</td>\n",
       "      <td>(주)CMG제약</td>\n",
       "      <td>58820</td>\n",
       "      <td>2021/12</td>\n",
       "    </tr>\n",
       "    <tr>\n",
       "      <th>4</th>\n",
       "      <td>NaN</td>\n",
       "      <td>NaN</td>\n",
       "      <td>NaN</td>\n",
       "      <td>NaN</td>\n",
       "      <td>(주)CMG제약</td>\n",
       "      <td>58820</td>\n",
       "      <td>2022/12</td>\n",
       "    </tr>\n",
       "    <tr>\n",
       "      <th>5</th>\n",
       "      <td>242098205.0</td>\n",
       "      <td>190232688.0</td>\n",
       "      <td>51865516.0</td>\n",
       "      <td>93906675.0</td>\n",
       "      <td>(주)CMG제약</td>\n",
       "      <td>58820</td>\n",
       "      <td>2023/12</td>\n",
       "    </tr>\n",
       "  </tbody>\n",
       "</table>\n",
       "</div>"
      ],
      "text/plain": [
       "            자산           자본          부채         매출액       회사명  거래소코드     회계년도\n",
       "0  114379880.0  103981846.0  10398033.0  49864782.0  (주)CMG제약  58820  2018/12\n",
       "1  192243166.0  180158283.0  12084883.0  58622681.0  (주)CMG제약  58820  2019/12\n",
       "2          NaN          NaN         NaN         NaN  (주)CMG제약  58820  2020/12\n",
       "3          NaN          NaN         NaN         NaN  (주)CMG제약  58820  2021/12\n",
       "4          NaN          NaN         NaN         NaN  (주)CMG제약  58820  2022/12\n",
       "5  242098205.0  190232688.0  51865516.0  93906675.0  (주)CMG제약  58820  2023/12"
      ]
     },
     "execution_count": 25,
     "metadata": {},
     "output_type": "execute_result"
    }
   ],
   "source": [
    "filtered_df.head(6)"
   ]
  },
  {
   "cell_type": "markdown",
   "metadata": {},
   "source": [
    "#### 시가총액 구하기 \n",
    "- df의 거래소코드에 제로패딩하기 \n",
    "- 18~23년의 6년도 데이터 존재. 이때 연말의 시가총액만 구해서 '시가총액'열에다가 값 넣기"
   ]
  },
  {
   "cell_type": "code",
   "execution_count": 28,
   "metadata": {},
   "outputs": [],
   "source": [
    "df['거래소코드'] = df['거래소코드'].astype(str).str.zfill(6)"
   ]
  },
  {
   "cell_type": "markdown",
   "metadata": {},
   "source": [
    "#### for문 만들기 위해 회사 한개로 연습해보기\n",
    "\n",
    "- 회계년도 열을 데이트타임 형식으로 변경하기 \n",
    "- '회계년도말일' 이라는 열을 만들어 strftime함수를 사용해  회계년도 열의 day값을 31로 변경하기 "
   ]
  },
  {
   "cell_type": "code",
   "execution_count": 37,
   "metadata": {},
   "outputs": [
    {
     "name": "stderr",
     "output_type": "stream",
     "text": [
      "C:\\Users\\djssu\\AppData\\Local\\Temp\\ipykernel_21076\\1829793704.py:2: UserWarning: Could not infer format, so each element will be parsed individually, falling back to `dateutil`. To ensure parsing is consistent and as-expected, please specify a format.\n",
      "  df_example['회계년도'] = pd.to_datetime(df_example['회계년도'])\n",
      "C:\\Users\\djssu\\AppData\\Local\\Temp\\ipykernel_21076\\1829793704.py:2: SettingWithCopyWarning: \n",
      "A value is trying to be set on a copy of a slice from a DataFrame.\n",
      "Try using .loc[row_indexer,col_indexer] = value instead\n",
      "\n",
      "See the caveats in the documentation: https://pandas.pydata.org/pandas-docs/stable/user_guide/indexing.html#returning-a-view-versus-a-copy\n",
      "  df_example['회계년도'] = pd.to_datetime(df_example['회계년도'])\n",
      "C:\\Users\\djssu\\AppData\\Local\\Temp\\ipykernel_21076\\1829793704.py:3: SettingWithCopyWarning: \n",
      "A value is trying to be set on a copy of a slice from a DataFrame.\n",
      "Try using .loc[row_indexer,col_indexer] = value instead\n",
      "\n",
      "See the caveats in the documentation: https://pandas.pydata.org/pandas-docs/stable/user_guide/indexing.html#returning-a-view-versus-a-copy\n",
      "  df_example['회계년도말일'] = df_example['회계년도'].dt.strftime('%Y-%m-31')\n"
     ]
    },
    {
     "data": {
      "text/html": [
       "<div>\n",
       "<style scoped>\n",
       "    .dataframe tbody tr th:only-of-type {\n",
       "        vertical-align: middle;\n",
       "    }\n",
       "\n",
       "    .dataframe tbody tr th {\n",
       "        vertical-align: top;\n",
       "    }\n",
       "\n",
       "    .dataframe thead th {\n",
       "        text-align: right;\n",
       "    }\n",
       "</style>\n",
       "<table border=\"1\" class=\"dataframe\">\n",
       "  <thead>\n",
       "    <tr style=\"text-align: right;\">\n",
       "      <th></th>\n",
       "      <th>거래소코드</th>\n",
       "      <th>매출액</th>\n",
       "      <th>부채</th>\n",
       "      <th>자본</th>\n",
       "      <th>자산</th>\n",
       "      <th>회계년도</th>\n",
       "      <th>회사명</th>\n",
       "      <th>회계년도말일</th>\n",
       "    </tr>\n",
       "  </thead>\n",
       "  <tbody>\n",
       "    <tr>\n",
       "      <th>0</th>\n",
       "      <td>058820</td>\n",
       "      <td>49864782.0</td>\n",
       "      <td>10398033.0</td>\n",
       "      <td>103981846.0</td>\n",
       "      <td>114379880.0</td>\n",
       "      <td>2018-12-01</td>\n",
       "      <td>(주)CMG제약</td>\n",
       "      <td>2018-12-31</td>\n",
       "    </tr>\n",
       "    <tr>\n",
       "      <th>1</th>\n",
       "      <td>058820</td>\n",
       "      <td>58622681.0</td>\n",
       "      <td>12084883.0</td>\n",
       "      <td>180158283.0</td>\n",
       "      <td>192243166.0</td>\n",
       "      <td>2019-12-01</td>\n",
       "      <td>(주)CMG제약</td>\n",
       "      <td>2019-12-31</td>\n",
       "    </tr>\n",
       "    <tr>\n",
       "      <th>2</th>\n",
       "      <td>058820</td>\n",
       "      <td>64459891.0</td>\n",
       "      <td>14224578.0</td>\n",
       "      <td>181131004.0</td>\n",
       "      <td>195355583.0</td>\n",
       "      <td>2020-12-01</td>\n",
       "      <td>(주)CMG제약</td>\n",
       "      <td>2020-12-31</td>\n",
       "    </tr>\n",
       "    <tr>\n",
       "      <th>3</th>\n",
       "      <td>058820</td>\n",
       "      <td>69475496.0</td>\n",
       "      <td>14472099.0</td>\n",
       "      <td>184702494.0</td>\n",
       "      <td>199174593.0</td>\n",
       "      <td>2021-12-01</td>\n",
       "      <td>(주)CMG제약</td>\n",
       "      <td>2021-12-31</td>\n",
       "    </tr>\n",
       "    <tr>\n",
       "      <th>4</th>\n",
       "      <td>058820</td>\n",
       "      <td>82197410.0</td>\n",
       "      <td>28307361.0</td>\n",
       "      <td>184953015.0</td>\n",
       "      <td>213260376.0</td>\n",
       "      <td>2022-12-01</td>\n",
       "      <td>(주)CMG제약</td>\n",
       "      <td>2022-12-31</td>\n",
       "    </tr>\n",
       "    <tr>\n",
       "      <th>5</th>\n",
       "      <td>058820</td>\n",
       "      <td>93906675.0</td>\n",
       "      <td>51865516.0</td>\n",
       "      <td>190232688.0</td>\n",
       "      <td>242098205.0</td>\n",
       "      <td>2023-12-01</td>\n",
       "      <td>(주)CMG제약</td>\n",
       "      <td>2023-12-31</td>\n",
       "    </tr>\n",
       "  </tbody>\n",
       "</table>\n",
       "</div>"
      ],
      "text/plain": [
       "    거래소코드         매출액          부채           자본           자산       회계년도  \\\n",
       "0  058820  49864782.0  10398033.0  103981846.0  114379880.0 2018-12-01   \n",
       "1  058820  58622681.0  12084883.0  180158283.0  192243166.0 2019-12-01   \n",
       "2  058820  64459891.0  14224578.0  181131004.0  195355583.0 2020-12-01   \n",
       "3  058820  69475496.0  14472099.0  184702494.0  199174593.0 2021-12-01   \n",
       "4  058820  82197410.0  28307361.0  184953015.0  213260376.0 2022-12-01   \n",
       "5  058820  93906675.0  51865516.0  190232688.0  242098205.0 2023-12-01   \n",
       "\n",
       "        회사명      회계년도말일  \n",
       "0  (주)CMG제약  2018-12-31  \n",
       "1  (주)CMG제약  2019-12-31  \n",
       "2  (주)CMG제약  2020-12-31  \n",
       "3  (주)CMG제약  2021-12-31  \n",
       "4  (주)CMG제약  2022-12-31  \n",
       "5  (주)CMG제약  2023-12-31  "
      ]
     },
     "execution_count": 37,
     "metadata": {},
     "output_type": "execute_result"
    }
   ],
   "source": [
    "df_example=df.head(6)\n",
    "df_example['회계년도'] = pd.to_datetime(df_example['회계년도'])\n",
    "df_example['회계년도말일'] = df_example['회계년도'].dt.strftime('%Y-%m-31')\n",
    "df_example"
   ]
  },
  {
   "cell_type": "markdown",
   "metadata": {},
   "source": [
    "### 만들어낸 회계년도 말일을 통해 연말의 시가총액 1개만 구하기\n",
    "\n",
    "- 저장할 빈 리스트를 우선 만들어야 할것\n",
    "- 시가총액 코드를 보면서 내가 구한 걸 넣어야함. \n",
    "- 이때, 최종값 1개만 넣으면 되므로 특정함수를 사용해야할것임 "
   ]
  },
  {
   "cell_type": "code",
   "execution_count": 51,
   "metadata": {},
   "outputs": [
    {
     "name": "stderr",
     "output_type": "stream",
     "text": [
      "C:\\Users\\djssu\\AppData\\Local\\Temp\\ipykernel_21076\\2485771387.py:5: FutureWarning: Series.__getitem__ treating keys as positions is deprecated. In a future version, integer keys will always be treated as labels (consistent with DataFrame behavior). To access a value by position, use `ser.iloc[pos]`\n",
      "  marcap.append(stock.get_market_cap(df_example['회계년도'][i],\n",
      "C:\\Users\\djssu\\AppData\\Local\\Temp\\ipykernel_21076\\2485771387.py:5: FutureWarning: Series.__getitem__ treating keys as positions is deprecated. In a future version, integer keys will always be treated as labels (consistent with DataFrame behavior). To access a value by position, use `ser.iloc[pos]`\n",
      "  marcap.append(stock.get_market_cap(df_example['회계년도'][i],\n",
      "C:\\Users\\djssu\\AppData\\Local\\Temp\\ipykernel_21076\\2485771387.py:5: FutureWarning: Series.__getitem__ treating keys as positions is deprecated. In a future version, integer keys will always be treated as labels (consistent with DataFrame behavior). To access a value by position, use `ser.iloc[pos]`\n",
      "  marcap.append(stock.get_market_cap(df_example['회계년도'][i],\n",
      "C:\\Users\\djssu\\AppData\\Local\\Temp\\ipykernel_21076\\2485771387.py:5: FutureWarning: Series.__getitem__ treating keys as positions is deprecated. In a future version, integer keys will always be treated as labels (consistent with DataFrame behavior). To access a value by position, use `ser.iloc[pos]`\n",
      "  marcap.append(stock.get_market_cap(df_example['회계년도'][i],\n",
      "C:\\Users\\djssu\\AppData\\Local\\Temp\\ipykernel_21076\\2485771387.py:5: FutureWarning: Series.__getitem__ treating keys as positions is deprecated. In a future version, integer keys will always be treated as labels (consistent with DataFrame behavior). To access a value by position, use `ser.iloc[pos]`\n",
      "  marcap.append(stock.get_market_cap(df_example['회계년도'][i],\n",
      "C:\\Users\\djssu\\AppData\\Local\\Temp\\ipykernel_21076\\2485771387.py:5: FutureWarning: Series.__getitem__ treating keys as positions is deprecated. In a future version, integer keys will always be treated as labels (consistent with DataFrame behavior). To access a value by position, use `ser.iloc[pos]`\n",
      "  marcap.append(stock.get_market_cap(df_example['회계년도'][i],\n"
     ]
    }
   ],
   "source": [
    "# stock.get_market_cap(\"20190101\", \"20190102\", \"005930\") << 시가총액 코드 \n",
    "marcap=[]\n",
    "\n",
    "for i in range(len(df_example)):\n",
    "    marcap.append(stock.get_market_cap(df_example['회계년도'][i],\n",
    "                         df_example['회계년도말일'][i],\n",
    "                         df_example['거래소코드'][i]).tail(1)['시가총액'][0])"
   ]
  },
  {
   "cell_type": "code",
   "execution_count": 53,
   "metadata": {},
   "outputs": [
    {
     "name": "stderr",
     "output_type": "stream",
     "text": [
      "C:\\Users\\djssu\\AppData\\Local\\Temp\\ipykernel_21076\\4027275905.py:1: SettingWithCopyWarning: \n",
      "A value is trying to be set on a copy of a slice from a DataFrame.\n",
      "Try using .loc[row_indexer,col_indexer] = value instead\n",
      "\n",
      "See the caveats in the documentation: https://pandas.pydata.org/pandas-docs/stable/user_guide/indexing.html#returning-a-view-versus-a-copy\n",
      "  df_example['시가총액']=marcap\n"
     ]
    }
   ],
   "source": [
    "df_example['시가총액']=marcap"
   ]
  },
  {
   "cell_type": "code",
   "execution_count": 54,
   "metadata": {},
   "outputs": [
    {
     "data": {
      "text/html": [
       "<div>\n",
       "<style scoped>\n",
       "    .dataframe tbody tr th:only-of-type {\n",
       "        vertical-align: middle;\n",
       "    }\n",
       "\n",
       "    .dataframe tbody tr th {\n",
       "        vertical-align: top;\n",
       "    }\n",
       "\n",
       "    .dataframe thead th {\n",
       "        text-align: right;\n",
       "    }\n",
       "</style>\n",
       "<table border=\"1\" class=\"dataframe\">\n",
       "  <thead>\n",
       "    <tr style=\"text-align: right;\">\n",
       "      <th></th>\n",
       "      <th>거래소코드</th>\n",
       "      <th>매출액</th>\n",
       "      <th>부채</th>\n",
       "      <th>자본</th>\n",
       "      <th>자산</th>\n",
       "      <th>회계년도</th>\n",
       "      <th>회사명</th>\n",
       "      <th>회계년도말일</th>\n",
       "      <th>시가총액</th>\n",
       "    </tr>\n",
       "  </thead>\n",
       "  <tbody>\n",
       "    <tr>\n",
       "      <th>0</th>\n",
       "      <td>058820</td>\n",
       "      <td>49864782.0</td>\n",
       "      <td>10398033.0</td>\n",
       "      <td>103981846.0</td>\n",
       "      <td>114379880.0</td>\n",
       "      <td>2018-12-01</td>\n",
       "      <td>(주)CMG제약</td>\n",
       "      <td>2018-12-31</td>\n",
       "      <td>461137478340</td>\n",
       "    </tr>\n",
       "    <tr>\n",
       "      <th>1</th>\n",
       "      <td>058820</td>\n",
       "      <td>58622681.0</td>\n",
       "      <td>12084883.0</td>\n",
       "      <td>180158283.0</td>\n",
       "      <td>192243166.0</td>\n",
       "      <td>2019-12-01</td>\n",
       "      <td>(주)CMG제약</td>\n",
       "      <td>2019-12-31</td>\n",
       "      <td>590292037000</td>\n",
       "    </tr>\n",
       "    <tr>\n",
       "      <th>2</th>\n",
       "      <td>058820</td>\n",
       "      <td>64459891.0</td>\n",
       "      <td>14224578.0</td>\n",
       "      <td>181131004.0</td>\n",
       "      <td>195355583.0</td>\n",
       "      <td>2020-12-01</td>\n",
       "      <td>(주)CMG제약</td>\n",
       "      <td>2020-12-31</td>\n",
       "      <td>802797170320</td>\n",
       "    </tr>\n",
       "    <tr>\n",
       "      <th>3</th>\n",
       "      <td>058820</td>\n",
       "      <td>69475496.0</td>\n",
       "      <td>14472099.0</td>\n",
       "      <td>184702494.0</td>\n",
       "      <td>199174593.0</td>\n",
       "      <td>2021-12-01</td>\n",
       "      <td>(주)CMG제약</td>\n",
       "      <td>2021-12-31</td>\n",
       "      <td>532651755740</td>\n",
       "    </tr>\n",
       "    <tr>\n",
       "      <th>4</th>\n",
       "      <td>058820</td>\n",
       "      <td>82197410.0</td>\n",
       "      <td>28307361.0</td>\n",
       "      <td>184953015.0</td>\n",
       "      <td>213260376.0</td>\n",
       "      <td>2022-12-01</td>\n",
       "      <td>(주)CMG제약</td>\n",
       "      <td>2022-12-31</td>\n",
       "      <td>298618324600</td>\n",
       "    </tr>\n",
       "    <tr>\n",
       "      <th>5</th>\n",
       "      <td>058820</td>\n",
       "      <td>93906675.0</td>\n",
       "      <td>51865516.0</td>\n",
       "      <td>190232688.0</td>\n",
       "      <td>242098205.0</td>\n",
       "      <td>2023-12-01</td>\n",
       "      <td>(주)CMG제약</td>\n",
       "      <td>2023-12-31</td>\n",
       "      <td>334730308040</td>\n",
       "    </tr>\n",
       "  </tbody>\n",
       "</table>\n",
       "</div>"
      ],
      "text/plain": [
       "    거래소코드         매출액          부채           자본           자산       회계년도  \\\n",
       "0  058820  49864782.0  10398033.0  103981846.0  114379880.0 2018-12-01   \n",
       "1  058820  58622681.0  12084883.0  180158283.0  192243166.0 2019-12-01   \n",
       "2  058820  64459891.0  14224578.0  181131004.0  195355583.0 2020-12-01   \n",
       "3  058820  69475496.0  14472099.0  184702494.0  199174593.0 2021-12-01   \n",
       "4  058820  82197410.0  28307361.0  184953015.0  213260376.0 2022-12-01   \n",
       "5  058820  93906675.0  51865516.0  190232688.0  242098205.0 2023-12-01   \n",
       "\n",
       "        회사명      회계년도말일          시가총액  \n",
       "0  (주)CMG제약  2018-12-31  461137478340  \n",
       "1  (주)CMG제약  2019-12-31  590292037000  \n",
       "2  (주)CMG제약  2020-12-31  802797170320  \n",
       "3  (주)CMG제약  2021-12-31  532651755740  \n",
       "4  (주)CMG제약  2022-12-31  298618324600  \n",
       "5  (주)CMG제약  2023-12-31  334730308040  "
      ]
     },
     "execution_count": 54,
     "metadata": {},
     "output_type": "execute_result"
    }
   ],
   "source": [
    "df_example"
   ]
  }
 ],
 "metadata": {
  "kernelspec": {
   "display_name": "Python 3",
   "language": "python",
   "name": "python3"
  },
  "language_info": {
   "codemirror_mode": {
    "name": "ipython",
    "version": 3
   },
   "file_extension": ".py",
   "mimetype": "text/x-python",
   "name": "python",
   "nbconvert_exporter": "python",
   "pygments_lexer": "ipython3",
   "version": "3.12.2"
  }
 },
 "nbformat": 4,
 "nbformat_minor": 2
}
