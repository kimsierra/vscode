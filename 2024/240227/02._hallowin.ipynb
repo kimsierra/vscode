{
 "cells": [
  {
   "cell_type": "markdown",
   "metadata": {},
   "source": [
    "#### 할로윈 투자 전략\n",
    "1. 11월 첫날에 매수 -> 4월 마지막날에 매도\n",
    "2. 11월 첫날의 가격의 시가로 매수\n",
    "3. 4월 말일에 종가로 매도\n",
    "4. 수익률 계산 -> 매도가/매수가\n",
    "5. 누적수익률 계산"
   ]
  },
  {
   "cell_type": "code",
   "execution_count": 2,
   "metadata": {},
   "outputs": [
    {
     "name": "stderr",
     "output_type": "stream",
     "text": [
      "C:\\Users\\SAMSUNG\\AppData\\Local\\Temp\\ipykernel_5692\\1476939886.py:2: DeprecationWarning: \n",
      "Pyarrow will become a required dependency of pandas in the next major release of pandas (pandas 3.0),\n",
      "(to allow more performant data types, such as the Arrow string type, and better interoperability with other libraries)\n",
      "but was not found to be installed on your system.\n",
      "If this would cause problems for you,\n",
      "please provide us feedback at https://github.com/pandas-dev/pandas/issues/54466\n",
      "        \n",
      "  import pandas as pd\n"
     ]
    }
   ],
   "source": [
    "from datetime import datetime\n",
    "import pandas as pd\n",
    "from dateutil.relativedelta import relativedelta"
   ]
  },
  {
   "cell_type": "code",
   "execution_count": 11,
   "metadata": {},
   "outputs": [],
   "source": [
    "# 데이터 로드\n",
    "df = pd.read_csv(\"C:/Users/SAMSUNG/Documents/R/csv/AMZN.csv\", index_col='Date')"
   ]
  },
  {
   "cell_type": "code",
   "execution_count": 12,
   "metadata": {},
   "outputs": [],
   "source": [
    "# 인덱스를 시계열 데이터로 변경\n",
    "df.index = pd.to_datetime(df.index, format ='%Y-%m-%d')"
   ]
  },
  {
   "cell_type": "code",
   "execution_count": 13,
   "metadata": {},
   "outputs": [
    {
     "data": {
      "text/plain": [
       "35.8125"
      ]
     },
     "execution_count": 13,
     "metadata": {},
     "output_type": "execute_result"
    }
   ],
   "source": [
    "# 2000년 11월 데이터를 출력하려면?\n",
    "df.loc['2000-11',].iloc[0,0]"
   ]
  },
  {
   "cell_type": "code",
   "execution_count": 14,
   "metadata": {},
   "outputs": [
    {
     "data": {
      "text/plain": [
       "Date\n",
       "2000-11-01    35.8125\n",
       "Name: Open, dtype: float64"
      ]
     },
     "execution_count": 14,
     "metadata": {},
     "output_type": "execute_result"
    }
   ],
   "source": [
    "df.loc['2000-11',].head(1)['Open']"
   ]
  },
  {
   "cell_type": "code",
   "execution_count": 15,
   "metadata": {},
   "outputs": [
    {
     "name": "stderr",
     "output_type": "stream",
     "text": [
      "C:\\Users\\SAMSUNG\\AppData\\Local\\Temp\\ipykernel_5692\\3473139673.py:1: FutureWarning: Series.__getitem__ treating keys as positions is deprecated. In a future version, integer keys will always be treated as labels (consistent with DataFrame behavior). To access a value by position, use `ser.iloc[pos]`\n",
      "  df.loc['2000-11','Open'][0]\n"
     ]
    },
    {
     "data": {
      "text/plain": [
       "35.8125"
      ]
     },
     "execution_count": 15,
     "metadata": {},
     "output_type": "execute_result"
    }
   ],
   "source": [
    "df.loc['2000-11','Open'][0]"
   ]
  },
  {
   "cell_type": "code",
   "execution_count": 16,
   "metadata": {},
   "outputs": [
    {
     "name": "stderr",
     "output_type": "stream",
     "text": [
      "C:\\Users\\SAMSUNG\\AppData\\Local\\Temp\\ipykernel_5692\\241756794.py:1: FutureWarning: Series.__getitem__ treating keys as positions is deprecated. In a future version, integer keys will always be treated as labels (consistent with DataFrame behavior). To access a value by position, use `ser.iloc[pos]`\n",
      "  df.loc['2001-04','Close'][-1]\n"
     ]
    },
    {
     "data": {
      "text/plain": [
       "15.78"
      ]
     },
     "execution_count": 16,
     "metadata": {},
     "output_type": "execute_result"
    }
   ],
   "source": [
    "df.loc['2001-04','Close'][-1]"
   ]
  },
  {
   "cell_type": "code",
   "execution_count": 19,
   "metadata": {},
   "outputs": [
    {
     "data": {
      "text/html": [
       "<div>\n",
       "<style scoped>\n",
       "    .dataframe tbody tr th:only-of-type {\n",
       "        vertical-align: middle;\n",
       "    }\n",
       "\n",
       "    .dataframe tbody tr th {\n",
       "        vertical-align: top;\n",
       "    }\n",
       "\n",
       "    .dataframe thead th {\n",
       "        text-align: right;\n",
       "    }\n",
       "</style>\n",
       "<table border=\"1\" class=\"dataframe\">\n",
       "  <thead>\n",
       "    <tr style=\"text-align: right;\">\n",
       "      <th></th>\n",
       "      <th>Open</th>\n",
       "      <th>High</th>\n",
       "      <th>Low</th>\n",
       "      <th>Close</th>\n",
       "      <th>Adj Close</th>\n",
       "      <th>Volume</th>\n",
       "    </tr>\n",
       "    <tr>\n",
       "      <th>Date</th>\n",
       "      <th></th>\n",
       "      <th></th>\n",
       "      <th></th>\n",
       "      <th></th>\n",
       "      <th></th>\n",
       "      <th></th>\n",
       "    </tr>\n",
       "  </thead>\n",
       "  <tbody>\n",
       "    <tr>\n",
       "      <th>2000-11-01</th>\n",
       "      <td>35.8125</td>\n",
       "      <td>40.0</td>\n",
       "      <td>35.6875</td>\n",
       "      <td>37.375</td>\n",
       "      <td>37.375</td>\n",
       "      <td>11099200</td>\n",
       "    </tr>\n",
       "  </tbody>\n",
       "</table>\n",
       "</div>"
      ],
      "text/plain": [
       "               Open  High      Low   Close  Adj Close    Volume\n",
       "Date                                                           \n",
       "2000-11-01  35.8125  40.0  35.6875  37.375     37.375  11099200"
      ]
     },
     "execution_count": 19,
     "metadata": {},
     "output_type": "execute_result"
    }
   ],
   "source": [
    "df.loc['2000-11',].head(1)"
   ]
  },
  {
   "cell_type": "code",
   "execution_count": 22,
   "metadata": {},
   "outputs": [],
   "source": [
    "## 2000년부터 2010년까지 할로윈 투자 데이터를 추출\n",
    "\n",
    "# 비어있는 데이터프레임을 생성\n",
    "price_df = pd.DataFrame()\n",
    "\n",
    "for i in range(2000, 2010, 1):\n",
    "    #구매하는 달을 문자열로 변수 생성\n",
    "    buy_mon = f\"{i}-11\"          ## 2000-11,2001-11,2002-11,...\n",
    "    sell_mon = str(i+1) + \"-04\"  ## 2001-04,20002-04,...\n",
    "\n",
    "    # buy_mon 에 조건식이 참인 데이터에서 첫날의 데이터만 추출\n",
    "    buy = df.loc[buy_mon, ].head(1)\n",
    "    sell = df.loc[sell_mon, ].tail(1)\n",
    "    # price_df 와 buy를 결합 (단순한 행 결합 -> 유니언 결합)\n",
    "    # concat({결합할 데이터프레임들을 리스트 형태},axis-{0|1}, ignore_index={bool})\n",
    "    price_df = pd.concat([price_df,buy,sell], axis=0)"
   ]
  },
  {
   "cell_type": "code",
   "execution_count": 24,
   "metadata": {},
   "outputs": [],
   "source": [
    "price_df = price_df[['Open','Close']]"
   ]
  },
  {
   "cell_type": "code",
   "execution_count": 25,
   "metadata": {},
   "outputs": [
    {
     "name": "stderr",
     "output_type": "stream",
     "text": [
      "C:\\Users\\SAMSUNG\\AppData\\Local\\Temp\\ipykernel_5692\\3878528034.py:2: SettingWithCopyWarning: \n",
      "A value is trying to be set on a copy of a slice from a DataFrame.\n",
      "Try using .loc[row_indexer,col_indexer] = value instead\n",
      "\n",
      "See the caveats in the documentation: https://pandas.pydata.org/pandas-docs/stable/user_guide/indexing.html#returning-a-view-versus-a-copy\n",
      "  price_df['rtn'] =1\n"
     ]
    }
   ],
   "source": [
    "# 수익률 컬럼을 생성해서 1을 대입\n",
    "price_df['rtn'] =1"
   ]
  },
  {
   "cell_type": "code",
   "execution_count": 26,
   "metadata": {},
   "outputs": [
    {
     "name": "stderr",
     "output_type": "stream",
     "text": [
      "C:\\Users\\SAMSUNG\\AppData\\Local\\Temp\\ipykernel_5692\\2070492582.py:6: FutureWarning: Setting an item of incompatible dtype is deprecated and will raise an error in a future version of pandas. Value '0.4406282722513089' has dtype incompatible with int64, please explicitly cast to a compatible dtype first.\n",
      "  price_df.iloc[i, 2] = rtn\n"
     ]
    }
   ],
   "source": [
    "# 위치값이 홀수인 경우 수익률을 계산\n",
    "for i in range(len(price_df)):\n",
    "    # 홀수인 조건\n",
    "    if i % 2 == 1:\n",
    "        rtn = price_df.iloc[i,]['Close']/price_df.iloc[i-1, ]['Open']\n",
    "        price_df.iloc[i, 2] = rtn"
   ]
  },
  {
   "cell_type": "code",
   "execution_count": 27,
   "metadata": {},
   "outputs": [
    {
     "data": {
      "text/html": [
       "<div>\n",
       "<style scoped>\n",
       "    .dataframe tbody tr th:only-of-type {\n",
       "        vertical-align: middle;\n",
       "    }\n",
       "\n",
       "    .dataframe tbody tr th {\n",
       "        vertical-align: top;\n",
       "    }\n",
       "\n",
       "    .dataframe thead th {\n",
       "        text-align: right;\n",
       "    }\n",
       "</style>\n",
       "<table border=\"1\" class=\"dataframe\">\n",
       "  <thead>\n",
       "    <tr style=\"text-align: right;\">\n",
       "      <th></th>\n",
       "      <th>Open</th>\n",
       "      <th>Close</th>\n",
       "      <th>rtn</th>\n",
       "    </tr>\n",
       "    <tr>\n",
       "      <th>Date</th>\n",
       "      <th></th>\n",
       "      <th></th>\n",
       "      <th></th>\n",
       "    </tr>\n",
       "  </thead>\n",
       "  <tbody>\n",
       "    <tr>\n",
       "      <th>2000-11-01</th>\n",
       "      <td>35.812500</td>\n",
       "      <td>37.375000</td>\n",
       "      <td>1.000000</td>\n",
       "    </tr>\n",
       "    <tr>\n",
       "      <th>2001-04-30</th>\n",
       "      <td>15.630000</td>\n",
       "      <td>15.780000</td>\n",
       "      <td>0.440628</td>\n",
       "    </tr>\n",
       "    <tr>\n",
       "      <th>2001-11-01</th>\n",
       "      <td>7.080000</td>\n",
       "      <td>6.950000</td>\n",
       "      <td>1.000000</td>\n",
       "    </tr>\n",
       "    <tr>\n",
       "      <th>2002-04-30</th>\n",
       "      <td>16.129999</td>\n",
       "      <td>16.690001</td>\n",
       "      <td>2.357345</td>\n",
       "    </tr>\n",
       "    <tr>\n",
       "      <th>2002-11-01</th>\n",
       "      <td>19.219999</td>\n",
       "      <td>19.799999</td>\n",
       "      <td>1.000000</td>\n",
       "    </tr>\n",
       "    <tr>\n",
       "      <th>2003-04-30</th>\n",
       "      <td>28.600000</td>\n",
       "      <td>28.690001</td>\n",
       "      <td>1.492716</td>\n",
       "    </tr>\n",
       "    <tr>\n",
       "      <th>2003-11-03</th>\n",
       "      <td>54.799999</td>\n",
       "      <td>56.740002</td>\n",
       "      <td>1.000000</td>\n",
       "    </tr>\n",
       "    <tr>\n",
       "      <th>2004-04-30</th>\n",
       "      <td>46.060001</td>\n",
       "      <td>43.599998</td>\n",
       "      <td>0.795620</td>\n",
       "    </tr>\n",
       "    <tr>\n",
       "      <th>2004-11-01</th>\n",
       "      <td>34.220001</td>\n",
       "      <td>35.099998</td>\n",
       "      <td>1.000000</td>\n",
       "    </tr>\n",
       "    <tr>\n",
       "      <th>2005-04-29</th>\n",
       "      <td>32.860001</td>\n",
       "      <td>32.360001</td>\n",
       "      <td>0.945646</td>\n",
       "    </tr>\n",
       "    <tr>\n",
       "      <th>2005-11-01</th>\n",
       "      <td>39.970001</td>\n",
       "      <td>40.369999</td>\n",
       "      <td>1.000000</td>\n",
       "    </tr>\n",
       "    <tr>\n",
       "      <th>2006-04-28</th>\n",
       "      <td>35.770000</td>\n",
       "      <td>35.209999</td>\n",
       "      <td>0.880911</td>\n",
       "    </tr>\n",
       "    <tr>\n",
       "      <th>2006-11-01</th>\n",
       "      <td>38.130001</td>\n",
       "      <td>37.560001</td>\n",
       "      <td>1.000000</td>\n",
       "    </tr>\n",
       "    <tr>\n",
       "      <th>2007-04-30</th>\n",
       "      <td>61.910000</td>\n",
       "      <td>61.330002</td>\n",
       "      <td>1.608445</td>\n",
       "    </tr>\n",
       "    <tr>\n",
       "      <th>2007-11-01</th>\n",
       "      <td>87.750000</td>\n",
       "      <td>87.650002</td>\n",
       "      <td>1.000000</td>\n",
       "    </tr>\n",
       "    <tr>\n",
       "      <th>2008-04-30</th>\n",
       "      <td>80.900002</td>\n",
       "      <td>78.629997</td>\n",
       "      <td>0.896068</td>\n",
       "    </tr>\n",
       "    <tr>\n",
       "      <th>2008-11-03</th>\n",
       "      <td>56.349998</td>\n",
       "      <td>55.770000</td>\n",
       "      <td>1.000000</td>\n",
       "    </tr>\n",
       "    <tr>\n",
       "      <th>2009-04-30</th>\n",
       "      <td>80.930000</td>\n",
       "      <td>80.519997</td>\n",
       "      <td>1.428926</td>\n",
       "    </tr>\n",
       "    <tr>\n",
       "      <th>2009-11-02</th>\n",
       "      <td>118.660004</td>\n",
       "      <td>118.839996</td>\n",
       "      <td>1.000000</td>\n",
       "    </tr>\n",
       "    <tr>\n",
       "      <th>2010-04-30</th>\n",
       "      <td>141.399994</td>\n",
       "      <td>137.100006</td>\n",
       "      <td>1.155402</td>\n",
       "    </tr>\n",
       "  </tbody>\n",
       "</table>\n",
       "</div>"
      ],
      "text/plain": [
       "                  Open       Close       rtn\n",
       "Date                                        \n",
       "2000-11-01   35.812500   37.375000  1.000000\n",
       "2001-04-30   15.630000   15.780000  0.440628\n",
       "2001-11-01    7.080000    6.950000  1.000000\n",
       "2002-04-30   16.129999   16.690001  2.357345\n",
       "2002-11-01   19.219999   19.799999  1.000000\n",
       "2003-04-30   28.600000   28.690001  1.492716\n",
       "2003-11-03   54.799999   56.740002  1.000000\n",
       "2004-04-30   46.060001   43.599998  0.795620\n",
       "2004-11-01   34.220001   35.099998  1.000000\n",
       "2005-04-29   32.860001   32.360001  0.945646\n",
       "2005-11-01   39.970001   40.369999  1.000000\n",
       "2006-04-28   35.770000   35.209999  0.880911\n",
       "2006-11-01   38.130001   37.560001  1.000000\n",
       "2007-04-30   61.910000   61.330002  1.608445\n",
       "2007-11-01   87.750000   87.650002  1.000000\n",
       "2008-04-30   80.900002   78.629997  0.896068\n",
       "2008-11-03   56.349998   55.770000  1.000000\n",
       "2009-04-30   80.930000   80.519997  1.428926\n",
       "2009-11-02  118.660004  118.839996  1.000000\n",
       "2010-04-30  141.399994  137.100006  1.155402"
      ]
     },
     "execution_count": 27,
     "metadata": {},
     "output_type": "execute_result"
    }
   ],
   "source": [
    "price_df"
   ]
  },
  {
   "cell_type": "code",
   "execution_count": 28,
   "metadata": {},
   "outputs": [
    {
     "name": "stderr",
     "output_type": "stream",
     "text": [
      "C:\\Users\\SAMSUNG\\AppData\\Local\\Temp\\ipykernel_5692\\1151404928.py:1: SettingWithCopyWarning: \n",
      "A value is trying to be set on a copy of a slice from a DataFrame.\n",
      "Try using .loc[row_indexer,col_indexer] = value instead\n",
      "\n",
      "See the caveats in the documentation: https://pandas.pydata.org/pandas-docs/stable/user_guide/indexing.html#returning-a-view-versus-a-copy\n",
      "  price_df['rtn2'] = 1\n"
     ]
    }
   ],
   "source": [
    "price_df['rtn2'] = 1"
   ]
  },
  {
   "cell_type": "code",
   "execution_count": 30,
   "metadata": {},
   "outputs": [
    {
     "name": "stderr",
     "output_type": "stream",
     "text": [
      "C:\\Users\\SAMSUNG\\AppData\\Local\\Temp\\ipykernel_5692\\3826633359.py:3: FutureWarning: Setting an item of incompatible dtype is deprecated and will raise an error in a future version of pandas. Value '0.4406282722513089' has dtype incompatible with int64, please explicitly cast to a compatible dtype first.\n",
      "  price_df.iloc[i, 3] = rtn\n"
     ]
    }
   ],
   "source": [
    "for i in range(1, len(price_df), 2):\n",
    "    rtn = price_df.iloc[i,]['Close']/price_df.iloc[i-1,]['Open']\n",
    "    price_df.iloc[i, 3] = rtn"
   ]
  },
  {
   "cell_type": "code",
   "execution_count": 31,
   "metadata": {},
   "outputs": [
    {
     "data": {
      "text/html": [
       "<div>\n",
       "<style scoped>\n",
       "    .dataframe tbody tr th:only-of-type {\n",
       "        vertical-align: middle;\n",
       "    }\n",
       "\n",
       "    .dataframe tbody tr th {\n",
       "        vertical-align: top;\n",
       "    }\n",
       "\n",
       "    .dataframe thead th {\n",
       "        text-align: right;\n",
       "    }\n",
       "</style>\n",
       "<table border=\"1\" class=\"dataframe\">\n",
       "  <thead>\n",
       "    <tr style=\"text-align: right;\">\n",
       "      <th></th>\n",
       "      <th>Open</th>\n",
       "      <th>Close</th>\n",
       "      <th>rtn</th>\n",
       "      <th>rtn2</th>\n",
       "    </tr>\n",
       "    <tr>\n",
       "      <th>Date</th>\n",
       "      <th></th>\n",
       "      <th></th>\n",
       "      <th></th>\n",
       "      <th></th>\n",
       "    </tr>\n",
       "  </thead>\n",
       "  <tbody>\n",
       "    <tr>\n",
       "      <th>2000-11-01</th>\n",
       "      <td>35.812500</td>\n",
       "      <td>37.375000</td>\n",
       "      <td>1.000000</td>\n",
       "      <td>1.000000</td>\n",
       "    </tr>\n",
       "    <tr>\n",
       "      <th>2001-04-30</th>\n",
       "      <td>15.630000</td>\n",
       "      <td>15.780000</td>\n",
       "      <td>0.440628</td>\n",
       "      <td>0.440628</td>\n",
       "    </tr>\n",
       "    <tr>\n",
       "      <th>2001-11-01</th>\n",
       "      <td>7.080000</td>\n",
       "      <td>6.950000</td>\n",
       "      <td>1.000000</td>\n",
       "      <td>1.000000</td>\n",
       "    </tr>\n",
       "    <tr>\n",
       "      <th>2002-04-30</th>\n",
       "      <td>16.129999</td>\n",
       "      <td>16.690001</td>\n",
       "      <td>2.357345</td>\n",
       "      <td>2.357345</td>\n",
       "    </tr>\n",
       "    <tr>\n",
       "      <th>2002-11-01</th>\n",
       "      <td>19.219999</td>\n",
       "      <td>19.799999</td>\n",
       "      <td>1.000000</td>\n",
       "      <td>1.000000</td>\n",
       "    </tr>\n",
       "    <tr>\n",
       "      <th>2003-04-30</th>\n",
       "      <td>28.600000</td>\n",
       "      <td>28.690001</td>\n",
       "      <td>1.492716</td>\n",
       "      <td>1.492716</td>\n",
       "    </tr>\n",
       "    <tr>\n",
       "      <th>2003-11-03</th>\n",
       "      <td>54.799999</td>\n",
       "      <td>56.740002</td>\n",
       "      <td>1.000000</td>\n",
       "      <td>1.000000</td>\n",
       "    </tr>\n",
       "    <tr>\n",
       "      <th>2004-04-30</th>\n",
       "      <td>46.060001</td>\n",
       "      <td>43.599998</td>\n",
       "      <td>0.795620</td>\n",
       "      <td>0.795620</td>\n",
       "    </tr>\n",
       "    <tr>\n",
       "      <th>2004-11-01</th>\n",
       "      <td>34.220001</td>\n",
       "      <td>35.099998</td>\n",
       "      <td>1.000000</td>\n",
       "      <td>1.000000</td>\n",
       "    </tr>\n",
       "    <tr>\n",
       "      <th>2005-04-29</th>\n",
       "      <td>32.860001</td>\n",
       "      <td>32.360001</td>\n",
       "      <td>0.945646</td>\n",
       "      <td>0.945646</td>\n",
       "    </tr>\n",
       "    <tr>\n",
       "      <th>2005-11-01</th>\n",
       "      <td>39.970001</td>\n",
       "      <td>40.369999</td>\n",
       "      <td>1.000000</td>\n",
       "      <td>1.000000</td>\n",
       "    </tr>\n",
       "    <tr>\n",
       "      <th>2006-04-28</th>\n",
       "      <td>35.770000</td>\n",
       "      <td>35.209999</td>\n",
       "      <td>0.880911</td>\n",
       "      <td>0.880911</td>\n",
       "    </tr>\n",
       "    <tr>\n",
       "      <th>2006-11-01</th>\n",
       "      <td>38.130001</td>\n",
       "      <td>37.560001</td>\n",
       "      <td>1.000000</td>\n",
       "      <td>1.000000</td>\n",
       "    </tr>\n",
       "    <tr>\n",
       "      <th>2007-04-30</th>\n",
       "      <td>61.910000</td>\n",
       "      <td>61.330002</td>\n",
       "      <td>1.608445</td>\n",
       "      <td>1.608445</td>\n",
       "    </tr>\n",
       "    <tr>\n",
       "      <th>2007-11-01</th>\n",
       "      <td>87.750000</td>\n",
       "      <td>87.650002</td>\n",
       "      <td>1.000000</td>\n",
       "      <td>1.000000</td>\n",
       "    </tr>\n",
       "    <tr>\n",
       "      <th>2008-04-30</th>\n",
       "      <td>80.900002</td>\n",
       "      <td>78.629997</td>\n",
       "      <td>0.896068</td>\n",
       "      <td>0.896068</td>\n",
       "    </tr>\n",
       "    <tr>\n",
       "      <th>2008-11-03</th>\n",
       "      <td>56.349998</td>\n",
       "      <td>55.770000</td>\n",
       "      <td>1.000000</td>\n",
       "      <td>1.000000</td>\n",
       "    </tr>\n",
       "    <tr>\n",
       "      <th>2009-04-30</th>\n",
       "      <td>80.930000</td>\n",
       "      <td>80.519997</td>\n",
       "      <td>1.428926</td>\n",
       "      <td>1.428926</td>\n",
       "    </tr>\n",
       "    <tr>\n",
       "      <th>2009-11-02</th>\n",
       "      <td>118.660004</td>\n",
       "      <td>118.839996</td>\n",
       "      <td>1.000000</td>\n",
       "      <td>1.000000</td>\n",
       "    </tr>\n",
       "    <tr>\n",
       "      <th>2010-04-30</th>\n",
       "      <td>141.399994</td>\n",
       "      <td>137.100006</td>\n",
       "      <td>1.155402</td>\n",
       "      <td>1.155402</td>\n",
       "    </tr>\n",
       "  </tbody>\n",
       "</table>\n",
       "</div>"
      ],
      "text/plain": [
       "                  Open       Close       rtn      rtn2\n",
       "Date                                                  \n",
       "2000-11-01   35.812500   37.375000  1.000000  1.000000\n",
       "2001-04-30   15.630000   15.780000  0.440628  0.440628\n",
       "2001-11-01    7.080000    6.950000  1.000000  1.000000\n",
       "2002-04-30   16.129999   16.690001  2.357345  2.357345\n",
       "2002-11-01   19.219999   19.799999  1.000000  1.000000\n",
       "2003-04-30   28.600000   28.690001  1.492716  1.492716\n",
       "2003-11-03   54.799999   56.740002  1.000000  1.000000\n",
       "2004-04-30   46.060001   43.599998  0.795620  0.795620\n",
       "2004-11-01   34.220001   35.099998  1.000000  1.000000\n",
       "2005-04-29   32.860001   32.360001  0.945646  0.945646\n",
       "2005-11-01   39.970001   40.369999  1.000000  1.000000\n",
       "2006-04-28   35.770000   35.209999  0.880911  0.880911\n",
       "2006-11-01   38.130001   37.560001  1.000000  1.000000\n",
       "2007-04-30   61.910000   61.330002  1.608445  1.608445\n",
       "2007-11-01   87.750000   87.650002  1.000000  1.000000\n",
       "2008-04-30   80.900002   78.629997  0.896068  0.896068\n",
       "2008-11-03   56.349998   55.770000  1.000000  1.000000\n",
       "2009-04-30   80.930000   80.519997  1.428926  1.428926\n",
       "2009-11-02  118.660004  118.839996  1.000000  1.000000\n",
       "2010-04-30  141.399994  137.100006  1.155402  1.155402"
      ]
     },
     "execution_count": 31,
     "metadata": {},
     "output_type": "execute_result"
    }
   ],
   "source": [
    "price_df"
   ]
  },
  {
   "cell_type": "code",
   "execution_count": 32,
   "metadata": {},
   "outputs": [
    {
     "name": "stderr",
     "output_type": "stream",
     "text": [
      "C:\\Users\\SAMSUNG\\AppData\\Local\\Temp\\ipykernel_5692\\1699705598.py:1: SettingWithCopyWarning: \n",
      "A value is trying to be set on a copy of a slice from a DataFrame.\n",
      "Try using .loc[row_indexer,col_indexer] = value instead\n",
      "\n",
      "See the caveats in the documentation: https://pandas.pydata.org/pandas-docs/stable/user_guide/indexing.html#returning-a-view-versus-a-copy\n",
      "  price_df['rtn3'] = 1\n"
     ]
    }
   ],
   "source": [
    "price_df['rtn3'] = 1"
   ]
  },
  {
   "cell_type": "code",
   "execution_count": 35,
   "metadata": {},
   "outputs": [],
   "source": [
    "# 데이터중 4월의 데이터만 추출\n",
    "flag = price_df.index.month == 4"
   ]
  },
  {
   "cell_type": "code",
   "execution_count": 37,
   "metadata": {},
   "outputs": [
    {
     "name": "stderr",
     "output_type": "stream",
     "text": [
      "C:\\Users\\SAMSUNG\\AppData\\Local\\Temp\\ipykernel_5692\\241661847.py:5: FutureWarning: Setting an item of incompatible dtype is deprecated and will raise an error in a future version of pandas. Value '0.4406282722513089' has dtype incompatible with int64, please explicitly cast to a compatible dtype first.\n",
      "  price_df.loc[i, 'rtn3'] =rtn\n"
     ]
    }
   ],
   "source": [
    "for i in price_df.index:\n",
    "# i가 의미하는 것은? 인덱스 데이터\n",
    "    if i.month == 4:\n",
    "        rtn = price_df.loc[i, 'Close'] / price_df.shift().loc[i, 'Open']\n",
    "        price_df.loc[i, 'rtn3'] =rtn\n",
    "   "
   ]
  },
  {
   "cell_type": "code",
   "execution_count": 38,
   "metadata": {},
   "outputs": [
    {
     "data": {
      "text/html": [
       "<div>\n",
       "<style scoped>\n",
       "    .dataframe tbody tr th:only-of-type {\n",
       "        vertical-align: middle;\n",
       "    }\n",
       "\n",
       "    .dataframe tbody tr th {\n",
       "        vertical-align: top;\n",
       "    }\n",
       "\n",
       "    .dataframe thead th {\n",
       "        text-align: right;\n",
       "    }\n",
       "</style>\n",
       "<table border=\"1\" class=\"dataframe\">\n",
       "  <thead>\n",
       "    <tr style=\"text-align: right;\">\n",
       "      <th></th>\n",
       "      <th>Open</th>\n",
       "      <th>Close</th>\n",
       "      <th>rtn</th>\n",
       "      <th>rtn2</th>\n",
       "      <th>rtn3</th>\n",
       "    </tr>\n",
       "    <tr>\n",
       "      <th>Date</th>\n",
       "      <th></th>\n",
       "      <th></th>\n",
       "      <th></th>\n",
       "      <th></th>\n",
       "      <th></th>\n",
       "    </tr>\n",
       "  </thead>\n",
       "  <tbody>\n",
       "    <tr>\n",
       "      <th>2000-11-01</th>\n",
       "      <td>35.812500</td>\n",
       "      <td>37.375000</td>\n",
       "      <td>1.000000</td>\n",
       "      <td>1.000000</td>\n",
       "      <td>1.000000</td>\n",
       "    </tr>\n",
       "    <tr>\n",
       "      <th>2001-04-30</th>\n",
       "      <td>15.630000</td>\n",
       "      <td>15.780000</td>\n",
       "      <td>0.440628</td>\n",
       "      <td>0.440628</td>\n",
       "      <td>0.440628</td>\n",
       "    </tr>\n",
       "    <tr>\n",
       "      <th>2001-11-01</th>\n",
       "      <td>7.080000</td>\n",
       "      <td>6.950000</td>\n",
       "      <td>1.000000</td>\n",
       "      <td>1.000000</td>\n",
       "      <td>1.000000</td>\n",
       "    </tr>\n",
       "    <tr>\n",
       "      <th>2002-04-30</th>\n",
       "      <td>16.129999</td>\n",
       "      <td>16.690001</td>\n",
       "      <td>2.357345</td>\n",
       "      <td>2.357345</td>\n",
       "      <td>2.357345</td>\n",
       "    </tr>\n",
       "    <tr>\n",
       "      <th>2002-11-01</th>\n",
       "      <td>19.219999</td>\n",
       "      <td>19.799999</td>\n",
       "      <td>1.000000</td>\n",
       "      <td>1.000000</td>\n",
       "      <td>1.000000</td>\n",
       "    </tr>\n",
       "    <tr>\n",
       "      <th>2003-04-30</th>\n",
       "      <td>28.600000</td>\n",
       "      <td>28.690001</td>\n",
       "      <td>1.492716</td>\n",
       "      <td>1.492716</td>\n",
       "      <td>1.492716</td>\n",
       "    </tr>\n",
       "    <tr>\n",
       "      <th>2003-11-03</th>\n",
       "      <td>54.799999</td>\n",
       "      <td>56.740002</td>\n",
       "      <td>1.000000</td>\n",
       "      <td>1.000000</td>\n",
       "      <td>1.000000</td>\n",
       "    </tr>\n",
       "    <tr>\n",
       "      <th>2004-04-30</th>\n",
       "      <td>46.060001</td>\n",
       "      <td>43.599998</td>\n",
       "      <td>0.795620</td>\n",
       "      <td>0.795620</td>\n",
       "      <td>0.795620</td>\n",
       "    </tr>\n",
       "    <tr>\n",
       "      <th>2004-11-01</th>\n",
       "      <td>34.220001</td>\n",
       "      <td>35.099998</td>\n",
       "      <td>1.000000</td>\n",
       "      <td>1.000000</td>\n",
       "      <td>1.000000</td>\n",
       "    </tr>\n",
       "    <tr>\n",
       "      <th>2005-04-29</th>\n",
       "      <td>32.860001</td>\n",
       "      <td>32.360001</td>\n",
       "      <td>0.945646</td>\n",
       "      <td>0.945646</td>\n",
       "      <td>0.945646</td>\n",
       "    </tr>\n",
       "    <tr>\n",
       "      <th>2005-11-01</th>\n",
       "      <td>39.970001</td>\n",
       "      <td>40.369999</td>\n",
       "      <td>1.000000</td>\n",
       "      <td>1.000000</td>\n",
       "      <td>1.000000</td>\n",
       "    </tr>\n",
       "    <tr>\n",
       "      <th>2006-04-28</th>\n",
       "      <td>35.770000</td>\n",
       "      <td>35.209999</td>\n",
       "      <td>0.880911</td>\n",
       "      <td>0.880911</td>\n",
       "      <td>0.880911</td>\n",
       "    </tr>\n",
       "    <tr>\n",
       "      <th>2006-11-01</th>\n",
       "      <td>38.130001</td>\n",
       "      <td>37.560001</td>\n",
       "      <td>1.000000</td>\n",
       "      <td>1.000000</td>\n",
       "      <td>1.000000</td>\n",
       "    </tr>\n",
       "    <tr>\n",
       "      <th>2007-04-30</th>\n",
       "      <td>61.910000</td>\n",
       "      <td>61.330002</td>\n",
       "      <td>1.608445</td>\n",
       "      <td>1.608445</td>\n",
       "      <td>1.608445</td>\n",
       "    </tr>\n",
       "    <tr>\n",
       "      <th>2007-11-01</th>\n",
       "      <td>87.750000</td>\n",
       "      <td>87.650002</td>\n",
       "      <td>1.000000</td>\n",
       "      <td>1.000000</td>\n",
       "      <td>1.000000</td>\n",
       "    </tr>\n",
       "    <tr>\n",
       "      <th>2008-04-30</th>\n",
       "      <td>80.900002</td>\n",
       "      <td>78.629997</td>\n",
       "      <td>0.896068</td>\n",
       "      <td>0.896068</td>\n",
       "      <td>0.896068</td>\n",
       "    </tr>\n",
       "    <tr>\n",
       "      <th>2008-11-03</th>\n",
       "      <td>56.349998</td>\n",
       "      <td>55.770000</td>\n",
       "      <td>1.000000</td>\n",
       "      <td>1.000000</td>\n",
       "      <td>1.000000</td>\n",
       "    </tr>\n",
       "    <tr>\n",
       "      <th>2009-04-30</th>\n",
       "      <td>80.930000</td>\n",
       "      <td>80.519997</td>\n",
       "      <td>1.428926</td>\n",
       "      <td>1.428926</td>\n",
       "      <td>1.428926</td>\n",
       "    </tr>\n",
       "    <tr>\n",
       "      <th>2009-11-02</th>\n",
       "      <td>118.660004</td>\n",
       "      <td>118.839996</td>\n",
       "      <td>1.000000</td>\n",
       "      <td>1.000000</td>\n",
       "      <td>1.000000</td>\n",
       "    </tr>\n",
       "    <tr>\n",
       "      <th>2010-04-30</th>\n",
       "      <td>141.399994</td>\n",
       "      <td>137.100006</td>\n",
       "      <td>1.155402</td>\n",
       "      <td>1.155402</td>\n",
       "      <td>1.155402</td>\n",
       "    </tr>\n",
       "  </tbody>\n",
       "</table>\n",
       "</div>"
      ],
      "text/plain": [
       "                  Open       Close       rtn      rtn2      rtn3\n",
       "Date                                                            \n",
       "2000-11-01   35.812500   37.375000  1.000000  1.000000  1.000000\n",
       "2001-04-30   15.630000   15.780000  0.440628  0.440628  0.440628\n",
       "2001-11-01    7.080000    6.950000  1.000000  1.000000  1.000000\n",
       "2002-04-30   16.129999   16.690001  2.357345  2.357345  2.357345\n",
       "2002-11-01   19.219999   19.799999  1.000000  1.000000  1.000000\n",
       "2003-04-30   28.600000   28.690001  1.492716  1.492716  1.492716\n",
       "2003-11-03   54.799999   56.740002  1.000000  1.000000  1.000000\n",
       "2004-04-30   46.060001   43.599998  0.795620  0.795620  0.795620\n",
       "2004-11-01   34.220001   35.099998  1.000000  1.000000  1.000000\n",
       "2005-04-29   32.860001   32.360001  0.945646  0.945646  0.945646\n",
       "2005-11-01   39.970001   40.369999  1.000000  1.000000  1.000000\n",
       "2006-04-28   35.770000   35.209999  0.880911  0.880911  0.880911\n",
       "2006-11-01   38.130001   37.560001  1.000000  1.000000  1.000000\n",
       "2007-04-30   61.910000   61.330002  1.608445  1.608445  1.608445\n",
       "2007-11-01   87.750000   87.650002  1.000000  1.000000  1.000000\n",
       "2008-04-30   80.900002   78.629997  0.896068  0.896068  0.896068\n",
       "2008-11-03   56.349998   55.770000  1.000000  1.000000  1.000000\n",
       "2009-04-30   80.930000   80.519997  1.428926  1.428926  1.428926\n",
       "2009-11-02  118.660004  118.839996  1.000000  1.000000  1.000000\n",
       "2010-04-30  141.399994  137.100006  1.155402  1.155402  1.155402"
      ]
     },
     "execution_count": 38,
     "metadata": {},
     "output_type": "execute_result"
    }
   ],
   "source": [
    "price_df"
   ]
  },
  {
   "cell_type": "code",
   "execution_count": 39,
   "metadata": {},
   "outputs": [
    {
     "data": {
      "text/plain": [
       "Date\n",
       "2000-11-01    1.000000\n",
       "2001-04-30    0.440628\n",
       "2001-11-01    0.440628\n",
       "2002-04-30    1.038713\n",
       "2002-11-01    1.038713\n",
       "2003-04-30    1.550503\n",
       "2003-11-03    1.550503\n",
       "2004-04-30    1.233612\n",
       "2004-11-01    1.233612\n",
       "2005-04-29    1.166560\n",
       "2005-11-01    1.166560\n",
       "2006-04-28    1.027635\n",
       "2006-11-01    1.027635\n",
       "2007-04-30    1.652894\n",
       "2007-11-01    1.652894\n",
       "2008-04-30    1.481106\n",
       "2008-11-03    1.481106\n",
       "2009-04-30    2.116392\n",
       "2009-11-02    2.116392\n",
       "2010-04-30    2.445283\n",
       "Name: rtn, dtype: float64"
      ]
     },
     "execution_count": 39,
     "metadata": {},
     "output_type": "execute_result"
    }
   ],
   "source": [
    "price_df['rtn'].cumprod()"
   ]
  },
  {
   "cell_type": "code",
   "execution_count": 46,
   "metadata": {},
   "outputs": [
    {
     "data": {
      "text/plain": [
       "datetime.datetime(2000, 11, 1, 0, 0)"
      ]
     },
     "execution_count": 46,
     "metadata": {},
     "output_type": "execute_result"
    }
   ],
   "source": [
    "start = datetime(year=2000, month=11, day=1)\n",
    "start"
   ]
  },
  {
   "cell_type": "code",
   "execution_count": 47,
   "metadata": {},
   "outputs": [],
   "source": [
    "# 시작일로부터 5개월 뒤\n",
    "end = start + relativedelta(months=5)"
   ]
  },
  {
   "cell_type": "code",
   "execution_count": 48,
   "metadata": {},
   "outputs": [
    {
     "data": {
      "text/plain": [
       "'2000-11'"
      ]
     },
     "execution_count": 48,
     "metadata": {},
     "output_type": "execute_result"
    }
   ],
   "source": [
    "start = start.strftime(\"%Y-%m\")\n",
    "start"
   ]
  },
  {
   "cell_type": "code",
   "execution_count": 49,
   "metadata": {},
   "outputs": [
    {
     "data": {
      "text/plain": [
       "'2001-04'"
      ]
     },
     "execution_count": 49,
     "metadata": {},
     "output_type": "execute_result"
    }
   ],
   "source": [
    "end = end.strftime('%Y-%m')\n",
    "end"
   ]
  },
  {
   "cell_type": "markdown",
   "metadata": {},
   "source": [
    "### 할로윈 투자전략을 함수화\n",
    "1. 매개변수 4개 : 데이터프레임, 시작년도, 종료년도, 시작월\n",
    "  - 시작년도는 기본값 : 2000\n",
    "  - 종료년도는 기본값 : 2010\n",
    "  - 시작월은 기본값 : 11\n",
    "2. 컬럼에 Date가 존재하는가?\n",
    "  - 존재한다면 Date를 인덱스로 변경\n",
    "3. 인덱스를 시계열 데이터로 변환"
   ]
  },
  {
   "cell_type": "code",
   "execution_count": 54,
   "metadata": {},
   "outputs": [],
   "source": [
    "## 할로윈 전략을 함수화하기\n",
    "def six_month(_df,\n",
    "              _start = 2000,\n",
    "              _end = datetime.now().year,\n",
    "              _month = 11):\n",
    "    df = _df.copy()\n",
    "    if 'Date' in df.columns:\n",
    "        df.set_index('Date', inplace=True)\n",
    "\n",
    "    df.index = pd.to_datetime(df.index, format='%Y-%m-%d')\n",
    "    df = df[['Open','Close']]\n",
    "    # 비어있는 데이터프레임 생성\n",
    "    result = pd.DataFrame()\n",
    "\n",
    "    for i in range(_start, _end):\n",
    "        start = datetime(year= i, month=_month, day=1)\n",
    "        end = start + relativedelta(months=5)\n",
    "\n",
    "        buy_mon = start.strftime('%Y-%m')\n",
    "        sell_mon = end.strftime('%Y-%m')\n",
    "        try:\n",
    "\n",
    "            buy = df.loc[buy_mon,].head(1)\n",
    "            sell = df.loc[sell_mon,].tail(1)\n",
    "\n",
    "            result = pd.concat([result, buy, sell],axis=0)\n",
    "        except:\n",
    "            break\n",
    "\n",
    "    # 수익률 계산\n",
    "    result['rtn'] = 1\n",
    "    for i in range(1, len(result),2):\n",
    "        rtn = result.iloc[i,]['Close']/result.iloc[i-1,]['Open']\n",
    "        result.iloc[i,2] = rtn\n",
    "\n",
    "    # 누적수익률 계산\n",
    "    result['acc_rtn'] = result['rtn'].cumprod()\n",
    "\n",
    "    # 총 누적수익률 변수에 저장\n",
    "    acc_rtn = result.iloc[i,]['acc_rtn']\n",
    "    \n",
    "    return result, acc_rtn\n"
   ]
  },
  {
   "cell_type": "code",
   "execution_count": 55,
   "metadata": {},
   "outputs": [],
   "source": [
    "df = pd.read_csv(\"C:/Users/SAMSUNG/Documents/R/csv/AMZN.csv\")"
   ]
  },
  {
   "cell_type": "code",
   "execution_count": null,
   "metadata": {},
   "outputs": [],
   "source": [
    "six_month(df)"
   ]
  },
  {
   "cell_type": "code",
   "execution_count": 57,
   "metadata": {},
   "outputs": [
    {
     "name": "stdout",
     "output_type": "stream",
     "text": [
      "Defaulting to user installation because normal site-packages is not writeable\n",
      "Collecting yfinance\n",
      "  Downloading yfinance-0.2.37-py2.py3-none-any.whl.metadata (11 kB)\n",
      "Requirement already satisfied: pandas>=1.3.0 in c:\\users\\samsung\\appdata\\local\\packages\\pythonsoftwarefoundation.python.3.12_qbz5n2kfra8p0\\localcache\\local-packages\\python312\\site-packages (from yfinance) (2.2.0)\n",
      "Requirement already satisfied: numpy>=1.16.5 in c:\\users\\samsung\\appdata\\local\\packages\\pythonsoftwarefoundation.python.3.12_qbz5n2kfra8p0\\localcache\\local-packages\\python312\\site-packages (from yfinance) (1.26.4)\n",
      "Requirement already satisfied: requests>=2.31 in c:\\users\\samsung\\appdata\\local\\packages\\pythonsoftwarefoundation.python.3.12_qbz5n2kfra8p0\\localcache\\local-packages\\python312\\site-packages (from yfinance) (2.31.0)\n",
      "Collecting multitasking>=0.0.7 (from yfinance)\n",
      "  Downloading multitasking-0.0.11-py3-none-any.whl.metadata (5.5 kB)\n",
      "Collecting lxml>=4.9.1 (from yfinance)\n",
      "  Downloading lxml-5.1.0-cp312-cp312-win_amd64.whl.metadata (3.6 kB)\n",
      "Collecting appdirs>=1.4.4 (from yfinance)\n",
      "  Downloading appdirs-1.4.4-py2.py3-none-any.whl (9.6 kB)\n",
      "Requirement already satisfied: pytz>=2022.5 in c:\\users\\samsung\\appdata\\local\\packages\\pythonsoftwarefoundation.python.3.12_qbz5n2kfra8p0\\localcache\\local-packages\\python312\\site-packages (from yfinance) (2024.1)\n",
      "Collecting frozendict>=2.3.4 (from yfinance)\n",
      "  Downloading frozendict-2.4.0.tar.gz (314 kB)\n",
      "     ---------------------------------------- 0.0/314.6 kB ? eta -:--:--\n",
      "     -------------- ----------------------- 122.9/314.6 kB 3.6 MB/s eta 0:00:01\n",
      "     -------------------------------------- 314.6/314.6 kB 3.9 MB/s eta 0:00:00\n",
      "  Installing build dependencies: started\n",
      "  Installing build dependencies: finished with status 'done'\n",
      "  Getting requirements to build wheel: started\n",
      "  Getting requirements to build wheel: finished with status 'done'\n",
      "  Installing backend dependencies: started\n",
      "  Installing backend dependencies: finished with status 'done'\n",
      "  Preparing metadata (pyproject.toml): started\n",
      "  Preparing metadata (pyproject.toml): finished with status 'done'\n",
      "Collecting peewee>=3.16.2 (from yfinance)\n",
      "  Downloading peewee-3.17.1.tar.gz (3.0 MB)\n",
      "     ---------------------------------------- 0.0/3.0 MB ? eta -:--:--\n",
      "     --- ------------------------------------ 0.2/3.0 MB 14.1 MB/s eta 0:00:01\n",
      "     ------- -------------------------------- 0.6/3.0 MB 7.0 MB/s eta 0:00:01\n",
      "     ----------- ---------------------------- 0.9/3.0 MB 6.9 MB/s eta 0:00:01\n",
      "     -------------- ------------------------- 1.1/3.0 MB 6.4 MB/s eta 0:00:01\n",
      "     ------------------- -------------------- 1.4/3.0 MB 6.5 MB/s eta 0:00:01\n",
      "     ----------------------- ---------------- 1.8/3.0 MB 6.5 MB/s eta 0:00:01\n",
      "     ---------------------------- ----------- 2.1/3.0 MB 6.9 MB/s eta 0:00:01\n",
      "     --------------------------------- ------ 2.4/3.0 MB 6.8 MB/s eta 0:00:01\n",
      "     ------------------------------------- -- 2.8/3.0 MB 6.8 MB/s eta 0:00:01\n",
      "     ---------------------------------------- 3.0/3.0 MB 6.7 MB/s eta 0:00:00\n",
      "  Installing build dependencies: started\n",
      "  Installing build dependencies: finished with status 'done'\n",
      "  Getting requirements to build wheel: started\n",
      "  Getting requirements to build wheel: finished with status 'done'\n",
      "  Preparing metadata (pyproject.toml): started\n",
      "  Preparing metadata (pyproject.toml): finished with status 'done'\n",
      "Requirement already satisfied: beautifulsoup4>=4.11.1 in c:\\users\\samsung\\appdata\\local\\packages\\pythonsoftwarefoundation.python.3.12_qbz5n2kfra8p0\\localcache\\local-packages\\python312\\site-packages (from yfinance) (4.12.3)\n",
      "Collecting html5lib>=1.1 (from yfinance)\n",
      "  Downloading html5lib-1.1-py2.py3-none-any.whl (112 kB)\n",
      "     ---------------------------------------- 0.0/112.2 kB ? eta -:--:--\n",
      "     -------------------------------------- 112.2/112.2 kB 6.4 MB/s eta 0:00:00\n",
      "Requirement already satisfied: soupsieve>1.2 in c:\\users\\samsung\\appdata\\local\\packages\\pythonsoftwarefoundation.python.3.12_qbz5n2kfra8p0\\localcache\\local-packages\\python312\\site-packages (from beautifulsoup4>=4.11.1->yfinance) (2.5)\n",
      "Requirement already satisfied: six>=1.9 in c:\\users\\samsung\\appdata\\local\\packages\\pythonsoftwarefoundation.python.3.12_qbz5n2kfra8p0\\localcache\\local-packages\\python312\\site-packages (from html5lib>=1.1->yfinance) (1.16.0)\n",
      "Collecting webencodings (from html5lib>=1.1->yfinance)\n",
      "  Downloading webencodings-0.5.1-py2.py3-none-any.whl (11 kB)\n",
      "Requirement already satisfied: python-dateutil>=2.8.2 in c:\\users\\samsung\\appdata\\local\\packages\\pythonsoftwarefoundation.python.3.12_qbz5n2kfra8p0\\localcache\\local-packages\\python312\\site-packages (from pandas>=1.3.0->yfinance) (2.8.2)\n",
      "Requirement already satisfied: tzdata>=2022.7 in c:\\users\\samsung\\appdata\\local\\packages\\pythonsoftwarefoundation.python.3.12_qbz5n2kfra8p0\\localcache\\local-packages\\python312\\site-packages (from pandas>=1.3.0->yfinance) (2024.1)\n",
      "Requirement already satisfied: charset-normalizer<4,>=2 in c:\\users\\samsung\\appdata\\local\\packages\\pythonsoftwarefoundation.python.3.12_qbz5n2kfra8p0\\localcache\\local-packages\\python312\\site-packages (from requests>=2.31->yfinance) (3.3.2)\n",
      "Requirement already satisfied: idna<4,>=2.5 in c:\\users\\samsung\\appdata\\local\\packages\\pythonsoftwarefoundation.python.3.12_qbz5n2kfra8p0\\localcache\\local-packages\\python312\\site-packages (from requests>=2.31->yfinance) (3.6)\n",
      "Requirement already satisfied: urllib3<3,>=1.21.1 in c:\\users\\samsung\\appdata\\local\\packages\\pythonsoftwarefoundation.python.3.12_qbz5n2kfra8p0\\localcache\\local-packages\\python312\\site-packages (from requests>=2.31->yfinance) (2.2.1)\n",
      "Requirement already satisfied: certifi>=2017.4.17 in c:\\users\\samsung\\appdata\\local\\packages\\pythonsoftwarefoundation.python.3.12_qbz5n2kfra8p0\\localcache\\local-packages\\python312\\site-packages (from requests>=2.31->yfinance) (2024.2.2)\n",
      "Downloading yfinance-0.2.37-py2.py3-none-any.whl (72 kB)\n",
      "   ---------------------------------------- 0.0/73.0 kB ? eta -:--:--\n",
      "   ---------------------------------------- 73.0/73.0 kB 3.9 MB/s eta 0:00:00\n",
      "Downloading lxml-5.1.0-cp312-cp312-win_amd64.whl (3.9 MB)\n",
      "   ---------------------------------------- 0.0/3.9 MB ? eta -:--:--\n",
      "   -- ------------------------------------- 0.2/3.9 MB 7.3 MB/s eta 0:00:01\n",
      "   ----- ---------------------------------- 0.5/3.9 MB 6.4 MB/s eta 0:00:01\n",
      "   ------- -------------------------------- 0.7/3.9 MB 5.4 MB/s eta 0:00:01\n",
      "   --------- ------------------------------ 1.0/3.9 MB 5.6 MB/s eta 0:00:01\n",
      "   ------------ --------------------------- 1.2/3.9 MB 5.6 MB/s eta 0:00:01\n",
      "   --------------- ------------------------ 1.6/3.9 MB 5.8 MB/s eta 0:00:01\n",
      "   ------------------- -------------------- 1.9/3.9 MB 6.0 MB/s eta 0:00:01\n",
      "   ---------------------- ----------------- 2.2/3.9 MB 6.2 MB/s eta 0:00:01\n",
      "   -------------------------- ------------- 2.6/3.9 MB 6.3 MB/s eta 0:00:01\n",
      "   ----------------------------- ---------- 2.9/3.9 MB 6.3 MB/s eta 0:00:01\n",
      "   -------------------------------- ------- 3.2/3.9 MB 6.3 MB/s eta 0:00:01\n",
      "   ----------------------------------- ---- 3.4/3.9 MB 6.3 MB/s eta 0:00:01\n",
      "   -------------------------------------- - 3.8/3.9 MB 6.4 MB/s eta 0:00:01\n",
      "   ---------------------------------------- 3.9/3.9 MB 6.1 MB/s eta 0:00:00\n",
      "Downloading multitasking-0.0.11-py3-none-any.whl (8.5 kB)\n",
      "Building wheels for collected packages: frozendict, peewee\n",
      "  Building wheel for frozendict (pyproject.toml): started\n",
      "  Building wheel for frozendict (pyproject.toml): finished with status 'done'\n",
      "  Created wheel for frozendict: filename=frozendict-2.4.0-py3-none-any.whl size=15471 sha256=3450b1b7005c71cd125eeecdbbec48c68b9c21492c6d93c6fac4cdc1bdd003cf\n",
      "  Stored in directory: c:\\users\\samsung\\appdata\\local\\packages\\pythonsoftwarefoundation.python.3.12_qbz5n2kfra8p0\\localcache\\local\\pip\\cache\\wheels\\f8\\24\\61\\a7327cee6da6ddddd619cddf13acfb4ec63606c69bbfe31486\n",
      "  Building wheel for peewee (pyproject.toml): started\n",
      "  Building wheel for peewee (pyproject.toml): finished with status 'done'\n",
      "  Created wheel for peewee: filename=peewee-3.17.1-py3-none-any.whl size=136948 sha256=540dceb2ea724bf2e88d3b32b26de73630eaa13a26819508c2f81f3b11355f66\n",
      "  Stored in directory: c:\\users\\samsung\\appdata\\local\\packages\\pythonsoftwarefoundation.python.3.12_qbz5n2kfra8p0\\localcache\\local\\pip\\cache\\wheels\\fe\\58\\f4\\132ded03aa364dd5d2bbc2d02e1c2074a9b5012776d15fc2dc\n",
      "Successfully built frozendict peewee\n",
      "Installing collected packages: webencodings, peewee, multitasking, appdirs, lxml, html5lib, frozendict, yfinance\n",
      "Successfully installed appdirs-1.4.4 frozendict-2.4.0 html5lib-1.1 lxml-5.1.0 multitasking-0.0.11 peewee-3.17.1 webencodings-0.5.1 yfinance-0.2.37\n"
     ]
    }
   ],
   "source": [
    "# 야후 파이낸스 라이브러리 설치\n",
    "!pip install yfinance"
   ]
  },
  {
   "cell_type": "code",
   "execution_count": 58,
   "metadata": {},
   "outputs": [],
   "source": [
    "import yfinance as yf"
   ]
  },
  {
   "cell_type": "code",
   "execution_count": 59,
   "metadata": {},
   "outputs": [
    {
     "name": "stderr",
     "output_type": "stream",
     "text": [
      "[*********************100%%**********************]  1 of 1 completed\n"
     ]
    }
   ],
   "source": [
    "aapl = yf.download('AAPL', start='2020-01-01')"
   ]
  },
  {
   "cell_type": "code",
   "execution_count": 60,
   "metadata": {},
   "outputs": [
    {
     "data": {
      "text/html": [
       "<div>\n",
       "<style scoped>\n",
       "    .dataframe tbody tr th:only-of-type {\n",
       "        vertical-align: middle;\n",
       "    }\n",
       "\n",
       "    .dataframe tbody tr th {\n",
       "        vertical-align: top;\n",
       "    }\n",
       "\n",
       "    .dataframe thead th {\n",
       "        text-align: right;\n",
       "    }\n",
       "</style>\n",
       "<table border=\"1\" class=\"dataframe\">\n",
       "  <thead>\n",
       "    <tr style=\"text-align: right;\">\n",
       "      <th></th>\n",
       "      <th>Open</th>\n",
       "      <th>High</th>\n",
       "      <th>Low</th>\n",
       "      <th>Close</th>\n",
       "      <th>Adj Close</th>\n",
       "      <th>Volume</th>\n",
       "    </tr>\n",
       "    <tr>\n",
       "      <th>Date</th>\n",
       "      <th></th>\n",
       "      <th></th>\n",
       "      <th></th>\n",
       "      <th></th>\n",
       "      <th></th>\n",
       "      <th></th>\n",
       "    </tr>\n",
       "  </thead>\n",
       "  <tbody>\n",
       "    <tr>\n",
       "      <th>2020-01-02</th>\n",
       "      <td>74.059998</td>\n",
       "      <td>75.150002</td>\n",
       "      <td>73.797501</td>\n",
       "      <td>75.087502</td>\n",
       "      <td>73.059418</td>\n",
       "      <td>135480400</td>\n",
       "    </tr>\n",
       "    <tr>\n",
       "      <th>2020-01-03</th>\n",
       "      <td>74.287498</td>\n",
       "      <td>75.144997</td>\n",
       "      <td>74.125000</td>\n",
       "      <td>74.357498</td>\n",
       "      <td>72.349136</td>\n",
       "      <td>146322800</td>\n",
       "    </tr>\n",
       "    <tr>\n",
       "      <th>2020-01-06</th>\n",
       "      <td>73.447502</td>\n",
       "      <td>74.989998</td>\n",
       "      <td>73.187500</td>\n",
       "      <td>74.949997</td>\n",
       "      <td>72.925629</td>\n",
       "      <td>118387200</td>\n",
       "    </tr>\n",
       "    <tr>\n",
       "      <th>2020-01-07</th>\n",
       "      <td>74.959999</td>\n",
       "      <td>75.224998</td>\n",
       "      <td>74.370003</td>\n",
       "      <td>74.597504</td>\n",
       "      <td>72.582664</td>\n",
       "      <td>108872000</td>\n",
       "    </tr>\n",
       "    <tr>\n",
       "      <th>2020-01-08</th>\n",
       "      <td>74.290001</td>\n",
       "      <td>76.110001</td>\n",
       "      <td>74.290001</td>\n",
       "      <td>75.797501</td>\n",
       "      <td>73.750259</td>\n",
       "      <td>132079200</td>\n",
       "    </tr>\n",
       "  </tbody>\n",
       "</table>\n",
       "</div>"
      ],
      "text/plain": [
       "                 Open       High        Low      Close  Adj Close     Volume\n",
       "Date                                                                        \n",
       "2020-01-02  74.059998  75.150002  73.797501  75.087502  73.059418  135480400\n",
       "2020-01-03  74.287498  75.144997  74.125000  74.357498  72.349136  146322800\n",
       "2020-01-06  73.447502  74.989998  73.187500  74.949997  72.925629  118387200\n",
       "2020-01-07  74.959999  75.224998  74.370003  74.597504  72.582664  108872000\n",
       "2020-01-08  74.290001  76.110001  74.290001  75.797501  73.750259  132079200"
      ]
     },
     "execution_count": 60,
     "metadata": {},
     "output_type": "execute_result"
    }
   ],
   "source": [
    "aapl.head()"
   ]
  },
  {
   "cell_type": "code",
   "execution_count": 61,
   "metadata": {},
   "outputs": [
    {
     "name": "stderr",
     "output_type": "stream",
     "text": [
      "[*********************100%%**********************]  1 of 1 completed\n"
     ]
    }
   ],
   "source": [
    "sdi = yf.download('006400.KS', start='2015-01-01')"
   ]
  },
  {
   "cell_type": "code",
   "execution_count": 62,
   "metadata": {},
   "outputs": [
    {
     "data": {
      "text/html": [
       "<div>\n",
       "<style scoped>\n",
       "    .dataframe tbody tr th:only-of-type {\n",
       "        vertical-align: middle;\n",
       "    }\n",
       "\n",
       "    .dataframe tbody tr th {\n",
       "        vertical-align: top;\n",
       "    }\n",
       "\n",
       "    .dataframe thead th {\n",
       "        text-align: right;\n",
       "    }\n",
       "</style>\n",
       "<table border=\"1\" class=\"dataframe\">\n",
       "  <thead>\n",
       "    <tr style=\"text-align: right;\">\n",
       "      <th></th>\n",
       "      <th>Open</th>\n",
       "      <th>High</th>\n",
       "      <th>Low</th>\n",
       "      <th>Close</th>\n",
       "      <th>Adj Close</th>\n",
       "      <th>Volume</th>\n",
       "    </tr>\n",
       "    <tr>\n",
       "      <th>Date</th>\n",
       "      <th></th>\n",
       "      <th></th>\n",
       "      <th></th>\n",
       "      <th></th>\n",
       "      <th></th>\n",
       "      <th></th>\n",
       "    </tr>\n",
       "  </thead>\n",
       "  <tbody>\n",
       "    <tr>\n",
       "      <th>2015-01-02</th>\n",
       "      <td>115500.0</td>\n",
       "      <td>118500.0</td>\n",
       "      <td>115500.0</td>\n",
       "      <td>117000.0</td>\n",
       "      <td>112447.539062</td>\n",
       "      <td>129817</td>\n",
       "    </tr>\n",
       "    <tr>\n",
       "      <th>2015-01-05</th>\n",
       "      <td>116500.0</td>\n",
       "      <td>117500.0</td>\n",
       "      <td>114500.0</td>\n",
       "      <td>115000.0</td>\n",
       "      <td>110525.351562</td>\n",
       "      <td>218029</td>\n",
       "    </tr>\n",
       "    <tr>\n",
       "      <th>2015-01-06</th>\n",
       "      <td>112000.0</td>\n",
       "      <td>113000.0</td>\n",
       "      <td>110000.0</td>\n",
       "      <td>111000.0</td>\n",
       "      <td>106680.984375</td>\n",
       "      <td>283326</td>\n",
       "    </tr>\n",
       "    <tr>\n",
       "      <th>2015-01-07</th>\n",
       "      <td>109500.0</td>\n",
       "      <td>112000.0</td>\n",
       "      <td>109000.0</td>\n",
       "      <td>110500.0</td>\n",
       "      <td>106200.437500</td>\n",
       "      <td>170777</td>\n",
       "    </tr>\n",
       "    <tr>\n",
       "      <th>2015-01-08</th>\n",
       "      <td>111500.0</td>\n",
       "      <td>115000.0</td>\n",
       "      <td>111000.0</td>\n",
       "      <td>114000.0</td>\n",
       "      <td>109564.257812</td>\n",
       "      <td>192137</td>\n",
       "    </tr>\n",
       "  </tbody>\n",
       "</table>\n",
       "</div>"
      ],
      "text/plain": [
       "                Open      High       Low     Close      Adj Close  Volume\n",
       "Date                                                                     \n",
       "2015-01-02  115500.0  118500.0  115500.0  117000.0  112447.539062  129817\n",
       "2015-01-05  116500.0  117500.0  114500.0  115000.0  110525.351562  218029\n",
       "2015-01-06  112000.0  113000.0  110000.0  111000.0  106680.984375  283326\n",
       "2015-01-07  109500.0  112000.0  109000.0  110500.0  106200.437500  170777\n",
       "2015-01-08  111500.0  115000.0  111000.0  114000.0  109564.257812  192137"
      ]
     },
     "execution_count": 62,
     "metadata": {},
     "output_type": "execute_result"
    }
   ],
   "source": [
    "sdi.head(5)"
   ]
  },
  {
   "cell_type": "code",
   "execution_count": 63,
   "metadata": {},
   "outputs": [
    {
     "name": "stderr",
     "output_type": "stream",
     "text": [
      "C:\\Users\\SAMSUNG\\AppData\\Local\\Temp\\ipykernel_5692\\544274484.py:34: FutureWarning: Setting an item of incompatible dtype is deprecated and will raise an error in a future version of pandas. Value '1.2048392079414507' has dtype incompatible with int64, please explicitly cast to a compatible dtype first.\n",
      "  result.iloc[i,2] = rtn\n"
     ]
    },
    {
     "data": {
      "text/plain": [
       "(                  Open       Close       rtn   acc_rtn\n",
       " Date                                                  \n",
       " 2020-11-02  109.110001  108.769997  1.000000  1.000000\n",
       " 2021-04-30  131.779999  131.460007  1.204839  1.204839\n",
       " 2021-11-01  148.990005  148.960007  1.000000  1.204839\n",
       " 2022-04-29  161.839996  157.649994  1.058125  1.274870\n",
       " 2022-11-01  155.080002  150.649994  1.000000  1.274870\n",
       " 2023-04-28  168.490005  169.679993  1.094145  1.394893,\n",
       " 1.3948925454211853)"
      ]
     },
     "execution_count": 63,
     "metadata": {},
     "output_type": "execute_result"
    }
   ],
   "source": [
    "six_month(aapl, _start=2020)"
   ]
  },
  {
   "cell_type": "code",
   "execution_count": 66,
   "metadata": {},
   "outputs": [
    {
     "name": "stderr",
     "output_type": "stream",
     "text": [
      "C:\\Users\\SAMSUNG\\AppData\\Local\\Temp\\ipykernel_5692\\544274484.py:34: FutureWarning: Setting an item of incompatible dtype is deprecated and will raise an error in a future version of pandas. Value '0.961038961038961' has dtype incompatible with int64, please explicitly cast to a compatible dtype first.\n",
      "  result.iloc[i,2] = rtn\n",
      "C:\\Users\\SAMSUNG\\AppData\\Local\\Temp\\ipykernel_5692\\544274484.py:34: FutureWarning: Setting an item of incompatible dtype is deprecated and will raise an error in a future version of pandas. Value '0.6651162790697674' has dtype incompatible with int64, please explicitly cast to a compatible dtype first.\n",
      "  result.iloc[i,2] = rtn\n",
      "C:\\Users\\SAMSUNG\\AppData\\Local\\Temp\\ipykernel_5692\\544274484.py:34: FutureWarning: Setting an item of incompatible dtype is deprecated and will raise an error in a future version of pandas. Value '0.6123188405797102' has dtype incompatible with int64, please explicitly cast to a compatible dtype first.\n",
      "  result.iloc[i,2] = rtn\n",
      "C:\\Users\\SAMSUNG\\AppData\\Local\\Temp\\ipykernel_5692\\544274484.py:34: FutureWarning: Setting an item of incompatible dtype is deprecated and will raise an error in a future version of pandas. Value '0.8037037037037037' has dtype incompatible with int64, please explicitly cast to a compatible dtype first.\n",
      "  result.iloc[i,2] = rtn\n",
      "C:\\Users\\SAMSUNG\\AppData\\Local\\Temp\\ipykernel_5692\\544274484.py:34: FutureWarning: Setting an item of incompatible dtype is deprecated and will raise an error in a future version of pandas. Value '0.8875' has dtype incompatible with int64, please explicitly cast to a compatible dtype first.\n",
      "  result.iloc[i,2] = rtn\n",
      "C:\\Users\\SAMSUNG\\AppData\\Local\\Temp\\ipykernel_5692\\544274484.py:34: FutureWarning: Setting an item of incompatible dtype is deprecated and will raise an error in a future version of pandas. Value '0.975609756097561' has dtype incompatible with int64, please explicitly cast to a compatible dtype first.\n",
      "  result.iloc[i,2] = rtn\n",
      "C:\\Users\\SAMSUNG\\AppData\\Local\\Temp\\ipykernel_5692\\544274484.py:34: FutureWarning: Setting an item of incompatible dtype is deprecated and will raise an error in a future version of pandas. Value '1.0178571428571428' has dtype incompatible with int64, please explicitly cast to a compatible dtype first.\n",
      "  result.iloc[i,2] = rtn\n",
      "C:\\Users\\SAMSUNG\\AppData\\Local\\Temp\\ipykernel_5692\\544274484.py:34: FutureWarning: Setting an item of incompatible dtype is deprecated and will raise an error in a future version of pandas. Value '1.0922897196261683' has dtype incompatible with int64, please explicitly cast to a compatible dtype first.\n",
      "  result.iloc[i,2] = rtn\n",
      "C:\\Users\\SAMSUNG\\AppData\\Local\\Temp\\ipykernel_5692\\544274484.py:34: FutureWarning: Setting an item of incompatible dtype is deprecated and will raise an error in a future version of pandas. Value '1.176678445229682' has dtype incompatible with int64, please explicitly cast to a compatible dtype first.\n",
      "  result.iloc[i,2] = rtn\n",
      "C:\\Users\\SAMSUNG\\AppData\\Local\\Temp\\ipykernel_5692\\544274484.py:34: FutureWarning: Setting an item of incompatible dtype is deprecated and will raise an error in a future version of pandas. Value '0.9166666666666666' has dtype incompatible with int64, please explicitly cast to a compatible dtype first.\n",
      "  result.iloc[i,2] = rtn\n"
     ]
    },
    {
     "name": "stdout",
     "output_type": "stream",
     "text": [
      "1월에 투자 시작 시 수익률: 2.42\n",
      "2월에 투자 시작 시 수익률: 1.95\n",
      "3월에 투자 시작 시 수익률: 2.54\n",
      "4월에 투자 시작 시 수익률: 1.79\n",
      "5월에 투자 시작 시 수익률: 1.81\n",
      "6월에 투자 시작 시 수익률: 1.6\n",
      "7월에 투자 시작 시 수익률: 1.5\n",
      "8월에 투자 시작 시 수익률: 1.5\n",
      "9월에 투자 시작 시 수익률: 1.11\n",
      "10월에 투자 시작 시 수익률: 1.91\n",
      "11월에 투자 시작 시 수익률: 1.8\n",
      "12월에 투자 시작 시 수익률: 2.3\n"
     ]
    },
    {
     "name": "stderr",
     "output_type": "stream",
     "text": [
      "C:\\Users\\SAMSUNG\\AppData\\Local\\Temp\\ipykernel_5692\\544274484.py:34: FutureWarning: Setting an item of incompatible dtype is deprecated and will raise an error in a future version of pandas. Value '1.0555555555555556' has dtype incompatible with int64, please explicitly cast to a compatible dtype first.\n",
      "  result.iloc[i,2] = rtn\n",
      "C:\\Users\\SAMSUNG\\AppData\\Local\\Temp\\ipykernel_5692\\544274484.py:34: FutureWarning: Setting an item of incompatible dtype is deprecated and will raise an error in a future version of pandas. Value '0.9336099585062241' has dtype incompatible with int64, please explicitly cast to a compatible dtype first.\n",
      "  result.iloc[i,2] = rtn\n"
     ]
    }
   ],
   "source": [
    "# 1월부터 12월까지 6개월 유지 투자전략\n",
    "for i in range(1, 13):\n",
    "    df, acc_rtn = six_month(sdi, _start=2015, _month=i)\n",
    "    print(f\"{i}월에 투자 시작 시 수익률: {round(acc_rtn,2)}\")"
   ]
  },
  {
   "cell_type": "code",
   "execution_count": null,
   "metadata": {},
   "outputs": [],
   "source": []
  }
 ],
 "metadata": {
  "kernelspec": {
   "display_name": "Python 3",
   "language": "python",
   "name": "python3"
  },
  "language_info": {
   "codemirror_mode": {
    "name": "ipython",
    "version": 3
   },
   "file_extension": ".py",
   "mimetype": "text/x-python",
   "name": "python",
   "nbconvert_exporter": "python",
   "pygments_lexer": "ipython3",
   "version": "3.12.2"
  }
 },
 "nbformat": 4,
 "nbformat_minor": 2
}
