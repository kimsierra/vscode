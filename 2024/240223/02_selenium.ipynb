{
 "cells": [
  {
   "cell_type": "code",
   "execution_count": 1,
   "metadata": {},
   "outputs": [
    {
     "name": "stdout",
     "output_type": "stream",
     "text": [
      "Defaulting to user installation because normal site-packages is not writeable\n",
      "Requirement already satisfied: selenium in c:\\users\\samsung\\appdata\\local\\packages\\pythonsoftwarefoundation.python.3.12_qbz5n2kfra8p0\\localcache\\local-packages\\python312\\site-packages (4.18.1)\n",
      "Requirement already satisfied: urllib3<3,>=1.26 in c:\\users\\samsung\\appdata\\local\\packages\\pythonsoftwarefoundation.python.3.12_qbz5n2kfra8p0\\localcache\\local-packages\\python312\\site-packages (from urllib3[socks]<3,>=1.26->selenium) (2.2.1)\n",
      "Requirement already satisfied: trio~=0.17 in c:\\users\\samsung\\appdata\\local\\packages\\pythonsoftwarefoundation.python.3.12_qbz5n2kfra8p0\\localcache\\local-packages\\python312\\site-packages (from selenium) (0.24.0)\n",
      "Requirement already satisfied: trio-websocket~=0.9 in c:\\users\\samsung\\appdata\\local\\packages\\pythonsoftwarefoundation.python.3.12_qbz5n2kfra8p0\\localcache\\local-packages\\python312\\site-packages (from selenium) (0.11.1)\n",
      "Requirement already satisfied: certifi>=2021.10.8 in c:\\users\\samsung\\appdata\\local\\packages\\pythonsoftwarefoundation.python.3.12_qbz5n2kfra8p0\\localcache\\local-packages\\python312\\site-packages (from selenium) (2024.2.2)\n",
      "Requirement already satisfied: typing_extensions>=4.9.0 in c:\\users\\samsung\\appdata\\local\\packages\\pythonsoftwarefoundation.python.3.12_qbz5n2kfra8p0\\localcache\\local-packages\\python312\\site-packages (from selenium) (4.9.0)\n",
      "Requirement already satisfied: attrs>=20.1.0 in c:\\users\\samsung\\appdata\\local\\packages\\pythonsoftwarefoundation.python.3.12_qbz5n2kfra8p0\\localcache\\local-packages\\python312\\site-packages (from trio~=0.17->selenium) (23.2.0)\n",
      "Requirement already satisfied: sortedcontainers in c:\\users\\samsung\\appdata\\local\\packages\\pythonsoftwarefoundation.python.3.12_qbz5n2kfra8p0\\localcache\\local-packages\\python312\\site-packages (from trio~=0.17->selenium) (2.4.0)\n",
      "Requirement already satisfied: idna in c:\\users\\samsung\\appdata\\local\\packages\\pythonsoftwarefoundation.python.3.12_qbz5n2kfra8p0\\localcache\\local-packages\\python312\\site-packages (from trio~=0.17->selenium) (3.6)\n",
      "Requirement already satisfied: outcome in c:\\users\\samsung\\appdata\\local\\packages\\pythonsoftwarefoundation.python.3.12_qbz5n2kfra8p0\\localcache\\local-packages\\python312\\site-packages (from trio~=0.17->selenium) (1.3.0.post0)\n",
      "Requirement already satisfied: sniffio>=1.3.0 in c:\\users\\samsung\\appdata\\local\\packages\\pythonsoftwarefoundation.python.3.12_qbz5n2kfra8p0\\localcache\\local-packages\\python312\\site-packages (from trio~=0.17->selenium) (1.3.0)\n",
      "Requirement already satisfied: cffi>=1.14 in c:\\users\\samsung\\appdata\\local\\packages\\pythonsoftwarefoundation.python.3.12_qbz5n2kfra8p0\\localcache\\local-packages\\python312\\site-packages (from trio~=0.17->selenium) (1.16.0)\n",
      "Requirement already satisfied: wsproto>=0.14 in c:\\users\\samsung\\appdata\\local\\packages\\pythonsoftwarefoundation.python.3.12_qbz5n2kfra8p0\\localcache\\local-packages\\python312\\site-packages (from trio-websocket~=0.9->selenium) (1.2.0)\n",
      "Requirement already satisfied: pysocks!=1.5.7,<2.0,>=1.5.6 in c:\\users\\samsung\\appdata\\local\\packages\\pythonsoftwarefoundation.python.3.12_qbz5n2kfra8p0\\localcache\\local-packages\\python312\\site-packages (from urllib3[socks]<3,>=1.26->selenium) (1.7.1)\n",
      "Requirement already satisfied: pycparser in c:\\users\\samsung\\appdata\\local\\packages\\pythonsoftwarefoundation.python.3.12_qbz5n2kfra8p0\\localcache\\local-packages\\python312\\site-packages (from cffi>=1.14->trio~=0.17->selenium) (2.21)\n",
      "Requirement already satisfied: h11<1,>=0.9.0 in c:\\users\\samsung\\appdata\\local\\packages\\pythonsoftwarefoundation.python.3.12_qbz5n2kfra8p0\\localcache\\local-packages\\python312\\site-packages (from wsproto>=0.14->trio-websocket~=0.9->selenium) (0.14.0)\n",
      "Note: you may need to restart the kernel to use updated packages.\n"
     ]
    }
   ],
   "source": [
    "pip install selenium"
   ]
  },
  {
   "cell_type": "code",
   "execution_count": 2,
   "metadata": {},
   "outputs": [
    {
     "name": "stderr",
     "output_type": "stream",
     "text": [
      "C:\\Users\\SAMSUNG\\AppData\\Local\\Temp\\ipykernel_5832\\2111273431.py:5: DeprecationWarning: \n",
      "Pyarrow will become a required dependency of pandas in the next major release of pandas (pandas 3.0),\n",
      "(to allow more performant data types, such as the Arrow string type, and better interoperability with other libraries)\n",
      "but was not found to be installed on your system.\n",
      "If this would cause problems for you,\n",
      "please provide us feedback at https://github.com/pandas-dev/pandas/issues/54466\n",
      "        \n",
      "  import pandas as pd\n"
     ]
    }
   ],
   "source": [
    "from selenium import webdriver\n",
    "from selenium.webdriver.common.by import By\n",
    "from selenium.webdriver.common.keys import Keys\n",
    "from bs4 import BeautifulSoup as bs\n",
    "import pandas as pd\n",
    "import requests"
   ]
  },
  {
   "cell_type": "code",
   "execution_count": 3,
   "metadata": {},
   "outputs": [
    {
     "name": "stderr",
     "output_type": "stream",
     "text": [
      "There was an error managing chromedriver (error sending request for url (https://googlechromelabs.github.io/chrome-for-testing/known-good-versions-with-downloads.json): error trying to connect: dns error: 알려진 호스트가 없습니다. (os error 11001)); using driver found in the cache\n",
      "Error sending stats to Plausible: error sending request for url (https://plausible.io/api/event): operation timed out\n"
     ]
    }
   ],
   "source": [
    "driver = webdriver.Chrome()"
   ]
  },
  {
   "cell_type": "code",
   "execution_count": 4,
   "metadata": {},
   "outputs": [],
   "source": [
    "# 네이버로 이동\n",
    "driver.get(\"https://www.naver.com\")"
   ]
  },
  {
   "cell_type": "code",
   "execution_count": 5,
   "metadata": {},
   "outputs": [],
   "source": [
    "# 검색어창을 선택\n",
    "element = driver.find_element(By.ID,'query')"
   ]
  },
  {
   "cell_type": "code",
   "execution_count": 6,
   "metadata": {},
   "outputs": [],
   "source": [
    "# 검색어에 '야휴파이낵스' 입력\n",
    "element.send_keys('야후파이낸스')"
   ]
  },
  {
   "cell_type": "code",
   "execution_count": 7,
   "metadata": {},
   "outputs": [],
   "source": [
    "# 엔터키를 입력\n",
    "element.send_keys(Keys.ENTER)"
   ]
  },
  {
   "cell_type": "code",
   "execution_count": 8,
   "metadata": {},
   "outputs": [],
   "source": [
    "# element가 class가 link_name인 태그를 선택\n",
    "element2 = driver.find_element(By.CLASS_NAME, 'link_name')"
   ]
  },
  {
   "cell_type": "code",
   "execution_count": 9,
   "metadata": {},
   "outputs": [],
   "source": [
    "# 태그를 클릭한다\n",
    "element2.click()"
   ]
  },
  {
   "cell_type": "code",
   "execution_count": 10,
   "metadata": {},
   "outputs": [
    {
     "data": {
      "text/plain": [
       "['1206ECB8E36990A21B952C40616FE05E',\n",
       " 'B2D4F9C634949E92C8425D7C87A64F19',\n",
       " 'D522DD55AE7C6A5BE4896171E6CC3F32']"
      ]
     },
     "execution_count": 10,
     "metadata": {},
     "output_type": "execute_result"
    }
   ],
   "source": [
    "# 탭을 야후파이낸스 창으로 이동한다\n",
    "driver.window_handles"
   ]
  },
  {
   "cell_type": "code",
   "execution_count": 11,
   "metadata": {},
   "outputs": [],
   "source": [
    "driver.switch_to.window(driver.window_handles[2])"
   ]
  },
  {
   "cell_type": "code",
   "execution_count": 13,
   "metadata": {},
   "outputs": [],
   "source": [
    "element3 = driver.find_element(By.XPATH,'//*[@id=\"Nav-0-DesktopNav-0-DesktopNav\"]/div/div[3]/div/nav/ul/li[3]/a')"
   ]
  },
  {
   "cell_type": "code",
   "execution_count": 14,
   "metadata": {},
   "outputs": [],
   "source": [
    "element3.click()"
   ]
  },
  {
   "cell_type": "code",
   "execution_count": 15,
   "metadata": {},
   "outputs": [],
   "source": [
    "element4 = driver.find_element(By.XPATH,'//*[@id=\"SecondaryNav-0-SecondaryNav-Proxy\"]/div/ul/li[3]/a')"
   ]
  },
  {
   "cell_type": "code",
   "execution_count": 16,
   "metadata": {},
   "outputs": [],
   "source": [
    "element4.click()"
   ]
  },
  {
   "cell_type": "code",
   "execution_count": 17,
   "metadata": {},
   "outputs": [],
   "source": [
    "soup = bs(driver.page_source,'html.parser')"
   ]
  },
  {
   "cell_type": "code",
   "execution_count": 18,
   "metadata": {},
   "outputs": [
    {
     "data": {
      "text/plain": [
       "1"
      ]
     },
     "execution_count": 18,
     "metadata": {},
     "output_type": "execute_result"
    }
   ],
   "source": [
    "## 해당페이지에서 테이블태그 몇 개 존재하는가\n",
    "len(soup.find_all('table'))"
   ]
  },
  {
   "cell_type": "code",
   "execution_count": 19,
   "metadata": {},
   "outputs": [],
   "source": [
    "table_data = soup.find('table')"
   ]
  },
  {
   "cell_type": "code",
   "execution_count": 20,
   "metadata": {},
   "outputs": [],
   "source": [
    "## 컬럼에 들어갈 데이터를 추출\n",
    "## 테이블 태그에서 thead 태그의 정보들을 추출\n",
    "## th마다 컬럼의 이름들이 하나씩 존재\n",
    "thead_data = table_data.find('thead')"
   ]
  },
  {
   "cell_type": "code",
   "execution_count": 24,
   "metadata": {},
   "outputs": [],
   "source": [
    "th_list = thead_data.find_all('th')"
   ]
  },
  {
   "cell_type": "code",
   "execution_count": 27,
   "metadata": {},
   "outputs": [
    {
     "data": {
      "text/plain": [
       "['Symbol',\n",
       " 'Name',\n",
       " 'Last Price',\n",
       " 'Market Time',\n",
       " 'Change',\n",
       " '% Change',\n",
       " 'Volume',\n",
       " 'Market Cap',\n",
       " 'Intraday High/Low',\n",
       " '52 Week Range',\n",
       " 'Day Chart']"
      ]
     },
     "execution_count": 27,
     "metadata": {},
     "output_type": "execute_result"
    }
   ],
   "source": [
    "_cols = []\n",
    "\n",
    "for col in th_list:\n",
    "    # print(col)\n",
    "    # print(col.get_text())\n",
    "    _cols.append(col.get_text())\n",
    "_cols"
   ]
  },
  {
   "cell_type": "code",
   "execution_count": 31,
   "metadata": {},
   "outputs": [],
   "source": [
    "## tbody의 데이터를 추출\n",
    "tbody_data = table_data.find('tbody')"
   ]
  },
  {
   "cell_type": "code",
   "execution_count": 36,
   "metadata": {},
   "outputs": [],
   "source": [
    "tr_list = tbody_data.find_all('tr')"
   ]
  },
  {
   "cell_type": "code",
   "execution_count": 40,
   "metadata": {},
   "outputs": [],
   "source": [
    "td_list = tr_list[0].find_all('td')"
   ]
  },
  {
   "cell_type": "code",
   "execution_count": 44,
   "metadata": {},
   "outputs": [
    {
     "data": {
      "text/plain": [
       "['SQ',\n",
       " 'Block, Inc.',\n",
       " '67.96',\n",
       " '4:00PM EST',\n",
       " '+3.49',\n",
       " '+5.41%',\n",
       " '18.789M',\n",
       " '41.734B',\n",
       " '',\n",
       " '',\n",
       " '']"
      ]
     },
     "execution_count": 44,
     "metadata": {},
     "output_type": "execute_result"
    }
   ],
   "source": [
    "td_data = []\n",
    "for td in td_list:\n",
    "    #print(td.get_text()) 확인 후\n",
    "    td_data.append(td.get_text())\n",
    "td_data"
   ]
  },
  {
   "cell_type": "code",
   "execution_count": 46,
   "metadata": {},
   "outputs": [
    {
     "data": {
      "text/plain": [
       "[['SQ',\n",
       "  'Block, Inc.',\n",
       "  '67.96',\n",
       "  '4:00PM EST',\n",
       "  '+3.49',\n",
       "  '+5.41%',\n",
       "  '18.789M',\n",
       "  '41.734B',\n",
       "  '',\n",
       "  '',\n",
       "  ''],\n",
       " ['LUNR',\n",
       "  'Intuitive Machines, Inc.',\n",
       "  '8.28',\n",
       "  '4:00PM EST',\n",
       "  '-1.04',\n",
       "  '-11.16%',\n",
       "  '26.363M',\n",
       "  '241.966M',\n",
       "  '',\n",
       "  '',\n",
       "  ''],\n",
       " ['CVNA',\n",
       "  'Carvana Co.',\n",
       "  '52.41',\n",
       "  '4:00PM EST',\n",
       "  '+3.01',\n",
       "  '+6.09%',\n",
       "  '11.689M',\n",
       "  '9.308B',\n",
       "  '',\n",
       "  '',\n",
       "  ''],\n",
       " ['MELI',\n",
       "  'MercadoLibre, Inc.',\n",
       "  '1,817.98',\n",
       "  '4:00PM EST',\n",
       "  '+80.21',\n",
       "  '+4.62%',\n",
       "  '641,027',\n",
       "  '91.916B',\n",
       "  '',\n",
       "  '',\n",
       "  ''],\n",
       " ['BKNG',\n",
       "  'Booking Holdings Inc.',\n",
       "  '3,901.99',\n",
       "  '4:00PM EST',\n",
       "  '+160.86',\n",
       "  '+4.30%',\n",
       "  '436,129',\n",
       "  '136.14B',\n",
       "  '',\n",
       "  '',\n",
       "  ''],\n",
       " ['INTU',\n",
       "  'Intuit Inc.',\n",
       "  '657.92',\n",
       "  '4:00PM EST',\n",
       "  '+19.65',\n",
       "  '+3.08%',\n",
       "  '1.904M',\n",
       "  '184.175B',\n",
       "  '',\n",
       "  '',\n",
       "  ''],\n",
       " ['T',\n",
       "  'AT&T Inc.',\n",
       "  '16.59',\n",
       "  '4:02PM EST',\n",
       "  '-0.41',\n",
       "  '-2.41%',\n",
       "  '59.707M',\n",
       "  '118.619B',\n",
       "  '',\n",
       "  '',\n",
       "  ''],\n",
       " ['MRNA',\n",
       "  'Moderna, Inc.',\n",
       "  '99.44',\n",
       "  '4:00PM EST',\n",
       "  '+11.85',\n",
       "  '+13.53%',\n",
       "  '11.334M',\n",
       "  '37.915B',\n",
       "  '',\n",
       "  '',\n",
       "  ''],\n",
       " ['NU',\n",
       "  'Nu Holdings Ltd.',\n",
       "  '10.36',\n",
       "  '4:00PM EST',\n",
       "  '+0.27',\n",
       "  '+2.68%',\n",
       "  '41.439M',\n",
       "  '49.261B',\n",
       "  '',\n",
       "  '',\n",
       "  ''],\n",
       " ['NVAX',\n",
       "  'Novavax, Inc.',\n",
       "  '4.8800',\n",
       "  '4:00PM EST',\n",
       "  '+0.9000',\n",
       "  '+22.61%',\n",
       "  '41.386M',\n",
       "  '579.695M',\n",
       "  '',\n",
       "  '',\n",
       "  ''],\n",
       " ['JPM',\n",
       "  'JPMorgan Chase & Co.',\n",
       "  '183.07',\n",
       "  '4:00PM EST',\n",
       "  '+2.17',\n",
       "  '+1.20%',\n",
       "  '8.955M',\n",
       "  '527.309B',\n",
       "  '',\n",
       "  '',\n",
       "  ''],\n",
       " ['^DJI',\n",
       "  'Dow Jones Industrial Average',\n",
       "  '39,069.11',\n",
       "  '5:06PM EST',\n",
       "  '+456.87',\n",
       "  '+1.18%',\n",
       "  '330.537M',\n",
       "  'N/A',\n",
       "  '',\n",
       "  '',\n",
       "  ''],\n",
       " ['AAOI',\n",
       "  'Applied Optoelectronics, Inc.',\n",
       "  '20.35',\n",
       "  '4:00PM EST',\n",
       "  '+1.16',\n",
       "  '+6.04%',\n",
       "  '5.021M',\n",
       "  '770.899M',\n",
       "  '',\n",
       "  '',\n",
       "  ''],\n",
       " ['^IXIC',\n",
       "  'NASDAQ Composite',\n",
       "  '16,041.62',\n",
       "  '5:15PM EST',\n",
       "  '+460.72',\n",
       "  '+2.96%',\n",
       "  '5.068B',\n",
       "  'N/A',\n",
       "  '',\n",
       "  '',\n",
       "  ''],\n",
       " ['ARDX',\n",
       "  'Ardelyx, Inc.',\n",
       "  '8.82',\n",
       "  '4:00PM EST',\n",
       "  '+0.32',\n",
       "  '+3.76%',\n",
       "  '8.626M',\n",
       "  '2.047B',\n",
       "  '',\n",
       "  '',\n",
       "  ''],\n",
       " ['TBIO',\n",
       "  'Telesis Bio, Inc.',\n",
       "  '0.4581',\n",
       "  '3:59PM EST',\n",
       "  '+0.1034',\n",
       "  '+29.15%',\n",
       "  '10.737M',\n",
       "  '13.719M',\n",
       "  '',\n",
       "  '',\n",
       "  ''],\n",
       " ['LUNRW',\n",
       "  'Intuitive Machines, Inc.',\n",
       "  '2.1900',\n",
       "  '3:59PM EST',\n",
       "  '-0.2600',\n",
       "  '-10.61%',\n",
       "  '2.64M',\n",
       "  'N/A',\n",
       "  '',\n",
       "  '',\n",
       "  ''],\n",
       " ['NEM',\n",
       "  'Newmont Corporation',\n",
       "  '30.89',\n",
       "  '4:00PM EST',\n",
       "  '-2.54',\n",
       "  '-7.60%',\n",
       "  '30.476M',\n",
       "  '35.6B',\n",
       "  '',\n",
       "  '',\n",
       "  ''],\n",
       " ['LYV',\n",
       "  'Live Nation Entertainment, Inc.',\n",
       "  '93.49',\n",
       "  '4:00PM EST',\n",
       "  '+2.29',\n",
       "  '+2.51%',\n",
       "  '3.173M',\n",
       "  '21.533B',\n",
       "  '',\n",
       "  '',\n",
       "  ''],\n",
       " ['WING',\n",
       "  'Wingstop Inc.',\n",
       "  '334.05',\n",
       "  '4:00PM EST',\n",
       "  '+23.73',\n",
       "  '+7.65%',\n",
       "  '1.058M',\n",
       "  '9.8B',\n",
       "  '',\n",
       "  '',\n",
       "  ''],\n",
       " ['ICU',\n",
       "  'SeaStar Medical Holding Corporation',\n",
       "  '1.1100',\n",
       "  '4:00PM EST',\n",
       "  '-0.3400',\n",
       "  '-23.45%',\n",
       "  '37.383M',\n",
       "  '72.315M',\n",
       "  '',\n",
       "  '',\n",
       "  ''],\n",
       " ['GRAB',\n",
       "  'Grab Holdings Limited',\n",
       "  '3.1600',\n",
       "  '4:00PM EST',\n",
       "  '-0.2900',\n",
       "  '-8.41%',\n",
       "  '73.181M',\n",
       "  '12.362B',\n",
       "  '',\n",
       "  '',\n",
       "  ''],\n",
       " ['^GSPC',\n",
       "  'S&P 500',\n",
       "  '5,087.03',\n",
       "  '5:06PM EST',\n",
       "  '+105.23',\n",
       "  '+2.11%',\n",
       "  '2.575B',\n",
       "  'N/A',\n",
       "  '',\n",
       "  '',\n",
       "  ''],\n",
       " ['MNPR',\n",
       "  'Monopar Therapeutics Inc.',\n",
       "  '1.1200',\n",
       "  '4:00PM EST',\n",
       "  '+0.5500',\n",
       "  '+96.49%',\n",
       "  '151.322M',\n",
       "  '16.65M',\n",
       "  '',\n",
       "  '',\n",
       "  ''],\n",
       " ['RKT',\n",
       "  'Rocket Companies, Inc.',\n",
       "  '10.98',\n",
       "  '4:00PM EST',\n",
       "  '-0.02',\n",
       "  '-0.18%',\n",
       "  '3.029M',\n",
       "  '21.821B',\n",
       "  '',\n",
       "  '',\n",
       "  ''],\n",
       " ['BLDR',\n",
       "  'Builders FirstSource, Inc.',\n",
       "  '188.37',\n",
       "  '4:00PM EST',\n",
       "  '+4.71',\n",
       "  '+2.56%',\n",
       "  '2.114M',\n",
       "  '23.235B',\n",
       "  '',\n",
       "  '',\n",
       "  ''],\n",
       " ['INDI',\n",
       "  'indie Semiconductor, Inc.',\n",
       "  '6.89',\n",
       "  '4:00PM EST',\n",
       "  '-0.17',\n",
       "  '-2.41%',\n",
       "  '3.997M',\n",
       "  '1.116B',\n",
       "  '',\n",
       "  '',\n",
       "  ''],\n",
       " ['OLED',\n",
       "  'Universal Display Corporation',\n",
       "  '187.14',\n",
       "  '4:00PM EST',\n",
       "  '+3.39',\n",
       "  '+1.84%',\n",
       "  '475,395',\n",
       "  '8.863B',\n",
       "  '',\n",
       "  '',\n",
       "  ''],\n",
       " ['VFIAX',\n",
       "  'Vanguard 500 Index Admiral',\n",
       "  '470.20',\n",
       "  '8:01PM EST',\n",
       "  '+9.75',\n",
       "  '+2.12%',\n",
       "  'N/A',\n",
       "  'N/A',\n",
       "  '',\n",
       "  '',\n",
       "  ''],\n",
       " ['PYPL',\n",
       "  'PayPal Holdings, Inc.',\n",
       "  '58.35',\n",
       "  '4:00PM EST',\n",
       "  '+0.87',\n",
       "  '+1.51%',\n",
       "  '17.147M',\n",
       "  '62.536B',\n",
       "  '',\n",
       "  '',\n",
       "  '']]"
      ]
     },
     "execution_count": 46,
     "metadata": {},
     "output_type": "execute_result"
    }
   ],
   "source": [
    "_values = []\n",
    "\n",
    "for tr in tr_list:\n",
    "    td_list = tr.find_all('td')\n",
    "    td_data = []\n",
    "    for td in td_list:\n",
    "        td_data.append(td.get_text())\n",
    "    _values.append(td_data)\n",
    "_values"
   ]
  },
  {
   "cell_type": "code",
   "execution_count": 48,
   "metadata": {},
   "outputs": [],
   "source": [
    "df = pd.DataFrame(_values, columns= _cols)"
   ]
  },
  {
   "cell_type": "code",
   "execution_count": 50,
   "metadata": {},
   "outputs": [],
   "source": [
    "df.to_csv('yfinance_data.csv')"
   ]
  },
  {
   "cell_type": "code",
   "execution_count": 51,
   "metadata": {},
   "outputs": [],
   "source": [
    "driver.quit()"
   ]
  },
  {
   "cell_type": "code",
   "execution_count": null,
   "metadata": {},
   "outputs": [],
   "source": []
  }
 ],
 "metadata": {
  "kernelspec": {
   "display_name": "Python 3",
   "language": "python",
   "name": "python3"
  },
  "language_info": {
   "codemirror_mode": {
    "name": "ipython",
    "version": 3
   },
   "file_extension": ".py",
   "mimetype": "text/x-python",
   "name": "python",
   "nbconvert_exporter": "python",
   "pygments_lexer": "ipython3",
   "version": "3.12.2"
  }
 },
 "nbformat": 4,
 "nbformat_minor": 2
}
